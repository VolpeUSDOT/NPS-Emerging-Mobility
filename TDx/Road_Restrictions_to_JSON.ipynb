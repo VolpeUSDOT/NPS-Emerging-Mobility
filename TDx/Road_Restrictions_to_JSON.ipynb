{
 "cells": [
  {
   "cell_type": "code",
   "execution_count": 2,
   "id": "83488379",
   "metadata": {},
   "outputs": [],
   "source": [
    "from pprint import pprint\n",
    "import json"
   ]
  },
  {
   "cell_type": "code",
   "execution_count": 3,
   "id": "beb211b3",
   "metadata": {},
   "outputs": [],
   "source": [
    "park_alpha = \"\"\n",
    "park_name = \"\"\n",
    "park_contact = \"\"\n",
    "park_contact_email_address = \"\"\n",
    "date_updated = \"\"\n",
    "\n",
    "coordinates = []\n",
    "restriction_type = \"\"\n",
    "restriction_value = \"\"\n",
    "restriction_units = \"\"\n",
    "\n",
    "road_names_list = []\n",
    "direction = \"\"\n",
    "\n",
    "lane_order = \"\"\n",
    "lane_status = \"\"\n",
    "lane_type = \"\"\n",
    "feature_id = \"\"\n",
    "feature_description = \"\""
   ]
  },
  {
   "cell_type": "code",
   "execution_count": null,
   "id": "1c253d8d",
   "metadata": {},
   "outputs": [],
   "source": [
    "geometry_dict = { 'type' : 'linestring',\n",
    "                 \"coordinates\": [coordinates]\n",
    "                 }\n",
    "\n",
    "core_details_dict = { \"data_source_id\": park_alpha,\n",
    "          \"event_type\": \"restriction\",\n",
    "          \"road_names\": [road_names_list],  # \"HRP\", \"Hutchinson Parkway\", \"Hutchinson River Parkway\"\n",
    "          \"direction\": direction,    # northbound, southbound, eastbound, westbound\n",
    "          \"description\": \"\"\n",
    "          }\n",
    "\n",
    "restrictions_dict = { \"type\": restriction_type,   # e.g. no trucks, height, weight\n",
    "                      \"value\": restriction_value,\n",
    "                      \"unit\": restriction_units # e.g. feet, meters, pounds, tons\n",
    "                     }\n",
    "\n",
    "lane_dict = {\"order\": lane_order,   # integer of which lane e.g. 1-3\n",
    "            \"status\": lane_status,  # e.g. \"open\"\n",
    "            \"type\": lane_type,   #e.g. don't realy know. example was \"general\"\n",
    "            \"restrictions\": restrictions_dict   # not sure if this should refer to the same restrictions_dict or a new one\n",
    "            }\n",
    "\n",
    "properties_dict = {'core details' : core_details_dict,\n",
    "                   'restrictions' : restrictions_dict,\n",
    "                   'lanes' : lane_dict,\n",
    "                   }\n",
    "\n",
    "features_dict = { \"id\" : feature_id,  # e.g. US 441 restriction southbound\n",
    "                  \"type\" : \"Feature\",\n",
    "                  \"description\" : feature_description,  # e.g. Commercial vehicles prohibited on US 441/Newfound Gap Road # no description field listed here: https://github.com/usdot-jpo-ode/TDx/blob/main/spec-content/objects/RoadEventFeature.md\n",
    "                  \"properties\" : properties_dict,\n",
    "                  'geometry' : geometry_dict\n",
    "                  }\n",
    "\n",
    "data_sources_dict = {    #there will be a data_sources_dict for each set of restrictions. The data_source_id field needs to match field of same name in core_details_dict\n",
    "        \"data_source_id\": park_alpha,\n",
    "        \"organization_name\": park_name,\n",
    "        \"contact_name\": park_contact,\n",
    "        \"contact_email\": park_contact_email_address,    \n",
    "        \"update_date\": date_updated\n",
    "        }\n",
    "\n",
    "feed_info_dict = {   #this stuff look like it stays static except for the date which I can figure out how to update later\n",
    "    'update_date' :\"2024-10-09T17' :08' :40.8089686Z\",\n",
    "    'publisher' : \"National Park Service\",\n",
    "    'contact_name' :\"National Park Service\" ,\n",
    "    'contact_email' : \"asknps@nps.gov\",\n",
    "    'version' : \"4.0\",\n",
    "    'license' : \"https://creativecommons.org/publicdomain/zero/1.0/\",\n",
    "    'data_sources' : data_sources_dict }\n",
    "      \n",
    "main = {'feed_info' : feed_info_dict,\n",
    "        'type' : \"FeatureCollection\",\n",
    "        'features' : features_dict }"
   ]
  },
  {
   "cell_type": "code",
   "execution_count": 39,
   "id": "423049b7",
   "metadata": {},
   "outputs": [
    {
     "name": "stdout",
     "output_type": "stream",
     "text": [
      "{'features': {'description': '',\n",
      "              'geometry': {'coordinates': [[]], 'type': 'linestring'},\n",
      "              'id': '',\n",
      "              'properties': {'core details': {'data_source_id': '',\n",
      "                                              'description': '',\n",
      "                                              'direction': '',\n",
      "                                              'event_type': 'restriction',\n",
      "                                              'road_names': [[]]},\n",
      "                             'lanes': {'order': '',\n",
      "                                       'restrictions': {'type': '',\n",
      "                                                        'unit': '',\n",
      "                                                        'value': ''},\n",
      "                                       'status': '',\n",
      "                                       'type': ''},\n",
      "                             'restrictions': {'type': '',\n",
      "                                              'unit': '',\n",
      "                                              'value': ''}},\n",
      "              'type': 'Feature'},\n",
      " 'feed_info': {'contact_email': 'asknps@nps.gov',\n",
      "               'contact_name': 'National Park Service',\n",
      "               'data_sources': {'contact_email': '',\n",
      "                                'contact_name': '',\n",
      "                                'data_source_id': '',\n",
      "                                'organization_name': '',\n",
      "                                'update_date': ''},\n",
      "               'license': 'https://creativecommons.org/publicdomain/zero/1.0/',\n",
      "               'publisher': 'National Park Service',\n",
      "               'update_date': \"2024-10-09T17' :08' :40.8089686Z\",\n",
      "               'version': '4.0'},\n",
      " 'type': 'FeatureCollection'}\n"
     ]
    }
   ],
   "source": [
    "#print(geometry_dict)\n",
    "#print(core_details_dict)\n",
    "#print(restrictions_dict)\n",
    "#print(lane_dict)\n",
    "#print(properties_dict)\n",
    "#print(features_dict)\n",
    "#print(data_sources_dict)\n",
    "#print(feed_info_dict)\n",
    "pprint(main)"
   ]
  },
  {
   "cell_type": "code",
   "execution_count": 38,
   "id": "e4596ef8",
   "metadata": {},
   "outputs": [
    {
     "name": "stdout",
     "output_type": "stream",
     "text": [
      "('{\"feed_info\": {\"update_date\": \"2024-10-09T17\\' :08\\' :40.8089686Z\", '\n",
      " '\"publisher\": \"National Park Service\", \"contact_name\": \"National Park '\n",
      " 'Service\", \"contact_email\": \"asknps@nps.gov\", \"version\": \"4.0\", \"license\": '\n",
      " '\"https://creativecommons.org/publicdomain/zero/1.0/\", \"data_sources\": '\n",
      " '{\"data_source_id\": \"\", \"organization_name\": \"\", \"contact_name\": \"\", '\n",
      " '\"contact_email\": \"\", \"update_date\": \"\"}}, \"type\": \"FeatureCollection\", '\n",
      " '\"features\": {\"id\": \"\", \"type\": \"Feature\", \"description\": \"\", \"properties\": '\n",
      " '{\"core details\": {\"data_source_id\": \"\", \"event_type\": \"restriction\", '\n",
      " '\"road_names\": [[]], \"direction\": \"\", \"description\": \"\"}, \"restrictions\": '\n",
      " '{\"type\": \"\", \"value\": \"\", \"unit\": \"\"}, \"lanes\": {\"order\": \"\", \"status\": \"\", '\n",
      " '\"type\": \"\", \"restrictions\": {\"type\": \"\", \"value\": \"\", \"unit\": \"\"}}}, '\n",
      " '\"geometry\": {\"type\": \"linestring\", \"coordinates\": [[]]}}}')\n"
     ]
    }
   ],
   "source": [
    "y = json.dumps(main)\n",
    "\n",
    "pprint(y)"
   ]
  }
 ],
 "metadata": {
  "kernelspec": {
   "display_name": "NPS-Emerging-Mobility",
   "language": "python",
   "name": "python3"
  },
  "language_info": {
   "codemirror_mode": {
    "name": "ipython",
    "version": 3
   },
   "file_extension": ".py",
   "mimetype": "text/x-python",
   "name": "python",
   "nbconvert_exporter": "python",
   "pygments_lexer": "ipython3",
   "version": "3.13.2"
  }
 },
 "nbformat": 4,
 "nbformat_minor": 5
}
