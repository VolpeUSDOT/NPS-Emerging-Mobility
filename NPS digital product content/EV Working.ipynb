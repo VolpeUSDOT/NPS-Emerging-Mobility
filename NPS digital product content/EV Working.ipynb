{
 "cells": [
  {
   "cell_type": "code",
   "execution_count": null,
   "id": "49f5853d",
   "metadata": {},
   "outputs": [],
   "source": [
    "# import libraries\n",
    "%matplotlib inline\n",
    "import numpy as np\n",
    "import scipy as sp\n",
    "import matplotlib as mpl\n",
    "import matplotlib.cm as cm\n",
    "import matplotlib.pyplot as plt\n",
    "import pandas as pd\n",
    "import time\n",
    "pd.set_option('display.width', 500)\n",
    "pd.set_option('display.max_columns', 100)\n",
    "pd.set_option('display.notebook_repr_html', True)\n",
    "import seaborn as sns \n",
    "import html\n",
    "from bs4 import BeautifulSoup\n",
    "import requests\n",
    "import os\n",
    "from selenium import webdriver\n",
    "from nltk.tokenize import word_tokenize\n",
    "from nltk.probability import FreqDist\n",
    "from nltk.stem import PorterStemmer\n",
    "from nltk.stem.wordnet import WordNetLemmatizer\n",
    "import warnings; warnings.simplefilter('ignore')\n",
    "from VE_scraper_functions import *\n",
    "from chromedriver_py import binary_path # this will get you the path variable\n",
    "from selenium.webdriver.common.by import By\n",
    "import time\n",
    "import nltk\n",
    "nltk.download('punkt')"
   ]
  },
  {
   "cell_type": "code",
   "execution_count": null,
   "id": "da9d74f1",
   "metadata": {},
   "outputs": [],
   "source": [
    "# import dataset\n",
    "path = \"park_scrape_content_dataset.xlsx\"\n",
    "park_scrape_dataset2 = pd.read_excel(path)\n",
    "park_scrape_dataset2.head"
   ]
  },
  {
   "cell_type": "code",
   "execution_count": null,
   "id": "327e86a4",
   "metadata": {},
   "outputs": [],
   "source": [
    "## convert all text to lowercase to avoid case sensitivity issues\n",
    "park_scrape_dataset2['content'] = park_scrape_dataset2['content'].str.lower()\n",
    "park_scrape_dataset2.head"
   ]
  },
  {
   "cell_type": "code",
   "execution_count": null,
   "id": "d365cadf",
   "metadata": {},
   "outputs": [],
   "source": [
    "EV_words =  [\n",
    "       \"charger\", \"electric vehicle\", \" ev \", \"charging station\"]"
   ]
  },
  {
   "cell_type": "code",
   "execution_count": null,
   "id": "2b496e13",
   "metadata": {},
   "outputs": [],
   "source": [
    "def count_EV_words(text):\n",
    "    word_counts = {word: text.lower().count(word) for word in EV_words}\n",
    "    return word_counts\n",
    "word_counts_df = park_scrape_dataset2['content'].apply(count_EV_words).apply(pd.Series)\n",
    "word_counts_df['total'] = word_counts_df.sum(axis=1)\n",
    "word_counts_df.head()"
   ]
  },
  {
   "cell_type": "code",
   "execution_count": null,
   "id": "2cc64f03",
   "metadata": {},
   "outputs": [],
   "source": [
    "park_scrape_dataset2 = pd.concat([park_scrape_dataset2, word_counts_df], axis=1)\n",
    "park_scrape_dataset2 = park_scrape_dataset2.drop(\"content\", axis=\"columns\")\n",
    "park_scrape_dataset2.head"
   ]
  },
  {
   "cell_type": "code",
   "execution_count": null,
   "id": "0673e891",
   "metadata": {},
   "outputs": [],
   "source": [
    "park_scrape_dataset2.to_csv(\"EVtest.csv\")"
   ]
  },
  {
   "cell_type": "code",
   "execution_count": null,
   "id": "053336bb",
   "metadata": {},
   "outputs": [],
   "source": [
    "park_word_counts = park_scrape_dataset2.groupby('park')[EV_words].sum()\n",
    "park_word_counts['total'] = park_word_counts.sum(axis=1)\n",
    "park_word_counts.head"
   ]
  },
  {
   "cell_type": "code",
   "execution_count": null,
   "id": "b803da6b",
   "metadata": {},
   "outputs": [],
   "source": [
    "park_word_counts.to_csv(\"EVbypark.csv\")"
   ]
  },
  {
   "cell_type": "code",
   "execution_count": null,
   "id": "d815af3f",
   "metadata": {},
   "outputs": [],
   "source": [
    "path = \"clusterlookup.csv\"\n",
    "clusters = pd.read_csv(path)\n",
    "clusters.head"
   ]
  },
  {
   "cell_type": "code",
   "execution_count": null,
   "id": "ccde8898",
   "metadata": {},
   "outputs": [],
   "source": [
    "clustersubset = clusters[['Park Alpha', \"FinalCluster\", \"Label\"]]\n",
    "clustersubset.rename(columns={'Park Alpha':\"park\"}, inplace = True)\n",
    "clusterparks = pd.merge(park_word_counts, clustersubset, on=\"park\", how=\"left\")\n",
    "clusterparks.head"
   ]
  },
  {
   "cell_type": "code",
   "execution_count": null,
   "id": "93846064",
   "metadata": {},
   "outputs": [],
   "source": [
    "filtered_df = clusterparks[clusterparks['total'] > 1]\n",
    "label_counts = filtered_df.groupby('Label').size().reset_index(name='EV_Parks')\n",
    "label_counts.head"
   ]
  },
  {
   "cell_type": "code",
   "execution_count": null,
   "id": "7f35478f",
   "metadata": {},
   "outputs": [],
   "source": [
    "label_counts.to_csv(\"EVbycluster.csv\")"
   ]
  },
  {
   "cell_type": "code",
   "execution_count": null,
   "id": "a8f400de",
   "metadata": {},
   "outputs": [],
   "source": []
  }
 ],
 "metadata": {
  "kernelspec": {
   "display_name": "Python 3 (ipykernel)",
   "language": "python",
   "name": "python3"
  },
  "language_info": {
   "codemirror_mode": {
    "name": "ipython",
    "version": 3
   },
   "file_extension": ".py",
   "mimetype": "text/x-python",
   "name": "python",
   "nbconvert_exporter": "python",
   "pygments_lexer": "ipython3",
   "version": "3.11.3"
  }
 },
 "nbformat": 4,
 "nbformat_minor": 5
}
