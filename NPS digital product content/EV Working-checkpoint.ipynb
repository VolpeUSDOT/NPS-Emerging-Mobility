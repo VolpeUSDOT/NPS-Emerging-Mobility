{
 "cells": [
  {
   "cell_type": "code",
   "execution_count": 1,
   "id": "49f5853d",
   "metadata": {},
   "outputs": [
    {
     "name": "stderr",
     "output_type": "stream",
     "text": [
      "[nltk_data] Downloading package punkt to\n",
      "[nltk_data]     C:\\Users\\Daniel.Lang\\AppData\\Roaming\\nltk_data...\n",
      "[nltk_data]   Package punkt is already up-to-date!\n"
     ]
    },
    {
     "data": {
      "text/plain": [
       "True"
      ]
     },
     "execution_count": 1,
     "metadata": {},
     "output_type": "execute_result"
    }
   ],
   "source": [
    "# import libraries\n",
    "%matplotlib inline\n",
    "import numpy as np\n",
    "import scipy as sp\n",
    "import matplotlib as mpl\n",
    "import matplotlib.cm as cm\n",
    "import matplotlib.pyplot as plt\n",
    "import pandas as pd\n",
    "import time\n",
    "pd.set_option('display.width', 500)\n",
    "pd.set_option('display.max_columns', 100)\n",
    "pd.set_option('display.notebook_repr_html', True)\n",
    "import seaborn as sns \n",
    "import html\n",
    "from bs4 import BeautifulSoup\n",
    "import requests\n",
    "import os\n",
    "from selenium import webdriver\n",
    "from nltk.tokenize import word_tokenize\n",
    "from nltk.probability import FreqDist\n",
    "from nltk.stem import PorterStemmer\n",
    "from nltk.stem.wordnet import WordNetLemmatizer\n",
    "import warnings; warnings.simplefilter('ignore')\n",
    "from VE_scraper_functions import *\n",
    "from chromedriver_py import binary_path # this will get you the path variable\n",
    "from selenium.webdriver.common.by import By\n",
    "import time\n",
    "import nltk\n",
    "nltk.download('punkt')"
   ]
  },
  {
   "cell_type": "code",
   "execution_count": 2,
   "id": "da9d74f1",
   "metadata": {},
   "outputs": [
    {
     "data": {
      "text/plain": [
       "<bound method NDFrame.head of        Unnamed: 0  index                                       website page                                            content website location  park\n",
       "0               0      0  https://home.nps.gov/abli/planyourvisit/direct...  Directions - Abraham Lincoln Birthplace Nation...              NaN  ABLI\n",
       "1               1      1  https://home.nps.gov/abli/planyourvisit/direct...  Directions - Abraham Lincoln Birthplace Nation...              NaN  ABLI\n",
       "2               2      2  https://home.nps.gov/abli/planyourvisit/direct...  Directions - Abraham Lincoln Birthplace Nation...              NaN  ABLI\n",
       "3               3      3  https://home.nps.gov/abli/planyourvisit/direct...  Directions - Abraham Lincoln Birthplace Nation...              NaN  ABLI\n",
       "4               4      4  https://home.nps.gov/abli/planyourvisit/direct...  Directions - Abraham Lincoln Birthplace Nation...              NaN  ABLI\n",
       "...           ...    ...                                                ...                                                ...              ...   ...\n",
       "14663       14663     17  https://home.nps.gov/zion/planyourvisit/zion-c...  Zion Canyon Shuttle System - Zion National Par...              NaN  ZION\n",
       "14664       14664     18  https://home.nps.gov/zion/planyourvisit/kolob-...  Kolob Canyons - Zion National Park (U.S. Natio...              NaN  ZION\n",
       "14665       14665     19  https://home.nps.gov/grca/planyourvisit/north-...  North Rim - Grand Canyon National Park (U.S. N...              NaN  ZION\n",
       "14666       14666     20  https://home.nps.gov/zion/planyourvisit/the-zi...  The Zion-Mount Carmel Tunnel - Zion National P...              NaN  ZION\n",
       "14667       14667     21  https://home.nps.gov/zion/planyourvisit/hours.htm  Operating Hours & Seasons - Zion National Park...              NaN  ZION\n",
       "\n",
       "[14668 rows x 6 columns]>"
      ]
     },
     "execution_count": 2,
     "metadata": {},
     "output_type": "execute_result"
    }
   ],
   "source": [
    "# import dataset\n",
    "path = \"park_scrape_content_dataset.xlsx\"\n",
    "park_scrape_dataset2 = pd.read_excel(path)\n",
    "park_scrape_dataset2.head"
   ]
  },
  {
   "cell_type": "code",
   "execution_count": 3,
   "id": "327e86a4",
   "metadata": {},
   "outputs": [
    {
     "data": {
      "text/plain": [
       "<bound method NDFrame.head of        Unnamed: 0  index                                       website page                                            content website location  park\n",
       "0               0      0  https://home.nps.gov/abli/planyourvisit/direct...  directions - abraham lincoln birthplace nation...              NaN  ABLI\n",
       "1               1      1  https://home.nps.gov/abli/planyourvisit/direct...  directions - abraham lincoln birthplace nation...              NaN  ABLI\n",
       "2               2      2  https://home.nps.gov/abli/planyourvisit/direct...  directions - abraham lincoln birthplace nation...              NaN  ABLI\n",
       "3               3      3  https://home.nps.gov/abli/planyourvisit/direct...  directions - abraham lincoln birthplace nation...              NaN  ABLI\n",
       "4               4      4  https://home.nps.gov/abli/planyourvisit/direct...  directions - abraham lincoln birthplace nation...              NaN  ABLI\n",
       "...           ...    ...                                                ...                                                ...              ...   ...\n",
       "14663       14663     17  https://home.nps.gov/zion/planyourvisit/zion-c...  zion canyon shuttle system - zion national par...              NaN  ZION\n",
       "14664       14664     18  https://home.nps.gov/zion/planyourvisit/kolob-...  kolob canyons - zion national park (u.s. natio...              NaN  ZION\n",
       "14665       14665     19  https://home.nps.gov/grca/planyourvisit/north-...  north rim - grand canyon national park (u.s. n...              NaN  ZION\n",
       "14666       14666     20  https://home.nps.gov/zion/planyourvisit/the-zi...  the zion-mount carmel tunnel - zion national p...              NaN  ZION\n",
       "14667       14667     21  https://home.nps.gov/zion/planyourvisit/hours.htm  operating hours & seasons - zion national park...              NaN  ZION\n",
       "\n",
       "[14668 rows x 6 columns]>"
      ]
     },
     "execution_count": 3,
     "metadata": {},
     "output_type": "execute_result"
    }
   ],
   "source": [
    "## convert all text to lowercase to avoid case sensitivity issues\n",
    "park_scrape_dataset2['content'] = park_scrape_dataset2['content'].str.lower()\n",
    "park_scrape_dataset2.head"
   ]
  },
  {
   "cell_type": "code",
   "execution_count": 4,
   "id": "d365cadf",
   "metadata": {},
   "outputs": [],
   "source": [
    "accessibility_words =  [\n",
    "        \"wheelchair\", \"accessibility\", \"disability\", \"impaired\", \"disabilities\", \n",
    "    \"handicap\",  \"accessible\", \"ada\",\"barrier\",\"ramp\", \"braille\", \"disabled\", \"handicapped\"]"
   ]
  },
  {
   "cell_type": "code",
   "execution_count": 5,
   "id": "2b496e13",
   "metadata": {},
   "outputs": [
    {
     "data": {
      "text/html": [
       "<div>\n",
       "<style scoped>\n",
       "    .dataframe tbody tr th:only-of-type {\n",
       "        vertical-align: middle;\n",
       "    }\n",
       "\n",
       "    .dataframe tbody tr th {\n",
       "        vertical-align: top;\n",
       "    }\n",
       "\n",
       "    .dataframe thead th {\n",
       "        text-align: right;\n",
       "    }\n",
       "</style>\n",
       "<table border=\"1\" class=\"dataframe\">\n",
       "  <thead>\n",
       "    <tr style=\"text-align: right;\">\n",
       "      <th></th>\n",
       "      <th>wheelchair</th>\n",
       "      <th>accessibility</th>\n",
       "      <th>disability</th>\n",
       "      <th>impaired</th>\n",
       "      <th>disabilities</th>\n",
       "      <th>handicap</th>\n",
       "      <th>accessible</th>\n",
       "      <th>ada</th>\n",
       "      <th>barrier</th>\n",
       "      <th>ramp</th>\n",
       "      <th>braille</th>\n",
       "      <th>disabled</th>\n",
       "      <th>handicapped</th>\n",
       "    </tr>\n",
       "  </thead>\n",
       "  <tbody>\n",
       "    <tr>\n",
       "      <th>0</th>\n",
       "      <td>0</td>\n",
       "      <td>1</td>\n",
       "      <td>0</td>\n",
       "      <td>0</td>\n",
       "      <td>0</td>\n",
       "      <td>0</td>\n",
       "      <td>0</td>\n",
       "      <td>0</td>\n",
       "      <td>0</td>\n",
       "      <td>0</td>\n",
       "      <td>0</td>\n",
       "      <td>0</td>\n",
       "      <td>0</td>\n",
       "    </tr>\n",
       "    <tr>\n",
       "      <th>1</th>\n",
       "      <td>0</td>\n",
       "      <td>1</td>\n",
       "      <td>0</td>\n",
       "      <td>0</td>\n",
       "      <td>0</td>\n",
       "      <td>0</td>\n",
       "      <td>0</td>\n",
       "      <td>0</td>\n",
       "      <td>0</td>\n",
       "      <td>0</td>\n",
       "      <td>0</td>\n",
       "      <td>0</td>\n",
       "      <td>0</td>\n",
       "    </tr>\n",
       "    <tr>\n",
       "      <th>2</th>\n",
       "      <td>0</td>\n",
       "      <td>1</td>\n",
       "      <td>0</td>\n",
       "      <td>0</td>\n",
       "      <td>0</td>\n",
       "      <td>0</td>\n",
       "      <td>0</td>\n",
       "      <td>0</td>\n",
       "      <td>0</td>\n",
       "      <td>0</td>\n",
       "      <td>0</td>\n",
       "      <td>0</td>\n",
       "      <td>0</td>\n",
       "    </tr>\n",
       "    <tr>\n",
       "      <th>3</th>\n",
       "      <td>0</td>\n",
       "      <td>1</td>\n",
       "      <td>0</td>\n",
       "      <td>0</td>\n",
       "      <td>0</td>\n",
       "      <td>0</td>\n",
       "      <td>0</td>\n",
       "      <td>0</td>\n",
       "      <td>0</td>\n",
       "      <td>0</td>\n",
       "      <td>0</td>\n",
       "      <td>0</td>\n",
       "      <td>0</td>\n",
       "    </tr>\n",
       "    <tr>\n",
       "      <th>4</th>\n",
       "      <td>0</td>\n",
       "      <td>1</td>\n",
       "      <td>0</td>\n",
       "      <td>0</td>\n",
       "      <td>0</td>\n",
       "      <td>0</td>\n",
       "      <td>0</td>\n",
       "      <td>0</td>\n",
       "      <td>0</td>\n",
       "      <td>0</td>\n",
       "      <td>0</td>\n",
       "      <td>0</td>\n",
       "      <td>0</td>\n",
       "    </tr>\n",
       "  </tbody>\n",
       "</table>\n",
       "</div>"
      ],
      "text/plain": [
       "   wheelchair  accessibility  disability  impaired  disabilities  handicap  accessible  ada  barrier  ramp  braille  disabled  handicapped\n",
       "0           0              1           0         0             0         0           0    0        0     0        0         0            0\n",
       "1           0              1           0         0             0         0           0    0        0     0        0         0            0\n",
       "2           0              1           0         0             0         0           0    0        0     0        0         0            0\n",
       "3           0              1           0         0             0         0           0    0        0     0        0         0            0\n",
       "4           0              1           0         0             0         0           0    0        0     0        0         0            0"
      ]
     },
     "execution_count": 5,
     "metadata": {},
     "output_type": "execute_result"
    }
   ],
   "source": [
    "def count_accessibility_words(text):\n",
    "    word_counts = {word: text.lower().count(word) for word in accessibility_words}\n",
    "    return word_counts\n",
    "word_counts_df = park_scrape_dataset2['content'].apply(count_accessibility_words).apply(pd.Series)\n",
    "word_counts_df.head()"
   ]
  },
  {
   "cell_type": "code",
   "execution_count": 6,
   "id": "2cc64f03",
   "metadata": {},
   "outputs": [
    {
     "data": {
      "text/plain": [
       "<bound method NDFrame.head of        Unnamed: 0  index                                       website page website location  park  wheelchair  accessibility  disability  impaired  disabilities  handicap  accessible  ada  barrier  ramp  braille  disabled  handicapped\n",
       "0               0      0  https://home.nps.gov/abli/planyourvisit/direct...              NaN  ABLI           0              1           0         0             0         0           0    0        0     0        0         0            0\n",
       "1               1      1  https://home.nps.gov/abli/planyourvisit/direct...              NaN  ABLI           0              1           0         0             0         0           0    0        0     0        0         0            0\n",
       "2               2      2  https://home.nps.gov/abli/planyourvisit/direct...              NaN  ABLI           0              1           0         0             0         0           0    0        0     0        0         0            0\n",
       "3               3      3  https://home.nps.gov/abli/planyourvisit/direct...              NaN  ABLI           0              1           0         0             0         0           0    0        0     0        0         0            0\n",
       "4               4      4  https://home.nps.gov/abli/planyourvisit/direct...              NaN  ABLI           0              1           0         0             0         0           0    0        0     0        0         0            0\n",
       "...           ...    ...                                                ...              ...   ...         ...            ...         ...       ...           ...       ...         ...  ...      ...   ...      ...       ...          ...\n",
       "14663       14663     17  https://home.nps.gov/zion/planyourvisit/zion-c...              NaN  ZION           4              2           6         0             2         0           3    5        0     0        0         0            0\n",
       "14664       14664     18  https://home.nps.gov/zion/planyourvisit/kolob-...              NaN  ZION           0              1           0         0             0         0           0    0        0     0        0         0            0\n",
       "14665       14665     19  https://home.nps.gov/grca/planyourvisit/north-...              NaN  ZION           1              1           0         0             0         0           5    0        0     0        0         0            0\n",
       "14666       14666     20  https://home.nps.gov/zion/planyourvisit/the-zi...              NaN  ZION           0              1           0         0             0         0           0    1        0     0        0         0            0\n",
       "14667       14667     21  https://home.nps.gov/zion/planyourvisit/hours.htm              NaN  ZION           0              1           0         0             0         0           1    0        0     0        0         0            0\n",
       "\n",
       "[14668 rows x 18 columns]>"
      ]
     },
     "execution_count": 6,
     "metadata": {},
     "output_type": "execute_result"
    }
   ],
   "source": [
    "park_scrape_dataset2 = pd.concat([park_scrape_dataset2, word_counts_df], axis=1)\n",
    "park_scrape_dataset2 = park_scrape_dataset2.drop(\"content\", axis=\"columns\")\n",
    "park_scrape_dataset2.head"
   ]
  },
  {
   "cell_type": "code",
   "execution_count": 7,
   "id": "0673e891",
   "metadata": {},
   "outputs": [],
   "source": [
    "park_scrape_dataset2.to_csv(\"accesstest.csv\")"
   ]
  },
  {
   "cell_type": "code",
   "execution_count": null,
   "id": "053336bb",
   "metadata": {},
   "outputs": [],
   "source": [
    "park_word_counts = park_scrape_dataset2.groupby('park')[accessibility_words].sum()\n",
    "park_word_counts.head"
   ]
  },
  {
   "cell_type": "code",
   "execution_count": null,
   "id": "b803da6b",
   "metadata": {},
   "outputs": [],
   "source": [
    "park_word_counts.to_csv(\"bypark.csv\")"
   ]
  },
  {
   "cell_type": "code",
   "execution_count": null,
   "id": "d815af3f",
   "metadata": {},
   "outputs": [],
   "source": []
  }
 ],
 "metadata": {
  "kernelspec": {
   "display_name": "Python 3 (ipykernel)",
   "language": "python",
   "name": "python3"
  },
  "language_info": {
   "codemirror_mode": {
    "name": "ipython",
    "version": 3
   },
   "file_extension": ".py",
   "mimetype": "text/x-python",
   "name": "python",
   "nbconvert_exporter": "python",
   "pygments_lexer": "ipython3",
   "version": "3.11.3"
  }
 },
 "nbformat": 4,
 "nbformat_minor": 5
}
