{
 "cells": [
  {
   "cell_type": "code",
   "execution_count": 14,
   "id": "cb139eee",
   "metadata": {},
   "outputs": [],
   "source": [
    "# import libraries\n",
    "%matplotlib inline\n",
    "import numpy as np\n",
    "import scipy as sp\n",
    "import matplotlib as mpl\n",
    "import matplotlib.cm as cm\n",
    "import matplotlib.pyplot as plt\n",
    "import pandas as pd\n",
    "import time\n",
    "pd.set_option('display.width', 500)\n",
    "pd.set_option('display.max_columns', 100)\n",
    "pd.set_option('display.notebook_repr_html', True)\n",
    "import seaborn as sns \n",
    "import html\n",
    "from bs4 import BeautifulSoup\n",
    "import requests\n",
    "import os\n",
    "from selenium import webdriver\n",
    "from nltk.tokenize import word_tokenize\n",
    "from nltk.probability import FreqDist\n",
    "from nltk.stem import PorterStemmer\n",
    "from nltk.stem.wordnet import WordNetLemmatizer\n",
    "import warnings; warnings.simplefilter('ignore')\n",
    "from VE_scraper_functions import *\n",
    "from chromedriver_py import binary_path # this will get you the path variable\n",
    "from selenium.webdriver.common.by import By\n",
    "from selenium import webdriver \n",
    "import time\n",
    "from selenium.webdriver.support.ui import WebDriverWait\n",
    "from selenium.webdriver.support import expected_conditions as EC"
   ]
  },
  {
   "cell_type": "code",
   "execution_count": 9,
   "id": "f065e9c2",
   "metadata": {},
   "outputs": [],
   "source": [
    "from selenium.webdriver.chrome.service import Service\n",
    "\n",
    "service = Service()\n",
    "options = webdriver.ChromeOptions()\n",
    "driver = webdriver.Chrome(service=service, options=options)\n",
    "driver.close()"
   ]
  },
  {
   "cell_type": "code",
   "execution_count": 19,
   "id": "3ee812f4",
   "metadata": {},
   "outputs": [
    {
     "name": "stdout",
     "output_type": "stream",
     "text": [
      "An error occurred: Message: \n",
      "\n"
     ]
    }
   ],
   "source": [
    "from selenium import webdriver\n",
    "from selenium.webdriver.common.by import By\n",
    "from selenium.webdriver.common.action_chains import ActionChains\n",
    "from selenium.webdriver.support.ui import WebDriverWait\n",
    "from selenium.webdriver.support import expected_conditions as EC\n",
    "\n",
    "# Initialize the driver (e.g., Chrome)\n",
    "driver = webdriver.Chrome()\n",
    "\n",
    "# Open the website\n",
    "website_url = 'https://nps.gov/ZION/index.htm'\n",
    "driver.get(website_url)\n",
    "\n",
    "try:\n",
    "    # Wait for the page to load completely and locate the element\n",
    "    element = WebDriverWait(driver, 10).until(\n",
    "        EC.presence_of_element_located((By.LINK_TEXT, \"Plan Your Visit\"))\n",
    "    )\n",
    "\n",
    "    # Create an ActionChains object\n",
    "    actions = ActionChains(driver)\n",
    "\n",
    "    # Perform the hover action\n",
    "    actions.move_to_element(element).perform()\n",
    "\n",
    "    # Wait for the submenu to appear and locate all links within it\n",
    "    submenu_links = WebDriverWait(driver, 10).until(\n",
    "        EC.visibility_of_all_elements_located((By.CSS_SELECTOR, \"ul.GlobalNav__DropdownMenu a\"))\n",
    "    )\n",
    "\n",
    "    # Extract the href attributes from the submenu links\n",
    "    urls = [link.get_attribute('href') for link in submenu_links]\n",
    "\n",
    "    # Print the URLs\n",
    "    for url in urls:\n",
    "        print(url)\n",
    "\n",
    "except Exception as e:\n",
    "    print(f\"An error occurred: {e}\")\n",
    "\n",
    "finally:\n",
    "    # Close the driver\n",
    "    driver.quit()"
   ]
  },
  {
   "cell_type": "code",
   "execution_count": 20,
   "id": "798094db",
   "metadata": {},
   "outputs": [
    {
     "name": "stdout",
     "output_type": "stream",
     "text": [
      "An error occurred: Message: \n",
      "\n"
     ]
    }
   ],
   "source": [
    "from selenium import webdriver\n",
    "from selenium.webdriver.common.by import By\n",
    "from selenium.webdriver.common.action_chains import ActionChains\n",
    "from selenium.webdriver.support.ui import WebDriverWait\n",
    "from selenium.webdriver.support import expected_conditions as EC\n",
    "\n",
    "# Initialize the driver (e.g., Chrome)\n",
    "driver = webdriver.Chrome()\n",
    "\n",
    "# Open the website\n",
    "website_url = 'https://nps.gov/ZION/index.htm'\n",
    "driver.get(website_url)\n",
    "\n",
    "try:\n",
    "    # Wait for the \"Plan Your Visit\" link to be present\n",
    "    plan_your_visit_link = WebDriverWait(driver, 10).until(\n",
    "        EC.presence_of_element_located((By.LINK_TEXT, \"Plan Your Visit\"))\n",
    "    )\n",
    "\n",
    "    # Create an ActionChains object\n",
    "    actions = ActionChains(driver)\n",
    "\n",
    "    # Perform the hover action on the \"Plan Your Visit\" link\n",
    "    actions.move_to_element(plan_your_visit_link).perform()\n",
    "\n",
    "    # Wait for the submenu with aria-label=\"Plan Your Visit submenu\" to appear\n",
    "    submenu = WebDriverWait(driver, 10).until(\n",
    "        EC.visibility_of_element_located((By.CSS_SELECTOR, '[aria-label=\"Plan Your Visit submenu\"]'))\n",
    "    )\n",
    "\n",
    "    # Extract all content within this submenu\n",
    "    submenu_content = submenu.get_attribute('innerHTML')\n",
    "\n",
    "    # Print the submenu content\n",
    "    print(submenu_content)\n",
    "\n",
    "except Exception as e:\n",
    "    print(f\"An error occurred: {e}\")\n",
    "\n",
    "finally:\n",
    "    # Close the driver\n",
    "    driver.quit()\n"
   ]
  },
  {
   "cell_type": "code",
   "execution_count": null,
   "id": "d282b2df",
   "metadata": {},
   "outputs": [],
   "source": []
  }
 ],
 "metadata": {
  "kernelspec": {
   "display_name": "Python 3 (ipykernel)",
   "language": "python",
   "name": "python3"
  },
  "language_info": {
   "codemirror_mode": {
    "name": "ipython",
    "version": 3
   },
   "file_extension": ".py",
   "mimetype": "text/x-python",
   "name": "python",
   "nbconvert_exporter": "python",
   "pygments_lexer": "ipython3",
   "version": "3.11.3"
  }
 },
 "nbformat": 4,
 "nbformat_minor": 5
}
