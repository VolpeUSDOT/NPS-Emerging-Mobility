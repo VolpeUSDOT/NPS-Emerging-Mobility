{
 "cells": [
  {
   "cell_type": "code",
   "execution_count": 1,
   "id": "49f5853d",
   "metadata": {},
   "outputs": [
    {
     "name": "stderr",
     "output_type": "stream",
     "text": [
      "[nltk_data] Downloading package punkt to\n",
      "[nltk_data]     C:\\Users\\Daniel.Lang\\AppData\\Roaming\\nltk_data...\n",
      "[nltk_data]   Package punkt is already up-to-date!\n"
     ]
    },
    {
     "data": {
      "text/plain": [
       "True"
      ]
     },
     "execution_count": 1,
     "metadata": {},
     "output_type": "execute_result"
    }
   ],
   "source": [
    "# import libraries\n",
    "%matplotlib inline\n",
    "import numpy as np\n",
    "import scipy as sp\n",
    "import matplotlib as mpl\n",
    "import matplotlib.cm as cm\n",
    "import matplotlib.pyplot as plt\n",
    "import pandas as pd\n",
    "import time\n",
    "pd.set_option('display.width', 500)\n",
    "pd.set_option('display.max_columns', 100)\n",
    "pd.set_option('display.notebook_repr_html', True)\n",
    "import seaborn as sns \n",
    "import html\n",
    "from bs4 import BeautifulSoup\n",
    "import requests\n",
    "import os\n",
    "from selenium import webdriver\n",
    "from nltk.tokenize import word_tokenize\n",
    "from nltk.probability import FreqDist\n",
    "from nltk.stem import PorterStemmer\n",
    "from nltk.stem.wordnet import WordNetLemmatizer\n",
    "import warnings; warnings.simplefilter('ignore')\n",
    "from VE_scraper_functions import *\n",
    "from chromedriver_py import binary_path # this will get you the path variable\n",
    "from selenium.webdriver.common.by import By\n",
    "import time\n",
    "import nltk\n",
    "nltk.download('punkt')"
   ]
  },
  {
   "cell_type": "code",
   "execution_count": 2,
   "id": "da9d74f1",
   "metadata": {},
   "outputs": [
    {
     "data": {
      "text/plain": [
       "<bound method NDFrame.head of        Unnamed: 0  index                                       website page                                            content                                   website location  park\n",
       "0               0      0  https://home.nps.gov/abli/planyourvisit/direct...  Directions - Abraham Lincoln Birthplace Nation...  NPS.govPark HomePlan Your VisitDirections & Tr...  ABLI\n",
       "1               1      1  https://home.nps.gov/abli/planyourvisit/direct...  Directions - Abraham Lincoln Birthplace Nation...  NPS.govPark HomePlan Your VisitDirections & Tr...  ABLI\n",
       "2               2      2  https://home.nps.gov/abli/planyourvisit/direct...  Directions - Abraham Lincoln Birthplace Nation...  NPS.govPark HomePlan Your VisitDirections & Tr...  ABLI\n",
       "3               3      3  https://home.nps.gov/abli/planyourvisit/direct...  Directions - Abraham Lincoln Birthplace Nation...  NPS.govPark HomePlan Your VisitDirections & Tr...  ABLI\n",
       "4               4      4  https://home.nps.gov/abli/planyourvisit/direct...  Directions - Abraham Lincoln Birthplace Nation...  NPS.govPark HomePlan Your VisitDirections & Tr...  ABLI\n",
       "...           ...    ...                                                ...                                                ...                                                ...   ...\n",
       "13243       13243     22  https://nps.gov/cane/planyourvisit/natl-monume...  What is a National Monument? - Camp Nelson Nat...  NPS.govPark HomeLearn About the ParkNewsNation...  CANE\n",
       "13244       13244     23            https://nps.gov/planyourvisit/index.htm  Plan Your Visit (U.S. National Park Service)Sk...                                                NaN  CANE\n",
       "13245       13245     24     https://nps.gov/planyourvisit/event-search.htm  Event Calendar (U.S. National Park Service)Ski...                                                NaN  CANE\n",
       "13246       13246     25           https://nps.gov/planyourvisit/passes.htm  Entrance Passes (U.S. National Park Service)Sk...                                                NaN  CANE\n",
       "13247       13247     26       https://nps.gov/planyourvisit/trip-ideas.htm  Trip Ideas (U.S. National Park Service)Skip to...                                                NaN  CANE\n",
       "\n",
       "[13248 rows x 6 columns]>"
      ]
     },
     "execution_count": 2,
     "metadata": {},
     "output_type": "execute_result"
    }
   ],
   "source": [
    "# import dataset\n",
    "path = \"park_scrape_content_dataset0705.xlsx\"\n",
    "park_scrape_dataset2 = pd.read_excel(path)\n",
    "park_scrape_dataset2.head"
   ]
  },
  {
   "cell_type": "code",
   "execution_count": 3,
   "id": "327e86a4",
   "metadata": {},
   "outputs": [
    {
     "data": {
      "text/plain": [
       "<bound method NDFrame.head of        Unnamed: 0  index                                       website page                                            content                                   website location  park\n",
       "0               0      0  https://home.nps.gov/abli/planyourvisit/direct...  directions - abraham lincoln birthplace nation...  NPS.govPark HomePlan Your VisitDirections & Tr...  ABLI\n",
       "1               1      1  https://home.nps.gov/abli/planyourvisit/direct...  directions - abraham lincoln birthplace nation...  NPS.govPark HomePlan Your VisitDirections & Tr...  ABLI\n",
       "2               2      2  https://home.nps.gov/abli/planyourvisit/direct...  directions - abraham lincoln birthplace nation...  NPS.govPark HomePlan Your VisitDirections & Tr...  ABLI\n",
       "3               3      3  https://home.nps.gov/abli/planyourvisit/direct...  directions - abraham lincoln birthplace nation...  NPS.govPark HomePlan Your VisitDirections & Tr...  ABLI\n",
       "4               4      4  https://home.nps.gov/abli/planyourvisit/direct...  directions - abraham lincoln birthplace nation...  NPS.govPark HomePlan Your VisitDirections & Tr...  ABLI\n",
       "...           ...    ...                                                ...                                                ...                                                ...   ...\n",
       "13243       13243     22  https://nps.gov/cane/planyourvisit/natl-monume...  what is a national monument? - camp nelson nat...  NPS.govPark HomeLearn About the ParkNewsNation...  CANE\n",
       "13244       13244     23            https://nps.gov/planyourvisit/index.htm  plan your visit (u.s. national park service)sk...                                                NaN  CANE\n",
       "13245       13245     24     https://nps.gov/planyourvisit/event-search.htm  event calendar (u.s. national park service)ski...                                                NaN  CANE\n",
       "13246       13246     25           https://nps.gov/planyourvisit/passes.htm  entrance passes (u.s. national park service)sk...                                                NaN  CANE\n",
       "13247       13247     26       https://nps.gov/planyourvisit/trip-ideas.htm  trip ideas (u.s. national park service)skip to...                                                NaN  CANE\n",
       "\n",
       "[13248 rows x 6 columns]>"
      ]
     },
     "execution_count": 3,
     "metadata": {},
     "output_type": "execute_result"
    }
   ],
   "source": [
    "## convert all text to lowercase to avoid case sensitivity issues\n",
    "park_scrape_dataset2['content'] = park_scrape_dataset2['content'].str.lower()\n",
    "park_scrape_dataset2.head"
   ]
  },
  {
   "cell_type": "code",
   "execution_count": 4,
   "id": "d365cadf",
   "metadata": {},
   "outputs": [],
   "source": [
    "RH_words =  [\n",
    "       \" uber \" ,\" lyft \", \"ridehailing\", \"ridesharing\", \" cab \", \" taxi \",\"ride-hailing\" , \"ride-sharing\" , \"ride hailing\" ,\n",
    "    \"ride sharing\", \"ride share\", \"rideshare\"]"
   ]
  },
  {
   "cell_type": "code",
   "execution_count": null,
   "id": "2b496e13",
   "metadata": {},
   "outputs": [],
   "source": [
    "def count_RH_words(text):\n",
    "    word_counts = {word: text.lower().count(word) for word in RH_words}\n",
    "    return word_counts\n",
    "word_counts_df = park_scrape_dataset2['content'].apply(count_RH_words).apply(pd.Series)\n",
    "word_counts_df['total'] = word_counts_df.sum(axis=1)\n",
    "word_counts_df.head()"
   ]
  },
  {
   "cell_type": "code",
   "execution_count": null,
   "id": "2cc64f03",
   "metadata": {},
   "outputs": [],
   "source": [
    "park_scrape_dataset2 = pd.concat([park_scrape_dataset2, word_counts_df], axis=1)\n",
    "park_scrape_dataset2 = park_scrape_dataset2.drop(\"content\", axis=\"columns\")\n",
    "park_scrape_dataset2.head"
   ]
  },
  {
   "cell_type": "code",
   "execution_count": null,
   "id": "0673e891",
   "metadata": {},
   "outputs": [],
   "source": [
    "park_scrape_dataset2.to_csv(\"RHtest.csv\")"
   ]
  },
  {
   "cell_type": "code",
   "execution_count": null,
   "id": "adc85f49",
   "metadata": {},
   "outputs": [],
   "source": [
    "path = \"clusterlookup.csv\"\n",
    "clusters = pd.read_csv(path)\n",
    "clusters.head"
   ]
  },
  {
   "cell_type": "code",
   "execution_count": null,
   "id": "053336bb",
   "metadata": {},
   "outputs": [],
   "source": [
    "park_word_counts = park_scrape_dataset2.groupby('park')[RH_words].sum()\n",
    "park_word_counts['total'] = park_word_counts.sum(axis=1)\n",
    "park_word_counts.head"
   ]
  },
  {
   "cell_type": "code",
   "execution_count": null,
   "id": "b3b09eed",
   "metadata": {},
   "outputs": [],
   "source": [
    "clustersubset = clusters[['Park Alpha', \"FinalCluster\", \"Label\"]]\n",
    "clustersubset.rename(columns={'Park Alpha':\"park\"}, inplace = True)\n",
    "clusterparks = pd.merge(park_word_counts, clustersubset, on=\"park\", how=\"left\")\n",
    "clusterparks.head"
   ]
  },
  {
   "cell_type": "code",
   "execution_count": null,
   "id": "b803da6b",
   "metadata": {},
   "outputs": [],
   "source": [
    "clusterparks.to_csv(\"RHbypark.csv\")"
   ]
  },
  {
   "cell_type": "code",
   "execution_count": null,
   "id": "93846064",
   "metadata": {
    "scrolled": true
   },
   "outputs": [],
   "source": [
    "total_parks_counts = clusterparks.groupby('Label').size().reset_index(name='Total_Parks')\n",
    "total_parks_counts['Total_Parks'] = total_parks_counts['Total_Parks'].astype(int) \n",
    "filtered_df = clusterparks[clusterparks['total'] > 1]\n",
    "ev_parks_counts = filtered_df.groupby('Label').size().reset_index(name='RH_Parks')\n",
    "label_counts = pd.merge(total_parks_counts, ev_parks_counts, on='Label', how='left')\n",
    "label_counts['RH_Parks'].fillna(0, inplace=True)\n",
    "label_counts['Percent_RH'] = round((label_counts['RH_Parks'] / label_counts['Total_Parks']) * 100, 1)\n",
    "label_counts['RH_Parks'] = label_counts['RH_Parks'].astype(int)\n",
    "label_counts.head()"
   ]
  },
  {
   "cell_type": "code",
   "execution_count": null,
   "id": "da07adbd",
   "metadata": {},
   "outputs": [],
   "source": [
    "total_row = label_counts.sum(numeric_only=True)\n",
    "total_row['Label'] = 'Total'\n",
    "total_counts = label_counts.append(total_row, ignore_index=True)\n",
    "total_counts['RH_Parks'] = total_counts['RH_Parks'].astype(int)\n",
    "total_counts['Total_Parks'] = total_counts['Total_Parks'].astype(int)\n",
    "total_counts.loc[total_counts['Label'] == 'Total', 'Percent_RH'] = round((total_counts.loc[total_counts['Label'] == 'Total', 'RH_Parks'] / total_counts.loc[total_counts['Label'] == 'Total', 'Total_Parks']) * 100, 1)\n",
    "total_counts.tail()"
   ]
  },
  {
   "cell_type": "code",
   "execution_count": null,
   "id": "7f35478f",
   "metadata": {},
   "outputs": [],
   "source": [
    "total_counts.to_csv(\"RHbycluster.csv\")"
   ]
  },
  {
   "cell_type": "code",
   "execution_count": null,
   "id": "20a5f943",
   "metadata": {},
   "outputs": [],
   "source": [
    "plt.figure(figsize=(10, 6)) \n",
    "plt.bar(label_counts['Label'], label_counts['Percent_RH'], color='#C56C39')\n",
    "plt.xlabel('Cluster')\n",
    "plt.ylabel('Percentage of Ridehailing Parks')\n",
    "plt.title('Percentage of Ridehailing Parks in Each Cluster')\n",
    "plt.xticks(rotation=45, ha='right') \n",
    "plt.tight_layout()\n",
    "plt.show()"
   ]
  },
  {
   "cell_type": "code",
   "execution_count": null,
   "id": "87ea37a7",
   "metadata": {
    "scrolled": false
   },
   "outputs": [],
   "source": [
    "plt.figure(figsize=(10, 6)) \n",
    "bars = plt.bar(label_counts['Label'], label_counts['Percent_RH'], color='#C56C39')\n",
    "\n",
    "for i, bar in enumerate(bars):\n",
    "    ev_parks = label_counts['RH_Parks'].iloc[i]\n",
    "    total_parks = label_counts['Total_Parks'].iloc[i]\n",
    "    plt.text(bar.get_x() + bar.get_width() / 2, bar.get_height() + 0.25,\n",
    "             f\"{ev_parks}/{total_parks}\",\n",
    "             ha='center', va='bottom')\n",
    "    \n",
    "##avg_percent_ev = label_counts['Percent_EV'].mean()\n",
    "##plt.axhline(y=avg_percent_ev, color='red', linestyle='--')\n",
    "\n",
    "plt.xlabel('Cluster')\n",
    "plt.ylabel('Percentage of Parks with Ridehailing Information')\n",
    "plt.title('Percentage of Parks with Ridehailing Information by Cluster')\n",
    "plt.xticks(rotation=45, ha='right') \n",
    "plt.ylim(0, 35)\n",
    "plt.tight_layout()\n",
    "plt.savefig(\"RHGraph.png\")\n",
    "plt.show()"
   ]
  },
  {
   "cell_type": "code",
   "execution_count": null,
   "id": "68bc4f77",
   "metadata": {},
   "outputs": [],
   "source": []
  }
 ],
 "metadata": {
  "kernelspec": {
   "display_name": "Python 3 (ipykernel)",
   "language": "python",
   "name": "python3"
  },
  "language_info": {
   "codemirror_mode": {
    "name": "ipython",
    "version": 3
   },
   "file_extension": ".py",
   "mimetype": "text/x-python",
   "name": "python",
   "nbconvert_exporter": "python",
   "pygments_lexer": "ipython3",
   "version": "3.11.3"
  }
 },
 "nbformat": 4,
 "nbformat_minor": 5
}
