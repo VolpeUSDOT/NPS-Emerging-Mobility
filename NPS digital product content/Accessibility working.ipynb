{
 "cells": [
  {
   "cell_type": "code",
   "execution_count": 2,
   "id": "49f5853d",
   "metadata": {},
   "outputs": [
    {
     "name": "stderr",
     "output_type": "stream",
     "text": [
      "[nltk_data] Downloading package punkt to\n",
      "[nltk_data]     C:\\Users\\Daniel.Lang\\AppData\\Roaming\\nltk_data...\n",
      "[nltk_data]   Package punkt is already up-to-date!\n"
     ]
    },
    {
     "data": {
      "text/plain": [
       "True"
      ]
     },
     "execution_count": 2,
     "metadata": {},
     "output_type": "execute_result"
    }
   ],
   "source": [
    "# import libraries\n",
    "%matplotlib inline\n",
    "import numpy as np\n",
    "import scipy as sp\n",
    "import matplotlib as mpl\n",
    "import matplotlib.cm as cm\n",
    "import matplotlib.pyplot as plt\n",
    "import pandas as pd\n",
    "import time\n",
    "pd.set_option('display.width', 500)\n",
    "pd.set_option('display.max_columns', 100)\n",
    "pd.set_option('display.notebook_repr_html', True)\n",
    "import seaborn as sns \n",
    "import html\n",
    "from bs4 import BeautifulSoup\n",
    "import requests\n",
    "import os\n",
    "from selenium import webdriver\n",
    "from nltk.tokenize import word_tokenize\n",
    "from nltk.probability import FreqDist\n",
    "from nltk.stem import PorterStemmer\n",
    "from nltk.stem.wordnet import WordNetLemmatizer\n",
    "import warnings; warnings.simplefilter('ignore')\n",
    "from VE_scraper_functions import *\n",
    "from chromedriver_py import binary_path # this will get you the path variable\n",
    "from selenium.webdriver.common.by import By\n",
    "import time\n",
    "import nltk\n",
    "nltk.download('punkt')"
   ]
  },
  {
   "cell_type": "code",
   "execution_count": 3,
   "id": "da9d74f1",
   "metadata": {},
   "outputs": [],
   "source": [
    "# import dataset\n",
    "path = \"park_scrape_content_dataset.xlsx\"\n",
    "park_scrape_dataset2 = pd.read_excel(path)\n",
    "park_scrape_dataset2.head"
   ]
  },
  {
   "cell_type": "code",
   "execution_count": 6,
   "id": "327e86a4",
   "metadata": {},
   "outputs": [
    {
     "data": {
      "text/plain": [
       "<bound method NDFrame.head of        Unnamed: 0  index                                       website page                                            content website location  park\n",
       "0               0      0  https://home.nps.gov/abli/planyourvisit/direct...  directions - abraham lincoln birthplace nation...              NaN  ABLI\n",
       "1               1      1  https://home.nps.gov/abli/planyourvisit/direct...  directions - abraham lincoln birthplace nation...              NaN  ABLI\n",
       "2               2      2  https://home.nps.gov/abli/planyourvisit/direct...  directions - abraham lincoln birthplace nation...              NaN  ABLI\n",
       "3               3      3  https://home.nps.gov/abli/planyourvisit/direct...  directions - abraham lincoln birthplace nation...              NaN  ABLI\n",
       "4               4      4  https://home.nps.gov/abli/planyourvisit/direct...  directions - abraham lincoln birthplace nation...              NaN  ABLI\n",
       "...           ...    ...                                                ...                                                ...              ...   ...\n",
       "14663       14663     17  https://home.nps.gov/zion/planyourvisit/zion-c...  zion canyon shuttle system - zion national par...              NaN  ZION\n",
       "14664       14664     18  https://home.nps.gov/zion/planyourvisit/kolob-...  kolob canyons - zion national park (u.s. natio...              NaN  ZION\n",
       "14665       14665     19  https://home.nps.gov/grca/planyourvisit/north-...  north rim - grand canyon national park (u.s. n...              NaN  ZION\n",
       "14666       14666     20  https://home.nps.gov/zion/planyourvisit/the-zi...  the zion-mount carmel tunnel - zion national p...              NaN  ZION\n",
       "14667       14667     21  https://home.nps.gov/zion/planyourvisit/hours.htm  operating hours & seasons - zion national park...              NaN  ZION\n",
       "\n",
       "[14668 rows x 6 columns]>"
      ]
     },
     "execution_count": 6,
     "metadata": {},
     "output_type": "execute_result"
    }
   ],
   "source": [
    "## convert all text to lowercase to avoid case sensitivity issues\n",
    "park_scrape_dataset2['content'] = park_scrape_dataset2['content'].str.lower()\n",
    "park_scrape_dataset2.head"
   ]
  },
  {
   "cell_type": "code",
   "execution_count": 7,
   "id": "d365cadf",
   "metadata": {},
   "outputs": [],
   "source": [
    "accessibility_words =  [\n",
    "        \"wheelchair\", \"accessibility\", \"disability\", \"impaired\", \"disabilities\", \"handicap\",\n",
    "        \"accessible\", \"ada\",\"barrier\",\"ramp\", \"braille\", \"disabled\", \"handicapped\"\n",
    "    ]"
   ]
  },
  {
   "cell_type": "code",
   "execution_count": 8,
   "id": "2b496e13",
   "metadata": {},
   "outputs": [
    {
     "data": {
      "text/plain": [
       "<bound method NDFrame.head of        Unnamed: 0  index                                       website page                                            content website location  park  has_accessibility_word\n",
       "0               0      0  https://home.nps.gov/abli/planyourvisit/direct...  directions - abraham lincoln birthplace nation...              NaN  ABLI                    True\n",
       "1               1      1  https://home.nps.gov/abli/planyourvisit/direct...  directions - abraham lincoln birthplace nation...              NaN  ABLI                    True\n",
       "2               2      2  https://home.nps.gov/abli/planyourvisit/direct...  directions - abraham lincoln birthplace nation...              NaN  ABLI                    True\n",
       "3               3      3  https://home.nps.gov/abli/planyourvisit/direct...  directions - abraham lincoln birthplace nation...              NaN  ABLI                    True\n",
       "4               4      4  https://home.nps.gov/abli/planyourvisit/direct...  directions - abraham lincoln birthplace nation...              NaN  ABLI                    True\n",
       "...           ...    ...                                                ...                                                ...              ...   ...                     ...\n",
       "14663       14663     17  https://home.nps.gov/zion/planyourvisit/zion-c...  zion canyon shuttle system - zion national par...              NaN  ZION                    True\n",
       "14664       14664     18  https://home.nps.gov/zion/planyourvisit/kolob-...  kolob canyons - zion national park (u.s. natio...              NaN  ZION                    True\n",
       "14665       14665     19  https://home.nps.gov/grca/planyourvisit/north-...  north rim - grand canyon national park (u.s. n...              NaN  ZION                    True\n",
       "14666       14666     20  https://home.nps.gov/zion/planyourvisit/the-zi...  the zion-mount carmel tunnel - zion national p...              NaN  ZION                    True\n",
       "14667       14667     21  https://home.nps.gov/zion/planyourvisit/hours.htm  operating hours & seasons - zion national park...              NaN  ZION                    True\n",
       "\n",
       "[14668 rows x 7 columns]>"
      ]
     },
     "execution_count": 8,
     "metadata": {},
     "output_type": "execute_result"
    }
   ],
   "source": [
    "def contains_accessibility_word(content):\n",
    "    for word in accessibility_words:\n",
    "        if word.lower() in content.lower():\n",
    "            return True\n",
    "    return False\n",
    "\n",
    "# Create new column 'has_accessibility_word'\n",
    "park_scrape_dataset2['has_accessibility_word'] = park_scrape_dataset2['content'].apply(contains_accessibility_word)\n",
    "park_scrape_dataset2.head"
   ]
  },
  {
   "cell_type": "code",
   "execution_count": 9,
   "id": "0673e891",
   "metadata": {},
   "outputs": [],
   "source": [
    "park_scrape_dataset2.to_csv(r\"C:\\Users\\Daniel.Lang\\Desktop\\NPSDigital\\access.csv\")"
   ]
  },
  {
   "cell_type": "code",
   "execution_count": null,
   "id": "053336bb",
   "metadata": {},
   "outputs": [],
   "source": []
  }
 ],
 "metadata": {
  "kernelspec": {
   "display_name": "Python 3 (ipykernel)",
   "language": "python",
   "name": "python3"
  },
  "language_info": {
   "codemirror_mode": {
    "name": "ipython",
    "version": 3
   },
   "file_extension": ".py",
   "mimetype": "text/x-python",
   "name": "python",
   "nbconvert_exporter": "python",
   "pygments_lexer": "ipython3",
   "version": "3.11.3"
  }
 },
 "nbformat": 4,
 "nbformat_minor": 5
}
