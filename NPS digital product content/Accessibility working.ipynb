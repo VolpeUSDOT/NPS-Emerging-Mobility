{
 "cells": [
  {
   "cell_type": "code",
   "execution_count": 1,
   "id": "49f5853d",
   "metadata": {},
   "outputs": [
    {
     "name": "stderr",
     "output_type": "stream",
     "text": [
      "[nltk_data] Downloading package punkt to\n",
      "[nltk_data]     C:\\Users\\Daniel.Lang\\AppData\\Roaming\\nltk_data...\n",
      "[nltk_data]   Package punkt is already up-to-date!\n"
     ]
    },
    {
     "data": {
      "text/plain": [
       "True"
      ]
     },
     "execution_count": 1,
     "metadata": {},
     "output_type": "execute_result"
    }
   ],
   "source": [
    "# import libraries\n",
    "%matplotlib inline\n",
    "import numpy as np\n",
    "import scipy as sp\n",
    "import matplotlib as mpl\n",
    "import matplotlib.cm as cm\n",
    "import matplotlib.pyplot as plt\n",
    "import pandas as pd\n",
    "import time\n",
    "pd.set_option('display.width', 500)\n",
    "pd.set_option('display.max_columns', 100)\n",
    "pd.set_option('display.notebook_repr_html', True)\n",
    "import seaborn as sns \n",
    "import html\n",
    "from bs4 import BeautifulSoup\n",
    "import requests\n",
    "import os\n",
    "from selenium import webdriver\n",
    "from nltk.tokenize import word_tokenize\n",
    "from nltk.probability import FreqDist\n",
    "from nltk.stem import PorterStemmer\n",
    "from nltk.stem.wordnet import WordNetLemmatizer\n",
    "import warnings; warnings.simplefilter('ignore')\n",
    "from VE_scraper_functions import *\n",
    "from chromedriver_py import binary_path # this will get you the path variable\n",
    "from selenium.webdriver.common.by import By\n",
    "import time\n",
    "import nltk\n",
    "nltk.download('punkt')"
   ]
  },
  {
   "cell_type": "code",
   "execution_count": 2,
   "id": "da9d74f1",
   "metadata": {},
   "outputs": [
    {
     "data": {
      "text/plain": [
       "<bound method NDFrame.head of        Unnamed: 0  index                                       website page                                            content website location  park\n",
       "0               0      0  https://home.nps.gov/abli/planyourvisit/direct...  Directions - Abraham Lincoln Birthplace Nation...              NaN  ABLI\n",
       "1               1      1  https://home.nps.gov/abli/planyourvisit/direct...  Directions - Abraham Lincoln Birthplace Nation...              NaN  ABLI\n",
       "2               2      2  https://home.nps.gov/abli/planyourvisit/direct...  Directions - Abraham Lincoln Birthplace Nation...              NaN  ABLI\n",
       "3               3      3  https://home.nps.gov/abli/planyourvisit/direct...  Directions - Abraham Lincoln Birthplace Nation...              NaN  ABLI\n",
       "4               4      4  https://home.nps.gov/abli/planyourvisit/direct...  Directions - Abraham Lincoln Birthplace Nation...              NaN  ABLI\n",
       "...           ...    ...                                                ...                                                ...              ...   ...\n",
       "14663       14663     17  https://home.nps.gov/zion/planyourvisit/zion-c...  Zion Canyon Shuttle System - Zion National Par...              NaN  ZION\n",
       "14664       14664     18  https://home.nps.gov/zion/planyourvisit/kolob-...  Kolob Canyons - Zion National Park (U.S. Natio...              NaN  ZION\n",
       "14665       14665     19  https://home.nps.gov/grca/planyourvisit/north-...  North Rim - Grand Canyon National Park (U.S. N...              NaN  ZION\n",
       "14666       14666     20  https://home.nps.gov/zion/planyourvisit/the-zi...  The Zion-Mount Carmel Tunnel - Zion National P...              NaN  ZION\n",
       "14667       14667     21  https://home.nps.gov/zion/planyourvisit/hours.htm  Operating Hours & Seasons - Zion National Park...              NaN  ZION\n",
       "\n",
       "[14668 rows x 6 columns]>"
      ]
     },
     "execution_count": 2,
     "metadata": {},
     "output_type": "execute_result"
    }
   ],
   "source": [
    "# import dataset\n",
    "path = \"park_scrape_content_dataset.xlsx\"\n",
    "park_scrape_dataset2 = pd.read_excel(path)\n",
    "park_scrape_dataset2.head"
   ]
  },
  {
   "cell_type": "code",
   "execution_count": 3,
   "id": "327e86a4",
   "metadata": {},
   "outputs": [
    {
     "data": {
      "text/plain": [
       "<bound method NDFrame.head of        Unnamed: 0  index                                       website page                                            content website location  park\n",
       "0               0      0  https://home.nps.gov/abli/planyourvisit/direct...  directions - abraham lincoln birthplace nation...              NaN  ABLI\n",
       "1               1      1  https://home.nps.gov/abli/planyourvisit/direct...  directions - abraham lincoln birthplace nation...              NaN  ABLI\n",
       "2               2      2  https://home.nps.gov/abli/planyourvisit/direct...  directions - abraham lincoln birthplace nation...              NaN  ABLI\n",
       "3               3      3  https://home.nps.gov/abli/planyourvisit/direct...  directions - abraham lincoln birthplace nation...              NaN  ABLI\n",
       "4               4      4  https://home.nps.gov/abli/planyourvisit/direct...  directions - abraham lincoln birthplace nation...              NaN  ABLI\n",
       "...           ...    ...                                                ...                                                ...              ...   ...\n",
       "14663       14663     17  https://home.nps.gov/zion/planyourvisit/zion-c...  zion canyon shuttle system - zion national par...              NaN  ZION\n",
       "14664       14664     18  https://home.nps.gov/zion/planyourvisit/kolob-...  kolob canyons - zion national park (u.s. natio...              NaN  ZION\n",
       "14665       14665     19  https://home.nps.gov/grca/planyourvisit/north-...  north rim - grand canyon national park (u.s. n...              NaN  ZION\n",
       "14666       14666     20  https://home.nps.gov/zion/planyourvisit/the-zi...  the zion-mount carmel tunnel - zion national p...              NaN  ZION\n",
       "14667       14667     21  https://home.nps.gov/zion/planyourvisit/hours.htm  operating hours & seasons - zion national park...              NaN  ZION\n",
       "\n",
       "[14668 rows x 6 columns]>"
      ]
     },
     "execution_count": 3,
     "metadata": {},
     "output_type": "execute_result"
    }
   ],
   "source": [
    "## convert all text to lowercase to avoid case sensitivity issues\n",
    "park_scrape_dataset2['content'] = park_scrape_dataset2['content'].str.lower()\n",
    "park_scrape_dataset2.head"
   ]
  },
  {
   "cell_type": "code",
   "execution_count": 4,
   "id": "d365cadf",
   "metadata": {},
   "outputs": [],
   "source": [
    "accessibility_words =  [\n",
    "        \"wheelchair\", \"disability\", \"impaired\", \"disabilities\", \n",
    "    \"handicap\", \" ada \", \"braille\", \"disabled\", \"handicapped\", ]"
   ]
  },
  {
   "cell_type": "code",
   "execution_count": 5,
   "id": "2b496e13",
   "metadata": {},
   "outputs": [
    {
     "data": {
      "text/html": [
       "<div>\n",
       "<style scoped>\n",
       "    .dataframe tbody tr th:only-of-type {\n",
       "        vertical-align: middle;\n",
       "    }\n",
       "\n",
       "    .dataframe tbody tr th {\n",
       "        vertical-align: top;\n",
       "    }\n",
       "\n",
       "    .dataframe thead th {\n",
       "        text-align: right;\n",
       "    }\n",
       "</style>\n",
       "<table border=\"1\" class=\"dataframe\">\n",
       "  <thead>\n",
       "    <tr style=\"text-align: right;\">\n",
       "      <th></th>\n",
       "      <th>wheelchair</th>\n",
       "      <th>disability</th>\n",
       "      <th>impaired</th>\n",
       "      <th>disabilities</th>\n",
       "      <th>handicap</th>\n",
       "      <th>ada</th>\n",
       "      <th>braille</th>\n",
       "      <th>disabled</th>\n",
       "      <th>handicapped</th>\n",
       "      <th>total</th>\n",
       "    </tr>\n",
       "  </thead>\n",
       "  <tbody>\n",
       "    <tr>\n",
       "      <th>0</th>\n",
       "      <td>0</td>\n",
       "      <td>0</td>\n",
       "      <td>0</td>\n",
       "      <td>0</td>\n",
       "      <td>0</td>\n",
       "      <td>0</td>\n",
       "      <td>0</td>\n",
       "      <td>0</td>\n",
       "      <td>0</td>\n",
       "      <td>0</td>\n",
       "    </tr>\n",
       "    <tr>\n",
       "      <th>1</th>\n",
       "      <td>0</td>\n",
       "      <td>0</td>\n",
       "      <td>0</td>\n",
       "      <td>0</td>\n",
       "      <td>0</td>\n",
       "      <td>0</td>\n",
       "      <td>0</td>\n",
       "      <td>0</td>\n",
       "      <td>0</td>\n",
       "      <td>0</td>\n",
       "    </tr>\n",
       "    <tr>\n",
       "      <th>2</th>\n",
       "      <td>0</td>\n",
       "      <td>0</td>\n",
       "      <td>0</td>\n",
       "      <td>0</td>\n",
       "      <td>0</td>\n",
       "      <td>0</td>\n",
       "      <td>0</td>\n",
       "      <td>0</td>\n",
       "      <td>0</td>\n",
       "      <td>0</td>\n",
       "    </tr>\n",
       "    <tr>\n",
       "      <th>3</th>\n",
       "      <td>0</td>\n",
       "      <td>0</td>\n",
       "      <td>0</td>\n",
       "      <td>0</td>\n",
       "      <td>0</td>\n",
       "      <td>0</td>\n",
       "      <td>0</td>\n",
       "      <td>0</td>\n",
       "      <td>0</td>\n",
       "      <td>0</td>\n",
       "    </tr>\n",
       "    <tr>\n",
       "      <th>4</th>\n",
       "      <td>0</td>\n",
       "      <td>0</td>\n",
       "      <td>0</td>\n",
       "      <td>0</td>\n",
       "      <td>0</td>\n",
       "      <td>0</td>\n",
       "      <td>0</td>\n",
       "      <td>0</td>\n",
       "      <td>0</td>\n",
       "      <td>0</td>\n",
       "    </tr>\n",
       "  </tbody>\n",
       "</table>\n",
       "</div>"
      ],
      "text/plain": [
       "   wheelchair  disability  impaired  disabilities  handicap   ada   braille  disabled  handicapped  total\n",
       "0           0           0         0             0         0      0        0         0            0      0\n",
       "1           0           0         0             0         0      0        0         0            0      0\n",
       "2           0           0         0             0         0      0        0         0            0      0\n",
       "3           0           0         0             0         0      0        0         0            0      0\n",
       "4           0           0         0             0         0      0        0         0            0      0"
      ]
     },
     "execution_count": 5,
     "metadata": {},
     "output_type": "execute_result"
    }
   ],
   "source": [
    "def count_accessibility_words(text):\n",
    "    word_counts = {word: text.lower().count(word) for word in accessibility_words}\n",
    "    return word_counts\n",
    "word_counts_df = park_scrape_dataset2['content'].apply(count_accessibility_words).apply(pd.Series)\n",
    "word_counts_df['total'] = word_counts_df.sum(axis=1)\n",
    "word_counts_df.head()"
   ]
  },
  {
   "cell_type": "code",
   "execution_count": 6,
   "id": "2cc64f03",
   "metadata": {},
   "outputs": [
    {
     "data": {
      "text/plain": [
       "<bound method NDFrame.head of        Unnamed: 0  index                                       website page website location  park  wheelchair  disability  impaired  disabilities  handicap   ada   braille  disabled  handicapped  total\n",
       "0               0      0  https://home.nps.gov/abli/planyourvisit/direct...              NaN  ABLI           0           0         0             0         0      0        0         0            0      0\n",
       "1               1      1  https://home.nps.gov/abli/planyourvisit/direct...              NaN  ABLI           0           0         0             0         0      0        0         0            0      0\n",
       "2               2      2  https://home.nps.gov/abli/planyourvisit/direct...              NaN  ABLI           0           0         0             0         0      0        0         0            0      0\n",
       "3               3      3  https://home.nps.gov/abli/planyourvisit/direct...              NaN  ABLI           0           0         0             0         0      0        0         0            0      0\n",
       "4               4      4  https://home.nps.gov/abli/planyourvisit/direct...              NaN  ABLI           0           0         0             0         0      0        0         0            0      0\n",
       "...           ...    ...                                                ...              ...   ...         ...         ...       ...           ...       ...    ...      ...       ...          ...    ...\n",
       "14663       14663     17  https://home.nps.gov/zion/planyourvisit/zion-c...              NaN  ZION           4           6         0             2         0      0        0         0            0     12\n",
       "14664       14664     18  https://home.nps.gov/zion/planyourvisit/kolob-...              NaN  ZION           0           0         0             0         0      0        0         0            0      0\n",
       "14665       14665     19  https://home.nps.gov/grca/planyourvisit/north-...              NaN  ZION           1           0         0             0         0      0        0         0            0      1\n",
       "14666       14666     20  https://home.nps.gov/zion/planyourvisit/the-zi...              NaN  ZION           0           0         0             0         0      0        0         0            0      0\n",
       "14667       14667     21  https://home.nps.gov/zion/planyourvisit/hours.htm              NaN  ZION           0           0         0             0         0      0        0         0            0      0\n",
       "\n",
       "[14668 rows x 15 columns]>"
      ]
     },
     "execution_count": 6,
     "metadata": {},
     "output_type": "execute_result"
    }
   ],
   "source": [
    "park_scrape_dataset2 = pd.concat([park_scrape_dataset2, word_counts_df], axis=1)\n",
    "park_scrape_dataset2 = park_scrape_dataset2.drop(\"content\", axis=\"columns\")\n",
    "park_scrape_dataset2.head"
   ]
  },
  {
   "cell_type": "code",
   "execution_count": 9,
   "id": "0673e891",
   "metadata": {},
   "outputs": [],
   "source": [
    "park_scrape_dataset2.to_csv(\"accessbypage.csv\")\n",
    "park_scrape_dataset2.to_csv(r\"C:\\Users\\Daniel.Lang\\DOT OST\\volpe-proj-VU16A100 - Emerging Mobility\\Subgroup Support\\Traveler Information Technologies\\Enhancing Trip Planning Information\\AnalysisResults\\accessbypage.csv\")"
   ]
  },
  {
   "cell_type": "code",
   "execution_count": 10,
   "id": "053336bb",
   "metadata": {},
   "outputs": [
    {
     "data": {
      "text/plain": [
       "<bound method NDFrame.head of       wheelchair  disability  impaired  disabilities  handicap   ada   braille  disabled  handicapped  total\n",
       "park                                                                                                        \n",
       "ABLI           0           1         0             1         0      0        0         0            0      2\n",
       "ACAD          43          10         0             6         1      2        4         3            1     70\n",
       "ADAM           3           3         0             2         1      0        0         1            1     11\n",
       "AFBG           5           4         1             1         1      2        1         0            1     16\n",
       "AGFO           5           2         0             1         0      0        9         0            0     17\n",
       "...          ...         ...       ...           ...       ...    ...      ...       ...          ...    ...\n",
       "YELL         507           8         2            11         0      3       10         0            0    541\n",
       "YOSE           0           5         0             2         0      0        0         0            0      7\n",
       "YUCH           5           3         0             4         0      0        2         1            0     15\n",
       "YUHO           0           2         0             1         0      0        0         0            0      3\n",
       "ZION           6           8         1             3         0      0        0         1            0     19\n",
       "\n",
       "[420 rows x 10 columns]>"
      ]
     },
     "execution_count": 10,
     "metadata": {},
     "output_type": "execute_result"
    }
   ],
   "source": [
    "park_word_counts = park_scrape_dataset2.groupby('park')[accessibility_words].sum()\n",
    "park_word_counts['total'] = park_word_counts.sum(axis=1)\n",
    "park_word_counts.head"
   ]
  },
  {
   "cell_type": "code",
   "execution_count": 11,
   "id": "4faecd99",
   "metadata": {},
   "outputs": [
    {
     "data": {
      "text/plain": [
       "<bound method NDFrame.head of     Park Alpha                                      NPS Full Name Region  FinalCluster                    Label\n",
       "0         ABLI  Abraham Lincoln Birthplace National Historical...    SER             8    Rural High Visitation\n",
       "1         ACAD                               Acadia National Park    NER             1            Transit Parks\n",
       "2         ADAM                     Adams National Historical Park    NER             1            Transit Parks\n",
       "3         AFBG            African Burial Ground National Monument    NER             2              Urban Sites\n",
       "4         AGFO                Agate Fossil Beds National Monument    MWR             7     Rural Low Visitation\n",
       "..         ...                                                ...    ...           ...                      ...\n",
       "383       WWIM                               World War I Memorial    NCR             2              Urban Sites\n",
       "384       YELL                          Yellowstone National Park    IMR             8    Rural High Visitation\n",
       "385       YOSE                             Yosemite National Park    PWR             1            Transit Parks\n",
       "386       YUCH             Yukon-Charley Rivers National Preserve    AKR             6  High Seasonal Variation\n",
       "387       ZION                                 Zion National Park    IMR             1            Transit Parks\n",
       "\n",
       "[388 rows x 5 columns]>"
      ]
     },
     "execution_count": 11,
     "metadata": {},
     "output_type": "execute_result"
    }
   ],
   "source": [
    "path = \"clusterlookup.csv\"\n",
    "clusters = pd.read_csv(path)\n",
    "clusters.head"
   ]
  },
  {
   "cell_type": "code",
   "execution_count": 12,
   "id": "f5adf580",
   "metadata": {},
   "outputs": [
    {
     "data": {
      "text/plain": [
       "<bound method NDFrame.head of      park  wheelchair  disability  impaired  disabilities  handicap   ada   braille  disabled  handicapped  total  FinalCluster                    Label\n",
       "0    ABLI           0           1         0             1         0      0        0         0            0      2           8.0    Rural High Visitation\n",
       "1    ACAD          43          10         0             6         1      2        4         3            1     70           1.0            Transit Parks\n",
       "2    ADAM           3           3         0             2         1      0        0         1            1     11           1.0            Transit Parks\n",
       "3    AFBG           5           4         1             1         1      2        1         0            1     16           2.0              Urban Sites\n",
       "4    AGFO           5           2         0             1         0      0        9         0            0     17           7.0     Rural Low Visitation\n",
       "..    ...         ...         ...       ...           ...       ...    ...      ...       ...          ...    ...           ...                      ...\n",
       "416  YELL         507           8         2            11         0      3       10         0            0    541           8.0    Rural High Visitation\n",
       "417  YOSE           0           5         0             2         0      0        0         0            0      7           1.0            Transit Parks\n",
       "418  YUCH           5           3         0             4         0      0        2         1            0     15           6.0  High Seasonal Variation\n",
       "419  YUHO           0           2         0             1         0      0        0         0            0      3           NaN                      NaN\n",
       "420  ZION           6           8         1             3         0      0        0         1            0     19           1.0            Transit Parks\n",
       "\n",
       "[421 rows x 13 columns]>"
      ]
     },
     "execution_count": 12,
     "metadata": {},
     "output_type": "execute_result"
    }
   ],
   "source": [
    "clustersubset = clusters[['Park Alpha', \"FinalCluster\", \"Label\"]]\n",
    "clustersubset.rename(columns={'Park Alpha':\"park\"}, inplace = True)\n",
    "clusterparks = pd.merge(park_word_counts, clustersubset, on=\"park\", how=\"left\")\n",
    "clusterparks.head"
   ]
  },
  {
   "cell_type": "code",
   "execution_count": 13,
   "id": "b803da6b",
   "metadata": {},
   "outputs": [],
   "source": [
    "clusterparks.to_csv(\"accessbypark.csv\")\n",
    "clusterparks.to_csv(r\"C:\\Users\\Daniel.Lang\\DOT OST\\volpe-proj-VU16A100 - Emerging Mobility\\Subgroup Support\\Traveler Information Technologies\\Enhancing Trip Planning Information\\AnalysisResults\\accessbypark.csv\")"
   ]
  },
  {
   "cell_type": "code",
   "execution_count": null,
   "id": "ffdda7dc",
   "metadata": {},
   "outputs": [],
   "source": [
    "total_parks_counts = clusterparks.groupby('Label').size().reset_index(name='Total_Parks')\n",
    "total_parks_counts['Total_Parks'] = total_parks_counts['Total_Parks'].astype(int) \n",
    "filtered_df = clusterparks[clusterparks['total'] > 1]\n",
    "ev_parks_counts = filtered_df.groupby('Label').size().reset_index(name='Access_Parks')\n",
    "label_counts = pd.merge(total_parks_counts, ev_parks_counts, on='Label', how='left')\n",
    "label_counts['Access_Parks'].fillna(0, inplace=True)\n",
    "label_counts['Percent_Access'] = round((label_counts['Access_Parks'] / label_counts['Total_Parks']) * 100, 1)\n",
    "label_counts['Access_Parks'] = label_counts['Access_Parks'].astype(int)\n",
    "label_counts.head()"
   ]
  },
  {
   "cell_type": "code",
   "execution_count": null,
   "id": "a28519b2",
   "metadata": {},
   "outputs": [],
   "source": [
    "total_row = label_counts.sum(numeric_only=True)\n",
    "total_row['Label'] = 'Total'\n",
    "total_counts = label_counts.append(total_row, ignore_index=True)\n",
    "total_counts['Access_Parks'] = total_counts['Access_Parks'].astype(int)\n",
    "total_counts['Total_Parks'] = total_counts['Total_Parks'].astype(int)\n",
    "total_counts.loc[total_counts['Label'] == 'Total', 'Percent_Access'] = round((total_counts.loc[total_counts['Label'] == 'Total', 'Access_Parks'] / total_counts.loc[total_counts['Label'] == 'Total', 'Total_Parks']) * 100, 1)\n",
    "total_counts.tail()"
   ]
  },
  {
   "cell_type": "code",
   "execution_count": null,
   "id": "39f8c4d5",
   "metadata": {},
   "outputs": [],
   "source": [
    "total_counts.to_csv(\"accessbycluster.csv\")"
   ]
  },
  {
   "cell_type": "code",
   "execution_count": null,
   "id": "5ec5b9f3",
   "metadata": {},
   "outputs": [],
   "source": [
    "plt.figure(figsize=(10, 6)) \n",
    "bars = plt.bar(label_counts['Label'], label_counts['Percent_Access'], color='#C56C39')\n",
    "\n",
    "for i, bar in enumerate(bars):\n",
    "    ev_parks = label_counts['Access_Parks'].iloc[i]\n",
    "    total_parks = label_counts['Total_Parks'].iloc[i]\n",
    "    plt.text(bar.get_x() + bar.get_width() / 2, bar.get_height() + 0.25,\n",
    "             f\"{ev_parks}/{total_parks}\",\n",
    "             ha='center', va='bottom')\n",
    "    \n",
    "##avg_percent_ev = label_counts['Percent_Access'].mean()\n",
    "##plt.axhline(y=avg_percent_ev, color='red', linestyle='--')\n",
    "\n",
    "plt.xlabel('Cluster')\n",
    "plt.ylabel('Percentage of Parks with Accessibility Information')\n",
    "plt.title('Percentage of Parks with Accessibility Information by Cluster')\n",
    "plt.xticks(rotation=45, ha='right') \n",
    "plt.tight_layout()\n",
    "plt.savefig(\"AccessGraph.png\")\n",
    "plt.show()"
   ]
  },
  {
   "cell_type": "code",
   "execution_count": null,
   "id": "2e18acb1",
   "metadata": {
    "scrolled": false
   },
   "outputs": [],
   "source": [
    "median_totals = clusterparks.groupby('Label')['total'].median().reset_index()\n",
    "plt.figure(figsize=(12, 8)) \n",
    "sns_violin = sns.violinplot(x='Label', y='total', data=clusterparks, palette='Set3', linewidth=2)\n",
    "max_y = sns_violin.collections[0].get_paths()[0].vertices[:, 1].max()\n",
    "for i, label in enumerate(median_totals['Label']):\n",
    "    median_value = median_totals['total'][i]\n",
    "    plt.text(i, max_y + 0.02 * max_y, f\"Median: {median_value}\", ha='center', va='bottom')\n",
    "plt.xlabel('Cluster')\n",
    "plt.ylabel('Total Accessibility Words')\n",
    "plt.title('Park Accessibility Words by Cluster')\n",
    "plt.xticks(rotation=70) \n",
    "plt.ylim(0)  \n",
    "plt.tight_layout()\n",
    "plt.savefig(\"AccessViolin.png\")\n",
    "plt.show()"
   ]
  },
  {
   "cell_type": "code",
   "execution_count": null,
   "id": "d05376cf",
   "metadata": {},
   "outputs": [],
   "source": [
    "median_totals = clusterparks.groupby('Label')['total'].median().reset_index()\n",
    "plt.figure(figsize=(8, 12)) \n",
    "sns_violin = sns.violinplot(y='Label', x='total', data=clusterparks, palette='Set3', linewidth=2, fontsize=14)\n",
    "\n",
    "plt.xlabel('Total Park Accessibility Count', fontsize=14)\n",
    "plt.ylabel('Cluster', fontsize=14)\n",
    "plt.title('Total Park Accessibility Count by Cluster')\n",
    "plt.yticks(rotation=45)  # Rotate the y-axis labels for better readability\n",
    "plt.xlim(0)  \n",
    "plt.tight_layout()\n",
    "plt.savefig(\"FlippedAccessViolin.png\")\n",
    "plt.show()"
   ]
  },
  {
   "cell_type": "code",
   "execution_count": null,
   "id": "f17ecc72",
   "metadata": {},
   "outputs": [],
   "source": [
    "median_totals = clusterparks.groupby('Label')['total'].median().reset_index()\n",
    "\n",
    "plt.figure(figsize=(12, 8)) \n",
    "sns_boxplot = sns.boxplot(x='Label', y='total', data=clusterparks, palette='Set3', linewidth=2)\n",
    "\n",
    "# Calculate the maximum y-value from the data directly\n",
    "max_y = clusterparks['total'].max()\n",
    "\n",
    "for i, label in enumerate(median_totals['Label']):\n",
    "    median_value = median_totals['total'][i]\n",
    "    plt.text(i, max_y -330, f\"Median: {median_value}\", ha='center', va='bottom')\n",
    "\n",
    "plt.xlabel('Cluster', fontsize=18)\n",
    "plt.ylabel('Accessibility Words on Park Trip Planning Pages', fontsize=18)\n",
    "plt.title('Accessibility Words on Park Trip Planning Pages by Cluster', fontsize=18)\n",
    "plt.xticks(rotation=70) \n",
    "plt.ylim(0,220)  \n",
    "plt.tight_layout()\n",
    "plt.savefig(\"AccessBoxplot220.png\")\n",
    "plt.show()"
   ]
  },
  {
   "cell_type": "code",
   "execution_count": null,
   "id": "a571e36e",
   "metadata": {},
   "outputs": [],
   "source": [
    "total_pages = park_scrape_dataset2['park'].value_counts().reset_index()\n",
    "total_pages.columns = ['park', 'pagecount']\n",
    "total_pages.head()"
   ]
  },
  {
   "cell_type": "code",
   "execution_count": null,
   "id": "d7b4efd3",
   "metadata": {},
   "outputs": [],
   "source": [
    "clusterparks = pd.merge(clusterparks, total_pages, on='park', how='left')\n",
    "clusterparks.head()"
   ]
  },
  {
   "cell_type": "code",
   "execution_count": null,
   "id": "6ff2448c",
   "metadata": {},
   "outputs": [],
   "source": [
    "median_totals = clusterparks.groupby('Label')['total'].median().reset_index()\n",
    "\n",
    "# Calculate median of 'pagecount' in each cluster\n",
    "median_pagecount = clusterparks.groupby('Label')['pagecount'].median().reset_index()\n",
    "\n",
    "plt.figure(figsize=(12, 8)) \n",
    "sns_boxplot = sns.boxplot(x='Label', y='total', data=clusterparks, palette='Set3', linewidth=2)\n",
    "\n",
    "# Calculate the maximum y-value from the data directly\n",
    "max_y = clusterparks['total'].max()\n",
    "\n",
    "# Add median labels for 'total'\n",
    "for i, label in enumerate(median_totals['Label']):\n",
    "    median_value_total = median_totals['total'][i]\n",
    "    median_value_pagecount = median_pagecount['pagecount'][i]\n",
    "    plt.text(i, max_y-435, f\"Medians:\\nTotal: {median_value_total}\\nPages: {median_value_pagecount}\", ha='center', va='bottom', fontsize=12)\n",
    "\n",
    "plt.xlabel('Cluster', fontsize=18)\n",
    "plt.ylabel('Accessibility Words on Park Trip Planning Pages', fontsize=18)\n",
    "plt.title('Accessibility Words on Park Trip Planning Pages by Cluster', fontsize=18)\n",
    "plt.xticks(rotation=70) \n",
    "plt.ylim(0, 120)  \n",
    "plt.tight_layout()\n",
    "plt.savefig(\"AccessBoxplot2Label.png\")\n",
    "plt.show()"
   ]
  },
  {
   "cell_type": "code",
   "execution_count": null,
   "id": "7df8dddf",
   "metadata": {
    "scrolled": false
   },
   "outputs": [],
   "source": [
    "median_pagecount = clusterparks.groupby('Label')['pagecount'].median().reset_index()\n",
    "plt.figure(figsize=(12, 8)) \n",
    "sns_violin = sns.violinplot(x='Label', y='pagecount', data=clusterparks, palette='Set3', linewidth=2)\n",
    "for i, label in enumerate(median_pagecount['Label']):\n",
    "    median_value_pagecount = median_pagecount['pagecount'][i]\n",
    "    plt.text(i,  max_y - 370, f\"Median: {median_value_pagecount}\", ha='center', va='bottom', fontsize=12)\n",
    "plt.xlabel('Cluster', fontsize=18)\n",
    "plt.ylabel('Total Pages', fontsize=18)\n",
    "plt.title('Park Pages by Cluster', fontsize=18)\n",
    "plt.xticks(rotation=70) \n",
    "plt.ylim(0)  \n",
    "plt.tight_layout()\n",
    "plt.savefig(\"PagesViolin.png\")\n",
    "plt.show()"
   ]
  },
  {
   "cell_type": "code",
   "execution_count": null,
   "id": "cc8c038c",
   "metadata": {},
   "outputs": [],
   "source": [
    "clusterparks.to_csv(\"accessbyparkpages.csv\")"
   ]
  },
  {
   "cell_type": "code",
   "execution_count": null,
   "id": "774a5b0e",
   "metadata": {},
   "outputs": [],
   "source": [
    "plt.figure(figsize=(12, 8)) \n",
    "sns_violin = sns.violinplot(x='Label', y='pagecount', data=clusterparks, palette='Set3', linewidth=2)\n",
    "\n",
    "# Calculate median of 'pagecount' in each cluster\n",
    "median_pagecount = clusterparks.groupby('Label')['pagecount'].median().reset_index()\n",
    "\n",
    "# Add median pagecount values to the violin plot\n",
    "for i, label in enumerate(median_pagecount['Label']):\n",
    "    median_value_pagecount = median_pagecount['pagecount'][i]\n",
    "    # Get the x-coordinate of the median_value_pagecount label\n",
    "    x_coord = sns_violin.collections[i].get_paths()[0].vertices[:, 0].mean()\n",
    "    plt.text(x_coord, median_value_pagecount + 0.02 * median_value_pagecount, f\"Median Pages: {median_value_pagecount}\", ha='center', va='bottom', fontsize=12)\n",
    "\n",
    "plt.xlabel('Cluster')\n",
    "plt.ylabel('Total Pages')\n",
    "plt.title('Park Pages by Cluster')\n",
    "plt.xticks(rotation=70) \n",
    "plt.ylim(0)  \n",
    "plt.tight_layout()\n",
    "\n",
    "plt.show()"
   ]
  },
  {
   "cell_type": "code",
   "execution_count": null,
   "id": "0a59d6b1",
   "metadata": {
    "scrolled": false
   },
   "outputs": [],
   "source": [
    "\n",
    "\n",
    "# Create the violin plot\n",
    "plt.figure(figsize=(10, 6))\n",
    "ax = sns.violinplot(data=clusterparks, x='Label', y='pagecount')\n",
    "\n",
    "# Add median annotations\n",
    "medians = clusterparks.groupby(['Label'])['pagecount'].median().reset_index()\n",
    "for i in range(len(medians)):\n",
    "    label_group = medians.iloc[i]['Label']\n",
    "    median_value = medians.iloc[i]['pagecount']\n",
    "    x_offset = clusterparks['Label'].unique().tolist().index(label_group)\n",
    "    plt.text(x_offset, median_value, f\"Median: {median_value}\",\n",
    "             ha='center', va='bottom', color='black', fontsize=10)\n",
    "    # Adding an offset to the y-coordinate of the annotation text\n",
    "    plt.plot([x_offset, x_offset], [median_value, median_value], color='black', linewidth=1)\n",
    "\n",
    "# Set the labels and title\n",
    "plt.xlabel('Cluster')\n",
    "plt.ylabel('Pages')\n",
    "plt.title('Violin Plot of Page Count by Label')\n",
    "\n",
    "# Show the plot\n",
    "plt.show()"
   ]
  },
  {
   "cell_type": "code",
   "execution_count": null,
   "id": "cad36d84",
   "metadata": {},
   "outputs": [],
   "source": [
    "median_pages_per_label = clusterparks.groupby('Label')['pagecount'].median().reset_index()\n",
    "\n",
    "# Rename the column to reflect median\n",
    "median_pages_per_label.rename(columns={'pagecount': 'Median_Pagecount'}, inplace=True)\n",
    "\n",
    "# Display the new dataframe\n",
    "print(median_pages_per_label)"
   ]
  },
  {
   "cell_type": "code",
   "execution_count": null,
   "id": "b60ae7f6",
   "metadata": {},
   "outputs": [],
   "source": [
    "import seaborn as sns\n",
    "import matplotlib.pyplot as plt\n",
    "\n",
    "# Assuming 'clusterparks' is your dataframe\n",
    "# Assuming 'Label' and 'pagecount' are columns in your dataframe\n",
    "\n",
    "# Set the style of the seaborn and figure size\n",
    "sns.set_style(\"white\")\n",
    "plt.figure(figsize=(12, 8))\n",
    "\n",
    "# Create the boxplot\n",
    "sns.boxplot(data=clusterparks, x='Label', y='pagecount')\n",
    "# Set the labels and title\n",
    "plt.xlabel('Cluster', fontsize=18)\n",
    "plt.ylabel('Pages', fontsize=18)\n",
    "plt.title('Page Count by Label', fontsize=18)\n",
    "plt.xticks(rotation=70) \n",
    "plt.tight_layout()\n",
    "plt.savefig(\"PagesBox.png\")\n",
    "# Show the plot\n",
    "plt.show()\n"
   ]
  },
  {
   "cell_type": "code",
   "execution_count": null,
   "id": "0eafea27",
   "metadata": {},
   "outputs": [],
   "source": []
  }
 ],
 "metadata": {
  "kernelspec": {
   "display_name": "Python 3 (ipykernel)",
   "language": "python",
   "name": "python3"
  },
  "language_info": {
   "codemirror_mode": {
    "name": "ipython",
    "version": 3
   },
   "file_extension": ".py",
   "mimetype": "text/x-python",
   "name": "python",
   "nbconvert_exporter": "python",
   "pygments_lexer": "ipython3",
   "version": "3.11.3"
  }
 },
 "nbformat": 4,
 "nbformat_minor": 5
}
