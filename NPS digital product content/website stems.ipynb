{
 "cells": [
  {
   "cell_type": "code",
   "execution_count": 1,
   "id": "d5c36c69",
   "metadata": {},
   "outputs": [
    {
     "name": "stderr",
     "output_type": "stream",
     "text": [
      "[nltk_data] Downloading package punkt to\n",
      "[nltk_data]     C:\\Users\\Daniel.Lang\\AppData\\Roaming\\nltk_data...\n",
      "[nltk_data]   Package punkt is already up-to-date!\n"
     ]
    },
    {
     "data": {
      "text/plain": [
       "True"
      ]
     },
     "execution_count": 1,
     "metadata": {},
     "output_type": "execute_result"
    }
   ],
   "source": [
    "# import libraries\n",
    "%matplotlib inline\n",
    "import numpy as np\n",
    "import scipy as sp\n",
    "import matplotlib as mpl\n",
    "import matplotlib.cm as cm\n",
    "import matplotlib.pyplot as plt\n",
    "import pandas as pd\n",
    "import time\n",
    "pd.set_option('display.width', 500)\n",
    "pd.set_option('display.max_columns', 100)\n",
    "pd.set_option('display.notebook_repr_html', True)\n",
    "import seaborn as sns \n",
    "import html\n",
    "from bs4 import BeautifulSoup\n",
    "import requests\n",
    "import os\n",
    "from selenium import webdriver\n",
    "from nltk.tokenize import word_tokenize\n",
    "from nltk.probability import FreqDist\n",
    "from nltk.stem import PorterStemmer\n",
    "from nltk.stem.wordnet import WordNetLemmatizer\n",
    "import warnings; warnings.simplefilter('ignore')\n",
    "from VE_scraper_functions import *\n",
    "from chromedriver_py import binary_path # this will get you the path variable\n",
    "from selenium.webdriver.common.by import By\n",
    "from selenium.webdriver.support.ui import WebDriverWait\n",
    "import time\n",
    "import nltk\n",
    "nltk.download('punkt')"
   ]
  },
  {
   "cell_type": "code",
   "execution_count": 4,
   "id": "a2309668",
   "metadata": {},
   "outputs": [
    {
     "data": {
      "text/plain": [
       "<bound method NDFrame.head of        park                                                url\n",
       "0      abli                 /abli/planyourvisit/lincolnbio.htm\n",
       "1      abli                      /abli/planyourvisit/hours.htm\n",
       "2      abli               /abli/planyourvisit/boyhood-home.htm\n",
       "3      abli                  /abli/planyourvisit/basicinfo.htm\n",
       "4      abli                 /abli/planyourvisit/directions.htm\n",
       "...     ...                                                ...\n",
       "25355  zion       /zion/planyourvisit/laverkin-creek-trail.htm\n",
       "25356  zion                  /zion/planyourvisit/lightning.htm\n",
       "25357  zion         /zion/planyourvisit/other-special-uses.htm\n",
       "25358  zion      /zion/planyourvisit/park-pass-information.htm\n",
       "25359  zion  /zion/planyourvisit/wildcat-canyon-northgate-p...\n",
       "\n",
       "[25360 rows x 2 columns]>"
      ]
     },
     "execution_count": 4,
     "metadata": {},
     "output_type": "execute_result"
    }
   ],
   "source": [
    "path = \"pyvpages.xlsx\"\n",
    "park_scrape_dataset2 = pd.read_excel(path)\n",
    "park_scrape_dataset2.head"
   ]
  },
  {
   "cell_type": "code",
   "execution_count": 6,
   "id": "cbfa8dff",
   "metadata": {},
   "outputs": [
    {
     "data": {
      "text/plain": [
       "<bound method NDFrame.head of        park                                                url\n",
       "0      abli                 /abli/planyourvisit/lincolnbio.htm\n",
       "1      abli                      /abli/planyourvisit/hours.htm\n",
       "2      abli               /abli/planyourvisit/boyhood-home.htm\n",
       "3      abli                  /abli/planyourvisit/basicinfo.htm\n",
       "4      abli                 /abli/planyourvisit/directions.htm\n",
       "...     ...                                                ...\n",
       "25355  zion       /zion/planyourvisit/laverkin-creek-trail.htm\n",
       "25356  zion                  /zion/planyourvisit/lightning.htm\n",
       "25357  zion         /zion/planyourvisit/other-special-uses.htm\n",
       "25358  zion      /zion/planyourvisit/park-pass-information.htm\n",
       "25359  zion  /zion/planyourvisit/wildcat-canyon-northgate-p...\n",
       "\n",
       "[25360 rows x 2 columns]>"
      ]
     },
     "execution_count": 6,
     "metadata": {},
     "output_type": "execute_result"
    }
   ],
   "source": [
    "website_stems = park_scrape_dataset2[['park', 'url']]\n",
    "website_stems.head"
   ]
  },
  {
   "cell_type": "code",
   "execution_count": 7,
   "id": "9ba7faaf",
   "metadata": {},
   "outputs": [
    {
     "data": {
      "text/plain": [
       "<bound method NDFrame.head of        park                                                url                               url_stem\n",
       "0      abli                 /abli/planyourvisit/lincolnbio.htm                             lincolnbio\n",
       "1      abli                      /abli/planyourvisit/hours.htm                                  hours\n",
       "2      abli               /abli/planyourvisit/boyhood-home.htm                           boyhood-home\n",
       "3      abli                  /abli/planyourvisit/basicinfo.htm                              basicinfo\n",
       "4      abli                 /abli/planyourvisit/directions.htm                             directions\n",
       "...     ...                                                ...                                    ...\n",
       "25355  zion       /zion/planyourvisit/laverkin-creek-trail.htm                   laverkin-creek-trail\n",
       "25356  zion                  /zion/planyourvisit/lightning.htm                              lightning\n",
       "25357  zion         /zion/planyourvisit/other-special-uses.htm                     other-special-uses\n",
       "25358  zion      /zion/planyourvisit/park-pass-information.htm                  park-pass-information\n",
       "25359  zion  /zion/planyourvisit/wildcat-canyon-northgate-p...  wildcat-canyon-northgate-peaks-trails\n",
       "\n",
       "[25360 rows x 3 columns]>"
      ]
     },
     "execution_count": 7,
     "metadata": {},
     "output_type": "execute_result"
    }
   ],
   "source": [
    "def extract_text(url):\n",
    "    start = url.find('planyourvisit/') + len('planyourvisit/')\n",
    "    end = url.find('.htm', start)\n",
    "    if start != -1 and end != -1:\n",
    "        return url[start:end]\n",
    "    return None\n",
    "\n",
    "park_scrape_dataset2['url_stem'] = park_scrape_dataset2['url'].apply(extract_text)\n",
    "park_scrape_dataset2.head"
   ]
  },
  {
   "cell_type": "code",
   "execution_count": 8,
   "id": "85eca0cb",
   "metadata": {},
   "outputs": [
    {
     "name": "stdout",
     "output_type": "stream",
     "text": [
      "basicinfo                 926\n",
      "conditions                904\n",
      "maps                      893\n",
      "index                     815\n",
      "fees                      809\n",
      "directions                789\n",
      "calendar                  768\n",
      "things2do                 764\n",
      "hours                     747\n",
      "accessibility             457\n",
      "pets                      428\n",
      "safety                    420\n",
      "weather                   335\n",
      "permitsandreservations    290\n",
      "placestogo                284\n",
      "eatingsleeping            248\n",
      "nearbyattractions         216\n",
      "visitorcenters            189\n",
      "guidedtours               177\n",
      "camping                   170\n",
      "hiking                    170\n",
      "outdooractivities         167\n",
      "fishing                   164\n",
      "lodging                   142\n",
      "gettingaround             121\n",
      "brochures                 121\n",
      "Name: url_stem, dtype: int64\n"
     ]
    }
   ],
   "source": [
    "value_counts = park_scrape_dataset2['url_stem'].value_counts()\n",
    "most_common = value_counts[value_counts > 100]\n",
    "print(most_common)"
   ]
  },
  {
   "cell_type": "code",
   "execution_count": 9,
   "id": "8afa4434",
   "metadata": {},
   "outputs": [
    {
     "name": "stdout",
     "output_type": "stream",
     "text": [
      "   access_page\n",
      "0            0\n",
      "1            0\n",
      "2            0\n",
      "3            0\n",
      "4            0\n"
     ]
    }
   ],
   "source": [
    "# Define accessibility words\n",
    "accessibility_words = [\n",
    "    \"wheelchair\", \"disability\", \"impaired\", \"disabilities\",\n",
    "    \"handicap\", \" ada \", \"braille\", \"disabled\", \"handicapped\", \"access\", \"accessibility\"\n",
    "]\n",
    "\n",
    "# Function to count accessibility words in text\n",
    "def count_accessibility_words(text):\n",
    "    word_counts = {word: text.lower().count(word) for word in accessibility_words}\n",
    "    return word_counts\n",
    "\n",
    "# Apply the function to 'url_stem' column and convert to DataFrame\n",
    "word_counts_df = park_scrape_dataset2['url_stem'].apply(count_accessibility_words).apply(pd.Series)\n",
    "word_counts_df['access_page'] = word_counts_df.apply(lambda row: 1 if row.any() >= 1 else 0, axis=1)\n",
    "word_counts_df = word_counts_df[['access_page']]\n",
    "\n",
    "# Display the resulting DataFrame\n",
    "print(word_counts_df.head())"
   ]
  },
  {
   "cell_type": "code",
   "execution_count": 11,
   "id": "2efa7475",
   "metadata": {},
   "outputs": [
    {
     "data": {
      "text/plain": [
       "<bound method NDFrame.head of        park                                                url                               url_stem  access_page  access_page\n",
       "0      abli                 /abli/planyourvisit/lincolnbio.htm                             lincolnbio            0            0\n",
       "1      abli                      /abli/planyourvisit/hours.htm                                  hours            0            0\n",
       "2      abli               /abli/planyourvisit/boyhood-home.htm                           boyhood-home            0            0\n",
       "3      abli                  /abli/planyourvisit/basicinfo.htm                              basicinfo            0            0\n",
       "4      abli                 /abli/planyourvisit/directions.htm                             directions            0            0\n",
       "...     ...                                                ...                                    ...          ...          ...\n",
       "25355  zion       /zion/planyourvisit/laverkin-creek-trail.htm                   laverkin-creek-trail            0            0\n",
       "25356  zion                  /zion/planyourvisit/lightning.htm                              lightning            0            0\n",
       "25357  zion         /zion/planyourvisit/other-special-uses.htm                     other-special-uses            0            0\n",
       "25358  zion      /zion/planyourvisit/park-pass-information.htm                  park-pass-information            0            0\n",
       "25359  zion  /zion/planyourvisit/wildcat-canyon-northgate-p...  wildcat-canyon-northgate-peaks-trails            0            0\n",
       "\n",
       "[25360 rows x 5 columns]>"
      ]
     },
     "execution_count": 11,
     "metadata": {},
     "output_type": "execute_result"
    }
   ],
   "source": [
    "park_scrape_dataset2 = pd.concat([park_scrape_dataset2, word_counts_df], axis=1)\n",
    "park_scrape_dataset2.head"
   ]
  },
  {
   "cell_type": "code",
   "execution_count": 12,
   "id": "055cd9c1",
   "metadata": {},
   "outputs": [
    {
     "name": "stdout",
     "output_type": "stream",
     "text": [
      "   park  access_page  access_page\n",
      "0  abli            3            3\n",
      "1  acad            3            3\n",
      "2  adam            2            2\n",
      "3  afam            0            0\n",
      "4  afbg            1            1\n"
     ]
    }
   ],
   "source": [
    "park_word_counts = park_scrape_dataset2.groupby('park')['access_page'].sum().reset_index()\n",
    "# Display the resulting DataFrame\n",
    "print(park_word_counts.head())"
   ]
  },
  {
   "cell_type": "code",
   "execution_count": 15,
   "id": "946f7be8",
   "metadata": {},
   "outputs": [
    {
     "name": "stdout",
     "output_type": "stream",
     "text": [
      "   parking_page\n",
      "0             0\n",
      "1             0\n",
      "2             0\n",
      "3             0\n",
      "4             0\n"
     ]
    },
    {
     "data": {
      "text/plain": [
       "<bound method NDFrame.head of        park                                                url                               url_stem  access_page  access_page  parking_page\n",
       "0      abli                 /abli/planyourvisit/lincolnbio.htm                             lincolnbio            0            0             0\n",
       "1      abli                      /abli/planyourvisit/hours.htm                                  hours            0            0             0\n",
       "2      abli               /abli/planyourvisit/boyhood-home.htm                           boyhood-home            0            0             0\n",
       "3      abli                  /abli/planyourvisit/basicinfo.htm                              basicinfo            0            0             0\n",
       "4      abli                 /abli/planyourvisit/directions.htm                             directions            0            0             0\n",
       "...     ...                                                ...                                    ...          ...          ...           ...\n",
       "25355  zion       /zion/planyourvisit/laverkin-creek-trail.htm                   laverkin-creek-trail            0            0             0\n",
       "25356  zion                  /zion/planyourvisit/lightning.htm                              lightning            0            0             0\n",
       "25357  zion         /zion/planyourvisit/other-special-uses.htm                     other-special-uses            0            0             0\n",
       "25358  zion      /zion/planyourvisit/park-pass-information.htm                  park-pass-information            0            0             0\n",
       "25359  zion  /zion/planyourvisit/wildcat-canyon-northgate-p...  wildcat-canyon-northgate-peaks-trails            0            0             0\n",
       "\n",
       "[25360 rows x 6 columns]>"
      ]
     },
     "execution_count": 15,
     "metadata": {},
     "output_type": "execute_result"
    }
   ],
   "source": [
    "# Define parking words\n",
    "parking_words = [\n",
    "    \"parking lot\", \"parking\", \"pull off\", \"pulloff\", \"pull-off\", \"total space\", \"parking space\", \"oversized space\",\n",
    "\"garage\", \"parking spot\", \"parking tag\", \"vehicle space\", \"parking area\"]\n",
    "\n",
    "# Function to count accessibility words in text\n",
    "def count_parking_words(text):\n",
    "    word_counts = {word: text.lower().count(word) for word in parking_words}\n",
    "    return word_counts\n",
    "\n",
    "# Apply the function to 'url_stem' column and convert to DataFrame\n",
    "word_counts_df = park_scrape_dataset2['url_stem'].apply(count_parking_words).apply(pd.Series)\n",
    "word_counts_df['parking_page'] = word_counts_df.apply(lambda row: 1 if row.any() >= 1 else 0, axis=1)\n",
    "word_counts_df = word_counts_df[['parking_page']]\n",
    "\n",
    "# Display the resulting DataFrame\n",
    "print(word_counts_df.head())\n",
    "park_scrape_dataset2 = pd.concat([park_scrape_dataset2, word_counts_df], axis=1)\n",
    "park_scrape_dataset2.head"
   ]
  },
  {
   "cell_type": "code",
   "execution_count": 16,
   "id": "8389c297",
   "metadata": {},
   "outputs": [
    {
     "name": "stdout",
     "output_type": "stream",
     "text": [
      "   park  parking_page\n",
      "0  abli             0\n",
      "1  acad             0\n",
      "2  adam             0\n",
      "3  afam             0\n",
      "4  afbg             0\n"
     ]
    }
   ],
   "source": [
    "park_word_counts = park_scrape_dataset2.groupby('park')['parking_page'].sum().reset_index()\n",
    "# Display the resulting DataFrame\n",
    "print(park_word_counts.head())"
   ]
  },
  {
   "cell_type": "code",
   "execution_count": null,
   "id": "e909db0b",
   "metadata": {},
   "outputs": [],
   "source": [
    "newclusters = pd.merge(clusterparks, parkingpages, on='park', how='left')\n",
    "newclusters.head()"
   ]
  }
 ],
 "metadata": {
  "kernelspec": {
   "display_name": "Python 3 (ipykernel)",
   "language": "python",
   "name": "python3"
  },
  "language_info": {
   "codemirror_mode": {
    "name": "ipython",
    "version": 3
   },
   "file_extension": ".py",
   "mimetype": "text/x-python",
   "name": "python",
   "nbconvert_exporter": "python",
   "pygments_lexer": "ipython3",
   "version": "3.11.3"
  }
 },
 "nbformat": 4,
 "nbformat_minor": 5
}
