{
 "cells": [
  {
   "cell_type": "code",
   "execution_count": 1,
   "id": "d5c36c69",
   "metadata": {},
   "outputs": [
    {
     "name": "stderr",
     "output_type": "stream",
     "text": [
      "[nltk_data] Downloading package punkt to\n",
      "[nltk_data]     C:\\Users\\Daniel.Lang\\AppData\\Roaming\\nltk_data...\n",
      "[nltk_data]   Package punkt is already up-to-date!\n"
     ]
    },
    {
     "data": {
      "text/plain": [
       "True"
      ]
     },
     "execution_count": 1,
     "metadata": {},
     "output_type": "execute_result"
    }
   ],
   "source": [
    "# import libraries\n",
    "%matplotlib inline\n",
    "import numpy as np\n",
    "import scipy as sp\n",
    "import matplotlib as mpl\n",
    "import matplotlib.cm as cm\n",
    "import matplotlib.pyplot as plt\n",
    "import pandas as pd\n",
    "import time\n",
    "pd.set_option('display.width', 500)\n",
    "pd.set_option('display.max_columns', 100)\n",
    "pd.set_option('display.notebook_repr_html', True)\n",
    "import seaborn as sns \n",
    "import html\n",
    "from bs4 import BeautifulSoup\n",
    "import requests\n",
    "import os\n",
    "from selenium import webdriver\n",
    "from nltk.tokenize import word_tokenize\n",
    "from nltk.probability import FreqDist\n",
    "from nltk.stem import PorterStemmer\n",
    "from nltk.stem.wordnet import WordNetLemmatizer\n",
    "import warnings; warnings.simplefilter('ignore')\n",
    "from VE_scraper_functions import *\n",
    "from chromedriver_py import binary_path # this will get you the path variable\n",
    "from selenium.webdriver.common.by import By\n",
    "from selenium.webdriver.support.ui import WebDriverWait\n",
    "import time\n",
    "import nltk\n",
    "nltk.download('punkt')"
   ]
  },
  {
   "cell_type": "code",
   "execution_count": 2,
   "id": "a2309668",
   "metadata": {},
   "outputs": [
    {
     "data": {
      "text/plain": [
       "<bound method NDFrame.head of        Unnamed: 0  index                                       website page                                            content website location  park\n",
       "0               0      0  https://home.nps.gov/abli/planyourvisit/direct...  Directions - Abraham Lincoln Birthplace Nation...              NaN  ABLI\n",
       "1               1      1  https://home.nps.gov/abli/planyourvisit/direct...  Directions - Abraham Lincoln Birthplace Nation...              NaN  ABLI\n",
       "2               2      2  https://home.nps.gov/abli/planyourvisit/direct...  Directions - Abraham Lincoln Birthplace Nation...              NaN  ABLI\n",
       "3               3      3  https://home.nps.gov/abli/planyourvisit/direct...  Directions - Abraham Lincoln Birthplace Nation...              NaN  ABLI\n",
       "4               4      4  https://home.nps.gov/abli/planyourvisit/direct...  Directions - Abraham Lincoln Birthplace Nation...              NaN  ABLI\n",
       "...           ...    ...                                                ...                                                ...              ...   ...\n",
       "14663       14663     17  https://home.nps.gov/zion/planyourvisit/zion-c...  Zion Canyon Shuttle System - Zion National Par...              NaN  ZION\n",
       "14664       14664     18  https://home.nps.gov/zion/planyourvisit/kolob-...  Kolob Canyons - Zion National Park (U.S. Natio...              NaN  ZION\n",
       "14665       14665     19  https://home.nps.gov/grca/planyourvisit/north-...  North Rim - Grand Canyon National Park (U.S. N...              NaN  ZION\n",
       "14666       14666     20  https://home.nps.gov/zion/planyourvisit/the-zi...  The Zion-Mount Carmel Tunnel - Zion National P...              NaN  ZION\n",
       "14667       14667     21  https://home.nps.gov/zion/planyourvisit/hours.htm  Operating Hours & Seasons - Zion National Park...              NaN  ZION\n",
       "\n",
       "[14528 rows x 6 columns]>"
      ]
     },
     "execution_count": 2,
     "metadata": {},
     "output_type": "execute_result"
    }
   ],
   "source": [
    "path = \"park_scrape_content_dataset.xlsx\"\n",
    "park_scrape_dataset2 = pd.read_excel(path)\n",
    "park_scrape_dataset2 = park_scrape_dataset2[park_scrape_dataset2['content'] != \"page doesn't exist\"]\n",
    "park_scrape_dataset2.head"
   ]
  },
  {
   "cell_type": "code",
   "execution_count": 3,
   "id": "cbfa8dff",
   "metadata": {},
   "outputs": [
    {
     "data": {
      "text/plain": [
       "<bound method NDFrame.head of                                             website page                                            content  park\n",
       "0      https://home.nps.gov/abli/planyourvisit/direct...  Directions - Abraham Lincoln Birthplace Nation...  ABLI\n",
       "1      https://home.nps.gov/abli/planyourvisit/direct...  Directions - Abraham Lincoln Birthplace Nation...  ABLI\n",
       "2      https://home.nps.gov/abli/planyourvisit/direct...  Directions - Abraham Lincoln Birthplace Nation...  ABLI\n",
       "3      https://home.nps.gov/abli/planyourvisit/direct...  Directions - Abraham Lincoln Birthplace Nation...  ABLI\n",
       "4      https://home.nps.gov/abli/planyourvisit/direct...  Directions - Abraham Lincoln Birthplace Nation...  ABLI\n",
       "...                                                  ...                                                ...   ...\n",
       "14663  https://home.nps.gov/zion/planyourvisit/zion-c...  Zion Canyon Shuttle System - Zion National Par...  ZION\n",
       "14664  https://home.nps.gov/zion/planyourvisit/kolob-...  Kolob Canyons - Zion National Park (U.S. Natio...  ZION\n",
       "14665  https://home.nps.gov/grca/planyourvisit/north-...  North Rim - Grand Canyon National Park (U.S. N...  ZION\n",
       "14666  https://home.nps.gov/zion/planyourvisit/the-zi...  The Zion-Mount Carmel Tunnel - Zion National P...  ZION\n",
       "14667  https://home.nps.gov/zion/planyourvisit/hours.htm  Operating Hours & Seasons - Zion National Park...  ZION\n",
       "\n",
       "[14528 rows x 3 columns]>"
      ]
     },
     "execution_count": 3,
     "metadata": {},
     "output_type": "execute_result"
    }
   ],
   "source": [
    "website_stems = park_scrape_dataset2[['website page', 'content', 'park']]\n",
    "website_stems.head"
   ]
  },
  {
   "cell_type": "code",
   "execution_count": 4,
   "id": "9ba7faaf",
   "metadata": {},
   "outputs": [
    {
     "data": {
      "text/plain": [
       "<bound method NDFrame.head of        Unnamed: 0  index                                       website page                                            content website location  park                      url_stem\n",
       "0               0      0  https://home.nps.gov/abli/planyourvisit/direct...  Directions - Abraham Lincoln Birthplace Nation...              NaN  ABLI                    directions\n",
       "1               1      1  https://home.nps.gov/abli/planyourvisit/direct...  Directions - Abraham Lincoln Birthplace Nation...              NaN  ABLI                    directions\n",
       "2               2      2  https://home.nps.gov/abli/planyourvisit/direct...  Directions - Abraham Lincoln Birthplace Nation...              NaN  ABLI                    directions\n",
       "3               3      3  https://home.nps.gov/abli/planyourvisit/direct...  Directions - Abraham Lincoln Birthplace Nation...              NaN  ABLI                    directions\n",
       "4               4      4  https://home.nps.gov/abli/planyourvisit/direct...  Directions - Abraham Lincoln Birthplace Nation...              NaN  ABLI                    directions\n",
       "...           ...    ...                                                ...                                                ...              ...   ...                           ...\n",
       "14663       14663     17  https://home.nps.gov/zion/planyourvisit/zion-c...  Zion Canyon Shuttle System - Zion National Par...              NaN  ZION    zion-canyon-shuttle-system\n",
       "14664       14664     18  https://home.nps.gov/zion/planyourvisit/kolob-...  Kolob Canyons - Zion National Park (U.S. Natio...              NaN  ZION                 kolob-canyons\n",
       "14665       14665     19  https://home.nps.gov/grca/planyourvisit/north-...  North Rim - Grand Canyon National Park (U.S. N...              NaN  ZION                     north-rim\n",
       "14666       14666     20  https://home.nps.gov/zion/planyourvisit/the-zi...  The Zion-Mount Carmel Tunnel - Zion National P...              NaN  ZION  the-zion-mount-carmel-tunnel\n",
       "14667       14667     21  https://home.nps.gov/zion/planyourvisit/hours.htm  Operating Hours & Seasons - Zion National Park...              NaN  ZION                         hours\n",
       "\n",
       "[14528 rows x 7 columns]>"
      ]
     },
     "execution_count": 4,
     "metadata": {},
     "output_type": "execute_result"
    }
   ],
   "source": [
    "def extract_text(url):\n",
    "    start = url.find('planyourvisit/') + len('planyourvisit/')\n",
    "    end = url.find('.htm', start)\n",
    "    if start != -1 and end != -1:\n",
    "        return url[start:end]\n",
    "    return None\n",
    "\n",
    "park_scrape_dataset2['url_stem'] = park_scrape_dataset2['website page'].apply(extract_text)\n",
    "park_scrape_dataset2.head"
   ]
  },
  {
   "cell_type": "code",
   "execution_count": 5,
   "id": "85eca0cb",
   "metadata": {},
   "outputs": [
    {
     "name": "stdout",
     "output_type": "stream",
     "text": [
      "directions                2915\n",
      "index                      763\n",
      "trip-ideas                 423\n",
      "passes                     420\n",
      "event-search               418\n",
      "conditions                 409\n",
      "maps                       408\n",
      "basicinfo                  401\n",
      "calendar                   401\n",
      "fees                       385\n",
      "accessibility              342\n",
      "safety                     339\n",
      "things2do                  331\n",
      "hours                      327\n",
      "pets                       235\n",
      "permitsandreservations     219\n",
      "weather                    183\n",
      "nearbyattractions          178\n",
      "placestogo                 161\n",
      "eatingsleeping             144\n",
      "Name: url_stem, dtype: int64\n"
     ]
    }
   ],
   "source": [
    "value_counts = park_scrape_dataset2['url_stem'].value_counts()\n",
    "most_common = value_counts[value_counts > 100]\n",
    "print(most_common)"
   ]
  },
  {
   "cell_type": "code",
   "execution_count": 6,
   "id": "8afa4434",
   "metadata": {},
   "outputs": [
    {
     "name": "stdout",
     "output_type": "stream",
     "text": [
      "   access_page\n",
      "0            0\n",
      "1            0\n",
      "2            0\n",
      "3            0\n",
      "4            0\n"
     ]
    }
   ],
   "source": [
    "# Define accessibility words\n",
    "accessibility_words = [\n",
    "    \"wheelchair\", \"disability\", \"impaired\", \"disabilities\",\n",
    "    \"handicap\", \" ada \", \"braille\", \"disabled\", \"handicapped\", \"access\", \"accessibility\"\n",
    "]\n",
    "\n",
    "# Function to count accessibility words in text\n",
    "def count_accessibility_words(text):\n",
    "    word_counts = {word: text.lower().count(word) for word in accessibility_words}\n",
    "    return word_counts\n",
    "\n",
    "# Apply the function to 'url_stem' column and convert to DataFrame\n",
    "word_counts_df = park_scrape_dataset2['url_stem'].apply(count_accessibility_words).apply(pd.Series)\n",
    "word_counts_df['access_page'] = word_counts_df.apply(lambda row: 1 if row.any() >= 1 else 0, axis=1)\n",
    "word_counts_df = word_counts_df[['access_page']]\n",
    "\n",
    "# Display the resulting DataFrame\n",
    "print(word_counts_df.head())"
   ]
  },
  {
   "cell_type": "code",
   "execution_count": 7,
   "id": "2efa7475",
   "metadata": {},
   "outputs": [
    {
     "data": {
      "text/plain": [
       "<bound method NDFrame.head of        Unnamed: 0  index                                       website page website location  park                      url_stem  access_page\n",
       "0               0      0  https://home.nps.gov/abli/planyourvisit/direct...              NaN  ABLI                    directions            0\n",
       "1               1      1  https://home.nps.gov/abli/planyourvisit/direct...              NaN  ABLI                    directions            0\n",
       "2               2      2  https://home.nps.gov/abli/planyourvisit/direct...              NaN  ABLI                    directions            0\n",
       "3               3      3  https://home.nps.gov/abli/planyourvisit/direct...              NaN  ABLI                    directions            0\n",
       "4               4      4  https://home.nps.gov/abli/planyourvisit/direct...              NaN  ABLI                    directions            0\n",
       "...           ...    ...                                                ...              ...   ...                           ...          ...\n",
       "14663       14663     17  https://home.nps.gov/zion/planyourvisit/zion-c...              NaN  ZION    zion-canyon-shuttle-system            0\n",
       "14664       14664     18  https://home.nps.gov/zion/planyourvisit/kolob-...              NaN  ZION                 kolob-canyons            0\n",
       "14665       14665     19  https://home.nps.gov/grca/planyourvisit/north-...              NaN  ZION                     north-rim            0\n",
       "14666       14666     20  https://home.nps.gov/zion/planyourvisit/the-zi...              NaN  ZION  the-zion-mount-carmel-tunnel            0\n",
       "14667       14667     21  https://home.nps.gov/zion/planyourvisit/hours.htm              NaN  ZION                         hours            0\n",
       "\n",
       "[14528 rows x 7 columns]>"
      ]
     },
     "execution_count": 7,
     "metadata": {},
     "output_type": "execute_result"
    }
   ],
   "source": [
    "park_scrape_dataset2 = pd.concat([park_scrape_dataset2, word_counts_df], axis=1)\n",
    "park_scrape_dataset2 = park_scrape_dataset2.drop(\"content\", axis=\"columns\")\n",
    "park_scrape_dataset2.head"
   ]
  },
  {
   "cell_type": "code",
   "execution_count": 8,
   "id": "055cd9c1",
   "metadata": {},
   "outputs": [
    {
     "name": "stdout",
     "output_type": "stream",
     "text": [
      "   park  access_page\n",
      "0  ABLI            0\n",
      "1  ACAD            1\n",
      "2  ADAM            1\n",
      "3  AFBG            1\n",
      "4  AGFO            1\n"
     ]
    }
   ],
   "source": [
    "park_word_counts = park_scrape_dataset2.groupby('park')['access_page'].sum().reset_index()\n",
    "# Display the resulting DataFrame\n",
    "print(park_word_counts.head())"
   ]
  },
  {
   "cell_type": "code",
   "execution_count": 9,
   "id": "8132aea6",
   "metadata": {},
   "outputs": [
    {
     "name": "stdout",
     "output_type": "stream",
     "text": [
      "     park  access_page\n",
      "0    ABLI            0\n",
      "10   AMME            0\n",
      "17   APPA            0\n",
      "18   ARCH            0\n",
      "20   ARPO            0\n",
      "..    ...          ...\n",
      "399  WHHO            0\n",
      "402  WHSA            0\n",
      "408  WOTR            0\n",
      "415  YOSE            0\n",
      "418  ZION            0\n",
      "\n",
      "[76 rows x 2 columns]\n"
     ]
    }
   ],
   "source": [
    "park_word_counts_zero = park_word_counts[park_word_counts['access_page'] == 0]\n",
    "print(park_word_counts_zero)"
   ]
  },
  {
   "cell_type": "code",
   "execution_count": null,
   "id": "946f7be8",
   "metadata": {},
   "outputs": [],
   "source": []
  }
 ],
 "metadata": {
  "kernelspec": {
   "display_name": "Python 3 (ipykernel)",
   "language": "python",
   "name": "python3"
  },
  "language_info": {
   "codemirror_mode": {
    "name": "ipython",
    "version": 3
   },
   "file_extension": ".py",
   "mimetype": "text/x-python",
   "name": "python",
   "nbconvert_exporter": "python",
   "pygments_lexer": "ipython3",
   "version": "3.11.3"
  }
 },
 "nbformat": 4,
 "nbformat_minor": 5
}
