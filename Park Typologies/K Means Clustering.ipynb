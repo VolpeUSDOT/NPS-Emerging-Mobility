{
 "cells": [
  {
   "cell_type": "markdown",
   "id": "83e7ebc5",
   "metadata": {},
   "source": [
    "### K-Means Clustering to Create Park Typologies\n",
    "\n",
    "#### Authors: Eric Englin, Sophie Abo, Mac Lang\n",
    "#### Date: 7/14/23\n",
    "\n",
    "\n",
    "**Description**\n",
    "This code uses a park-level dataset of 2021 recreation visits, size, settings (urban, rural, suburban), and visitation patterns (sporadic, seasonal, sustained). The code uses k-means clustering to create park categories that can be interpreted for typologies. "
   ]
  },
  {
   "cell_type": "code",
   "execution_count": 1,
   "id": "5bea0c87",
   "metadata": {},
   "outputs": [],
   "source": [
    "import pandas as pd\n",
    "import matplotlib.pyplot as plt\n",
    "from kneed import KneeLocator\n",
    "from sklearn.datasets import make_blobs\n",
    "from sklearn.cluster import KMeans\n",
    "from sklearn.metrics import silhouette_score\n",
    "from sklearn.preprocessing import StandardScaler\n"
   ]
  },
  {
   "cell_type": "code",
   "execution_count": 2,
   "id": "94dc3536",
   "metadata": {},
   "outputs": [],
   "source": [
    "df = pd.read_excel(r\"C:\\Users\\Jonathan.Robison\\DOT OST\\volpe-proj-VU16A100 - Emerging Mobility\\Subgroup Support\\Traveler Information Technologies\\Enhancing Trip Planning Information\\NPS Dataset Alt 23.12.07.xlsx\")"
   ]
  },
  {
   "cell_type": "code",
   "execution_count": 3,
   "id": "ded43bc0",
   "metadata": {},
   "outputs": [
    {
     "data": {
      "text/html": [
       "<div>\n",
       "<style scoped>\n",
       "    .dataframe tbody tr th:only-of-type {\n",
       "        vertical-align: middle;\n",
       "    }\n",
       "\n",
       "    .dataframe tbody tr th {\n",
       "        vertical-align: top;\n",
       "    }\n",
       "\n",
       "    .dataframe thead th {\n",
       "        text-align: right;\n",
       "    }\n",
       "</style>\n",
       "<table border=\"1\" class=\"dataframe\">\n",
       "  <thead>\n",
       "    <tr style=\"text-align: right;\">\n",
       "      <th></th>\n",
       "      <th>NPS Full Name</th>\n",
       "      <th>Simplified Name</th>\n",
       "      <th>Park Alpha</th>\n",
       "      <th>Setting</th>\n",
       "      <th>2012</th>\n",
       "      <th>2016</th>\n",
       "      <th>2019</th>\n",
       "      <th>2022</th>\n",
       "      <th>Jan-19</th>\n",
       "      <th>Feb-19</th>\n",
       "      <th>...</th>\n",
       "      <th>Percent of Road Paved</th>\n",
       "      <th>Total Parking Area (Acres)</th>\n",
       "      <th>Miles of Road/Acre</th>\n",
       "      <th>Acre of Parking/Acre</th>\n",
       "      <th>visitation patterns</th>\n",
       "      <th>Access Type</th>\n",
       "      <th>Recent Trans Data Collection Study</th>\n",
       "      <th>Hrly VUStats</th>\n",
       "      <th>FOTSC park</th>\n",
       "      <th>remove</th>\n",
       "    </tr>\n",
       "  </thead>\n",
       "  <tbody>\n",
       "    <tr>\n",
       "      <th>0</th>\n",
       "      <td>Abraham Lincoln Birthplace National Historical...</td>\n",
       "      <td>Abraham Lincoln Birthplace</td>\n",
       "      <td>ABLI</td>\n",
       "      <td>rural</td>\n",
       "      <td>169515</td>\n",
       "      <td>252495</td>\n",
       "      <td>238226</td>\n",
       "      <td>265707</td>\n",
       "      <td>1939</td>\n",
       "      <td>6534</td>\n",
       "      <td>...</td>\n",
       "      <td>100.000000</td>\n",
       "      <td>1.503191</td>\n",
       "      <td>0.002441</td>\n",
       "      <td>0.004363</td>\n",
       "      <td>NaN</td>\n",
       "      <td>NaN</td>\n",
       "      <td>NaN</td>\n",
       "      <td>NaN</td>\n",
       "      <td>NaN</td>\n",
       "      <td>NaN</td>\n",
       "    </tr>\n",
       "    <tr>\n",
       "      <th>1</th>\n",
       "      <td>Acadia National Park</td>\n",
       "      <td>Acadia</td>\n",
       "      <td>ACAD</td>\n",
       "      <td>rural</td>\n",
       "      <td>2431052</td>\n",
       "      <td>3303393</td>\n",
       "      <td>3437286</td>\n",
       "      <td>3970260</td>\n",
       "      <td>8532</td>\n",
       "      <td>9154</td>\n",
       "      <td>...</td>\n",
       "      <td>98.962243</td>\n",
       "      <td>40.037856</td>\n",
       "      <td>0.001938</td>\n",
       "      <td>0.000816</td>\n",
       "      <td>2. Seasonal</td>\n",
       "      <td>NaN</td>\n",
       "      <td>NaN</td>\n",
       "      <td>NaN</td>\n",
       "      <td>1.0</td>\n",
       "      <td>NaN</td>\n",
       "    </tr>\n",
       "    <tr>\n",
       "      <th>2</th>\n",
       "      <td>Adams National Historical Park</td>\n",
       "      <td>Adams</td>\n",
       "      <td>ADAM</td>\n",
       "      <td>urban</td>\n",
       "      <td>336031</td>\n",
       "      <td>199301</td>\n",
       "      <td>187400</td>\n",
       "      <td>12848</td>\n",
       "      <td>27</td>\n",
       "      <td>179</td>\n",
       "      <td>...</td>\n",
       "      <td>0.000000</td>\n",
       "      <td>0.000000</td>\n",
       "      <td>0.000000</td>\n",
       "      <td>0.000000</td>\n",
       "      <td>NaN</td>\n",
       "      <td>NaN</td>\n",
       "      <td>NaN</td>\n",
       "      <td>NaN</td>\n",
       "      <td>NaN</td>\n",
       "      <td>NaN</td>\n",
       "    </tr>\n",
       "    <tr>\n",
       "      <th>3</th>\n",
       "      <td>African Burial Ground National Monument</td>\n",
       "      <td>African Burial Ground</td>\n",
       "      <td>AFBG</td>\n",
       "      <td>urban</td>\n",
       "      <td>77624</td>\n",
       "      <td>46526</td>\n",
       "      <td>47427</td>\n",
       "      <td>29743</td>\n",
       "      <td>96</td>\n",
       "      <td>1571</td>\n",
       "      <td>...</td>\n",
       "      <td>0.000000</td>\n",
       "      <td>0.000000</td>\n",
       "      <td>0.000000</td>\n",
       "      <td>0.000000</td>\n",
       "      <td>NaN</td>\n",
       "      <td>NaN</td>\n",
       "      <td>NaN</td>\n",
       "      <td>NaN</td>\n",
       "      <td>NaN</td>\n",
       "      <td>NaN</td>\n",
       "    </tr>\n",
       "    <tr>\n",
       "      <th>4</th>\n",
       "      <td>Agate Fossil Beds National Monument</td>\n",
       "      <td>Agate Fossil Beds</td>\n",
       "      <td>AGFO</td>\n",
       "      <td>rural</td>\n",
       "      <td>11824</td>\n",
       "      <td>15555</td>\n",
       "      <td>16657</td>\n",
       "      <td>16357</td>\n",
       "      <td>0</td>\n",
       "      <td>94</td>\n",
       "      <td>...</td>\n",
       "      <td>100.000000</td>\n",
       "      <td>1.922567</td>\n",
       "      <td>0.001270</td>\n",
       "      <td>0.000629</td>\n",
       "      <td>NaN</td>\n",
       "      <td>NaN</td>\n",
       "      <td>NaN</td>\n",
       "      <td>NaN</td>\n",
       "      <td>NaN</td>\n",
       "      <td>NaN</td>\n",
       "    </tr>\n",
       "  </tbody>\n",
       "</table>\n",
       "<p>5 rows × 45 columns</p>\n",
       "</div>"
      ],
      "text/plain": [
       "                                       NPS Full Name  \\\n",
       "0  Abraham Lincoln Birthplace National Historical...   \n",
       "1                               Acadia National Park   \n",
       "2                     Adams National Historical Park   \n",
       "3            African Burial Ground National Monument   \n",
       "4                Agate Fossil Beds National Monument   \n",
       "\n",
       "              Simplified Name Park Alpha Setting     2012     2016     2019  \\\n",
       "0  Abraham Lincoln Birthplace       ABLI   rural   169515   252495   238226   \n",
       "1                      Acadia       ACAD   rural  2431052  3303393  3437286   \n",
       "2                       Adams       ADAM   urban   336031   199301   187400   \n",
       "3       African Burial Ground       AFBG   urban    77624    46526    47427   \n",
       "4           Agate Fossil Beds       AGFO   rural    11824    15555    16657   \n",
       "\n",
       "      2022  Jan-19  Feb-19  ...  Percent of Road Paved  \\\n",
       "0   265707    1939    6534  ...             100.000000   \n",
       "1  3970260    8532    9154  ...              98.962243   \n",
       "2    12848      27     179  ...               0.000000   \n",
       "3    29743      96    1571  ...               0.000000   \n",
       "4    16357       0      94  ...             100.000000   \n",
       "\n",
       "   Total Parking Area (Acres)  Miles of Road/Acre  Acre of Parking/Acre  \\\n",
       "0                    1.503191            0.002441              0.004363   \n",
       "1                   40.037856            0.001938              0.000816   \n",
       "2                    0.000000            0.000000              0.000000   \n",
       "3                    0.000000            0.000000              0.000000   \n",
       "4                    1.922567            0.001270              0.000629   \n",
       "\n",
       "   visitation patterns   Access Type  Recent Trans Data Collection Study  \\\n",
       "0                   NaN          NaN                                 NaN   \n",
       "1           2. Seasonal          NaN                                 NaN   \n",
       "2                   NaN          NaN                                 NaN   \n",
       "3                   NaN          NaN                                 NaN   \n",
       "4                   NaN          NaN                                 NaN   \n",
       "\n",
       "   Hrly VUStats  FOTSC park  remove  \n",
       "0           NaN         NaN     NaN  \n",
       "1           NaN         1.0     NaN  \n",
       "2           NaN         NaN     NaN  \n",
       "3           NaN         NaN     NaN  \n",
       "4           NaN         NaN     NaN  \n",
       "\n",
       "[5 rows x 45 columns]"
      ]
     },
     "execution_count": 3,
     "metadata": {},
     "output_type": "execute_result"
    }
   ],
   "source": [
    "df.head()"
   ]
  },
  {
   "cell_type": "code",
   "execution_count": 4,
   "id": "5549eea8",
   "metadata": {},
   "outputs": [
    {
     "name": "stdout",
     "output_type": "stream",
     "text": [
      "Index([                     'NPS Full Name',\n",
      "                          'Simplified Name',\n",
      "                               'Park Alpha',\n",
      "                                  'Setting',\n",
      "                                       2012,\n",
      "                                       2016,\n",
      "                                       2019,\n",
      "                                       2022,\n",
      "                                   'Jan-19',\n",
      "                                   'Feb-19',\n",
      "                                   'Mar-19',\n",
      "                                   'Apr-19',\n",
      "                                   'May-19',\n",
      "                                   'Jun-19',\n",
      "                                   'Jul-19',\n",
      "                                   'Aug-19',\n",
      "                                   'Sep-19',\n",
      "                                   'Oct-19',\n",
      "                                   'Nov-19',\n",
      "                                   'Dec-19',\n",
      "                                   'Jan-22',\n",
      "                                   'Feb-22',\n",
      "                                   'Mar-22',\n",
      "                                   'Apr-22',\n",
      "                                   'May-22',\n",
      "                                   'Jun-22',\n",
      "                                   'Jul-22',\n",
      "                                   'Aug-22',\n",
      "                                  'Sept-22',\n",
      "                                   'Oct-22',\n",
      "                                   'Nov-22',\n",
      "                                   'Dec-22',\n",
      "                            'Avg 2003-2022',\n",
      "                            'Size  (acres)',\n",
      "                 'Road Length in Park (Mi)',\n",
      "                    'Percent of Road Paved',\n",
      "               'Total Parking Area (Acres)',\n",
      "                       'Miles of Road/Acre',\n",
      "                     'Acre of Parking/Acre',\n",
      "                     'visitation patterns ',\n",
      "                              'Access Type',\n",
      "       'Recent Trans Data Collection Study',\n",
      "                             'Hrly VUStats',\n",
      "                               'FOTSC park',\n",
      "                                   'remove'],\n",
      "      dtype='object')\n"
     ]
    }
   ],
   "source": [
    "column_titles = df.columns\n",
    "print(column_titles)"
   ]
  },
  {
   "cell_type": "code",
   "execution_count": 5,
   "id": "17d7483a",
   "metadata": {},
   "outputs": [
    {
     "name": "stdout",
     "output_type": "stream",
     "text": [
      "\n",
      "DataFrame after renaming columns:\n",
      "                                         NPS Full Name  \\\n",
      "0    Abraham Lincoln Birthplace National Historical...   \n",
      "1                                 Acadia National Park   \n",
      "2                       Adams National Historical Park   \n",
      "3              African Burial Ground National Monument   \n",
      "4                  Agate Fossil Beds National Monument   \n",
      "..                                                 ...   \n",
      "383                               World War I Memorial   \n",
      "384                          Yellowstone National Park   \n",
      "385                             Yosemite National Park   \n",
      "386             Yukon-Charley Rivers National Preserve   \n",
      "387                                 Zion National Park   \n",
      "\n",
      "                Simplified Name Park Alpha Setting     2012     2016     2019  \\\n",
      "0    Abraham Lincoln Birthplace       ABLI   rural   169515   252495   238226   \n",
      "1                        Acadia       ACAD   rural  2431052  3303393  3437286   \n",
      "2                         Adams       ADAM   urban   336031   199301   187400   \n",
      "3         African Burial Ground       AFBG   urban    77624    46526    47427   \n",
      "4             Agate Fossil Beds       AGFO   rural    11824    15555    16657   \n",
      "..                          ...        ...     ...      ...      ...      ...   \n",
      "383                 World War I       WWIM   urban        0        0        0   \n",
      "384                 Yellowstone       YELL   rural  3447729  4257177  4020288   \n",
      "385                    Yosemite       YOSE   rural  3853404  5028868  4422861   \n",
      "386        Yukon-Charley Rivers       YUCH   rural     1393     1146     1114   \n",
      "387                        Zion       ZION   rural  2973607  4295127  4488268   \n",
      "\n",
      "        2022  Jan-19  Feb-19  ...  Percent of Road Paved  \\\n",
      "0     265707    1939    6534  ...             100.000000   \n",
      "1    3970260    8532    9154  ...              98.962243   \n",
      "2      12848      27     179  ...               0.000000   \n",
      "3      29743      96    1571  ...               0.000000   \n",
      "4      16357       0      94  ...             100.000000   \n",
      "..       ...     ...     ...  ...                    ...   \n",
      "383   848634       0       0  ...               0.000000   \n",
      "384  3290242   33896   31650  ...              98.989715   \n",
      "385  3667550  116746  111665  ...              96.796729   \n",
      "386      744       6      72  ...               0.000000   \n",
      "387  4692417   98828  102269  ...             100.000000   \n",
      "\n",
      "     Total Parking Area (Acres)  Miles of Road/Acre  Acre of Parking/Acre  \\\n",
      "0                      1.503191            0.002441              0.004363   \n",
      "1                     40.037856            0.001938              0.000816   \n",
      "2                      0.000000            0.000000              0.000000   \n",
      "3                      0.000000            0.000000              0.000000   \n",
      "4                      1.922567            0.001270              0.000629   \n",
      "..                          ...                 ...                   ...   \n",
      "383                    0.000000            0.000000              0.000000   \n",
      "384                  169.463545            0.000178              0.000076   \n",
      "385                   79.835813            0.000266              0.000105   \n",
      "386                    0.000000            0.000000              0.000000   \n",
      "387                   25.424426            0.000530              0.000173   \n",
      "\n",
      "     visitation patterns   Access Type  Recent Trans Data Collection Study  \\\n",
      "0                     NaN          NaN                                 NaN   \n",
      "1             2. Seasonal          NaN                                 NaN   \n",
      "2                     NaN          NaN                                 NaN   \n",
      "3                     NaN          NaN                                 NaN   \n",
      "4                     NaN          NaN                                 NaN   \n",
      "..                    ...          ...                                 ...   \n",
      "383                   NaN          NaN                                 NaN   \n",
      "384           2. Seasonal          NaN                                 NaN   \n",
      "385           2. Seasonal          NaN                                 NaN   \n",
      "386                   NaN          NaN                                 NaN   \n",
      "387           2. Seasonal          NaN                                 NaN   \n",
      "\n",
      "     Hrly VUStats  FOTSC park  remove  \n",
      "0             NaN         NaN     NaN  \n",
      "1             NaN         1.0     NaN  \n",
      "2             NaN         NaN     NaN  \n",
      "3             NaN         NaN     NaN  \n",
      "4             NaN         NaN     NaN  \n",
      "..            ...         ...     ...  \n",
      "383           NaN         NaN     NaN  \n",
      "384           NaN         1.0     NaN  \n",
      "385           NaN         1.0     NaN  \n",
      "386           NaN         NaN     NaN  \n",
      "387           NaN         1.0     NaN  \n",
      "\n",
      "[388 rows x 45 columns]\n"
     ]
    }
   ],
   "source": [
    "df.rename(columns={2012: '2012', 2016:'2016', 2019:'2019', 2022:'2022'},\n",
    "    inplace=True)\n",
    "\n",
    "print(\"\\nDataFrame after renaming columns:\")\n",
    "print(df)"
   ]
  },
  {
   "cell_type": "code",
   "execution_count": 6,
   "id": "39485d66",
   "metadata": {},
   "outputs": [
    {
     "name": "stdout",
     "output_type": "stream",
     "text": [
      "Index(['NPS Full Name', 'Simplified Name', 'Park Alpha', 'Setting', '2012',\n",
      "       '2016', '2019', '2022', 'Jan-19', 'Feb-19', 'Mar-19', 'Apr-19',\n",
      "       'May-19', 'Jun-19', 'Jul-19', 'Aug-19', 'Sep-19', 'Oct-19', 'Nov-19',\n",
      "       'Dec-19', 'Jan-22', 'Feb-22', 'Mar-22', 'Apr-22', 'May-22', 'Jun-22',\n",
      "       'Jul-22', 'Aug-22', 'Sept-22', 'Oct-22', 'Nov-22', 'Dec-22',\n",
      "       'Avg 2003-2022', 'Size  (acres)', 'Road Length in Park (Mi)',\n",
      "       'Percent of Road Paved', 'Total Parking Area (Acres)',\n",
      "       'Miles of Road/Acre', 'Acre of Parking/Acre', 'visitation patterns ',\n",
      "       'Access Type', 'Recent Trans Data Collection Study', 'Hrly VUStats',\n",
      "       'FOTSC park', 'remove'],\n",
      "      dtype='object')\n"
     ]
    }
   ],
   "source": [
    "column_titles = df.columns\n",
    "print(column_titles)"
   ]
  },
  {
   "cell_type": "code",
   "execution_count": 10,
   "id": "7e567312",
   "metadata": {},
   "outputs": [
    {
     "name": "stderr",
     "output_type": "stream",
     "text": [
      "No handles with labels found to put in legend.\n"
     ]
    },
    {
     "data": {
      "image/png": "[encoded data removed]",
      "text/plain": [
       "<Figure size 720x432 with 42 Axes>"
      ]
     },
     "metadata": {
      "needs_background": "light"
     },
     "output_type": "display_data"
    },
    {
     "name": "stderr",
     "output_type": "stream",
     "text": [
      "C:\\Users\\Jonathan.Robison\\AppData\\Roaming\\Python\\Python39\\site-packages\\sklearn\\utils\\extmath.py:1050: RuntimeWarning: invalid value encountered in true_divide\n",
      "  updated_mean = (last_sum + new_sum) / updated_sample_count\n",
      "C:\\Users\\Jonathan.Robison\\AppData\\Roaming\\Python\\Python39\\site-packages\\sklearn\\utils\\extmath.py:1055: RuntimeWarning: invalid value encountered in true_divide\n",
      "  T = new_sum / new_sample_count\n",
      "C:\\Users\\Jonathan.Robison\\AppData\\Roaming\\Python\\Python39\\site-packages\\sklearn\\utils\\extmath.py:1075: RuntimeWarning: invalid value encountered in true_divide\n",
      "  new_unnormalized_variance -= correction**2 / new_sample_count\n",
      "No handles with labels found to put in legend.\n"
     ]
    },
    {
     "data": {
      "image/png": "[encoded data removed]",
      "text/plain": [
       "<Figure size 720x432 with 42 Axes>"
      ]
     },
     "metadata": {
      "needs_background": "light"
     },
     "output_type": "display_data"
    }
   ],
   "source": [
    "import pandas as pd\n",
    "from sklearn.preprocessing import StandardScaler\n",
    "import matplotlib.pyplot as plt\n",
    "\n",
    "numerical_cols=df.select_dtypes(include=['float64','int64']).columns\n",
    "\n",
    "df[numerical_cols].hist(alpha=0.5,bins=20, figsize=(10,6), label='Before Normalization')\n",
    "plt.title('Histograms Before Normalization')\n",
    "plt.legend()\n",
    "plt.show()\n",
    "\n",
    "scaler = StandardScaler()\n",
    "df[numerical_cols] = scaler.fit_transform(df[numerical_cols].values)\n",
    "\n",
    "df[numerical_cols].hist(alpha=0.5, bins=20, figsize=(10,6), label='After Normalization')\n",
    "plt.title('Histogram After Normalization')\n",
    "plt.legend()\n",
    "plt.show()"
   ]
  },
  {
   "cell_type": "code",
   "execution_count": 11,
   "id": "24b159a1",
   "metadata": {},
   "outputs": [
    {
     "name": "stderr",
     "output_type": "stream",
     "text": [
      "C:\\Users\\Jonathan.Robison\\AppData\\Roaming\\Python\\Python39\\site-packages\\sklearn\\utils\\extmath.py:1050: RuntimeWarning: invalid value encountered in true_divide\n",
      "  updated_mean = (last_sum + new_sum) / updated_sample_count\n",
      "C:\\Users\\Jonathan.Robison\\AppData\\Roaming\\Python\\Python39\\site-packages\\sklearn\\utils\\extmath.py:1055: RuntimeWarning: invalid value encountered in true_divide\n",
      "  T = new_sum / new_sample_count\n",
      "C:\\Users\\Jonathan.Robison\\AppData\\Roaming\\Python\\Python39\\site-packages\\sklearn\\utils\\extmath.py:1075: RuntimeWarning: invalid value encountered in true_divide\n",
      "  new_unnormalized_variance -= correction**2 / new_sample_count\n"
     ]
    }
   ],
   "source": [
    "from sklearn import datasets    \n",
    "from sklearn.preprocessing import StandardScaler\n",
    "from sklearn.cluster import KMeans\n",
    "import numpy as np\n",
    "\n",
    "numerical_cols=df.select_dtypes(include=['float64','int64']).columns\n",
    "string_cols = df.select_dtypes(include=['object']).columns\n",
    "\n",
    "scaler = StandardScaler()\n",
    "df[numerical_cols] = scaler.fit_transform(df[numerical_cols])"
   ]
  },
  {
   "cell_type": "code",
   "execution_count": 12,
   "id": "af146b9a",
   "metadata": {},
   "outputs": [],
   "source": [
    "kmeans = KMeans(\n",
    "    init=\"random\",\n",
    "     n_clusters=10,\n",
    "     n_init='auto',\n",
    "     max_iter=300,\n",
    "     random_state=42\n",
    ")\n"
   ]
  },
  {
   "cell_type": "code",
   "execution_count": 13,
   "id": "5509ab43",
   "metadata": {},
   "outputs": [],
   "source": [
    "one_hot = pd.get_dummies(df['Setting'])\n",
    "df = df.drop('Setting',axis = 1)\n",
    "# Join the encoded df\n",
    "df = df.join(one_hot)\n",
    "\n",
    "one_hot = pd.get_dummies(df['visitation patterns '])\n",
    "df = df.drop('visitation patterns ',axis = 1)\n",
    "# Join the encoded df\n",
    "df = df.join(one_hot)"
   ]
  },
  {
   "cell_type": "code",
   "execution_count": 14,
   "id": "0acc5da1",
   "metadata": {},
   "outputs": [],
   "source": [
    "df = df.loc[df['remove']!=\"Yes\"]"
   ]
  },
  {
   "cell_type": "code",
   "execution_count": 15,
   "id": "e49560e0",
   "metadata": {},
   "outputs": [
    {
     "name": "stderr",
     "output_type": "stream",
     "text": [
      "C:\\Users\\Jonathan.Robison\\AppData\\Roaming\\Python\\Python39\\site-packages\\sklearn\\cluster\\_kmeans.py:1440: UserWarning: KMeans is known to have a memory leak on Windows with MKL, when there are less chunks than available threads. You can avoid it by setting the environment variable OMP_NUM_THREADS=2.\n",
      "  warnings.warn(\n"
     ]
    },
    {
     "data": {
      "text/html": [
       "<style>#sk-container-id-1 {color: black;}#sk-container-id-1 pre{padding: 0;}#sk-container-id-1 div.sk-toggleable {background-color: white;}#sk-container-id-1 label.sk-toggleable__label {cursor: pointer;display: block;width: 100%;margin-bottom: 0;padding: 0.3em;box-sizing: border-box;text-align: center;}#sk-container-id-1 label.sk-toggleable__label-arrow:before {content: \"▸\";float: left;margin-right: 0.25em;color: #696969;}#sk-container-id-1 label.sk-toggleable__label-arrow:hover:before {color: black;}#sk-container-id-1 div.sk-estimator:hover label.sk-toggleable__label-arrow:before {color: black;}#sk-container-id-1 div.sk-toggleable__content {max-height: 0;max-width: 0;overflow: hidden;text-align: left;background-color: #f0f8ff;}#sk-container-id-1 div.sk-toggleable__content pre {margin: 0.2em;color: black;border-radius: 0.25em;background-color: #f0f8ff;}#sk-container-id-1 input.sk-toggleable__control:checked~div.sk-toggleable__content {max-height: 200px;max-width: 100%;overflow: auto;}#sk-container-id-1 input.sk-toggleable__control:checked~label.sk-toggleable__label-arrow:before {content: \"▾\";}#sk-container-id-1 div.sk-estimator input.sk-toggleable__control:checked~label.sk-toggleable__label {background-color: #d4ebff;}#sk-container-id-1 div.sk-label input.sk-toggleable__control:checked~label.sk-toggleable__label {background-color: #d4ebff;}#sk-container-id-1 input.sk-hidden--visually {border: 0;clip: rect(1px 1px 1px 1px);clip: rect(1px, 1px, 1px, 1px);height: 1px;margin: -1px;overflow: hidden;padding: 0;position: absolute;width: 1px;}#sk-container-id-1 div.sk-estimator {font-family: monospace;background-color: #f0f8ff;border: 1px dotted black;border-radius: 0.25em;box-sizing: border-box;margin-bottom: 0.5em;}#sk-container-id-1 div.sk-estimator:hover {background-color: #d4ebff;}#sk-container-id-1 div.sk-parallel-item::after {content: \"\";width: 100%;border-bottom: 1px solid gray;flex-grow: 1;}#sk-container-id-1 div.sk-label:hover label.sk-toggleable__label {background-color: #d4ebff;}#sk-container-id-1 div.sk-serial::before {content: \"\";position: absolute;border-left: 1px solid gray;box-sizing: border-box;top: 0;bottom: 0;left: 50%;z-index: 0;}#sk-container-id-1 div.sk-serial {display: flex;flex-direction: column;align-items: center;background-color: white;padding-right: 0.2em;padding-left: 0.2em;position: relative;}#sk-container-id-1 div.sk-item {position: relative;z-index: 1;}#sk-container-id-1 div.sk-parallel {display: flex;align-items: stretch;justify-content: center;background-color: white;position: relative;}#sk-container-id-1 div.sk-item::before, #sk-container-id-1 div.sk-parallel-item::before {content: \"\";position: absolute;border-left: 1px solid gray;box-sizing: border-box;top: 0;bottom: 0;left: 50%;z-index: -1;}#sk-container-id-1 div.sk-parallel-item {display: flex;flex-direction: column;z-index: 1;position: relative;background-color: white;}#sk-container-id-1 div.sk-parallel-item:first-child::after {align-self: flex-end;width: 50%;}#sk-container-id-1 div.sk-parallel-item:last-child::after {align-self: flex-start;width: 50%;}#sk-container-id-1 div.sk-parallel-item:only-child::after {width: 0;}#sk-container-id-1 div.sk-dashed-wrapped {border: 1px dashed gray;margin: 0 0.4em 0.5em 0.4em;box-sizing: border-box;padding-bottom: 0.4em;background-color: white;}#sk-container-id-1 div.sk-label label {font-family: monospace;font-weight: bold;display: inline-block;line-height: 1.2em;}#sk-container-id-1 div.sk-label-container {text-align: center;}#sk-container-id-1 div.sk-container {/* jupyter's `normalize.less` sets `[hidden] { display: none; }` but bootstrap.min.css set `[hidden] { display: none !important; }` so we also need the `!important` here to be able to override the default hidden behavior on the sphinx rendered scikit-learn.org. See: https://github.com/scikit-learn/scikit-learn/issues/21755 */display: inline-block !important;position: relative;}#sk-container-id-1 div.sk-text-repr-fallback {display: none;}</style><div id=\"sk-container-id-1\" class=\"sk-top-container\"><div class=\"sk-text-repr-fallback\"><pre>KMeans(init=&#x27;random&#x27;, n_clusters=10, n_init=&#x27;auto&#x27;, random_state=42)</pre><b>In a Jupyter environment, please rerun this cell to show the HTML representation or trust the notebook. <br />On GitHub, the HTML representation is unable to render, please try loading this page with nbviewer.org.</b></div><div class=\"sk-container\" hidden><div class=\"sk-item\"><div class=\"sk-estimator sk-toggleable\"><input class=\"sk-toggleable__control sk-hidden--visually\" id=\"sk-estimator-id-1\" type=\"checkbox\" checked><label for=\"sk-estimator-id-1\" class=\"sk-toggleable__label sk-toggleable__label-arrow\">KMeans</label><div class=\"sk-toggleable__content\"><pre>KMeans(init=&#x27;random&#x27;, n_clusters=10, n_init=&#x27;auto&#x27;, random_state=42)</pre></div></div></div></div></div>"
      ],
      "text/plain": [
       "KMeans(init='random', n_clusters=10, n_init='auto', random_state=42)"
      ]
     },
     "execution_count": 15,
     "metadata": {},
     "output_type": "execute_result"
    }
   ],
   "source": [
    "kmeans.fit(df[['2012','2016', '2019', '2022', 'Jan-19', 'Feb-19', 'Mar-19', 'Apr-19',\n",
    "       'May-19', 'Jun-19', 'Jul-19', 'Aug-19', 'Sep-19', 'Oct-19', 'Nov-19',\n",
    "       'Dec-19', 'Jan-22', 'Feb-22', 'Mar-22', 'Apr-22', 'May-22', 'Jun-22',\n",
    "       'Jul-22', 'Aug-22', 'Sept-22', 'Oct-22', 'Nov-22', 'Dec-22',\n",
    "       'Avg 2003-2022', 'Size  (acres)', 'Road Length in Park (Mi)',\n",
    "       'Percent of Road Paved', 'Total Parking Area (Acres)',\n",
    "       'Miles of Road/Acre', 'Acre of Parking/Acre','rural', 'suburban', 'urban', '1. Sporadic',\n",
    "       '2. Seasonal', '3. Sustained', '4. Unclear']])"
   ]
  },
  {
   "cell_type": "code",
   "execution_count": 16,
   "id": "505b2264",
   "metadata": {},
   "outputs": [
    {
     "data": {
      "text/html": [
       "<div>\n",
       "<style scoped>\n",
       "    .dataframe tbody tr th:only-of-type {\n",
       "        vertical-align: middle;\n",
       "    }\n",
       "\n",
       "    .dataframe tbody tr th {\n",
       "        vertical-align: top;\n",
       "    }\n",
       "\n",
       "    .dataframe thead th {\n",
       "        text-align: right;\n",
       "    }\n",
       "</style>\n",
       "<table border=\"1\" class=\"dataframe\">\n",
       "  <thead>\n",
       "    <tr style=\"text-align: right;\">\n",
       "      <th></th>\n",
       "      <th>NPS Full Name</th>\n",
       "      <th>Simplified Name</th>\n",
       "      <th>Park Alpha</th>\n",
       "      <th>2012</th>\n",
       "      <th>2016</th>\n",
       "      <th>2019</th>\n",
       "      <th>2022</th>\n",
       "      <th>Jan-19</th>\n",
       "      <th>Feb-19</th>\n",
       "      <th>Mar-19</th>\n",
       "      <th>...</th>\n",
       "      <th>FOTSC park</th>\n",
       "      <th>remove</th>\n",
       "      <th>rural</th>\n",
       "      <th>suburban</th>\n",
       "      <th>urban</th>\n",
       "      <th>1. Sporadic</th>\n",
       "      <th>2. Seasonal</th>\n",
       "      <th>3. Sustained</th>\n",
       "      <th>4. Unclear</th>\n",
       "      <th>Not in Database</th>\n",
       "    </tr>\n",
       "  </thead>\n",
       "  <tbody>\n",
       "    <tr>\n",
       "      <th>0</th>\n",
       "      <td>Abraham Lincoln Birthplace National Historical...</td>\n",
       "      <td>Abraham Lincoln Birthplace</td>\n",
       "      <td>ABLI</td>\n",
       "      <td>-0.351710</td>\n",
       "      <td>-0.329510</td>\n",
       "      <td>-0.336950</td>\n",
       "      <td>-0.304293</td>\n",
       "      <td>-0.325153</td>\n",
       "      <td>-0.315281</td>\n",
       "      <td>-0.312518</td>\n",
       "      <td>...</td>\n",
       "      <td>NaN</td>\n",
       "      <td>NaN</td>\n",
       "      <td>1</td>\n",
       "      <td>0</td>\n",
       "      <td>0</td>\n",
       "      <td>0</td>\n",
       "      <td>0</td>\n",
       "      <td>0</td>\n",
       "      <td>0</td>\n",
       "      <td>0</td>\n",
       "    </tr>\n",
       "    <tr>\n",
       "      <th>1</th>\n",
       "      <td>Acadia National Park</td>\n",
       "      <td>Acadia</td>\n",
       "      <td>ACAD</td>\n",
       "      <td>1.070530</td>\n",
       "      <td>1.344529</td>\n",
       "      <td>1.442126</td>\n",
       "      <td>1.789523</td>\n",
       "      <td>-0.239070</td>\n",
       "      <td>-0.285306</td>\n",
       "      <td>-0.269470</td>\n",
       "      <td>...</td>\n",
       "      <td>0.0</td>\n",
       "      <td>NaN</td>\n",
       "      <td>1</td>\n",
       "      <td>0</td>\n",
       "      <td>0</td>\n",
       "      <td>0</td>\n",
       "      <td>1</td>\n",
       "      <td>0</td>\n",
       "      <td>0</td>\n",
       "      <td>0</td>\n",
       "    </tr>\n",
       "    <tr>\n",
       "      <th>2</th>\n",
       "      <td>Adams National Historical Park</td>\n",
       "      <td>Adams</td>\n",
       "      <td>ADAM</td>\n",
       "      <td>-0.246991</td>\n",
       "      <td>-0.358698</td>\n",
       "      <td>-0.365215</td>\n",
       "      <td>-0.447209</td>\n",
       "      <td>-0.350118</td>\n",
       "      <td>-0.387986</td>\n",
       "      <td>-0.422642</td>\n",
       "      <td>...</td>\n",
       "      <td>NaN</td>\n",
       "      <td>NaN</td>\n",
       "      <td>0</td>\n",
       "      <td>0</td>\n",
       "      <td>1</td>\n",
       "      <td>0</td>\n",
       "      <td>0</td>\n",
       "      <td>0</td>\n",
       "      <td>0</td>\n",
       "      <td>0</td>\n",
       "    </tr>\n",
       "    <tr>\n",
       "      <th>3</th>\n",
       "      <td>African Burial Ground National Monument</td>\n",
       "      <td>African Burial Ground</td>\n",
       "      <td>AFBG</td>\n",
       "      <td>-0.409499</td>\n",
       "      <td>-0.442526</td>\n",
       "      <td>-0.443058</td>\n",
       "      <td>-0.437660</td>\n",
       "      <td>-0.349217</td>\n",
       "      <td>-0.372061</td>\n",
       "      <td>-0.413855</td>\n",
       "      <td>...</td>\n",
       "      <td>NaN</td>\n",
       "      <td>NaN</td>\n",
       "      <td>0</td>\n",
       "      <td>0</td>\n",
       "      <td>1</td>\n",
       "      <td>0</td>\n",
       "      <td>0</td>\n",
       "      <td>0</td>\n",
       "      <td>0</td>\n",
       "      <td>0</td>\n",
       "    </tr>\n",
       "    <tr>\n",
       "      <th>4</th>\n",
       "      <td>Agate Fossil Beds National Monument</td>\n",
       "      <td>Agate Fossil Beds</td>\n",
       "      <td>AGFO</td>\n",
       "      <td>-0.450879</td>\n",
       "      <td>-0.459520</td>\n",
       "      <td>-0.460170</td>\n",
       "      <td>-0.445226</td>\n",
       "      <td>-0.350470</td>\n",
       "      <td>-0.388959</td>\n",
       "      <td>-0.421503</td>\n",
       "      <td>...</td>\n",
       "      <td>NaN</td>\n",
       "      <td>NaN</td>\n",
       "      <td>1</td>\n",
       "      <td>0</td>\n",
       "      <td>0</td>\n",
       "      <td>0</td>\n",
       "      <td>0</td>\n",
       "      <td>0</td>\n",
       "      <td>0</td>\n",
       "      <td>0</td>\n",
       "    </tr>\n",
       "  </tbody>\n",
       "</table>\n",
       "<p>5 rows × 51 columns</p>\n",
       "</div>"
      ],
      "text/plain": [
       "                                       NPS Full Name  \\\n",
       "0  Abraham Lincoln Birthplace National Historical...   \n",
       "1                               Acadia National Park   \n",
       "2                     Adams National Historical Park   \n",
       "3            African Burial Ground National Monument   \n",
       "4                Agate Fossil Beds National Monument   \n",
       "\n",
       "              Simplified Name Park Alpha      2012      2016      2019  \\\n",
       "0  Abraham Lincoln Birthplace       ABLI -0.351710 -0.329510 -0.336950   \n",
       "1                      Acadia       ACAD  1.070530  1.344529  1.442126   \n",
       "2                       Adams       ADAM -0.246991 -0.358698 -0.365215   \n",
       "3       African Burial Ground       AFBG -0.409499 -0.442526 -0.443058   \n",
       "4           Agate Fossil Beds       AGFO -0.450879 -0.459520 -0.460170   \n",
       "\n",
       "       2022    Jan-19    Feb-19    Mar-19  ...  FOTSC park  remove  rural  \\\n",
       "0 -0.304293 -0.325153 -0.315281 -0.312518  ...         NaN     NaN      1   \n",
       "1  1.789523 -0.239070 -0.285306 -0.269470  ...         0.0     NaN      1   \n",
       "2 -0.447209 -0.350118 -0.387986 -0.422642  ...         NaN     NaN      0   \n",
       "3 -0.437660 -0.349217 -0.372061 -0.413855  ...         NaN     NaN      0   \n",
       "4 -0.445226 -0.350470 -0.388959 -0.421503  ...         NaN     NaN      1   \n",
       "\n",
       "   suburban  urban  1. Sporadic  2. Seasonal  3. Sustained  4. Unclear  \\\n",
       "0         0      0            0            0             0           0   \n",
       "1         0      0            0            1             0           0   \n",
       "2         0      1            0            0             0           0   \n",
       "3         0      1            0            0             0           0   \n",
       "4         0      0            0            0             0           0   \n",
       "\n",
       "   Not in Database  \n",
       "0                0  \n",
       "1                0  \n",
       "2                0  \n",
       "3                0  \n",
       "4                0  \n",
       "\n",
       "[5 rows x 51 columns]"
      ]
     },
     "execution_count": 16,
     "metadata": {},
     "output_type": "execute_result"
    }
   ],
   "source": [
    "df.head()"
   ]
  },
  {
   "cell_type": "code",
   "execution_count": 17,
   "id": "9dd3f484",
   "metadata": {},
   "outputs": [
    {
     "data": {
      "text/plain": [
       "array([7, 9, 1, 1, 7])"
      ]
     },
     "execution_count": 17,
     "metadata": {},
     "output_type": "execute_result"
    }
   ],
   "source": [
    "kmeans.labels_[:5]"
   ]
  },
  {
   "cell_type": "code",
   "execution_count": 18,
   "id": "523f36cb",
   "metadata": {},
   "outputs": [
    {
     "name": "stderr",
     "output_type": "stream",
     "text": [
      "C:\\Users\\Jonathan.Robison\\AppData\\Roaming\\Python\\Python39\\site-packages\\sklearn\\cluster\\_kmeans.py:1440: UserWarning: KMeans is known to have a memory leak on Windows with MKL, when there are less chunks than available threads. You can avoid it by setting the environment variable OMP_NUM_THREADS=2.\n",
      "  warnings.warn(\n",
      "C:\\Users\\Jonathan.Robison\\AppData\\Roaming\\Python\\Python39\\site-packages\\sklearn\\cluster\\_kmeans.py:1440: UserWarning: KMeans is known to have a memory leak on Windows with MKL, when there are less chunks than available threads. You can avoid it by setting the environment variable OMP_NUM_THREADS=2.\n",
      "  warnings.warn(\n",
      "C:\\Users\\Jonathan.Robison\\AppData\\Roaming\\Python\\Python39\\site-packages\\sklearn\\cluster\\_kmeans.py:1440: UserWarning: KMeans is known to have a memory leak on Windows with MKL, when there are less chunks than available threads. You can avoid it by setting the environment variable OMP_NUM_THREADS=2.\n",
      "  warnings.warn(\n",
      "C:\\Users\\Jonathan.Robison\\AppData\\Roaming\\Python\\Python39\\site-packages\\sklearn\\cluster\\_kmeans.py:1440: UserWarning: KMeans is known to have a memory leak on Windows with MKL, when there are less chunks than available threads. You can avoid it by setting the environment variable OMP_NUM_THREADS=2.\n",
      "  warnings.warn(\n",
      "C:\\Users\\Jonathan.Robison\\AppData\\Roaming\\Python\\Python39\\site-packages\\sklearn\\cluster\\_kmeans.py:1440: UserWarning: KMeans is known to have a memory leak on Windows with MKL, when there are less chunks than available threads. You can avoid it by setting the environment variable OMP_NUM_THREADS=2.\n",
      "  warnings.warn(\n",
      "C:\\Users\\Jonathan.Robison\\AppData\\Roaming\\Python\\Python39\\site-packages\\sklearn\\cluster\\_kmeans.py:1440: UserWarning: KMeans is known to have a memory leak on Windows with MKL, when there are less chunks than available threads. You can avoid it by setting the environment variable OMP_NUM_THREADS=2.\n",
      "  warnings.warn(\n",
      "C:\\Users\\Jonathan.Robison\\AppData\\Roaming\\Python\\Python39\\site-packages\\sklearn\\cluster\\_kmeans.py:1440: UserWarning: KMeans is known to have a memory leak on Windows with MKL, when there are less chunks than available threads. You can avoid it by setting the environment variable OMP_NUM_THREADS=2.\n",
      "  warnings.warn(\n",
      "C:\\Users\\Jonathan.Robison\\AppData\\Roaming\\Python\\Python39\\site-packages\\sklearn\\cluster\\_kmeans.py:1440: UserWarning: KMeans is known to have a memory leak on Windows with MKL, when there are less chunks than available threads. You can avoid it by setting the environment variable OMP_NUM_THREADS=2.\n",
      "  warnings.warn(\n",
      "C:\\Users\\Jonathan.Robison\\AppData\\Roaming\\Python\\Python39\\site-packages\\sklearn\\cluster\\_kmeans.py:1440: UserWarning: KMeans is known to have a memory leak on Windows with MKL, when there are less chunks than available threads. You can avoid it by setting the environment variable OMP_NUM_THREADS=2.\n",
      "  warnings.warn(\n",
      "C:\\Users\\Jonathan.Robison\\AppData\\Roaming\\Python\\Python39\\site-packages\\sklearn\\cluster\\_kmeans.py:1440: UserWarning: KMeans is known to have a memory leak on Windows with MKL, when there are less chunks than available threads. You can avoid it by setting the environment variable OMP_NUM_THREADS=2.\n",
      "  warnings.warn(\n"
     ]
    }
   ],
   "source": [
    "kmeans_kwargs = {\n",
    "       \"init\": \"random\",\n",
    "       \"n_init\": 10,\n",
    "       \"max_iter\": 300,\n",
    "     \"random_state\": 42,\n",
    "   }\n",
    "   \n",
    "# A list holds the SSE values for each k\n",
    "sse = []\n",
    "for k in range(1, 11):\n",
    "    kmeans = KMeans(n_clusters=k, **kmeans_kwargs)\n",
    "    kmeans.fit(df[['2012','2016', '2019', '2022', 'Jan-19', 'Feb-19', 'Mar-19', 'Apr-19',\n",
    "       'May-19', 'Jun-19', 'Jul-19', 'Aug-19', 'Sep-19', 'Oct-19', 'Nov-19',\n",
    "       'Dec-19', 'Jan-22', 'Feb-22', 'Mar-22', 'Apr-22', 'May-22', 'Jun-22',\n",
    "       'Jul-22', 'Aug-22', 'Sept-22', 'Oct-22', 'Nov-22', 'Dec-22',\n",
    "       'Avg 2003-2022', 'Size  (acres)', 'Road Length in Park (Mi)',\n",
    "       'Percent of Road Paved', 'Total Parking Area (Acres)',\n",
    "       'Miles of Road/Acre', 'Acre of Parking/Acre', 'rural', 'suburban', 'urban', '1. Sporadic',\n",
    "       '2. Seasonal', '3. Sustained', '4. Unclear']])\n",
    "    sse.append(kmeans.inertia_)"
   ]
  },
  {
   "cell_type": "code",
   "execution_count": 19,
   "id": "6ea0c95b",
   "metadata": {},
   "outputs": [
    {
     "data": {
      "text/plain": [
       "[13955.670103092785,\n",
       " 7803.158024366375,\n",
       " 5297.553017524522,\n",
       " 4609.2156062066915,\n",
       " 4248.793618172839,\n",
       " 3975.3845679540536,\n",
       " 3600.7653752605092,\n",
       " 3473.7766251235053,\n",
       " 3253.1578525788746,\n",
       " 3050.8485509089164]"
      ]
     },
     "execution_count": 19,
     "metadata": {},
     "output_type": "execute_result"
    }
   ],
   "source": [
    "sse"
   ]
  },
  {
   "cell_type": "code",
   "execution_count": 20,
   "id": "757bc9fe",
   "metadata": {},
   "outputs": [
    {
     "data": {
      "text/plain": [
       "[<matplotlib.lines.Line2D at 0x2b326aaef70>]"
      ]
     },
     "execution_count": 20,
     "metadata": {},
     "output_type": "execute_result"
    },
    {
     "data": {
      "image/png": "[encoded data removed]",
      "text/plain": [
       "<Figure size 432x288 with 1 Axes>"
      ]
     },
     "metadata": {
      "needs_background": "light"
     },
     "output_type": "display_data"
    }
   ],
   "source": [
    "plt.plot(sse)"
   ]
  },
  {
   "cell_type": "code",
   "execution_count": null,
   "id": "81e63512",
   "metadata": {},
   "outputs": [],
   "source": [
    "kmeans = KMeans(\n",
    "    init=\"random\",\n",
    "     n_clusters=5,\n",
    "     n_init=10,\n",
    "     max_iter=300,\n",
    "     random_state=42\n",
    ")\n",
    "kmeans.fit(df[['2012','2016', '2019', '2022', 'Jan-19', 'Feb-19', 'Mar-19', 'Apr-19',\n",
    "       'May-19', 'Jun-19', 'Jul-19', 'Aug-19', 'Sep-19', 'Oct-19', 'Nov-19',\n",
    "       'Dec-19', 'Jan-22', 'Feb-22', 'Mar-22', 'Apr-22', 'May-22', 'Jun-22',\n",
    "       'Jul-22', 'Aug-22', 'Sept-22', 'Oct-22', 'Nov-22', 'Dec-22',\n",
    "       'Avg 2003-2022', 'Size  (acres)', 'Road Length in Park (Mi)',\n",
    "       'Percent of Road Paved', 'Total Parking Area (Acres)',\n",
    "       'Miles of Road/Acre', 'Acre of Parking/Acre', 'rural', 'suburban', 'urban', '1. Sporadic',\n",
    "       '2. Seasonal', '3. Sustained', '4. Unclear']])"
   ]
  },
  {
   "cell_type": "code",
   "execution_count": null,
   "id": "33536c92",
   "metadata": {},
   "outputs": [],
   "source": [
    "plt.hist(kmeans.labels_)\n",
    "plt.title(\"Histogram of K-Means Clusters\")\n",
    "plt.xlabel(\"\")\n",
    "plt.ylabel(\"Number of Parks\")\n",
    "plt.show()"
   ]
  },
  {
   "cell_type": "code",
   "execution_count": null,
   "id": "ddba9586",
   "metadata": {},
   "outputs": [],
   "source": [
    "df['cluster'] = kmeans.labels_"
   ]
  },
  {
   "cell_type": "code",
   "execution_count": null,
   "id": "03cea993",
   "metadata": {},
   "outputs": [],
   "source": [
    "df.head()"
   ]
  },
  {
   "cell_type": "code",
   "execution_count": null,
   "id": "2cb23b92",
   "metadata": {},
   "outputs": [],
   "source": [
    "df.to_excel(r\"C:\\Users\\Jonathan.Robison\\DOT OST\\volpe-proj-VU16A100 - Emerging Mobility\\Subgroup Support\\Traveler Information Technologies\\Enhancing Trip Planning Information\\NPS Park cluster result 11_21.xlsx\")"
   ]
  },
  {
   "cell_type": "code",
   "execution_count": null,
   "id": "f38967a2",
   "metadata": {},
   "outputs": [],
   "source": [
    "df = df.sort_values(by=['cluster']).reset_index()"
   ]
  },
  {
   "cell_type": "code",
   "execution_count": null,
   "id": "e27baa65",
   "metadata": {},
   "outputs": [],
   "source": [
    "print(len(df.loc[df['cluster']==0]), \" in cluster 0\")\n",
    "df.loc[df['cluster']==0]"
   ]
  },
  {
   "cell_type": "code",
   "execution_count": null,
   "id": "caca1835",
   "metadata": {},
   "outputs": [],
   "source": [
    "print(len(df.loc[df['cluster']==1]), \" in cluster 1\")\n",
    "df.loc[df['cluster']==1]"
   ]
  },
  {
   "cell_type": "code",
   "execution_count": null,
   "id": "6e213821",
   "metadata": {},
   "outputs": [],
   "source": [
    "print(len(df.loc[df['cluster']==2]), \" in cluster 2\")\n",
    "df.loc[df['cluster']==2]"
   ]
  },
  {
   "cell_type": "code",
   "execution_count": null,
   "id": "a08a39b7",
   "metadata": {},
   "outputs": [],
   "source": [
    "print(len(df.loc[df['cluster']==3]), \" in cluster 3\")\n",
    "df.loc[df['cluster']==3]"
   ]
  },
  {
   "cell_type": "code",
   "execution_count": null,
   "id": "b1ea1451",
   "metadata": {},
   "outputs": [],
   "source": [
    "print(len(df.loc[df['cluster']==4]), \" in cluster 4\")\n",
    "df.loc[df['cluster']==4]"
   ]
  },
  {
   "cell_type": "code",
   "execution_count": null,
   "id": "32ca1790",
   "metadata": {
    "scrolled": false
   },
   "outputs": [],
   "source": [
    "print(len(df.loc[df['cluster']==5]), \" in cluster 5\")\n",
    "df.loc[df['cluster']==5]"
   ]
  },
  {
   "cell_type": "code",
   "execution_count": null,
   "id": "1fe15a36",
   "metadata": {},
   "outputs": [],
   "source": [
    "print(len(df.loc[df['cluster']==6]), \" in cluster 6\")\n",
    "df.loc[df['cluster']==6]"
   ]
  },
  {
   "cell_type": "code",
   "execution_count": null,
   "id": "98587737",
   "metadata": {},
   "outputs": [],
   "source": [
    "print(len(df.loc[df['cluster']==7]), \" in cluster 7\")\n",
    "df.loc[df['cluster']==7]"
   ]
  },
  {
   "cell_type": "code",
   "execution_count": null,
   "id": "7fb8ee2d",
   "metadata": {},
   "outputs": [],
   "source": []
  }
 ],
 "metadata": {
  "kernelspec": {
   "display_name": "Python 3",
   "language": "python",
   "name": "python3"
  },
  "language_info": {
   "codemirror_mode": {
    "name": "ipython",
    "version": 3
   },
   "file_extension": ".py",
   "mimetype": "text/x-python",
   "name": "python",
   "nbconvert_exporter": "python",
   "pygments_lexer": "ipython3",
   "version": "3.9.11"
  }
 },
 "nbformat": 4,
 "nbformat_minor": 5
}
