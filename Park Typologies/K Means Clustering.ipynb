{
 "cells": [
  {
   "cell_type": "markdown",
   "id": "7341ba53",
   "metadata": {},
   "source": [
    "### K-Means Clustering to Create Park Typologies\n",
    "\n",
    "#### Authors: Eric Englin, Sophie Abo, Mac Lang\n",
    "#### Date: 7/14/23\n",
    "\n",
    "\n",
    "**Description**\n",
    "This code uses a park-level dataset of 2021 recreation visits, size, settings (urban, rural, suburban), and visitation patterns (sporadic, seasonal, sustained). The code uses k-means clustering to create park categories that can be interpreted for typologies. "
   ]
  },
  {
   "cell_type": "code",
   "execution_count": 1,
   "id": "20ac253e",
   "metadata": {},
   "outputs": [],
   "source": [
    "import pandas as pd\n",
    "import matplotlib.pyplot as plt\n",
    "from kneed import KneeLocator\n",
    "from sklearn.datasets import make_blobs\n",
    "from sklearn.cluster import KMeans\n",
    "from sklearn.metrics import silhouette_score\n",
    "from sklearn.preprocessing import StandardScaler\n"
   ]
  },
  {
   "cell_type": "code",
   "execution_count": 2,
   "id": "2fd33872",
   "metadata": {},
   "outputs": [],
   "source": [
    "df = pd.read_excel(r\"C:\\Users\\Jonathan.Robison\\DOT OST\\volpe-proj-VU16A100 - Emerging Mobility\\Subgroup Support\\Traveler Information Technologies\\Enhancing Trip Planning Information\\NPS Dataset Alt 23.12.07.xlsx\")"
   ]
  },
  {
   "cell_type": "code",
   "execution_count": 3,
   "id": "3389cbbb",
   "metadata": {},
   "outputs": [
    {
     "data": {
      "text/html": [
       "<div>\n",
       "<style scoped>\n",
       "    .dataframe tbody tr th:only-of-type {\n",
       "        vertical-align: middle;\n",
       "    }\n",
       "\n",
       "    .dataframe tbody tr th {\n",
       "        vertical-align: top;\n",
       "    }\n",
       "\n",
       "    .dataframe thead th {\n",
       "        text-align: right;\n",
       "    }\n",
       "</style>\n",
       "<table border=\"1\" class=\"dataframe\">\n",
       "  <thead>\n",
       "    <tr style=\"text-align: right;\">\n",
       "      <th></th>\n",
       "      <th>NPS Full Name</th>\n",
       "      <th>Simplified Name</th>\n",
       "      <th>Park Alpha</th>\n",
       "      <th>Setting</th>\n",
       "      <th>2012</th>\n",
       "      <th>2016</th>\n",
       "      <th>2019</th>\n",
       "      <th>2022</th>\n",
       "      <th>Jan-19</th>\n",
       "      <th>Feb-19</th>\n",
       "      <th>...</th>\n",
       "      <th>Road Length in Park (Mi)</th>\n",
       "      <th>Percent of Road Paved</th>\n",
       "      <th>Total Parking Area (Acres)</th>\n",
       "      <th>Miles of Road/Acre</th>\n",
       "      <th>Acre of Parking/Acre</th>\n",
       "      <th>Access Type</th>\n",
       "      <th>Recent Trans Data Collection Study</th>\n",
       "      <th>Hrly VUStats</th>\n",
       "      <th>FOTSC park</th>\n",
       "      <th>remove</th>\n",
       "    </tr>\n",
       "  </thead>\n",
       "  <tbody>\n",
       "    <tr>\n",
       "      <th>0</th>\n",
       "      <td>Abraham Lincoln Birthplace National Historical...</td>\n",
       "      <td>Abraham Lincoln Birthplace</td>\n",
       "      <td>ABLI</td>\n",
       "      <td>rural</td>\n",
       "      <td>169515</td>\n",
       "      <td>252495</td>\n",
       "      <td>238226</td>\n",
       "      <td>265707</td>\n",
       "      <td>1939</td>\n",
       "      <td>6534</td>\n",
       "      <td>...</td>\n",
       "      <td>0.841</td>\n",
       "      <td>100.000000</td>\n",
       "      <td>1.503191</td>\n",
       "      <td>0.002441</td>\n",
       "      <td>0.004363</td>\n",
       "      <td>NaN</td>\n",
       "      <td>NaN</td>\n",
       "      <td>NaN</td>\n",
       "      <td>NaN</td>\n",
       "      <td>NaN</td>\n",
       "    </tr>\n",
       "    <tr>\n",
       "      <th>1</th>\n",
       "      <td>Acadia National Park</td>\n",
       "      <td>Acadia</td>\n",
       "      <td>ACAD</td>\n",
       "      <td>rural</td>\n",
       "      <td>2431052</td>\n",
       "      <td>3303393</td>\n",
       "      <td>3437286</td>\n",
       "      <td>3970260</td>\n",
       "      <td>8532</td>\n",
       "      <td>9154</td>\n",
       "      <td>...</td>\n",
       "      <td>95.109</td>\n",
       "      <td>98.962243</td>\n",
       "      <td>40.037856</td>\n",
       "      <td>0.001938</td>\n",
       "      <td>0.000816</td>\n",
       "      <td>NaN</td>\n",
       "      <td>NaN</td>\n",
       "      <td>NaN</td>\n",
       "      <td>1.0</td>\n",
       "      <td>NaN</td>\n",
       "    </tr>\n",
       "    <tr>\n",
       "      <th>2</th>\n",
       "      <td>Adams National Historical Park</td>\n",
       "      <td>Adams</td>\n",
       "      <td>ADAM</td>\n",
       "      <td>urban</td>\n",
       "      <td>336031</td>\n",
       "      <td>199301</td>\n",
       "      <td>187400</td>\n",
       "      <td>12848</td>\n",
       "      <td>27</td>\n",
       "      <td>179</td>\n",
       "      <td>...</td>\n",
       "      <td>0.000</td>\n",
       "      <td>0.000000</td>\n",
       "      <td>0.000000</td>\n",
       "      <td>0.000000</td>\n",
       "      <td>0.000000</td>\n",
       "      <td>NaN</td>\n",
       "      <td>NaN</td>\n",
       "      <td>NaN</td>\n",
       "      <td>NaN</td>\n",
       "      <td>NaN</td>\n",
       "    </tr>\n",
       "    <tr>\n",
       "      <th>3</th>\n",
       "      <td>African Burial Ground National Monument</td>\n",
       "      <td>African Burial Ground</td>\n",
       "      <td>AFBG</td>\n",
       "      <td>urban</td>\n",
       "      <td>77624</td>\n",
       "      <td>46526</td>\n",
       "      <td>47427</td>\n",
       "      <td>29743</td>\n",
       "      <td>96</td>\n",
       "      <td>1571</td>\n",
       "      <td>...</td>\n",
       "      <td>0.000</td>\n",
       "      <td>0.000000</td>\n",
       "      <td>0.000000</td>\n",
       "      <td>0.000000</td>\n",
       "      <td>0.000000</td>\n",
       "      <td>NaN</td>\n",
       "      <td>NaN</td>\n",
       "      <td>NaN</td>\n",
       "      <td>NaN</td>\n",
       "      <td>NaN</td>\n",
       "    </tr>\n",
       "    <tr>\n",
       "      <th>4</th>\n",
       "      <td>Agate Fossil Beds National Monument</td>\n",
       "      <td>Agate Fossil Beds</td>\n",
       "      <td>AGFO</td>\n",
       "      <td>rural</td>\n",
       "      <td>11824</td>\n",
       "      <td>15555</td>\n",
       "      <td>16657</td>\n",
       "      <td>16357</td>\n",
       "      <td>0</td>\n",
       "      <td>94</td>\n",
       "      <td>...</td>\n",
       "      <td>3.882</td>\n",
       "      <td>100.000000</td>\n",
       "      <td>1.922567</td>\n",
       "      <td>0.001270</td>\n",
       "      <td>0.000629</td>\n",
       "      <td>NaN</td>\n",
       "      <td>NaN</td>\n",
       "      <td>NaN</td>\n",
       "      <td>NaN</td>\n",
       "      <td>NaN</td>\n",
       "    </tr>\n",
       "  </tbody>\n",
       "</table>\n",
       "<p>5 rows × 44 columns</p>\n",
       "</div>"
      ],
      "text/plain": [
       "                                       NPS Full Name  \\\n",
       "0  Abraham Lincoln Birthplace National Historical...   \n",
       "1                               Acadia National Park   \n",
       "2                     Adams National Historical Park   \n",
       "3            African Burial Ground National Monument   \n",
       "4                Agate Fossil Beds National Monument   \n",
       "\n",
       "              Simplified Name Park Alpha Setting     2012     2016     2019  \\\n",
       "0  Abraham Lincoln Birthplace       ABLI   rural   169515   252495   238226   \n",
       "1                      Acadia       ACAD   rural  2431052  3303393  3437286   \n",
       "2                       Adams       ADAM   urban   336031   199301   187400   \n",
       "3       African Burial Ground       AFBG   urban    77624    46526    47427   \n",
       "4           Agate Fossil Beds       AGFO   rural    11824    15555    16657   \n",
       "\n",
       "      2022  Jan-19  Feb-19  ...  Road Length in Park (Mi)  \\\n",
       "0   265707    1939    6534  ...                     0.841   \n",
       "1  3970260    8532    9154  ...                    95.109   \n",
       "2    12848      27     179  ...                     0.000   \n",
       "3    29743      96    1571  ...                     0.000   \n",
       "4    16357       0      94  ...                     3.882   \n",
       "\n",
       "   Percent of Road Paved  Total Parking Area (Acres)  Miles of Road/Acre  \\\n",
       "0             100.000000                    1.503191            0.002441   \n",
       "1              98.962243                   40.037856            0.001938   \n",
       "2               0.000000                    0.000000            0.000000   \n",
       "3               0.000000                    0.000000            0.000000   \n",
       "4             100.000000                    1.922567            0.001270   \n",
       "\n",
       "   Acre of Parking/Acre  Access Type  Recent Trans Data Collection Study  \\\n",
       "0              0.004363          NaN                                 NaN   \n",
       "1              0.000816          NaN                                 NaN   \n",
       "2              0.000000          NaN                                 NaN   \n",
       "3              0.000000          NaN                                 NaN   \n",
       "4              0.000629          NaN                                 NaN   \n",
       "\n",
       "   Hrly VUStats  FOTSC park  remove  \n",
       "0           NaN         NaN     NaN  \n",
       "1           NaN         1.0     NaN  \n",
       "2           NaN         NaN     NaN  \n",
       "3           NaN         NaN     NaN  \n",
       "4           NaN         NaN     NaN  \n",
       "\n",
       "[5 rows x 44 columns]"
      ]
     },
     "execution_count": 3,
     "metadata": {},
     "output_type": "execute_result"
    }
   ],
   "source": [
    "df.head()"
   ]
  },
  {
   "cell_type": "code",
   "execution_count": 4,
   "id": "9cc58a56",
   "metadata": {},
   "outputs": [
    {
     "name": "stdout",
     "output_type": "stream",
     "text": [
      "Index([                     'NPS Full Name',\n",
      "                          'Simplified Name',\n",
      "                               'Park Alpha',\n",
      "                                  'Setting',\n",
      "                                       2012,\n",
      "                                       2016,\n",
      "                                       2019,\n",
      "                                       2022,\n",
      "                                   'Jan-19',\n",
      "                                   'Feb-19',\n",
      "                                   'Mar-19',\n",
      "                                   'Apr-19',\n",
      "                                   'May-19',\n",
      "                                   'Jun-19',\n",
      "                                   'Jul-19',\n",
      "                                   'Aug-19',\n",
      "                                   'Sep-19',\n",
      "                                   'Oct-19',\n",
      "                                   'Nov-19',\n",
      "                                   'Dec-19',\n",
      "                                   'Jan-22',\n",
      "                                   'Feb-22',\n",
      "                                   'Mar-22',\n",
      "                                   'Apr-22',\n",
      "                                   'May-22',\n",
      "                                   'Jun-22',\n",
      "                                   'Jul-22',\n",
      "                                   'Aug-22',\n",
      "                                  'Sept-22',\n",
      "                                   'Oct-22',\n",
      "                                   'Nov-22',\n",
      "                                   'Dec-22',\n",
      "                            'Avg 2003-2022',\n",
      "                            'Size  (acres)',\n",
      "                 'Road Length in Park (Mi)',\n",
      "                    'Percent of Road Paved',\n",
      "               'Total Parking Area (Acres)',\n",
      "                       'Miles of Road/Acre',\n",
      "                     'Acre of Parking/Acre',\n",
      "                              'Access Type',\n",
      "       'Recent Trans Data Collection Study',\n",
      "                             'Hrly VUStats',\n",
      "                               'FOTSC park',\n",
      "                                   'remove'],\n",
      "      dtype='object')\n"
     ]
    }
   ],
   "source": [
    "column_titles = df.columns\n",
    "print(column_titles)"
   ]
  },
  {
   "cell_type": "code",
   "execution_count": 5,
   "id": "ffb40c87",
   "metadata": {},
   "outputs": [
    {
     "name": "stdout",
     "output_type": "stream",
     "text": [
      "\n",
      "DataFrame after renaming columns:\n",
      "                                         NPS Full Name  \\\n",
      "0    Abraham Lincoln Birthplace National Historical...   \n",
      "1                                 Acadia National Park   \n",
      "2                       Adams National Historical Park   \n",
      "3              African Burial Ground National Monument   \n",
      "4                  Agate Fossil Beds National Monument   \n",
      "..                                                 ...   \n",
      "383                               World War I Memorial   \n",
      "384                          Yellowstone National Park   \n",
      "385                             Yosemite National Park   \n",
      "386             Yukon-Charley Rivers National Preserve   \n",
      "387                                 Zion National Park   \n",
      "\n",
      "                Simplified Name Park Alpha Setting     2012     2016     2019  \\\n",
      "0    Abraham Lincoln Birthplace       ABLI   rural   169515   252495   238226   \n",
      "1                        Acadia       ACAD   rural  2431052  3303393  3437286   \n",
      "2                         Adams       ADAM   urban   336031   199301   187400   \n",
      "3         African Burial Ground       AFBG   urban    77624    46526    47427   \n",
      "4             Agate Fossil Beds       AGFO   rural    11824    15555    16657   \n",
      "..                          ...        ...     ...      ...      ...      ...   \n",
      "383                 World War I       WWIM   urban        0        0        0   \n",
      "384                 Yellowstone       YELL   rural  3447729  4257177  4020288   \n",
      "385                    Yosemite       YOSE   rural  3853404  5028868  4422861   \n",
      "386        Yukon-Charley Rivers       YUCH   rural     1393     1146     1114   \n",
      "387                        Zion       ZION   rural  2973607  4295127  4488268   \n",
      "\n",
      "        2022  Jan-19  Feb-19  ...  Road Length in Park (Mi)  \\\n",
      "0     265707    1939    6534  ...                     0.841   \n",
      "1    3970260    8532    9154  ...                    95.109   \n",
      "2      12848      27     179  ...                     0.000   \n",
      "3      29743      96    1571  ...                     0.000   \n",
      "4      16357       0      94  ...                     3.882   \n",
      "..       ...     ...     ...  ...                       ...   \n",
      "383   848634       0       0  ...                     0.000   \n",
      "384  3290242   33896   31650  ...                   395.730   \n",
      "385  3667550  116746  111665  ...                   202.262   \n",
      "386      744       6      72  ...                     0.000   \n",
      "387  4692417   98828  102269  ...                    77.986   \n",
      "\n",
      "     Percent of Road Paved  Total Parking Area (Acres)  Miles of Road/Acre  \\\n",
      "0               100.000000                    1.503191            0.002441   \n",
      "1                98.962243                   40.037856            0.001938   \n",
      "2                 0.000000                    0.000000            0.000000   \n",
      "3                 0.000000                    0.000000            0.000000   \n",
      "4               100.000000                    1.922567            0.001270   \n",
      "..                     ...                         ...                 ...   \n",
      "383               0.000000                    0.000000            0.000000   \n",
      "384              98.989715                  169.463545            0.000178   \n",
      "385              96.796729                   79.835813            0.000266   \n",
      "386               0.000000                    0.000000            0.000000   \n",
      "387             100.000000                   25.424426            0.000530   \n",
      "\n",
      "     Acre of Parking/Acre  Access Type  Recent Trans Data Collection Study  \\\n",
      "0                0.004363          NaN                                 NaN   \n",
      "1                0.000816          NaN                                 NaN   \n",
      "2                0.000000          NaN                                 NaN   \n",
      "3                0.000000          NaN                                 NaN   \n",
      "4                0.000629          NaN                                 NaN   \n",
      "..                    ...          ...                                 ...   \n",
      "383              0.000000          NaN                                 NaN   \n",
      "384              0.000076          NaN                                 NaN   \n",
      "385              0.000105          NaN                                 NaN   \n",
      "386              0.000000          NaN                                 NaN   \n",
      "387              0.000173          NaN                                 NaN   \n",
      "\n",
      "     Hrly VUStats  FOTSC park  remove  \n",
      "0             NaN         NaN     NaN  \n",
      "1             NaN         1.0     NaN  \n",
      "2             NaN         NaN     NaN  \n",
      "3             NaN         NaN     NaN  \n",
      "4             NaN         NaN     NaN  \n",
      "..            ...         ...     ...  \n",
      "383           NaN         NaN     NaN  \n",
      "384           NaN         1.0     NaN  \n",
      "385           NaN         1.0     NaN  \n",
      "386           NaN         NaN     NaN  \n",
      "387           NaN         1.0     NaN  \n",
      "\n",
      "[388 rows x 44 columns]\n"
     ]
    }
   ],
   "source": [
    "df.rename(columns={2012: '2012', 2016:'2016', 2019:'2019', 2022:'2022'},\n",
    "    inplace=True)\n",
    "\n",
    "print(\"\\nDataFrame after renaming columns:\")\n",
    "print(df)"
   ]
  },
  {
   "cell_type": "code",
   "execution_count": 6,
   "id": "914d5b51",
   "metadata": {},
   "outputs": [
    {
     "name": "stdout",
     "output_type": "stream",
     "text": [
      "Index(['NPS Full Name', 'Simplified Name', 'Park Alpha', 'Setting', '2012',\n",
      "       '2016', '2019', '2022', 'Jan-19', 'Feb-19', 'Mar-19', 'Apr-19',\n",
      "       'May-19', 'Jun-19', 'Jul-19', 'Aug-19', 'Sep-19', 'Oct-19', 'Nov-19',\n",
      "       'Dec-19', 'Jan-22', 'Feb-22', 'Mar-22', 'Apr-22', 'May-22', 'Jun-22',\n",
      "       'Jul-22', 'Aug-22', 'Sept-22', 'Oct-22', 'Nov-22', 'Dec-22',\n",
      "       'Avg 2003-2022', 'Size  (acres)', 'Road Length in Park (Mi)',\n",
      "       'Percent of Road Paved', 'Total Parking Area (Acres)',\n",
      "       'Miles of Road/Acre', 'Acre of Parking/Acre', 'Access Type',\n",
      "       'Recent Trans Data Collection Study', 'Hrly VUStats', 'FOTSC park',\n",
      "       'remove'],\n",
      "      dtype='object')\n"
     ]
    }
   ],
   "source": [
    "column_titles = df.columns\n",
    "print(column_titles)"
   ]
  },
  {
   "cell_type": "code",
   "execution_count": 7,
   "id": "f3bd6a3a",
   "metadata": {},
   "outputs": [],
   "source": [
    "kmeans = KMeans(\n",
    "    init=\"random\",\n",
    "     n_clusters=10,\n",
    "     n_init='auto',\n",
    "     max_iter=300,\n",
    "     random_state=42\n",
    ")\n"
   ]
  },
  {
   "cell_type": "code",
   "execution_count": 8,
   "id": "a867b4e1",
   "metadata": {},
   "outputs": [],
   "source": [
    "one_hot = pd.get_dummies(df['Setting'])\n",
    "df = df.drop('Setting',axis = 1)\n",
    "# Join the encoded df\n",
    "df = df.join(one_hot)"
   ]
  },
  {
   "cell_type": "code",
   "execution_count": 9,
   "id": "fb36348e",
   "metadata": {},
   "outputs": [],
   "source": [
    "df = df.loc[df['remove']!=\"Yes\"]"
   ]
  },
  {
   "cell_type": "code",
   "execution_count": 20,
   "id": "d5b740fb",
   "metadata": {},
   "outputs": [
    {
     "name": "stderr",
     "output_type": "stream",
     "text": [
      "C:\\Users\\Jonathan.Robison\\AppData\\Roaming\\Python\\Python39\\site-packages\\sklearn\\cluster\\_kmeans.py:1440: UserWarning: KMeans is known to have a memory leak on Windows with MKL, when there are less chunks than available threads. You can avoid it by setting the environment variable OMP_NUM_THREADS=2.\n",
      "  warnings.warn(\n"
     ]
    },
    {
     "data": {
      "text/html": [
       "<style>#sk-container-id-3 {color: black;}#sk-container-id-3 pre{padding: 0;}#sk-container-id-3 div.sk-toggleable {background-color: white;}#sk-container-id-3 label.sk-toggleable__label {cursor: pointer;display: block;width: 100%;margin-bottom: 0;padding: 0.3em;box-sizing: border-box;text-align: center;}#sk-container-id-3 label.sk-toggleable__label-arrow:before {content: \"▸\";float: left;margin-right: 0.25em;color: #696969;}#sk-container-id-3 label.sk-toggleable__label-arrow:hover:before {color: black;}#sk-container-id-3 div.sk-estimator:hover label.sk-toggleable__label-arrow:before {color: black;}#sk-container-id-3 div.sk-toggleable__content {max-height: 0;max-width: 0;overflow: hidden;text-align: left;background-color: #f0f8ff;}#sk-container-id-3 div.sk-toggleable__content pre {margin: 0.2em;color: black;border-radius: 0.25em;background-color: #f0f8ff;}#sk-container-id-3 input.sk-toggleable__control:checked~div.sk-toggleable__content {max-height: 200px;max-width: 100%;overflow: auto;}#sk-container-id-3 input.sk-toggleable__control:checked~label.sk-toggleable__label-arrow:before {content: \"▾\";}#sk-container-id-3 div.sk-estimator input.sk-toggleable__control:checked~label.sk-toggleable__label {background-color: #d4ebff;}#sk-container-id-3 div.sk-label input.sk-toggleable__control:checked~label.sk-toggleable__label {background-color: #d4ebff;}#sk-container-id-3 input.sk-hidden--visually {border: 0;clip: rect(1px 1px 1px 1px);clip: rect(1px, 1px, 1px, 1px);height: 1px;margin: -1px;overflow: hidden;padding: 0;position: absolute;width: 1px;}#sk-container-id-3 div.sk-estimator {font-family: monospace;background-color: #f0f8ff;border: 1px dotted black;border-radius: 0.25em;box-sizing: border-box;margin-bottom: 0.5em;}#sk-container-id-3 div.sk-estimator:hover {background-color: #d4ebff;}#sk-container-id-3 div.sk-parallel-item::after {content: \"\";width: 100%;border-bottom: 1px solid gray;flex-grow: 1;}#sk-container-id-3 div.sk-label:hover label.sk-toggleable__label {background-color: #d4ebff;}#sk-container-id-3 div.sk-serial::before {content: \"\";position: absolute;border-left: 1px solid gray;box-sizing: border-box;top: 0;bottom: 0;left: 50%;z-index: 0;}#sk-container-id-3 div.sk-serial {display: flex;flex-direction: column;align-items: center;background-color: white;padding-right: 0.2em;padding-left: 0.2em;position: relative;}#sk-container-id-3 div.sk-item {position: relative;z-index: 1;}#sk-container-id-3 div.sk-parallel {display: flex;align-items: stretch;justify-content: center;background-color: white;position: relative;}#sk-container-id-3 div.sk-item::before, #sk-container-id-3 div.sk-parallel-item::before {content: \"\";position: absolute;border-left: 1px solid gray;box-sizing: border-box;top: 0;bottom: 0;left: 50%;z-index: -1;}#sk-container-id-3 div.sk-parallel-item {display: flex;flex-direction: column;z-index: 1;position: relative;background-color: white;}#sk-container-id-3 div.sk-parallel-item:first-child::after {align-self: flex-end;width: 50%;}#sk-container-id-3 div.sk-parallel-item:last-child::after {align-self: flex-start;width: 50%;}#sk-container-id-3 div.sk-parallel-item:only-child::after {width: 0;}#sk-container-id-3 div.sk-dashed-wrapped {border: 1px dashed gray;margin: 0 0.4em 0.5em 0.4em;box-sizing: border-box;padding-bottom: 0.4em;background-color: white;}#sk-container-id-3 div.sk-label label {font-family: monospace;font-weight: bold;display: inline-block;line-height: 1.2em;}#sk-container-id-3 div.sk-label-container {text-align: center;}#sk-container-id-3 div.sk-container {/* jupyter's `normalize.less` sets `[hidden] { display: none; }` but bootstrap.min.css set `[hidden] { display: none !important; }` so we also need the `!important` here to be able to override the default hidden behavior on the sphinx rendered scikit-learn.org. See: https://github.com/scikit-learn/scikit-learn/issues/21755 */display: inline-block !important;position: relative;}#sk-container-id-3 div.sk-text-repr-fallback {display: none;}</style><div id=\"sk-container-id-3\" class=\"sk-top-container\"><div class=\"sk-text-repr-fallback\"><pre>KMeans(init=&#x27;random&#x27;, n_clusters=2, n_init=10, random_state=42)</pre><b>In a Jupyter environment, please rerun this cell to show the HTML representation or trust the notebook. <br />On GitHub, the HTML representation is unable to render, please try loading this page with nbviewer.org.</b></div><div class=\"sk-container\" hidden><div class=\"sk-item\"><div class=\"sk-estimator sk-toggleable\"><input class=\"sk-toggleable__control sk-hidden--visually\" id=\"sk-estimator-id-3\" type=\"checkbox\" checked><label for=\"sk-estimator-id-3\" class=\"sk-toggleable__label sk-toggleable__label-arrow\">KMeans</label><div class=\"sk-toggleable__content\"><pre>KMeans(init=&#x27;random&#x27;, n_clusters=2, n_init=10, random_state=42)</pre></div></div></div></div></div>"
      ],
      "text/plain": [
       "KMeans(init='random', n_clusters=2, n_init=10, random_state=42)"
      ]
     },
     "execution_count": 20,
     "metadata": {},
     "output_type": "execute_result"
    }
   ],
   "source": [
    "kmeans.fit(df[['2012','2016', '2019', '2022', 'Jan-19', 'Feb-19', 'Mar-19', 'Apr-19',\n",
    "       'May-19', 'Jun-19', 'Jul-19', 'Aug-19', 'Sep-19', 'Oct-19', 'Nov-19',\n",
    "       'Dec-19', 'Jan-22', 'Feb-22', 'Mar-22', 'Apr-22', 'May-22', 'Jun-22',\n",
    "       'Jul-22', 'Aug-22', 'Sept-22', 'Oct-22', 'Nov-22', 'Dec-22',\n",
    "       'Avg 2003-2022', 'Size  (acres)', 'Road Length in Park (Mi)',\n",
    "       'Percent of Road Paved', 'Total Parking Area (Acres)',\n",
    "       'Miles of Road/Acre', 'Acre of Parking/Acre','rural', 'suburban', 'urban']])"
   ]
  },
  {
   "cell_type": "code",
   "execution_count": 21,
   "id": "dcdfedf2",
   "metadata": {},
   "outputs": [
    {
     "data": {
      "text/html": [
       "<div>\n",
       "<style scoped>\n",
       "    .dataframe tbody tr th:only-of-type {\n",
       "        vertical-align: middle;\n",
       "    }\n",
       "\n",
       "    .dataframe tbody tr th {\n",
       "        vertical-align: top;\n",
       "    }\n",
       "\n",
       "    .dataframe thead th {\n",
       "        text-align: right;\n",
       "    }\n",
       "</style>\n",
       "<table border=\"1\" class=\"dataframe\">\n",
       "  <thead>\n",
       "    <tr style=\"text-align: right;\">\n",
       "      <th></th>\n",
       "      <th>NPS Full Name</th>\n",
       "      <th>Simplified Name</th>\n",
       "      <th>Park Alpha</th>\n",
       "      <th>2012</th>\n",
       "      <th>2016</th>\n",
       "      <th>2019</th>\n",
       "      <th>2022</th>\n",
       "      <th>Jan-19</th>\n",
       "      <th>Feb-19</th>\n",
       "      <th>Mar-19</th>\n",
       "      <th>...</th>\n",
       "      <th>Miles of Road/Acre</th>\n",
       "      <th>Acre of Parking/Acre</th>\n",
       "      <th>Access Type</th>\n",
       "      <th>Recent Trans Data Collection Study</th>\n",
       "      <th>Hrly VUStats</th>\n",
       "      <th>FOTSC park</th>\n",
       "      <th>remove</th>\n",
       "      <th>rural</th>\n",
       "      <th>suburban</th>\n",
       "      <th>urban</th>\n",
       "    </tr>\n",
       "  </thead>\n",
       "  <tbody>\n",
       "    <tr>\n",
       "      <th>0</th>\n",
       "      <td>Abraham Lincoln Birthplace National Historical...</td>\n",
       "      <td>Abraham Lincoln Birthplace</td>\n",
       "      <td>ABLI</td>\n",
       "      <td>169515</td>\n",
       "      <td>252495</td>\n",
       "      <td>238226</td>\n",
       "      <td>265707</td>\n",
       "      <td>1939</td>\n",
       "      <td>6534</td>\n",
       "      <td>14566</td>\n",
       "      <td>...</td>\n",
       "      <td>0.002441</td>\n",
       "      <td>0.004363</td>\n",
       "      <td>NaN</td>\n",
       "      <td>NaN</td>\n",
       "      <td>NaN</td>\n",
       "      <td>NaN</td>\n",
       "      <td>NaN</td>\n",
       "      <td>1</td>\n",
       "      <td>0</td>\n",
       "      <td>0</td>\n",
       "    </tr>\n",
       "    <tr>\n",
       "      <th>1</th>\n",
       "      <td>Acadia National Park</td>\n",
       "      <td>Acadia</td>\n",
       "      <td>ACAD</td>\n",
       "      <td>2431052</td>\n",
       "      <td>3303393</td>\n",
       "      <td>3437286</td>\n",
       "      <td>3970260</td>\n",
       "      <td>8532</td>\n",
       "      <td>9154</td>\n",
       "      <td>20161</td>\n",
       "      <td>...</td>\n",
       "      <td>0.001938</td>\n",
       "      <td>0.000816</td>\n",
       "      <td>NaN</td>\n",
       "      <td>NaN</td>\n",
       "      <td>NaN</td>\n",
       "      <td>1.0</td>\n",
       "      <td>NaN</td>\n",
       "      <td>1</td>\n",
       "      <td>0</td>\n",
       "      <td>0</td>\n",
       "    </tr>\n",
       "    <tr>\n",
       "      <th>2</th>\n",
       "      <td>Adams National Historical Park</td>\n",
       "      <td>Adams</td>\n",
       "      <td>ADAM</td>\n",
       "      <td>336031</td>\n",
       "      <td>199301</td>\n",
       "      <td>187400</td>\n",
       "      <td>12848</td>\n",
       "      <td>27</td>\n",
       "      <td>179</td>\n",
       "      <td>253</td>\n",
       "      <td>...</td>\n",
       "      <td>0.000000</td>\n",
       "      <td>0.000000</td>\n",
       "      <td>NaN</td>\n",
       "      <td>NaN</td>\n",
       "      <td>NaN</td>\n",
       "      <td>NaN</td>\n",
       "      <td>NaN</td>\n",
       "      <td>0</td>\n",
       "      <td>0</td>\n",
       "      <td>1</td>\n",
       "    </tr>\n",
       "    <tr>\n",
       "      <th>3</th>\n",
       "      <td>African Burial Ground National Monument</td>\n",
       "      <td>African Burial Ground</td>\n",
       "      <td>AFBG</td>\n",
       "      <td>77624</td>\n",
       "      <td>46526</td>\n",
       "      <td>47427</td>\n",
       "      <td>29743</td>\n",
       "      <td>96</td>\n",
       "      <td>1571</td>\n",
       "      <td>1395</td>\n",
       "      <td>...</td>\n",
       "      <td>0.000000</td>\n",
       "      <td>0.000000</td>\n",
       "      <td>NaN</td>\n",
       "      <td>NaN</td>\n",
       "      <td>NaN</td>\n",
       "      <td>NaN</td>\n",
       "      <td>NaN</td>\n",
       "      <td>0</td>\n",
       "      <td>0</td>\n",
       "      <td>1</td>\n",
       "    </tr>\n",
       "    <tr>\n",
       "      <th>4</th>\n",
       "      <td>Agate Fossil Beds National Monument</td>\n",
       "      <td>Agate Fossil Beds</td>\n",
       "      <td>AGFO</td>\n",
       "      <td>11824</td>\n",
       "      <td>15555</td>\n",
       "      <td>16657</td>\n",
       "      <td>16357</td>\n",
       "      <td>0</td>\n",
       "      <td>94</td>\n",
       "      <td>401</td>\n",
       "      <td>...</td>\n",
       "      <td>0.001270</td>\n",
       "      <td>0.000629</td>\n",
       "      <td>NaN</td>\n",
       "      <td>NaN</td>\n",
       "      <td>NaN</td>\n",
       "      <td>NaN</td>\n",
       "      <td>NaN</td>\n",
       "      <td>1</td>\n",
       "      <td>0</td>\n",
       "      <td>0</td>\n",
       "    </tr>\n",
       "  </tbody>\n",
       "</table>\n",
       "<p>5 rows × 46 columns</p>\n",
       "</div>"
      ],
      "text/plain": [
       "                                       NPS Full Name  \\\n",
       "0  Abraham Lincoln Birthplace National Historical...   \n",
       "1                               Acadia National Park   \n",
       "2                     Adams National Historical Park   \n",
       "3            African Burial Ground National Monument   \n",
       "4                Agate Fossil Beds National Monument   \n",
       "\n",
       "              Simplified Name Park Alpha     2012     2016     2019     2022  \\\n",
       "0  Abraham Lincoln Birthplace       ABLI   169515   252495   238226   265707   \n",
       "1                      Acadia       ACAD  2431052  3303393  3437286  3970260   \n",
       "2                       Adams       ADAM   336031   199301   187400    12848   \n",
       "3       African Burial Ground       AFBG    77624    46526    47427    29743   \n",
       "4           Agate Fossil Beds       AGFO    11824    15555    16657    16357   \n",
       "\n",
       "   Jan-19  Feb-19  Mar-19  ...  Miles of Road/Acre  Acre of Parking/Acre  \\\n",
       "0    1939    6534   14566  ...            0.002441              0.004363   \n",
       "1    8532    9154   20161  ...            0.001938              0.000816   \n",
       "2      27     179     253  ...            0.000000              0.000000   \n",
       "3      96    1571    1395  ...            0.000000              0.000000   \n",
       "4       0      94     401  ...            0.001270              0.000629   \n",
       "\n",
       "   Access Type  Recent Trans Data Collection Study  Hrly VUStats  FOTSC park  \\\n",
       "0          NaN                                 NaN           NaN         NaN   \n",
       "1          NaN                                 NaN           NaN         1.0   \n",
       "2          NaN                                 NaN           NaN         NaN   \n",
       "3          NaN                                 NaN           NaN         NaN   \n",
       "4          NaN                                 NaN           NaN         NaN   \n",
       "\n",
       "   remove  rural  suburban  urban  \n",
       "0     NaN      1         0      0  \n",
       "1     NaN      1         0      0  \n",
       "2     NaN      0         0      1  \n",
       "3     NaN      0         0      1  \n",
       "4     NaN      1         0      0  \n",
       "\n",
       "[5 rows x 46 columns]"
      ]
     },
     "execution_count": 21,
     "metadata": {},
     "output_type": "execute_result"
    }
   ],
   "source": [
    "df.head()"
   ]
  },
  {
   "cell_type": "code",
   "execution_count": 22,
   "id": "515a8fa8",
   "metadata": {},
   "outputs": [
    {
     "data": {
      "text/plain": [
       "array([0, 0, 0, 0, 0])"
      ]
     },
     "execution_count": 22,
     "metadata": {},
     "output_type": "execute_result"
    }
   ],
   "source": [
    "kmeans.labels_[:5]"
   ]
  },
  {
   "cell_type": "code",
   "execution_count": 23,
   "id": "00f37f6b",
   "metadata": {},
   "outputs": [
    {
     "name": "stderr",
     "output_type": "stream",
     "text": [
      "C:\\Users\\Jonathan.Robison\\AppData\\Roaming\\Python\\Python39\\site-packages\\sklearn\\cluster\\_kmeans.py:1440: UserWarning: KMeans is known to have a memory leak on Windows with MKL, when there are less chunks than available threads. You can avoid it by setting the environment variable OMP_NUM_THREADS=2.\n",
      "  warnings.warn(\n",
      "C:\\Users\\Jonathan.Robison\\AppData\\Roaming\\Python\\Python39\\site-packages\\sklearn\\cluster\\_kmeans.py:1440: UserWarning: KMeans is known to have a memory leak on Windows with MKL, when there are less chunks than available threads. You can avoid it by setting the environment variable OMP_NUM_THREADS=2.\n",
      "  warnings.warn(\n",
      "C:\\Users\\Jonathan.Robison\\AppData\\Roaming\\Python\\Python39\\site-packages\\sklearn\\cluster\\_kmeans.py:1440: UserWarning: KMeans is known to have a memory leak on Windows with MKL, when there are less chunks than available threads. You can avoid it by setting the environment variable OMP_NUM_THREADS=2.\n",
      "  warnings.warn(\n",
      "C:\\Users\\Jonathan.Robison\\AppData\\Roaming\\Python\\Python39\\site-packages\\sklearn\\cluster\\_kmeans.py:1440: UserWarning: KMeans is known to have a memory leak on Windows with MKL, when there are less chunks than available threads. You can avoid it by setting the environment variable OMP_NUM_THREADS=2.\n",
      "  warnings.warn(\n",
      "C:\\Users\\Jonathan.Robison\\AppData\\Roaming\\Python\\Python39\\site-packages\\sklearn\\cluster\\_kmeans.py:1440: UserWarning: KMeans is known to have a memory leak on Windows with MKL, when there are less chunks than available threads. You can avoid it by setting the environment variable OMP_NUM_THREADS=2.\n",
      "  warnings.warn(\n",
      "C:\\Users\\Jonathan.Robison\\AppData\\Roaming\\Python\\Python39\\site-packages\\sklearn\\cluster\\_kmeans.py:1440: UserWarning: KMeans is known to have a memory leak on Windows with MKL, when there are less chunks than available threads. You can avoid it by setting the environment variable OMP_NUM_THREADS=2.\n",
      "  warnings.warn(\n",
      "C:\\Users\\Jonathan.Robison\\AppData\\Roaming\\Python\\Python39\\site-packages\\sklearn\\cluster\\_kmeans.py:1440: UserWarning: KMeans is known to have a memory leak on Windows with MKL, when there are less chunks than available threads. You can avoid it by setting the environment variable OMP_NUM_THREADS=2.\n",
      "  warnings.warn(\n",
      "C:\\Users\\Jonathan.Robison\\AppData\\Roaming\\Python\\Python39\\site-packages\\sklearn\\cluster\\_kmeans.py:1440: UserWarning: KMeans is known to have a memory leak on Windows with MKL, when there are less chunks than available threads. You can avoid it by setting the environment variable OMP_NUM_THREADS=2.\n",
      "  warnings.warn(\n",
      "C:\\Users\\Jonathan.Robison\\AppData\\Roaming\\Python\\Python39\\site-packages\\sklearn\\cluster\\_kmeans.py:1440: UserWarning: KMeans is known to have a memory leak on Windows with MKL, when there are less chunks than available threads. You can avoid it by setting the environment variable OMP_NUM_THREADS=2.\n",
      "  warnings.warn(\n",
      "C:\\Users\\Jonathan.Robison\\AppData\\Roaming\\Python\\Python39\\site-packages\\sklearn\\cluster\\_kmeans.py:1440: UserWarning: KMeans is known to have a memory leak on Windows with MKL, when there are less chunks than available threads. You can avoid it by setting the environment variable OMP_NUM_THREADS=2.\n",
      "  warnings.warn(\n"
     ]
    }
   ],
   "source": [
    "kmeans_kwargs = {\n",
    "       \"init\": \"random\",\n",
    "       \"n_init\": 10,\n",
    "       \"max_iter\": 300,\n",
    "     \"random_state\": 42,\n",
    "   }\n",
    "   \n",
    "# A list holds the SSE values for each k\n",
    "sse = []\n",
    "for k in range(1, 11):\n",
    "    kmeans = KMeans(n_clusters=k, **kmeans_kwargs)\n",
    "    kmeans.fit(df[['2012','2016', '2019', '2022', 'Jan-19', 'Feb-19', 'Mar-19', 'Apr-19',\n",
    "       'May-19', 'Jun-19', 'Jul-19', 'Aug-19', 'Sep-19', 'Oct-19', 'Nov-19',\n",
    "       'Dec-19', 'Jan-22', 'Feb-22', 'Mar-22', 'Apr-22', 'May-22', 'Jun-22',\n",
    "       'Jul-22', 'Aug-22', 'Sept-22', 'Oct-22', 'Nov-22', 'Dec-22',\n",
    "       'Avg 2003-2022', 'Size  (acres)', 'Road Length in Park (Mi)',\n",
    "       'Percent of Road Paved', 'Total Parking Area (Acres)',\n",
    "       'Miles of Road/Acre', 'Acre of Parking/Acre', 'rural', 'suburban', 'urban']])\n",
    "    sse.append(kmeans.inertia_)"
   ]
  },
  {
   "cell_type": "code",
   "execution_count": 24,
   "id": "5270de3f",
   "metadata": {},
   "outputs": [
    {
     "data": {
      "text/plain": [
       "[1448163960424870.5,\n",
       " 811794006314980.0,\n",
       " 523906202761587.0,\n",
       " 274368366695469.53,\n",
       " 214504317649456.56,\n",
       " 168136984521779.97,\n",
       " 118164155008386.98,\n",
       " 95055914271407.34,\n",
       " 85561293331850.72,\n",
       " 79323488779170.69]"
      ]
     },
     "execution_count": 24,
     "metadata": {},
     "output_type": "execute_result"
    }
   ],
   "source": [
    "sse"
   ]
  },
  {
   "cell_type": "code",
   "execution_count": 25,
   "id": "caf6811b",
   "metadata": {},
   "outputs": [
    {
     "data": {
      "image/png": "[encoded data removed]",
      "text/plain": [
       "<Figure size 576x360 with 1 Axes>"
      ]
     },
     "metadata": {
      "needs_background": "light"
     },
     "output_type": "display_data"
    }
   ],
   "source": [
    "fig, ax = plt.subplots(1,1,figsize=(8,5))\n",
    "ax.set_xlabel('Number of Clusters',fontsize = 15) #xlabel\n",
    "ax.set_ylabel('Distortion/Inertia',fontsize = 15) #ylabel\n",
    "ax.tick_params(axis='x', which='major', labelsize=20)\n",
    "ax.tick_params(axis='y', which='major', labelsize=20)\n",
    "plt.plot(sse)\n",
    "plt.show()"
   ]
  },
  {
   "cell_type": "code",
   "execution_count": 19,
   "id": "306dc1bb",
   "metadata": {},
   "outputs": [
    {
     "name": "stderr",
     "output_type": "stream",
     "text": [
      "C:\\Users\\Jonathan.Robison\\AppData\\Roaming\\Python\\Python39\\site-packages\\sklearn\\cluster\\_kmeans.py:1440: UserWarning: KMeans is known to have a memory leak on Windows with MKL, when there are less chunks than available threads. You can avoid it by setting the environment variable OMP_NUM_THREADS=2.\n",
      "  warnings.warn(\n"
     ]
    },
    {
     "data": {
      "text/html": [
       "<style>#sk-container-id-2 {color: black;}#sk-container-id-2 pre{padding: 0;}#sk-container-id-2 div.sk-toggleable {background-color: white;}#sk-container-id-2 label.sk-toggleable__label {cursor: pointer;display: block;width: 100%;margin-bottom: 0;padding: 0.3em;box-sizing: border-box;text-align: center;}#sk-container-id-2 label.sk-toggleable__label-arrow:before {content: \"▸\";float: left;margin-right: 0.25em;color: #696969;}#sk-container-id-2 label.sk-toggleable__label-arrow:hover:before {color: black;}#sk-container-id-2 div.sk-estimator:hover label.sk-toggleable__label-arrow:before {color: black;}#sk-container-id-2 div.sk-toggleable__content {max-height: 0;max-width: 0;overflow: hidden;text-align: left;background-color: #f0f8ff;}#sk-container-id-2 div.sk-toggleable__content pre {margin: 0.2em;color: black;border-radius: 0.25em;background-color: #f0f8ff;}#sk-container-id-2 input.sk-toggleable__control:checked~div.sk-toggleable__content {max-height: 200px;max-width: 100%;overflow: auto;}#sk-container-id-2 input.sk-toggleable__control:checked~label.sk-toggleable__label-arrow:before {content: \"▾\";}#sk-container-id-2 div.sk-estimator input.sk-toggleable__control:checked~label.sk-toggleable__label {background-color: #d4ebff;}#sk-container-id-2 div.sk-label input.sk-toggleable__control:checked~label.sk-toggleable__label {background-color: #d4ebff;}#sk-container-id-2 input.sk-hidden--visually {border: 0;clip: rect(1px 1px 1px 1px);clip: rect(1px, 1px, 1px, 1px);height: 1px;margin: -1px;overflow: hidden;padding: 0;position: absolute;width: 1px;}#sk-container-id-2 div.sk-estimator {font-family: monospace;background-color: #f0f8ff;border: 1px dotted black;border-radius: 0.25em;box-sizing: border-box;margin-bottom: 0.5em;}#sk-container-id-2 div.sk-estimator:hover {background-color: #d4ebff;}#sk-container-id-2 div.sk-parallel-item::after {content: \"\";width: 100%;border-bottom: 1px solid gray;flex-grow: 1;}#sk-container-id-2 div.sk-label:hover label.sk-toggleable__label {background-color: #d4ebff;}#sk-container-id-2 div.sk-serial::before {content: \"\";position: absolute;border-left: 1px solid gray;box-sizing: border-box;top: 0;bottom: 0;left: 50%;z-index: 0;}#sk-container-id-2 div.sk-serial {display: flex;flex-direction: column;align-items: center;background-color: white;padding-right: 0.2em;padding-left: 0.2em;position: relative;}#sk-container-id-2 div.sk-item {position: relative;z-index: 1;}#sk-container-id-2 div.sk-parallel {display: flex;align-items: stretch;justify-content: center;background-color: white;position: relative;}#sk-container-id-2 div.sk-item::before, #sk-container-id-2 div.sk-parallel-item::before {content: \"\";position: absolute;border-left: 1px solid gray;box-sizing: border-box;top: 0;bottom: 0;left: 50%;z-index: -1;}#sk-container-id-2 div.sk-parallel-item {display: flex;flex-direction: column;z-index: 1;position: relative;background-color: white;}#sk-container-id-2 div.sk-parallel-item:first-child::after {align-self: flex-end;width: 50%;}#sk-container-id-2 div.sk-parallel-item:last-child::after {align-self: flex-start;width: 50%;}#sk-container-id-2 div.sk-parallel-item:only-child::after {width: 0;}#sk-container-id-2 div.sk-dashed-wrapped {border: 1px dashed gray;margin: 0 0.4em 0.5em 0.4em;box-sizing: border-box;padding-bottom: 0.4em;background-color: white;}#sk-container-id-2 div.sk-label label {font-family: monospace;font-weight: bold;display: inline-block;line-height: 1.2em;}#sk-container-id-2 div.sk-label-container {text-align: center;}#sk-container-id-2 div.sk-container {/* jupyter's `normalize.less` sets `[hidden] { display: none; }` but bootstrap.min.css set `[hidden] { display: none !important; }` so we also need the `!important` here to be able to override the default hidden behavior on the sphinx rendered scikit-learn.org. See: https://github.com/scikit-learn/scikit-learn/issues/21755 */display: inline-block !important;position: relative;}#sk-container-id-2 div.sk-text-repr-fallback {display: none;}</style><div id=\"sk-container-id-2\" class=\"sk-top-container\"><div class=\"sk-text-repr-fallback\"><pre>KMeans(init=&#x27;random&#x27;, n_clusters=2, n_init=10, random_state=42)</pre><b>In a Jupyter environment, please rerun this cell to show the HTML representation or trust the notebook. <br />On GitHub, the HTML representation is unable to render, please try loading this page with nbviewer.org.</b></div><div class=\"sk-container\" hidden><div class=\"sk-item\"><div class=\"sk-estimator sk-toggleable\"><input class=\"sk-toggleable__control sk-hidden--visually\" id=\"sk-estimator-id-2\" type=\"checkbox\" checked><label for=\"sk-estimator-id-2\" class=\"sk-toggleable__label sk-toggleable__label-arrow\">KMeans</label><div class=\"sk-toggleable__content\"><pre>KMeans(init=&#x27;random&#x27;, n_clusters=2, n_init=10, random_state=42)</pre></div></div></div></div></div>"
      ],
      "text/plain": [
       "KMeans(init='random', n_clusters=2, n_init=10, random_state=42)"
      ]
     },
     "execution_count": 19,
     "metadata": {},
     "output_type": "execute_result"
    }
   ],
   "source": [
    "kmeans = KMeans(\n",
    "    init=\"random\",\n",
    "     n_clusters=2,\n",
    "     n_init=10,\n",
    "     max_iter=300,\n",
    "     random_state=42\n",
    ")\n",
    "kmeans.fit(df[['2012','2016', '2019', '2022', 'Jan-19', 'Feb-19', 'Mar-19', 'Apr-19',\n",
    "       'May-19', 'Jun-19', 'Jul-19', 'Aug-19', 'Sep-19', 'Oct-19', 'Nov-19',\n",
    "       'Dec-19', 'Jan-22', 'Feb-22', 'Mar-22', 'Apr-22', 'May-22', 'Jun-22',\n",
    "       'Jul-22', 'Aug-22', 'Sept-22', 'Oct-22', 'Nov-22', 'Dec-22',\n",
    "       'Avg 2003-2022', 'Size  (acres)', 'Road Length in Park (Mi)',\n",
    "       'Percent of Road Paved', 'Total Parking Area (Acres)',\n",
    "       'Miles of Road/Acre', 'Acre of Parking/Acre', 'rural', 'suburban', 'urban']])"
   ]
  },
  {
   "cell_type": "code",
   "execution_count": null,
   "id": "b588097f",
   "metadata": {},
   "outputs": [],
   "source": [
    "plt.hist(kmeans.labels_)\n",
    "plt.title(\"Histogram of K-Means Clusters\")\n",
    "plt.xlabel(\"\")\n",
    "plt.ylabel(\"Number of Parks\")\n",
    "plt.show()"
   ]
  },
  {
   "cell_type": "code",
   "execution_count": null,
   "id": "58d11317",
   "metadata": {},
   "outputs": [],
   "source": [
    "df['cluster'] = kmeans.labels_"
   ]
  },
  {
   "cell_type": "code",
   "execution_count": null,
   "id": "98c5a33c",
   "metadata": {},
   "outputs": [],
   "source": [
    "df.head()"
   ]
  },
  {
   "cell_type": "code",
   "execution_count": null,
   "id": "d574736d",
   "metadata": {},
   "outputs": [],
   "source": [
    "df.to_excel(r\"C:\\Users\\Jonathan.Robison\\DOT OST\\volpe-proj-VU16A100 - Emerging Mobility\\Subgroup Support\\Traveler Information Technologies\\Enhancing Trip Planning Information\\NPS Park cluster result 11_21.xlsx\")"
   ]
  },
  {
   "cell_type": "code",
   "execution_count": null,
   "id": "6a627883",
   "metadata": {},
   "outputs": [],
   "source": [
    "df = df.sort_values(by=['cluster']).reset_index()"
   ]
  },
  {
   "cell_type": "code",
   "execution_count": null,
   "id": "0a7d3a54",
   "metadata": {},
   "outputs": [],
   "source": [
    "print(len(df.loc[df['cluster']==0]), \" in cluster 0\")\n",
    "df.loc[df['cluster']==0]"
   ]
  },
  {
   "cell_type": "code",
   "execution_count": null,
   "id": "18943f60",
   "metadata": {},
   "outputs": [],
   "source": [
    "print(len(df.loc[df['cluster']==1]), \" in cluster 1\")\n",
    "df.loc[df['cluster']==1]"
   ]
  },
  {
   "cell_type": "code",
   "execution_count": null,
   "id": "76c27d8e",
   "metadata": {},
   "outputs": [],
   "source": [
    "print(len(df.loc[df['cluster']==2]), \" in cluster 2\")\n",
    "df.loc[df['cluster']==2]"
   ]
  },
  {
   "cell_type": "code",
   "execution_count": null,
   "id": "5254ca99",
   "metadata": {},
   "outputs": [],
   "source": [
    "print(len(df.loc[df['cluster']==3]), \" in cluster 3\")\n",
    "df.loc[df['cluster']==3]"
   ]
  },
  {
   "cell_type": "code",
   "execution_count": null,
   "id": "ff7d454c",
   "metadata": {},
   "outputs": [],
   "source": [
    "print(len(df.loc[df['cluster']==4]), \" in cluster 4\")\n",
    "df.loc[df['cluster']==4]"
   ]
  },
  {
   "cell_type": "code",
   "execution_count": null,
   "id": "5c43ee87",
   "metadata": {
    "scrolled": false
   },
   "outputs": [],
   "source": [
    "print(len(df.loc[df['cluster']==5]), \" in cluster 5\")\n",
    "df.loc[df['cluster']==5]"
   ]
  },
  {
   "cell_type": "code",
   "execution_count": null,
   "id": "169bf70f",
   "metadata": {},
   "outputs": [],
   "source": [
    "print(len(df.loc[df['cluster']==6]), \" in cluster 6\")\n",
    "df.loc[df['cluster']==6]"
   ]
  },
  {
   "cell_type": "code",
   "execution_count": null,
   "id": "d94909de",
   "metadata": {},
   "outputs": [],
   "source": [
    "print(len(df.loc[df['cluster']==7]), \" in cluster 7\")\n",
    "df.loc[df['cluster']==7]"
   ]
  },
  {
   "cell_type": "code",
   "execution_count": null,
   "id": "14d268ca",
   "metadata": {},
   "outputs": [],
   "source": [
    "import pandas as pd\n",
    "from sklearn.preprocessing import StandardScaler\n",
    "import matplotlib.pyplot as plt\n",
    "\n",
    "numerical_cols=df.select_dtypes(include=['float64','int64']).columns\n",
    "\n",
    "df[numerical_cols].hist(alpha=0.5,bins=20, figsize=(10,6), label='Before Normalization')\n",
    "plt.title('Histograms Before Normalization')\n",
    "plt.legend()\n",
    "plt.show()\n",
    "\n",
    "scaler = StandardScaler()\n",
    "df[numerical_cols] = scaler.fit_transform(df[numerical_cols].values)\n",
    "\n",
    "df[numerical_cols].hist(alpha=0.5, bins=20, figsize=(10,6), label='After Normalization')\n",
    "plt.title('Histogram After Normalization')\n",
    "plt.legend()\n",
    "plt.show()"
   ]
  },
  {
   "cell_type": "code",
   "execution_count": null,
   "id": "99028bfc",
   "metadata": {},
   "outputs": [],
   "source": [
    "from sklearn import datasets    \n",
    "from sklearn.preprocessing import StandardScaler\n",
    "from sklearn.cluster import KMeans\n",
    "import numpy as np\n",
    "\n",
    "numerical_cols=df.select_dtypes(include=['float64','int64']).columns\n",
    "string_cols = df.select_dtypes(include=['object']).columns\n",
    "\n",
    "scaler = StandardScaler()\n",
    "df[numerical_cols] = scaler.fit_transform(df[numerical_cols])"
   ]
  }
 ],
 "metadata": {
  "kernelspec": {
   "display_name": "Python 3",
   "language": "python",
   "name": "python3"
  },
  "language_info": {
   "codemirror_mode": {
    "name": "ipython",
    "version": 3
   },
   "file_extension": ".py",
   "mimetype": "text/x-python",
   "name": "python",
   "nbconvert_exporter": "python",
   "pygments_lexer": "ipython3",
   "version": "3.9.11"
  }
 },
 "nbformat": 4,
 "nbformat_minor": 5
}
