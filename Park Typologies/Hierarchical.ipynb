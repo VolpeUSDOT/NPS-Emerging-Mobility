{
 "cells": [
  {
   "cell_type": "code",
   "execution_count": null,
   "id": "4507f8a0",
   "metadata": {},
   "outputs": [],
   "source": [
    "from sklearn.datasets import load_iris\n",
    "from sklearn.cluster import AgglomerativeClustering\n",
    "import numpy as np\n",
    "import matplotlib.pyplot as plt\n",
    "import pandas as pd"
   ]
  },
  {
   "cell_type": "code",
   "execution_count": null,
   "id": "edf2d660",
   "metadata": {},
   "outputs": [],
   "source": [
    "## import the dataset. Change the file path as needed\n",
    "df = pd.read_excel(r\"C:\\Users\\Daniel.Lang\\Downloads\\Park Typology Dataset 3.xlsx\")\n",
    "\n",
    "## change numerical columns to text values\n",
    "df.rename(columns={2012: '2012', 2016:'2016', 2019:'2019', 2022:'2022'},\n",
    "    inplace=True)\n",
    "df.head()"
   ]
  },
  {
   "cell_type": "code",
   "execution_count": null,
   "id": "a1354e2d",
   "metadata": {},
   "outputs": [],
   "source": [
    "# extract variables of interest by column number\n",
    "voi = df.iloc[:, [0,1,7, 35]]\n",
    "voi.head()"
   ]
  },
  {
   "cell_type": "code",
   "execution_count": null,
   "id": "e2cc7752",
   "metadata": {},
   "outputs": [],
   "source": [
    "from sklearn.cluster import AgglomerativeClustering\n",
    "from sklearn.preprocessing import StandardScaler\n",
    "## choose columns to run the analysis on\n",
    "data_columns = ['2022','Road Length in Park (Mi)']  \n",
    "data = voi[data_columns]\n",
    "## scale the data\n",
    "scaler = StandardScaler()\n",
    "data_scaled = scaler.fit_transform(data)\n",
    "## make clusters\n",
    "agg_clustering = AgglomerativeClustering(n_clusters=10)  \n",
    "labels = agg_clustering.fit_predict(data_scaled)\n",
    "print(labels)"
   ]
  },
  {
   "cell_type": "code",
   "execution_count": null,
   "id": "ca24f1e3",
   "metadata": {},
   "outputs": [],
   "source": [
    "## append lapels to original dataset\n",
    "voi['Cluster_Labels'] = labels\n",
    "voi.head()"
   ]
  },
  {
   "cell_type": "code",
   "execution_count": null,
   "id": "85eed774",
   "metadata": {},
   "outputs": [],
   "source": [
    "from scipy.cluster.hierarchy import dendrogram , linkage\n",
    "## Calculate Z (Euclidean Distance)\n",
    "Z = linkage(data_scaled, method = 'ward')\n",
    "\n",
    "## (Plot Dendrogram)\n",
    "dendro = dendrogram(Z)\n",
    "plt.title('Dendrogram')\n",
    "plt.ylabel('Euclidean distance')\n",
    "plt.show()"
   ]
  },
  {
   "cell_type": "code",
   "execution_count": null,
   "id": "5622f5b2",
   "metadata": {},
   "outputs": [],
   "source": [
    "# Get and sort unique cluster labels\n",
    "unique_clusters = sorted(voi['Cluster_Labels'].unique())\n",
    "\n",
    "# Loop through each cluster and print the count\n",
    "for cluster_label in unique_clusters:\n",
    "    cluster_length = len(voi.loc[voi['Cluster_Labels'] == cluster_label])\n",
    "    print(f\"{cluster_length} in cluster {cluster_label}\")"
   ]
  },
  {
   "cell_type": "code",
   "execution_count": null,
   "id": "5ebd640a",
   "metadata": {},
   "outputs": [],
   "source": [
    "## find the largest cluster\n",
    "max_cluster = voi['Cluster_Labels'].value_counts().idxmax()\n",
    "\n",
    "# Extract rows with the max_cluster value into a new DataFrame\n",
    "second_sort = voi[voi['Cluster_Labels'] == max_cluster]\n",
    "second_sort.head()"
   ]
  },
  {
   "cell_type": "code",
   "execution_count": null,
   "id": "fb4eee85",
   "metadata": {},
   "outputs": [],
   "source": [
    "## choose columns to run the second analysis on\n",
    "data_columns = ['2022','Road Length in Park (Mi)']  \n",
    "data = second_sort[data_columns]\n",
    "## scale the data\n",
    "scaler = StandardScaler()\n",
    "data_scaled = scaler.fit_transform(data)\n",
    "## make clusters\n",
    "agg_clustering = AgglomerativeClustering(n_clusters=10)  \n",
    "labels = agg_clustering.fit_predict(data_scaled)\n",
    "print(labels)"
   ]
  },
  {
   "cell_type": "code",
   "execution_count": null,
   "id": "7c61106f",
   "metadata": {},
   "outputs": [],
   "source": [
    "## Calculate Z (Euclidean Distance)\n",
    "Z = linkage(data_scaled, method = 'ward')\n",
    "\n",
    "## Plot Dendrogram\n",
    "dendro = dendrogram(Z)\n",
    "plt.title('Dendrogram')\n",
    "plt.ylabel('Euclidean distance')\n",
    "plt.show()"
   ]
  },
  {
   "cell_type": "code",
   "execution_count": null,
   "id": "32b00aae",
   "metadata": {},
   "outputs": [],
   "source": [
    "## add results to table\n",
    "second_sort['Cluster_Labels2'] = labels\n",
    "second_sort.head()"
   ]
  },
  {
   "cell_type": "code",
   "execution_count": null,
   "id": "39bbc121",
   "metadata": {},
   "outputs": [],
   "source": [
    "# Get and sort unique cluster labels\n",
    "unique_clusters = sorted(second_sort['Cluster_Labels2'].unique())\n",
    "\n",
    "# Loop through each cluster and print the count\n",
    "for cluster_label in unique_clusters:\n",
    "    cluster_length = len(second_sort.loc[second_sort['Cluster_Labels2'] == cluster_label])\n",
    "    print(f\"{cluster_length} in cluster {cluster_label}\")"
   ]
  },
  {
   "cell_type": "code",
   "execution_count": null,
   "id": "7faa0e2e",
   "metadata": {},
   "outputs": [],
   "source": [
    "## clean and merge second level results\n",
    "voi = voi.merge(second_sort[['NPS Full Name','Cluster_Labels2']], on='NPS Full Name', how='left', suffixes=('', '_second_sort'))\n",
    "voi['Cluster_Labels2'] = voi['Cluster_Labels2'].fillna(999)\n",
    "voi['Cluster_Labels2'] = voi['Cluster_Labels2'].astype(int)\n",
    "voi.head()"
   ]
  },
  {
   "cell_type": "code",
   "execution_count": null,
   "id": "90dce917",
   "metadata": {},
   "outputs": [],
   "source": [
    "## list second level clusters\n",
    "grouped = voi.groupby('Cluster_Labels2')['Simplified Name'].unique()\n",
    "\n",
    "for cluster_label, names in grouped.items():\n",
    "    print(f\"Cluster {cluster_label}: {', '.join(names)}\")"
   ]
  },
  {
   "cell_type": "code",
   "execution_count": null,
   "id": "919e3dfc",
   "metadata": {},
   "outputs": [],
   "source": [
    "## non-scaled analysis\n",
    "data_columns = ['2022','Road Length in Park (Mi)']  \n",
    "data = voi[data_columns]"
   ]
  },
  {
   "cell_type": "code",
   "execution_count": null,
   "id": "e619c21a",
   "metadata": {},
   "outputs": [],
   "source": [
    "## create clusters\n",
    "agg_clustering = AgglomerativeClustering(n_clusters=10)  \n",
    "labels = agg_clustering.fit_predict(data)\n",
    "voi['Cluster_Labels_US'] = labels\n",
    "voi.head()"
   ]
  },
  {
   "cell_type": "code",
   "execution_count": null,
   "id": "3957c73c",
   "metadata": {},
   "outputs": [],
   "source": [
    "# Get and sort unique cluster labels\n",
    "unique_clusters = sorted(voi['Cluster_Labels_US'].unique())\n",
    "\n",
    "# Loop through each cluster and print the count\n",
    "for cluster_label in unique_clusters:\n",
    "    cluster_length = len(voi.loc[voi['Cluster_Labels_US'] == cluster_label])\n",
    "    print(f\"{cluster_length} in cluster {cluster_label}\")"
   ]
  },
  {
   "cell_type": "code",
   "execution_count": null,
   "id": "60f4eb8d",
   "metadata": {},
   "outputs": [],
   "source": [
    "## plot dendrogram\n",
    "Z = linkage(data, method = 'ward')\n",
    "dendro = dendrogram(Z)\n",
    "plt.title('Dendrogram')\n",
    "plt.ylabel('Euclidean distance')\n",
    "plt.show()"
   ]
  },
  {
   "cell_type": "code",
   "execution_count": null,
   "id": "be8d3796",
   "metadata": {},
   "outputs": [],
   "source": [
    "## find the largest cluster\n",
    "max_cluster = voi['Cluster_Labels_US'].value_counts().idxmax()\n",
    "\n",
    "## Extract rows with the max_cluster value into a new DataFrame\n",
    "second_sort = voi[voi['Cluster_Labels_US'] == max_cluster]\n",
    "second_sort.head()"
   ]
  },
  {
   "cell_type": "code",
   "execution_count": null,
   "id": "10882a19",
   "metadata": {},
   "outputs": [],
   "source": [
    "## choose columns to run the second analysis on\n",
    "data_columns = ['2022','Road Length in Park (Mi)']  \n",
    "data = second_sort[data_columns]\n",
    "## make clusters\n",
    "agg_clustering = AgglomerativeClustering(n_clusters=10)  \n",
    "labels = agg_clustering.fit_predict(data)\n",
    "print(labels)"
   ]
  },
  {
   "cell_type": "code",
   "execution_count": null,
   "id": "18faf63d",
   "metadata": {},
   "outputs": [],
   "source": [
    "## add results to table \n",
    "second_sort['Cluster_Labels_US2'] = labels\n",
    "second_sort.head()"
   ]
  },
  {
   "cell_type": "code",
   "execution_count": null,
   "id": "fcc7ae1c",
   "metadata": {},
   "outputs": [],
   "source": [
    "# Get and sort unique cluster labels\n",
    "unique_clusters = sorted(second_sort['Cluster_Labels_US2'].unique())\n",
    "\n",
    "# Loop through each cluster and print the count\n",
    "for cluster_label in unique_clusters:\n",
    "    cluster_length = len(second_sort.loc[second_sort['Cluster_Labels_US2'] == cluster_label])\n",
    "    print(f\"{cluster_length} in cluster {cluster_label}\")"
   ]
  },
  {
   "cell_type": "code",
   "execution_count": null,
   "id": "039a4c8a",
   "metadata": {},
   "outputs": [],
   "source": [
    "## plot dendrogram \n",
    "Z = linkage(data, method = 'ward')\n",
    "dendro = dendrogram(Z)\n",
    "plt.title('Dendrogram')\n",
    "plt.ylabel('Euclidean distance')\n",
    "plt.show()"
   ]
  },
  {
   "cell_type": "code",
   "execution_count": null,
   "id": "f00bb959",
   "metadata": {},
   "outputs": [],
   "source": [
    "## clean and merge second level results\n",
    "voi = voi.merge(second_sort[['NPS Full Name','Cluster_Labels_US2']], on='NPS Full Name', how='left', suffixes=('', '_second_sort'))\n",
    "voi['Cluster_Labels_US2'] = voi['Cluster_Labels_US2'].fillna(999)\n",
    "voi['Cluster_Labels_US2'] = voi['Cluster_Labels_US2'].astype(int)\n",
    "voi.head()"
   ]
  },
  {
   "cell_type": "code",
   "execution_count": null,
   "id": "ffe13c4b",
   "metadata": {},
   "outputs": [],
   "source": [
    "## display second level clusters\n",
    "grouped = voi.groupby('Cluster_Labels_US2')['Simplified Name'].unique()\n",
    "\n",
    "for cluster_label, names in grouped.items():\n",
    "    print(f\"Cluster {cluster_label}: {', '.join(names)}\")"
   ]
  },
  {
   "cell_type": "code",
   "execution_count": null,
   "id": "b97cc3a5",
   "metadata": {},
   "outputs": [],
   "source": []
  }
 ],
 "metadata": {
  "kernelspec": {
   "display_name": "Python 3 (ipykernel)",
   "language": "python",
   "name": "python3"
  },
  "language_info": {
   "codemirror_mode": {
    "name": "ipython",
    "version": 3
   },
   "file_extension": ".py",
   "mimetype": "text/x-python",
   "name": "python",
   "nbconvert_exporter": "python",
   "pygments_lexer": "ipython3",
   "version": "3.11.3"
  }
 },
 "nbformat": 4,
 "nbformat_minor": 5
}
