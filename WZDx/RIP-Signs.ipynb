{
 "cells": [
  {
   "cell_type": "code",
   "execution_count": 58,
   "id": "526e9f98",
   "metadata": {},
   "outputs": [],
   "source": [
    "#import packages\n",
    "import requests\n",
    "import pandas as pd\n",
    "import matplotlib.pyplot as plt\n",
    "import os"
   ]
  },
  {
   "cell_type": "code",
   "execution_count": 70,
   "id": "88afb64d",
   "metadata": {},
   "outputs": [],
   "source": [
    "# Opens the excel file\n",
    "df = pd.read_excel('NPS RIP Sign Inventory.xlsx', 'Sheet1')"
   ]
  },
  {
   "cell_type": "code",
   "execution_count": 71,
   "id": "c5c4aea7",
   "metadata": {},
   "outputs": [
    {
     "name": "stdout",
     "output_type": "stream",
     "text": [
      "Restriction\n",
      "No     16004\n",
      "Yes      650\n",
      "Name: count, dtype: int64\n"
     ]
    }
   ],
   "source": [
    "# this shows how many yes' and no's are in the Restriction column before we do anything\n",
    "counts = df['Restriction'].value_counts()\n",
    "print(counts)"
   ]
  },
  {
   "cell_type": "code",
   "execution_count": null,
   "id": "b2a46d34",
   "metadata": {},
   "outputs": [],
   "source": [
    "# makes a new list of entries in Event_Desc where the corresponding Restriction is 'Yes',\n",
    "# then adds a 'Yes' to all other entries in Event_Desc that matches\n",
    "event_descriptions_with_yes = df.loc[df['Restriction'] == 'Yes', 'EVENT_DESC'].unique()\n",
    "\n",
    "df.loc[df['EVENT_DESC'].isin(event_descriptions_with_yes), 'Restriction'] = 'Yes'"
   ]
  },
  {
   "cell_type": "code",
   "execution_count": 73,
   "id": "46d712f7",
   "metadata": {},
   "outputs": [
    {
     "name": "stdout",
     "output_type": "stream",
     "text": [
      "Restriction\n",
      "No     16004\n",
      "Yes      650\n",
      "Name: count, dtype: int64\n"
     ]
    }
   ],
   "source": [
    "# this shows how many yes' and no's are in the Restriction column after we do the thing\n",
    "counts = df['Restriction'].value_counts()\n",
    "print(counts)"
   ]
  },
  {
   "cell_type": "code",
   "execution_count": null,
   "id": "a829ae44",
   "metadata": {},
   "outputs": [],
   "source": [
    "# saves and overwrites original sheet1 within the Excel file\n",
    "with pd.ExcelWriter('NPS RIP Sign Inventory.xlsx', engine='openpyxl', mode='a', if_sheet_exists='replace') as writer:\n",
    "    df.to_excel(writer, sheet_name='Sheet1', index=False)"
   ]
  }
 ],
 "metadata": {
  "kernelspec": {
   "display_name": "NPS-Emerging-Mobility",
   "language": "python",
   "name": "python3"
  },
  "language_info": {
   "codemirror_mode": {
    "name": "ipython",
    "version": 3
   },
   "file_extension": ".py",
   "mimetype": "text/x-python",
   "name": "python",
   "nbconvert_exporter": "python",
   "pygments_lexer": "ipython3",
   "version": "3.13.2"
  }
 },
 "nbformat": 4,
 "nbformat_minor": 5
}
