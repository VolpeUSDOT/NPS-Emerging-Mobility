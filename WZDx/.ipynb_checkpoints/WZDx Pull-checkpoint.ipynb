{
 "cells": [
  {
   "cell_type": "markdown",
   "id": "a335f23e",
   "metadata": {},
   "source": [
    "# TDx Data Pull\n",
    "\n",
    "**Author:** Eric Englin\n",
    "\n",
    "**Date:** 10/10/23\n",
    "\n",
    "**Description:** This code will pull the latest NPS API for the TDx feed. It will create a quick summary figure of the data. "
   ]
  },
  {
   "cell_type": "code",
   "execution_count": 1,
   "id": "94b62e75",
   "metadata": {},
   "outputs": [],
   "source": [
    "#import packages\n",
    "import requests\n",
    "import json\n",
    "from collections import Counter\n",
    "import pandas as pd\n",
    "import matplotlib.pyplot as plt\n",
    "import datetime\n"
   ]
  },
  {
   "cell_type": "code",
   "execution_count": 2,
   "id": "70c2da24",
   "metadata": {},
   "outputs": [],
   "source": [
    "#pull API using API key\n",
    "response_API = requests.get('https://developer.nps.gov/api/v1/roadevents?type=workzone&api_key=pAVN008JKe6w3BaWr6FmH8jPFbzkAbKkv6ZpditQ')\n",
    "#print(response_API.status_code)\n",
    "data = response_API.text\n",
    "df = json.loads(data)"
   ]
  },
  {
   "cell_type": "code",
   "execution_count": 75,
   "id": "5d6e7bf1",
   "metadata": {},
   "outputs": [],
   "source": [
    "#summarize the data by park\n",
    "park_list = []\n",
    "for x in df[\"features\"]:\n",
    "    for y in df[\"road_event_feed_info\"]['data_sources']:\n",
    "        if y['data_source_id']==x['properties']['core_details']['data_source_id']:\n",
    "            park_list.append(y['organization_name'])\n",
    "\n",
    "park_df = Counter(park_list)\n",
    "park_df = pd.DataFrame.from_dict(park_df, orient=\"index\").reset_index().rename(\n",
    "    columns={'index': 'park',\n",
    "            0:'number of alerts'}).sort_values(by=['number of alerts'])\n"
   ]
  },
  {
   "cell_type": "code",
   "execution_count": 74,
   "id": "7275f90c",
   "metadata": {},
   "outputs": [
    {
     "data": {
      "image/png": "[encoded data removed]",
      "text/plain": [
       "<Figure size 432x288 with 1 Axes>"
      ]
     },
     "metadata": {
      "needs_background": "light"
     },
     "output_type": "display_data"
    }
   ],
   "source": [
    "#create a quick summary figure\n",
    "\n",
    "# Get today's date as a string\n",
    "today = datetime.date.today()\n",
    "today_string = today.strftime('%Y-%m-%d')\n",
    "\n",
    "# Create the plot\n",
    "plt.barh(park_df['park'], park_df['number of alerts'])\n",
    "\n",
    "# Set the title\n",
    "plt.title(\"Count of TDx Alerts in NPS API as of \" + today_string)\n",
    "\n",
    "# Show the chart\n",
    "plt.show()\n",
    "\n"
   ]
  },
  {
   "cell_type": "code",
   "execution_count": 38,
   "id": "895c2d83",
   "metadata": {
    "scrolled": false
   },
   "outputs": [
    {
     "name": "stdout",
     "output_type": "stream",
     "text": [
      "Park: Mojave National Preserve\n",
      "Alert name:  Cima Road Closed to ALL VEHICLES due to Construction\n",
      "Description:  Cima Road is undergoing a major renovation for visitor and wildlife safety upgrades. Please do not drive around barricades or cross this active construction zone.\n",
      "Event type:  work-zone\n",
      "Road name:  ['Cima Road']\n",
      "Vehicle impact:  all-lanes-closed\n",
      "Dates:  2023-07-26T09:54:00Z to  2024-03-31T09:49:00Z\n",
      "\n",
      "Park: Acadia National Park\n",
      "Alert name:  Expect carriage road construction between intersections 10 and 11\n",
      "Description:  Watch for heavy equipment and rough surfaces on carriage road between intersections 10 and 11 near Gilmore Meadow through October. Horses and carriages should avoid the area, which may be impassable at times. Bikers will need to dismount and walk.\n",
      "Event type:  work-zone\n",
      "Road name:  ['Carriage Road between intersections 10 and 11']\n",
      "Vehicle impact:  unknown\n",
      "Dates:  2023-09-29T02:48:00Z to  2023-10-31T02:48:00Z\n",
      "\n",
      "Park: Acadia National Park\n",
      "Alert name:  Blasting and heavy construction at Park Headquarters\n",
      "Description:  As part of the construction of the park's new maintenance building, the contractor will be blasting granite ledge beginning September 25. Warning whistles and blasting may be heard in the area of park headquarters located on Eagle Lake Road in Bar Harbor.\n",
      "Event type:  work-zone\n",
      "Road name:  ['Acadia Park Headquarters']\n",
      "Vehicle impact:  some-lanes-closed\n",
      "Dates:  2023-09-29T03:41:00Z to  2025-09-30T03:41:00Z\n",
      "\n",
      "Park: Acadia National Park\n",
      "Alert name:  Carriage road closed to horses between intersections 14 and 21\n",
      "Description:  A section of the historic carriage road system between intersections 14 and 21 is closed to horse use until further notice. Park staff are working to repair the Cliffside Bridge and the large machinery will make it unsafe for horses and riders.\n",
      "Event type:  work-zone\n",
      "Road name:  ['Carriage Road between intersections 14 & 21']\n",
      "Vehicle impact:  unknown\n",
      "Dates:  2023-09-29T02:43:00Z to  2023-11-30T03:43:00Z\n",
      "\n",
      "Park: Dinosaur National Monument\n",
      "Alert name:  Harpers Corner Road Construction\n",
      "Description:  A $10.1 million construction project to improve the Harpers Corner Road within Dinosaur National Monument. The project includes reconstruction and repaving of seven miles of roadway and adjacent parking areas from US Highway 40 to the Escalante Overlook.\n",
      "Event type:  work-zone\n",
      "Road name:  ['Harpers Corner Road']\n",
      "Vehicle impact:  flagging\n",
      "Dates:  2023-05-30T04:12:00Z to  2023-11-06T10:00:00Z\n",
      "\n",
      "Park: Natchez Trace Parkway\n",
      "Alert name:  Detour from Milepost 239 to 257\n",
      "Description:  Follow orange detour signs labeled \"TRACE\". Parkway closed from Highway 32 (MP 239.2) to Highway 6 south of Tupelo, MS (MP 256.9) Scroll to the bottom of the linked page after clicking on the \"more\" link to view the map and turn-by-turn directions.\n",
      "Event type:  work-zone\n",
      "Road name:  ['Natchez Trace Parkway']\n",
      "Vehicle impact:  all-lanes-closed\n",
      "Dates:  2023-08-16T06:45:00Z to  2024-03-31T06:45:00Z\n",
      "\n",
      "Park: Olympic National Park\n",
      "Alert name:  Upper Hoh Road Delays\n",
      "Description:  Visitation to the Hoh Rain Forest is very popular during the summer months. Visitors should be prepared for 1-2 hour wait times at the entrance station between the hours of 10 AM and 5 PM. The parking lot fills early and then traffic is metered.\n",
      "Event type:  work-zone\n",
      "Road name:  ['Upper Hoh Road']\n",
      "Vehicle impact:  flagging\n",
      "Dates:  2023-07-26T06:22:00Z to  2023-11-30T07:24:00Z\n",
      "\n",
      "Park: Olympic National Park\n",
      "Alert name:  Hurricane Ridge Road will be closed beginning October 16 for demolition\n",
      "Description:  Beginning on October 16, demolition and removal of the remaining Hurricane Ridge Day Lodge debris begins. This critical step in the ongoing efforts to restore visitor services and ensure public safety will require a temporary closure of the area.\n",
      "Event type:  work-zone\n",
      "Road name:  ['Hurricane Ridge Road']\n",
      "Vehicle impact:  all-lanes-closed\n",
      "Dates:  2023-10-03T04:02:00Z to  2023-11-23T05:02:00Z\n",
      "\n"
     ]
    }
   ],
   "source": [
    "# Loop through the API entries\n",
    "counter=0\n",
    "for x in df[\"features\"]:\n",
    "    for y in df[\"road_event_feed_info\"]['data_sources']:\n",
    "        if y['data_source_id']==x['properties']['core_details']['data_source_id']:\n",
    "            print(\"Park:\", y['organization_name'])\n",
    "    print(\"Alert name: \", x['properties']['core_details']['name'])\n",
    "    print(\"Description: \", x['properties']['core_details']['description'])\n",
    "    print(\"Event type: \", x['properties']['core_details']['event_type'])\n",
    "    print(\"Road name: \", x['properties']['core_details']['road_names'])\n",
    "    print(\"Vehicle impact: \", x['properties']['vehicle_impact'])\n",
    "    print(\"Dates: \", x['properties']['start_date'], \"to \", x['properties']['end_date'])\n",
    "    print(\"\")\n",
    "    counter+=1"
   ]
  },
  {
   "cell_type": "code",
   "execution_count": null,
   "id": "fea33d0c",
   "metadata": {},
   "outputs": [],
   "source": []
  }
 ],
 "metadata": {
  "kernelspec": {
   "display_name": "geo_env",
   "language": "python",
   "name": "geo_env"
  },
  "language_info": {
   "codemirror_mode": {
    "name": "ipython",
    "version": 3
   },
   "file_extension": ".py",
   "mimetype": "text/x-python",
   "name": "python",
   "nbconvert_exporter": "python",
   "pygments_lexer": "ipython3",
   "version": "3.10.4"
  }
 },
 "nbformat": 4,
 "nbformat_minor": 5
}
