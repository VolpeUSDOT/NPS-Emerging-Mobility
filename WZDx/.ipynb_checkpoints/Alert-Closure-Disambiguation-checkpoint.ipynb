{
 "cells": [
  {
   "cell_type": "code",
   "execution_count": 18,
   "id": "ddb9db3a",
   "metadata": {},
   "outputs": [],
   "source": [
    "import requests\n",
    "import pandas as pd\n",
    "import json\n",
    "import re"
   ]
  },
  {
   "cell_type": "code",
   "execution_count": 19,
   "id": "99fe15ab",
   "metadata": {},
   "outputs": [],
   "source": [
    "password = pd.read_csv(\"passwords.csv\")\n",
    "password_nps = password[\"password\"][0]"
   ]
  },
  {
   "cell_type": "code",
   "execution_count": 25,
   "id": "04280916",
   "metadata": {},
   "outputs": [],
   "source": [
    "#pull API using API key\n",
    "alerts_url = \"https://developer.nps.gov/api/v1/alerts?limit=1000&api_key=\" + password_nps\n",
    "\n",
    "response_API = requests.get(alerts_url)\n",
    "#print(response_API.status_code)\n",
    "data = response_API.text\n",
    "alerts_json = json.loads(data)"
   ]
  },
  {
   "cell_type": "code",
   "execution_count": null,
   "id": "4713aec2",
   "metadata": {},
   "outputs": [],
   "source": [
    "data_list_of_dicts = alerts_json['data']\n",
    "alerts_df = pd.DataFrame(data_list_of_dicts)\n",
    "#alerts_df.to_csv('alerts.csv', index=False)"
   ]
  },
  {
   "cell_type": "code",
   "execution_count": 29,
   "id": "470a5054",
   "metadata": {},
   "outputs": [],
   "source": [
    "road_labels = ['road', 'drive', 'bypass', 'highway', 'parking lot']\n",
    "closed_labels = ['closed', 'closure', 'closures']\n",
    "\n",
    "road_pattern = \"|\".join(map(re.escape, road_labels))\n",
    "closed_pattern = \"|\".join(map(re.escape, closed_labels))\n",
    "\n",
    "road_label_matches = alerts_df['description'].str.contains(road_pattern, case=False, na=False)\n",
    "closure_label_matches = alerts_df['description'].str.contains(closed_pattern, case=False, na=False)\n",
    "\n",
    "alerts_df[\"Actual_Closure\"] = (road_label_matches & closure_label_matches).map({True: 'yes', False: 'no'})\n",
    "\n",
    "alerts_df.to_csv('Alerts_with_closures.csv', index=False)"
   ]
  }
 ],
 "metadata": {
  "kernelspec": {
   "display_name": "NPS-Emerging-Mobility",
   "language": "python",
   "name": "python3"
  },
  "language_info": {
   "codemirror_mode": {
    "name": "ipython",
    "version": 3
   },
   "file_extension": ".py",
   "mimetype": "text/x-python",
   "name": "python",
   "nbconvert_exporter": "python",
   "pygments_lexer": "ipython3",
   "version": "3.13.2"
  }
 },
 "nbformat": 4,
 "nbformat_minor": 5
}
