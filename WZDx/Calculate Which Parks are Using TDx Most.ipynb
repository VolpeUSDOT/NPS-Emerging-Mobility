{
 "cells": [
  {
   "cell_type": "code",
   "execution_count": 6,
   "id": "9818bdb4-929c-499b-a328-cfc69aa2ec3b",
   "metadata": {},
   "outputs": [
    {
     "name": "stdout",
     "output_type": "stream",
     "text": [
      "     Park Alpha                     Status park alpha              Park Name  \\\n",
      "0          CARE  Using TDx feed and alerts       CARE           Capitol Reef   \n",
      "1          SHEN  Using TDx feed and alerts       SHEN             Shenandoah   \n",
      "2          CRLA  Using TDx feed and alerts       CRLA            Crater Lake   \n",
      "3          GRSM  Using TDx feed and alerts       GRSM  Great Smoky Mountains   \n",
      "4          BLRI  Using TDx feed and alerts       BLRI             Blue Ridge   \n",
      "...         ...                        ...        ...                    ...   \n",
      "2541       ELMA          Only using alerts       ELMA             El Malpais   \n",
      "2542       HALE          Only using alerts       HALE              Haleakala   \n",
      "2543       ARCH          Only using alerts       ARCH                 Arches   \n",
      "2544       FONE          Only using alerts       FONE         Fort Necessity   \n",
      "2545       DEVA        Only using TDx feed        NaN                    NaN   \n",
      "\n",
      "                           Park Full Name          Type of Unit  State  Reg  \\\n",
      "0              Capitol Reef National Park         National Park     UT  IMR   \n",
      "1                Shenandoah National Park         National Park     VA  NER   \n",
      "2               Crater Lake National Park         National Park     OR  PWR   \n",
      "3     Great Smoky Mountains National Park         National Park  TN,NC  SER   \n",
      "4                      Blue Ridge Parkway               Parkway  NC,VA  SER   \n",
      "...                                   ...                   ...    ...  ...   \n",
      "2541         El Malpais National Monument     National Monument     NM  IMR   \n",
      "2542              Haleakala National Park         National Park     HI  PWR   \n",
      "2543                 Arches National Park         National Park     UT  IMR   \n",
      "2544  Fort Necessity National Battlefield  National Battlefield     PA  NER   \n",
      "2545                                  NaN                   NaN    NaN  NaN   \n",
      "\n",
      "                                                  title  \\\n",
      "0                          ['Seasonal Canyon Closures']   \n",
      "1     ['Red Gate Fire Road', 'Tanners Ridge Fire Road']   \n",
      "2     ['North Entrance Temporary Closure Beginning T...   \n",
      "3     ['Cades Cove closed Wednesdays to motor vehicl...   \n",
      "4     ['MP 292 - MP 305 Road Construction', 'MP 276....   \n",
      "...                                                 ...   \n",
      "2541  ['El Malpais Visitor Center closed May 13-15',...   \n",
      "2542  ['Drive Cautiously - Endangered Birds on Roadw...   \n",
      "2543  ['Road repairs may occur 4/29 to 8/1; brief de...   \n",
      "2544         ['Portions of Braddock Road Trail Closed']   \n",
      "2545                                                NaN   \n",
      "\n",
      "                                            description  \\\n",
      "0     ['The following are closed to the public throu...   \n",
      "1     ['Closed to vehicular traffic.', 'Closed to ve...   \n",
      "2     ['The North Entrance to Crater Lake National P...   \n",
      "3     ['Cades Cove Loop Road is motor vehicle-free a...   \n",
      "4     ['Single lane closure possible for road paving...   \n",
      "...                                                 ...   \n",
      "2541  [\"The El Malpais Visitor Center will be closed...   \n",
      "2542  ['Nēnē (Hawaiian geese) and ʻuaʻu (Hawaiian pe...   \n",
      "2543  [\"Crews will perform crack sealing and similar...   \n",
      "2544  ['Portions of the Braddock Road Trail at the I...   \n",
      "2545                                                NaN   \n",
      "\n",
      "                                               category  \\\n",
      "0                                      ['Park Closure']   \n",
      "1                        ['Information', 'Information']   \n",
      "2                      ['Park Closure', 'Park Closure']   \n",
      "3       ['Park Closure', 'Information', 'Park Closure']   \n",
      "4     ['Information', 'Information', 'Information', ...   \n",
      "...                                                 ...   \n",
      "2541                        ['Park Closure', 'Caution']   \n",
      "2542                                    ['Information']   \n",
      "2543                     ['Information', 'Information']   \n",
      "2544                                    ['Information']   \n",
      "2545                                                NaN   \n",
      "\n",
      "                                      relatedRoadEvents        date  \\\n",
      "0                                                  [[]]  2024-08-13   \n",
      "1     [[{'title': 'Red Gate Fire Road', 'id': 'B7AF5...  2024-08-13   \n",
      "2     [[{'title': 'North Entrance Road Temporary Clo...  2024-08-13   \n",
      "3                                          [[], [], []]  2024-08-13   \n",
      "4     [[{'title': 'MP 292 - MP 305 Road Construction...  2024-08-13   \n",
      "...                                                 ...         ...   \n",
      "2541                                           [[], []]   4/26/2024   \n",
      "2542                                               [[]]   4/26/2024   \n",
      "2543                                           [[], []]   4/26/2024   \n",
      "2544                                               [[]]   4/26/2024   \n",
      "2545                                                NaN   4/26/2024   \n",
      "\n",
      "      Column Labels  \n",
      "0               NaN  \n",
      "1               NaN  \n",
      "2               NaN  \n",
      "3               NaN  \n",
      "4               NaN  \n",
      "...             ...  \n",
      "2541            NaN  \n",
      "2542            NaN  \n",
      "2543            NaN  \n",
      "2544            NaN  \n",
      "2545            NaN  \n",
      "\n",
      "[2546 rows x 14 columns]\n"
     ]
    }
   ],
   "source": [
    "import pandas as pd\n",
    "df_tdx_usage = pd.read_csv(\"./combined_status_tracker.csv\")\n",
    "#print(df_tdx_usage)"
   ]
  },
  {
   "cell_type": "code",
   "execution_count": 8,
   "id": "2385cddf-682e-40b0-8eba-c1e90d5c849a",
   "metadata": {},
   "outputs": [
    {
     "name": "stdout",
     "output_type": "stream",
     "text": [
      "17\n"
     ]
    }
   ],
   "source": [
    "#total_times_run = df_tdx_usage['date'].nunique()\n",
    "#print(total_times_run)"
   ]
  },
  {
   "cell_type": "code",
   "execution_count": 10,
   "id": "dc3e0e55-9e37-439c-8b30-650ec1d6a30a",
   "metadata": {},
   "outputs": [],
   "source": [
    "#### Filtering to only Status is using TDx or TDx and alerts\n",
    "df_tdx_usage = df_tdx_usage[df_tdx_usage['Status'].isin([\"Using TDx feed and alerts\", \"Only using TDx feed\"])]"
   ]
  },
  {
   "cell_type": "code",
   "execution_count": 12,
   "id": "52cd4783-0e74-424d-b243-c54d4a56a263",
   "metadata": {},
   "outputs": [
    {
     "name": "stdout",
     "output_type": "stream",
     "text": [
      "   Park Alpha  Pulls where using TDx\n",
      "20       SHEN                     22\n",
      "9        GRSM                     22\n",
      "15       OZAR                     22\n",
      "3        BUFF                     22\n",
      "14       ORPI                     22\n",
      "5        CRLA                     22\n",
      "1        BLCA                     22\n",
      "11       MOJA                     22\n",
      "10       GUMO                     22\n",
      "22       YOSE                     17\n",
      "4        CARE                     15\n",
      "2        BLRI                     15\n",
      "6        CURE                     14\n",
      "7        DESO                     12\n",
      "21       SLBE                      8\n"
     ]
    }
   ],
   "source": [
    "#### Seeing which parks have used the TDx feed the most number of weeks\n",
    "df_tdx_usage_count = df_tdx_usage.groupby('Park Alpha').size().reset_index(name='Pulls where using TDx')\n",
    "\n",
    "df_tdx_usage_sorted = df_tdx_usage_count.sort_values(by='Pulls where using TDx', ascending=False)\n",
    "\n",
    "print(df_tdx_usage_sorted.head(15))"
   ]
  }
 ],
 "metadata": {
  "kernelspec": {
   "display_name": "Python 3 (ipykernel)",
   "language": "python",
   "name": "python3"
  },
  "language_info": {
   "codemirror_mode": {
    "name": "ipython",
    "version": 3
   },
   "file_extension": ".py",
   "mimetype": "text/x-python",
   "name": "python",
   "nbconvert_exporter": "python",
   "pygments_lexer": "ipython3",
   "version": "3.12.4"
  }
 },
 "nbformat": 4,
 "nbformat_minor": 5
}
