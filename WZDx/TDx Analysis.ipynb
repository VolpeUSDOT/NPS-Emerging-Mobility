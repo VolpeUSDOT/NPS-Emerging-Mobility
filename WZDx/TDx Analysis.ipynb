{
 "cells": [
  {
   "cell_type": "code",
   "execution_count": 1,
   "id": "a117a4ff",
   "metadata": {},
   "outputs": [],
   "source": [
    "#import packages\n",
    "import requests\n",
    "import json\n",
    "from collections import Counter\n",
    "import pandas as pd\n",
    "import matplotlib.pyplot as plt\n",
    "import datetime\n"
   ]
  },
  {
   "cell_type": "code",
   "execution_count": 2,
   "id": "ac537d15",
   "metadata": {},
   "outputs": [
    {
     "data": {
      "text/html": [
       "<div>\n",
       "<style scoped>\n",
       "    .dataframe tbody tr th:only-of-type {\n",
       "        vertical-align: middle;\n",
       "    }\n",
       "\n",
       "    .dataframe tbody tr th {\n",
       "        vertical-align: top;\n",
       "    }\n",
       "\n",
       "    .dataframe thead th {\n",
       "        text-align: right;\n",
       "    }\n",
       "</style>\n",
       "<table border=\"1\" class=\"dataframe\">\n",
       "  <thead>\n",
       "    <tr style=\"text-align: right;\">\n",
       "      <th></th>\n",
       "      <th>Park Name</th>\n",
       "      <th>Park Full Name</th>\n",
       "      <th>Type of Unit</th>\n",
       "      <th>State</th>\n",
       "      <th>Reg</th>\n",
       "      <th>Alpha</th>\n",
       "      <th>Unit</th>\n",
       "    </tr>\n",
       "  </thead>\n",
       "  <tbody>\n",
       "    <tr>\n",
       "      <th>0</th>\n",
       "      <td>Abraham Lincoln Birthplace</td>\n",
       "      <td>Abraham Lincoln Birthplace National Historical...</td>\n",
       "      <td>National Historical Park</td>\n",
       "      <td>KY</td>\n",
       "      <td>SER</td>\n",
       "      <td>ABLI</td>\n",
       "      <td>1.0</td>\n",
       "    </tr>\n",
       "    <tr>\n",
       "      <th>1</th>\n",
       "      <td>Acadia</td>\n",
       "      <td>Acadia National Park</td>\n",
       "      <td>National Park</td>\n",
       "      <td>ME</td>\n",
       "      <td>NER</td>\n",
       "      <td>ACAD</td>\n",
       "      <td>1.0</td>\n",
       "    </tr>\n",
       "    <tr>\n",
       "      <th>2</th>\n",
       "      <td>Adams</td>\n",
       "      <td>Adams National Historical Park</td>\n",
       "      <td>National Historical Park</td>\n",
       "      <td>MA</td>\n",
       "      <td>NER</td>\n",
       "      <td>ADAM</td>\n",
       "      <td>1.0</td>\n",
       "    </tr>\n",
       "    <tr>\n",
       "      <th>3</th>\n",
       "      <td>African Burial Ground</td>\n",
       "      <td>African Burial Ground National Monument</td>\n",
       "      <td>National Monument</td>\n",
       "      <td>NY</td>\n",
       "      <td>NER</td>\n",
       "      <td>AFBG</td>\n",
       "      <td>1.0</td>\n",
       "    </tr>\n",
       "    <tr>\n",
       "      <th>4</th>\n",
       "      <td>Agate Fossil Beds</td>\n",
       "      <td>Agate Fossil Beds National Monument</td>\n",
       "      <td>National Monument</td>\n",
       "      <td>NE</td>\n",
       "      <td>MWR</td>\n",
       "      <td>AGFO</td>\n",
       "      <td>1.0</td>\n",
       "    </tr>\n",
       "  </tbody>\n",
       "</table>\n",
       "</div>"
      ],
      "text/plain": [
       "                    Park Name  \\\n",
       "0  Abraham Lincoln Birthplace   \n",
       "1                      Acadia   \n",
       "2                       Adams   \n",
       "3       African Burial Ground   \n",
       "4           Agate Fossil Beds   \n",
       "\n",
       "                                      Park Full Name  \\\n",
       "0  Abraham Lincoln Birthplace National Historical...   \n",
       "1                               Acadia National Park   \n",
       "2                     Adams National Historical Park   \n",
       "3            African Burial Ground National Monument   \n",
       "4                Agate Fossil Beds National Monument   \n",
       "\n",
       "               Type of Unit State  Reg Alpha  Unit  \n",
       "0  National Historical Park    KY  SER  ABLI   1.0  \n",
       "1             National Park    ME  NER  ACAD   1.0  \n",
       "2  National Historical Park    MA  NER  ADAM   1.0  \n",
       "3         National Monument    NY  NER  AFBG   1.0  \n",
       "4         National Monument    NE  MWR  AGFO   1.0  "
      ]
     },
     "execution_count": 2,
     "metadata": {},
     "output_type": "execute_result"
    }
   ],
   "source": [
    "path = \"Park Unit Scraping Information.csv\"\n",
    "parks = pd.read_csv(path, encoding='latin-1')\n",
    "parks.head()"
   ]
  },
  {
   "cell_type": "code",
   "execution_count": 13,
   "id": "638fdeb2",
   "metadata": {},
   "outputs": [],
   "source": [
    "df = pd.read_csv(\"./TDx_tracker.csv\")"
   ]
  },
  {
   "cell_type": "code",
   "execution_count": 14,
   "id": "20f79b00",
   "metadata": {
    "scrolled": true
   },
   "outputs": [
    {
     "data": {
      "text/html": [
       "<div>\n",
       "<style scoped>\n",
       "    .dataframe tbody tr th:only-of-type {\n",
       "        vertical-align: middle;\n",
       "    }\n",
       "\n",
       "    .dataframe tbody tr th {\n",
       "        vertical-align: top;\n",
       "    }\n",
       "\n",
       "    .dataframe thead th {\n",
       "        text-align: right;\n",
       "    }\n",
       "</style>\n",
       "<table border=\"1\" class=\"dataframe\">\n",
       "  <thead>\n",
       "    <tr style=\"text-align: right;\">\n",
       "      <th></th>\n",
       "      <th>date</th>\n",
       "      <th>park</th>\n",
       "      <th>alert name</th>\n",
       "      <th>description</th>\n",
       "      <th>event type</th>\n",
       "      <th>road name</th>\n",
       "      <th>vehicle impact</th>\n",
       "      <th>event start date</th>\n",
       "      <th>alert_id</th>\n",
       "      <th>region</th>\n",
       "      <th>alpha</th>\n",
       "      <th>State</th>\n",
       "    </tr>\n",
       "  </thead>\n",
       "  <tbody>\n",
       "    <tr>\n",
       "      <th>0</th>\n",
       "      <td>10/17/2023</td>\n",
       "      <td>Yosemite National Park</td>\n",
       "      <td>Mariposa Grove Road Repair</td>\n",
       "      <td>Mariposa Grove Road is closed October 16–27 fo...</td>\n",
       "      <td>work-zone</td>\n",
       "      <td>['Mariposa Grove Road']</td>\n",
       "      <td>all-lanes-closed</td>\n",
       "      <td>2023-10-15T23:00:00Z</td>\n",
       "      <td>2023-10-27T14:00:00Z</td>\n",
       "      <td>NaN</td>\n",
       "      <td>NaN</td>\n",
       "      <td>NaN</td>\n",
       "    </tr>\n",
       "    <tr>\n",
       "      <th>1</th>\n",
       "      <td>10/17/2023</td>\n",
       "      <td>Yosemite National Park</td>\n",
       "      <td>Glacier Point Road Construction</td>\n",
       "      <td>Expect 30-minute delays, Monday through Friday...</td>\n",
       "      <td>work-zone</td>\n",
       "      <td>['Glacier Point Road']</td>\n",
       "      <td>flagging</td>\n",
       "      <td>2023-05-01T10:15:00Z</td>\n",
       "      <td>2023-10-31T10:15:00Z</td>\n",
       "      <td>NaN</td>\n",
       "      <td>NaN</td>\n",
       "      <td>NaN</td>\n",
       "    </tr>\n",
       "    <tr>\n",
       "      <th>2</th>\n",
       "      <td>10/17/2023</td>\n",
       "      <td>Mojave National Preserve</td>\n",
       "      <td>Cima Road Closed to ALL VEHICLES due to Constr...</td>\n",
       "      <td>Cima Road is undergoing a major renovation for...</td>\n",
       "      <td>work-zone</td>\n",
       "      <td>['Cima Road']</td>\n",
       "      <td>all-lanes-closed</td>\n",
       "      <td>2023-07-26T09:54:00Z</td>\n",
       "      <td>2024-03-31T09:49:00Z</td>\n",
       "      <td>NaN</td>\n",
       "      <td>NaN</td>\n",
       "      <td>NaN</td>\n",
       "    </tr>\n",
       "    <tr>\n",
       "      <th>3</th>\n",
       "      <td>10/17/2023</td>\n",
       "      <td>Acadia National Park</td>\n",
       "      <td>Expect carriage road construction between inte...</td>\n",
       "      <td>Watch for heavy equipment and rough surfaces o...</td>\n",
       "      <td>work-zone</td>\n",
       "      <td>['Carriage Road between intersections 10 and 11']</td>\n",
       "      <td>unknown</td>\n",
       "      <td>2023-09-29T02:48:00Z</td>\n",
       "      <td>2023-10-31T02:48:00Z</td>\n",
       "      <td>NaN</td>\n",
       "      <td>NaN</td>\n",
       "      <td>NaN</td>\n",
       "    </tr>\n",
       "    <tr>\n",
       "      <th>4</th>\n",
       "      <td>10/17/2023</td>\n",
       "      <td>Acadia National Park</td>\n",
       "      <td>Blasting and heavy construction at Park Headqu...</td>\n",
       "      <td>As part of the construction of the park's new ...</td>\n",
       "      <td>work-zone</td>\n",
       "      <td>['Acadia Park Headquarters']</td>\n",
       "      <td>some-lanes-closed</td>\n",
       "      <td>2023-09-29T03:41:00Z</td>\n",
       "      <td>2025-09-30T03:41:00Z</td>\n",
       "      <td>NaN</td>\n",
       "      <td>NaN</td>\n",
       "      <td>NaN</td>\n",
       "    </tr>\n",
       "  </tbody>\n",
       "</table>\n",
       "</div>"
      ],
      "text/plain": [
       "         date                      park  \\\n",
       "0  10/17/2023    Yosemite National Park   \n",
       "1  10/17/2023    Yosemite National Park   \n",
       "2  10/17/2023  Mojave National Preserve   \n",
       "3  10/17/2023      Acadia National Park   \n",
       "4  10/17/2023      Acadia National Park   \n",
       "\n",
       "                                          alert name  \\\n",
       "0                         Mariposa Grove Road Repair   \n",
       "1                    Glacier Point Road Construction   \n",
       "2  Cima Road Closed to ALL VEHICLES due to Constr...   \n",
       "3  Expect carriage road construction between inte...   \n",
       "4  Blasting and heavy construction at Park Headqu...   \n",
       "\n",
       "                                         description event type  \\\n",
       "0  Mariposa Grove Road is closed October 16–27 fo...  work-zone   \n",
       "1  Expect 30-minute delays, Monday through Friday...  work-zone   \n",
       "2  Cima Road is undergoing a major renovation for...  work-zone   \n",
       "3  Watch for heavy equipment and rough surfaces o...  work-zone   \n",
       "4  As part of the construction of the park's new ...  work-zone   \n",
       "\n",
       "                                           road name     vehicle impact  \\\n",
       "0                            ['Mariposa Grove Road']   all-lanes-closed   \n",
       "1                             ['Glacier Point Road']           flagging   \n",
       "2                                      ['Cima Road']   all-lanes-closed   \n",
       "3  ['Carriage Road between intersections 10 and 11']            unknown   \n",
       "4                       ['Acadia Park Headquarters']  some-lanes-closed   \n",
       "\n",
       "       event start date              alert_id region alpha State  \n",
       "0  2023-10-15T23:00:00Z  2023-10-27T14:00:00Z    NaN   NaN   NaN  \n",
       "1  2023-05-01T10:15:00Z  2023-10-31T10:15:00Z    NaN   NaN   NaN  \n",
       "2  2023-07-26T09:54:00Z  2024-03-31T09:49:00Z    NaN   NaN   NaN  \n",
       "3  2023-09-29T02:48:00Z  2023-10-31T02:48:00Z    NaN   NaN   NaN  \n",
       "4  2023-09-29T03:41:00Z  2025-09-30T03:41:00Z    NaN   NaN   NaN  "
      ]
     },
     "execution_count": 14,
     "metadata": {},
     "output_type": "execute_result"
    }
   ],
   "source": [
    "df.head()"
   ]
  },
  {
   "cell_type": "code",
   "execution_count": 15,
   "id": "d00805d3",
   "metadata": {},
   "outputs": [
    {
     "data": {
      "text/plain": [
       "(321, 12)"
      ]
     },
     "execution_count": 15,
     "metadata": {},
     "output_type": "execute_result"
    }
   ],
   "source": [
    "df.shape"
   ]
  },
  {
   "cell_type": "code",
   "execution_count": 16,
   "id": "14a5f72a",
   "metadata": {},
   "outputs": [
    {
     "data": {
      "text/plain": [
       "Crater Lake National Park                     54\n",
       "Great Smoky Mountains National Park           38\n",
       "Mojave National Preserve                      37\n",
       "Yosemite National Park                        28\n",
       "Shenandoah National Park                      26\n",
       "Zion National Park                            15\n",
       "Death Valley National Park                    14\n",
       "Bryce Canyon National Park                    12\n",
       "Dinosaur National Monument                    12\n",
       "Guadalupe Mountains National Park              8\n",
       "Padre Island National Seashore                 8\n",
       "Organ Pipe Cactus National Monument            8\n",
       "Acadia National Park                           7\n",
       "Golden Gate National Recreation Area           6\n",
       "Point Reyes National Seashore                  6\n",
       "Buffalo National River                         6\n",
       "Olympic National Park                          5\n",
       "Fort Point National Historic Site              5\n",
       "Redwood National Park                          5\n",
       "Ozark National Scenic Riverways                4\n",
       "Natchez Trace Parkway                          4\n",
       "Black Canyon of the Gunnison National Park     4\n",
       "Piscataway Park                                4\n",
       "Sleeping Bear Dunes National Lakeshore         2\n",
       "Valley Forge National Historical Park          2\n",
       "Muir Woods National Monument                   1\n",
       "Name: park, dtype: int64"
      ]
     },
     "execution_count": 16,
     "metadata": {},
     "output_type": "execute_result"
    }
   ],
   "source": [
    "df.park.value_counts()"
   ]
  },
  {
   "cell_type": "code",
   "execution_count": 17,
   "id": "77e7be77",
   "metadata": {},
   "outputs": [
    {
     "data": {
      "text/plain": [
       "26"
      ]
     },
     "execution_count": 17,
     "metadata": {},
     "output_type": "execute_result"
    }
   ],
   "source": [
    "len(df.park.unique())"
   ]
  },
  {
   "cell_type": "code",
   "execution_count": 33,
   "id": "e805744a",
   "metadata": {},
   "outputs": [],
   "source": [
    "df['date'] = pd.to_datetime(df.date)\n"
   ]
  },
  {
   "cell_type": "code",
   "execution_count": 34,
   "id": "bfb992e9",
   "metadata": {
    "scrolled": true
   },
   "outputs": [
    {
     "data": {
      "text/plain": [
       "2024-03-04    83\n",
       "2024-04-02    62\n",
       "2024-02-05    61\n",
       "2024-04-19    59\n",
       "2023-10-17    11\n",
       "2023-10-23    11\n",
       "2024-02-01     8\n",
       "2024-01-11     5\n",
       "2024-01-18     4\n",
       "2023-11-27     4\n",
       "2023-12-18     4\n",
       "2024-01-25     3\n",
       "2024-01-04     3\n",
       "2023-12-28     3\n",
       "Name: date, dtype: int64"
      ]
     },
     "execution_count": 34,
     "metadata": {},
     "output_type": "execute_result"
    }
   ],
   "source": [
    "df.date.value_counts()"
   ]
  },
  {
   "cell_type": "code",
   "execution_count": 35,
   "id": "aebc40f1",
   "metadata": {},
   "outputs": [],
   "source": [
    "df = df.sort_values(by=['date'])"
   ]
  },
  {
   "cell_type": "code",
   "execution_count": 36,
   "id": "caaf4712",
   "metadata": {},
   "outputs": [
    {
     "name": "stdout",
     "output_type": "stream",
     "text": [
      "2023-10-17T00:00:00.000000000 :  11\n",
      "Yosemite National Park\n",
      "Acadia National Park\n",
      "Mojave National Preserve\n",
      "Olympic National Park\n",
      "Golden Gate National Recreation Area\n",
      "Natchez Trace Parkway\n",
      "Dinosaur National Monument\n",
      "2023-10-23T00:00:00.000000000 :  11\n",
      "2023-11-27T00:00:00.000000000 :  4\n",
      "Padre Island National Seashore\n",
      "2023-12-18T00:00:00.000000000 :  4\n",
      "Fort Point National Historic Site\n",
      "Muir Woods National Monument\n",
      "2023-12-28T00:00:00.000000000 :  3\n",
      "2024-01-04T00:00:00.000000000 :  3\n",
      "2024-01-11T00:00:00.000000000 :  5\n",
      "Shenandoah National Park\n",
      "2024-01-18T00:00:00.000000000 :  4\n",
      "2024-01-25T00:00:00.000000000 :  3\n",
      "2024-02-01T00:00:00.000000000 :  8\n",
      "2024-02-05T00:00:00.000000000 :  61\n",
      "Crater Lake National Park\n",
      "Point Reyes National Seashore\n",
      "Bryce Canyon National Park\n",
      "Zion National Park\n",
      "Organ Pipe Cactus National Monument\n",
      "Death Valley National Park\n",
      "Valley Forge National Historical Park\n",
      "Redwood National Park\n",
      "Guadalupe Mountains National Park\n",
      "2024-03-04T00:00:00.000000000 :  83\n",
      "Great Smoky Mountains National Park\n",
      "Buffalo National River\n",
      "Piscataway Park\n",
      "2024-04-02T00:00:00.000000000 :  62\n",
      "Ozark National Scenic Riverways\n",
      "Black Canyon of the Gunnison National Park\n",
      "2024-04-19T00:00:00.000000000 :  59\n",
      "Sleeping Bear Dunes National Lakeshore\n"
     ]
    }
   ],
   "source": [
    "running_park_list = []\n",
    "date_list = []\n",
    "park_count_list = []\n",
    "\n",
    "for x in df.date.unique():\n",
    "    df_date = df.loc[df['date']==x]\n",
    "    print(x, \": \", len(df_date))\n",
    "    for y in df_date['park']:\n",
    "        if y not in running_park_list:\n",
    "            print(y)\n",
    "            running_park_list.append(y)\n",
    "    date_list.append(x)\n",
    "    park_count_list.append(len(running_park_list))"
   ]
  },
  {
   "cell_type": "code",
   "execution_count": 37,
   "id": "ed71f747",
   "metadata": {},
   "outputs": [
    {
     "data": {
      "text/plain": [
       "[7, 7, 8, 10, 10, 10, 11, 11, 11, 11, 20, 23, 25, 26]"
      ]
     },
     "execution_count": 37,
     "metadata": {},
     "output_type": "execute_result"
    }
   ],
   "source": [
    "park_count_list"
   ]
  },
  {
   "cell_type": "code",
   "execution_count": 38,
   "id": "08652a8d",
   "metadata": {},
   "outputs": [
    {
     "name": "stdout",
     "output_type": "stream",
     "text": [
      "datetime64[ns]\n"
     ]
    }
   ],
   "source": [
    "df_count = pd.DataFrame({\n",
    "    'date': date_list,\n",
    "    \"count of parks\": park_count_list\n",
    "})\n",
    "df_count['date'] = pd.to_datetime(df_count['date'])\n",
    "print(df_count['date'].dtypes)\n"
   ]
  },
  {
   "cell_type": "code",
   "execution_count": 39,
   "id": "83580c42",
   "metadata": {},
   "outputs": [
    {
     "data": {
      "text/html": [
       "<div>\n",
       "<style scoped>\n",
       "    .dataframe tbody tr th:only-of-type {\n",
       "        vertical-align: middle;\n",
       "    }\n",
       "\n",
       "    .dataframe tbody tr th {\n",
       "        vertical-align: top;\n",
       "    }\n",
       "\n",
       "    .dataframe thead th {\n",
       "        text-align: right;\n",
       "    }\n",
       "</style>\n",
       "<table border=\"1\" class=\"dataframe\">\n",
       "  <thead>\n",
       "    <tr style=\"text-align: right;\">\n",
       "      <th></th>\n",
       "      <th>date</th>\n",
       "      <th>count of parks</th>\n",
       "    </tr>\n",
       "  </thead>\n",
       "  <tbody>\n",
       "    <tr>\n",
       "      <th>0</th>\n",
       "      <td>2023-10-17</td>\n",
       "      <td>7</td>\n",
       "    </tr>\n",
       "    <tr>\n",
       "      <th>1</th>\n",
       "      <td>2023-10-23</td>\n",
       "      <td>7</td>\n",
       "    </tr>\n",
       "    <tr>\n",
       "      <th>2</th>\n",
       "      <td>2023-11-27</td>\n",
       "      <td>8</td>\n",
       "    </tr>\n",
       "    <tr>\n",
       "      <th>3</th>\n",
       "      <td>2023-12-18</td>\n",
       "      <td>10</td>\n",
       "    </tr>\n",
       "    <tr>\n",
       "      <th>4</th>\n",
       "      <td>2023-12-28</td>\n",
       "      <td>10</td>\n",
       "    </tr>\n",
       "    <tr>\n",
       "      <th>5</th>\n",
       "      <td>2024-01-04</td>\n",
       "      <td>10</td>\n",
       "    </tr>\n",
       "    <tr>\n",
       "      <th>6</th>\n",
       "      <td>2024-01-11</td>\n",
       "      <td>11</td>\n",
       "    </tr>\n",
       "    <tr>\n",
       "      <th>7</th>\n",
       "      <td>2024-01-18</td>\n",
       "      <td>11</td>\n",
       "    </tr>\n",
       "    <tr>\n",
       "      <th>8</th>\n",
       "      <td>2024-01-25</td>\n",
       "      <td>11</td>\n",
       "    </tr>\n",
       "    <tr>\n",
       "      <th>9</th>\n",
       "      <td>2024-02-01</td>\n",
       "      <td>11</td>\n",
       "    </tr>\n",
       "    <tr>\n",
       "      <th>10</th>\n",
       "      <td>2024-02-05</td>\n",
       "      <td>20</td>\n",
       "    </tr>\n",
       "    <tr>\n",
       "      <th>11</th>\n",
       "      <td>2024-03-04</td>\n",
       "      <td>23</td>\n",
       "    </tr>\n",
       "    <tr>\n",
       "      <th>12</th>\n",
       "      <td>2024-04-02</td>\n",
       "      <td>25</td>\n",
       "    </tr>\n",
       "    <tr>\n",
       "      <th>13</th>\n",
       "      <td>2024-04-19</td>\n",
       "      <td>26</td>\n",
       "    </tr>\n",
       "  </tbody>\n",
       "</table>\n",
       "</div>"
      ],
      "text/plain": [
       "         date  count of parks\n",
       "0  2023-10-17               7\n",
       "1  2023-10-23               7\n",
       "2  2023-11-27               8\n",
       "3  2023-12-18              10\n",
       "4  2023-12-28              10\n",
       "5  2024-01-04              10\n",
       "6  2024-01-11              11\n",
       "7  2024-01-18              11\n",
       "8  2024-01-25              11\n",
       "9  2024-02-01              11\n",
       "10 2024-02-05              20\n",
       "11 2024-03-04              23\n",
       "12 2024-04-02              25\n",
       "13 2024-04-19              26"
      ]
     },
     "execution_count": 39,
     "metadata": {},
     "output_type": "execute_result"
    }
   ],
   "source": [
    "df_count.sort_values(by=['date'])"
   ]
  },
  {
   "cell_type": "code",
   "execution_count": 40,
   "id": "e116efa7",
   "metadata": {},
   "outputs": [
    {
     "data": {
      "text/plain": [
       "[<matplotlib.lines.Line2D at 0x227d9a7cdc0>]"
      ]
     },
     "execution_count": 40,
     "metadata": {},
     "output_type": "execute_result"
    },
    {
     "data": {
      "image/png": "[encoded data removed]",
      "text/plain": [
       "<Figure size 432x288 with 1 Axes>"
      ]
     },
     "metadata": {
      "needs_background": "light"
     },
     "output_type": "display_data"
    }
   ],
   "source": [
    "plt.plot(df_count.date, df_count['count of parks'])\n",
    "\n"
   ]
  },
  {
   "cell_type": "code",
   "execution_count": 42,
   "id": "9c53517a",
   "metadata": {},
   "outputs": [
    {
     "data": {
      "text/plain": [
       "[]"
      ]
     },
     "execution_count": 42,
     "metadata": {},
     "output_type": "execute_result"
    },
    {
     "data": {
      "image/png": "[encoded data removed]",
      "text/plain": [
       "<Figure size 1152x360 with 1 Axes>"
      ]
     },
     "metadata": {
      "needs_background": "light"
     },
     "output_type": "display_data"
    }
   ],
   "source": [
    "# Adjusting the figure size\n",
    "fig = plt.subplots(figsize=(16, 5))\n",
    "\n",
    "# Creating a plot\n",
    "plt.plot(df_count.date, df_count['count of parks'])\n",
    "\n",
    "# Adding a plot title and customizing its font size\n",
    "plt.title('Running Count of Parks that have Created TDx Alerts (248 Parks with Roads)', fontsize=20)\n",
    "\n",
    "# Adding axis labels and customizing their font size\n",
    "plt.xlabel('Date', fontsize=15)\n",
    "plt.ylabel('Count of Parks', fontsize=15)\n",
    "\n",
    "# Rotaing axis ticks and customizing their font size\n",
    "plt.xticks(rotation=30, fontsize=15)\n",
    "plt.ylim([0,max(df_count['count of parks'])*1.25])\n",
    "\n",
    "# Changing the plot resolution - zooming in the period from 15.12.2022 till 15.01.2023\n",
    "#plt.xlim(pd.Timestamp('2023-09-1'), pd.Timestamp('2024-02-15'))\n",
    "plt.plot()\n"
   ]
  },
  {
   "cell_type": "code",
   "execution_count": null,
   "id": "eb474e1d",
   "metadata": {},
   "outputs": [],
   "source": []
  }
 ],
 "metadata": {
  "kernelspec": {
   "display_name": "geo_env",
   "language": "python",
   "name": "geo_env"
  },
  "language_info": {
   "codemirror_mode": {
    "name": "ipython",
    "version": 3
   },
   "file_extension": ".py",
   "mimetype": "text/x-python",
   "name": "python",
   "nbconvert_exporter": "python",
   "pygments_lexer": "ipython3",
   "version": "3.10.4"
  }
 },
 "nbformat": 4,
 "nbformat_minor": 5
}
