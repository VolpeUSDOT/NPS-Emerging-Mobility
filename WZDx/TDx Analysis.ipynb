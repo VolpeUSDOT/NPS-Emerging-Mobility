{
 "cells": [
  {
   "cell_type": "code",
   "execution_count": 1,
   "id": "a117a4ff",
   "metadata": {},
   "outputs": [],
   "source": [
    "#import packages\n",
    "import requests\n",
    "import json\n",
    "from collections import Counter\n",
    "import pandas as pd\n",
    "import matplotlib.pyplot as plt\n",
    "import datetime\n"
   ]
  },
  {
   "cell_type": "code",
   "execution_count": 2,
   "id": "638fdeb2",
   "metadata": {},
   "outputs": [],
   "source": [
    "df = pd.read_csv(\"./TDx_tracker.csv\")"
   ]
  },
  {
   "cell_type": "code",
   "execution_count": 3,
   "id": "20f79b00",
   "metadata": {},
   "outputs": [
    {
     "data": {
      "text/html": [
       "<div>\n",
       "<style scoped>\n",
       "    .dataframe tbody tr th:only-of-type {\n",
       "        vertical-align: middle;\n",
       "    }\n",
       "\n",
       "    .dataframe tbody tr th {\n",
       "        vertical-align: top;\n",
       "    }\n",
       "\n",
       "    .dataframe thead th {\n",
       "        text-align: right;\n",
       "    }\n",
       "</style>\n",
       "<table border=\"1\" class=\"dataframe\">\n",
       "  <thead>\n",
       "    <tr style=\"text-align: right;\">\n",
       "      <th></th>\n",
       "      <th>date</th>\n",
       "      <th>park</th>\n",
       "      <th>alert name</th>\n",
       "      <th>description</th>\n",
       "      <th>event type</th>\n",
       "      <th>road name</th>\n",
       "      <th>vehicle impact</th>\n",
       "      <th>event start date</th>\n",
       "      <th>event end date</th>\n",
       "    </tr>\n",
       "  </thead>\n",
       "  <tbody>\n",
       "    <tr>\n",
       "      <th>0</th>\n",
       "      <td>2024-02-05</td>\n",
       "      <td>Crater Lake National Park</td>\n",
       "      <td>Heavy Snowfall</td>\n",
       "      <td>Road from Park Headquarters to Rim Village is ...</td>\n",
       "      <td>incident</td>\n",
       "      <td>['Munson Valley Road from Park Headquarters to...</td>\n",
       "      <td>all-lanes-closed</td>\n",
       "      <td>2024-02-04T13:50:00Z</td>\n",
       "      <td>No end date</td>\n",
       "    </tr>\n",
       "    <tr>\n",
       "      <th>1</th>\n",
       "      <td>2024-02-05</td>\n",
       "      <td>Crater Lake National Park</td>\n",
       "      <td>Heavy Snowfall</td>\n",
       "      <td>Road from Park Headquarters to Rim Village is ...</td>\n",
       "      <td>incident</td>\n",
       "      <td>['Munson Valley Road from Park Headquarters to...</td>\n",
       "      <td>all-lanes-closed</td>\n",
       "      <td>2024-02-04T13:50:00Z</td>\n",
       "      <td>No end date</td>\n",
       "    </tr>\n",
       "    <tr>\n",
       "      <th>2</th>\n",
       "      <td>2024-02-05</td>\n",
       "      <td>Crater Lake National Park</td>\n",
       "      <td>Seasonal Road Closure</td>\n",
       "      <td>North Entrance Road, West Rim Drive, and East ...</td>\n",
       "      <td>incident</td>\n",
       "      <td>['North Entrance Road', 'East Rim Drive', 'Pin...</td>\n",
       "      <td>all-lanes-closed</td>\n",
       "      <td>2023-11-01T12:19:00Z</td>\n",
       "      <td>No end date</td>\n",
       "    </tr>\n",
       "    <tr>\n",
       "      <th>3</th>\n",
       "      <td>2024-02-05</td>\n",
       "      <td>Crater Lake National Park</td>\n",
       "      <td>Seasonal Road Closure</td>\n",
       "      <td>North Entrance Road, West Rim Drive, and East ...</td>\n",
       "      <td>incident</td>\n",
       "      <td>['North Entrance Road', 'East Rim Drive', 'Pin...</td>\n",
       "      <td>all-lanes-closed</td>\n",
       "      <td>2023-11-01T12:19:00Z</td>\n",
       "      <td>No end date</td>\n",
       "    </tr>\n",
       "    <tr>\n",
       "      <th>4</th>\n",
       "      <td>2024-02-05</td>\n",
       "      <td>Crater Lake National Park</td>\n",
       "      <td>Seasonal Road Closure</td>\n",
       "      <td>North Entrance Road, West Rim Drive, and East ...</td>\n",
       "      <td>incident</td>\n",
       "      <td>['North Entrance Road', 'East Rim Drive', 'Pin...</td>\n",
       "      <td>all-lanes-closed</td>\n",
       "      <td>2023-11-01T12:19:00Z</td>\n",
       "      <td>No end date</td>\n",
       "    </tr>\n",
       "  </tbody>\n",
       "</table>\n",
       "</div>"
      ],
      "text/plain": [
       "         date                       park             alert name  \\\n",
       "0  2024-02-05  Crater Lake National Park         Heavy Snowfall   \n",
       "1  2024-02-05  Crater Lake National Park         Heavy Snowfall   \n",
       "2  2024-02-05  Crater Lake National Park  Seasonal Road Closure   \n",
       "3  2024-02-05  Crater Lake National Park  Seasonal Road Closure   \n",
       "4  2024-02-05  Crater Lake National Park  Seasonal Road Closure   \n",
       "\n",
       "                                         description event type  \\\n",
       "0  Road from Park Headquarters to Rim Village is ...   incident   \n",
       "1  Road from Park Headquarters to Rim Village is ...   incident   \n",
       "2  North Entrance Road, West Rim Drive, and East ...   incident   \n",
       "3  North Entrance Road, West Rim Drive, and East ...   incident   \n",
       "4  North Entrance Road, West Rim Drive, and East ...   incident   \n",
       "\n",
       "                                           road name    vehicle impact  \\\n",
       "0  ['Munson Valley Road from Park Headquarters to...  all-lanes-closed   \n",
       "1  ['Munson Valley Road from Park Headquarters to...  all-lanes-closed   \n",
       "2  ['North Entrance Road', 'East Rim Drive', 'Pin...  all-lanes-closed   \n",
       "3  ['North Entrance Road', 'East Rim Drive', 'Pin...  all-lanes-closed   \n",
       "4  ['North Entrance Road', 'East Rim Drive', 'Pin...  all-lanes-closed   \n",
       "\n",
       "       event start date event end date  \n",
       "0  2024-02-04T13:50:00Z    No end date  \n",
       "1  2024-02-04T13:50:00Z    No end date  \n",
       "2  2023-11-01T12:19:00Z    No end date  \n",
       "3  2023-11-01T12:19:00Z    No end date  \n",
       "4  2023-11-01T12:19:00Z    No end date  "
      ]
     },
     "execution_count": 3,
     "metadata": {},
     "output_type": "execute_result"
    }
   ],
   "source": [
    "df.head()"
   ]
  },
  {
   "cell_type": "code",
   "execution_count": 4,
   "id": "d00805d3",
   "metadata": {},
   "outputs": [
    {
     "data": {
      "text/plain": [
       "(117, 9)"
      ]
     },
     "execution_count": 4,
     "metadata": {},
     "output_type": "execute_result"
    }
   ],
   "source": [
    "df.shape"
   ]
  },
  {
   "cell_type": "code",
   "execution_count": 6,
   "id": "14a5f72a",
   "metadata": {},
   "outputs": [
    {
     "data": {
      "text/plain": [
       "Mojave National Preserve                 17\n",
       "Crater Lake National Park                14\n",
       "Shenandoah National Park                 14\n",
       "Yosemite National Park                    8\n",
       "Bryce Canyon National Park                8\n",
       "Acadia National Park                      7\n",
       "Padre Island National Seashore            6\n",
       "Dinosaur National Monument                6\n",
       "Fort Point National Historic Site         5\n",
       "Zion National Park                        4\n",
       "Golden Gate National Recreation Area      4\n",
       "Natchez Trace Parkway                     4\n",
       "Point Reyes National Seashore             4\n",
       "Olympic National Park                     4\n",
       "Redwood National Park                     3\n",
       "Organ Pipe Cactus National Monument       2\n",
       "Valley Forge National Historical Park     2\n",
       "Death Valley National Park                2\n",
       "Guadalupe Mountains National Park         2\n",
       "Muir Woods National Monument              1\n",
       "Name: park, dtype: int64"
      ]
     },
     "execution_count": 6,
     "metadata": {},
     "output_type": "execute_result"
    }
   ],
   "source": [
    "df.park.value_counts()"
   ]
  },
  {
   "cell_type": "code",
   "execution_count": 7,
   "id": "77e7be77",
   "metadata": {},
   "outputs": [
    {
     "data": {
      "text/plain": [
       "20"
      ]
     },
     "execution_count": 7,
     "metadata": {},
     "output_type": "execute_result"
    }
   ],
   "source": [
    "len(df.park.unique())"
   ]
  },
  {
   "cell_type": "code",
   "execution_count": 8,
   "id": "bfb992e9",
   "metadata": {},
   "outputs": [
    {
     "data": {
      "text/plain": [
       "2024-02-05    61\n",
       "2023-10-23    11\n",
       "2023-10-17    11\n",
       "2024-02-01     8\n",
       "2024-01-11     5\n",
       "2024-01-18     4\n",
       "2023-12-18     4\n",
       "2023-11-27     4\n",
       "2024-01-25     3\n",
       "2024-01-04     3\n",
       "2023-12-28     3\n",
       "Name: date, dtype: int64"
      ]
     },
     "execution_count": 8,
     "metadata": {},
     "output_type": "execute_result"
    }
   ],
   "source": [
    "df.date.value_counts()"
   ]
  },
  {
   "cell_type": "code",
   "execution_count": 11,
   "id": "aebc40f1",
   "metadata": {},
   "outputs": [],
   "source": [
    "df = df.sort_values(by=['date'])"
   ]
  },
  {
   "cell_type": "code",
   "execution_count": 14,
   "id": "caaf4712",
   "metadata": {},
   "outputs": [
    {
     "name": "stdout",
     "output_type": "stream",
     "text": [
      "2023-10-17 :  11\n",
      "Golden Gate National Recreation Area\n",
      "Yosemite National Park\n",
      "Mojave National Preserve\n",
      "Acadia National Park\n",
      "Olympic National Park\n",
      "Dinosaur National Monument\n",
      "Natchez Trace Parkway\n",
      "2023-10-23 :  11\n",
      "2023-11-27 :  4\n",
      "Padre Island National Seashore\n",
      "2023-12-18 :  4\n",
      "Muir Woods National Monument\n",
      "Fort Point National Historic Site\n",
      "2023-12-28 :  3\n",
      "2024-01-04 :  3\n",
      "2024-01-11 :  5\n",
      "Shenandoah National Park\n",
      "2024-01-18 :  4\n",
      "2024-01-25 :  3\n",
      "2024-02-01 :  8\n",
      "2024-02-05 :  61\n",
      "Redwood National Park\n",
      "Crater Lake National Park\n",
      "Zion National Park\n",
      "Point Reyes National Seashore\n",
      "Bryce Canyon National Park\n",
      "Guadalupe Mountains National Park\n",
      "Valley Forge National Historical Park\n",
      "Organ Pipe Cactus National Monument\n",
      "Death Valley National Park\n"
     ]
    }
   ],
   "source": [
    "running_park_list = []\n",
    "date_list = []\n",
    "park_count_list = []\n",
    "\n",
    "for x in df.date.unique():\n",
    "    df_date = df.loc[df['date']==x]\n",
    "    print(x, \": \", len(df_date))\n",
    "    for y in df_date['park']:\n",
    "        if y not in running_park_list:\n",
    "            print(y)\n",
    "            running_park_list.append(y)\n",
    "    date_list.append(x)\n",
    "    park_count_list.append(len(running_park_list))"
   ]
  },
  {
   "cell_type": "code",
   "execution_count": 15,
   "id": "ed71f747",
   "metadata": {},
   "outputs": [
    {
     "data": {
      "text/plain": [
       "[7, 7, 8, 10, 10, 10, 11, 11, 11, 11, 20]"
      ]
     },
     "execution_count": 15,
     "metadata": {},
     "output_type": "execute_result"
    }
   ],
   "source": [
    "park_count_list"
   ]
  },
  {
   "cell_type": "code",
   "execution_count": 23,
   "id": "08652a8d",
   "metadata": {},
   "outputs": [
    {
     "name": "stdout",
     "output_type": "stream",
     "text": [
      "datetime64[ns]\n"
     ]
    }
   ],
   "source": [
    "df_count = pd.DataFrame({\n",
    "    'date': date_list,\n",
    "    \"count of parks\": park_count_list\n",
    "})\n",
    "df_count['date'] = pd.to_datetime(df_count['date'])\n",
    "print(df_count['date'].dtypes)\n"
   ]
  },
  {
   "cell_type": "code",
   "execution_count": 19,
   "id": "83580c42",
   "metadata": {},
   "outputs": [
    {
     "data": {
      "text/html": [
       "<div>\n",
       "<style scoped>\n",
       "    .dataframe tbody tr th:only-of-type {\n",
       "        vertical-align: middle;\n",
       "    }\n",
       "\n",
       "    .dataframe tbody tr th {\n",
       "        vertical-align: top;\n",
       "    }\n",
       "\n",
       "    .dataframe thead th {\n",
       "        text-align: right;\n",
       "    }\n",
       "</style>\n",
       "<table border=\"1\" class=\"dataframe\">\n",
       "  <thead>\n",
       "    <tr style=\"text-align: right;\">\n",
       "      <th></th>\n",
       "      <th>date</th>\n",
       "      <th>count of parks</th>\n",
       "    </tr>\n",
       "  </thead>\n",
       "  <tbody>\n",
       "    <tr>\n",
       "      <th>0</th>\n",
       "      <td>2023-10-17</td>\n",
       "      <td>7</td>\n",
       "    </tr>\n",
       "    <tr>\n",
       "      <th>1</th>\n",
       "      <td>2023-10-23</td>\n",
       "      <td>7</td>\n",
       "    </tr>\n",
       "    <tr>\n",
       "      <th>2</th>\n",
       "      <td>2023-11-27</td>\n",
       "      <td>8</td>\n",
       "    </tr>\n",
       "    <tr>\n",
       "      <th>3</th>\n",
       "      <td>2023-12-18</td>\n",
       "      <td>10</td>\n",
       "    </tr>\n",
       "    <tr>\n",
       "      <th>4</th>\n",
       "      <td>2023-12-28</td>\n",
       "      <td>10</td>\n",
       "    </tr>\n",
       "    <tr>\n",
       "      <th>5</th>\n",
       "      <td>2024-01-04</td>\n",
       "      <td>10</td>\n",
       "    </tr>\n",
       "    <tr>\n",
       "      <th>6</th>\n",
       "      <td>2024-01-11</td>\n",
       "      <td>11</td>\n",
       "    </tr>\n",
       "    <tr>\n",
       "      <th>7</th>\n",
       "      <td>2024-01-18</td>\n",
       "      <td>11</td>\n",
       "    </tr>\n",
       "    <tr>\n",
       "      <th>8</th>\n",
       "      <td>2024-01-25</td>\n",
       "      <td>11</td>\n",
       "    </tr>\n",
       "    <tr>\n",
       "      <th>9</th>\n",
       "      <td>2024-02-01</td>\n",
       "      <td>11</td>\n",
       "    </tr>\n",
       "    <tr>\n",
       "      <th>10</th>\n",
       "      <td>2024-02-05</td>\n",
       "      <td>20</td>\n",
       "    </tr>\n",
       "  </tbody>\n",
       "</table>\n",
       "</div>"
      ],
      "text/plain": [
       "         date  count of parks\n",
       "0  2023-10-17               7\n",
       "1  2023-10-23               7\n",
       "2  2023-11-27               8\n",
       "3  2023-12-18              10\n",
       "4  2023-12-28              10\n",
       "5  2024-01-04              10\n",
       "6  2024-01-11              11\n",
       "7  2024-01-18              11\n",
       "8  2024-01-25              11\n",
       "9  2024-02-01              11\n",
       "10 2024-02-05              20"
      ]
     },
     "execution_count": 19,
     "metadata": {},
     "output_type": "execute_result"
    }
   ],
   "source": [
    "df_count"
   ]
  },
  {
   "cell_type": "code",
   "execution_count": 25,
   "id": "e116efa7",
   "metadata": {},
   "outputs": [
    {
     "data": {
      "text/plain": [
       "[<matplotlib.lines.Line2D at 0x1e6891f31c0>]"
      ]
     },
     "execution_count": 25,
     "metadata": {},
     "output_type": "execute_result"
    },
    {
     "data": {
      "image/png": "[encoded data removed]",
      "text/plain": [
       "<Figure size 432x288 with 1 Axes>"
      ]
     },
     "metadata": {
      "needs_background": "light"
     },
     "output_type": "display_data"
    }
   ],
   "source": [
    "plt.plot(df_count.date, df_count['count of parks'])\n",
    "\n"
   ]
  },
  {
   "cell_type": "code",
   "execution_count": 32,
   "id": "9c53517a",
   "metadata": {},
   "outputs": [
    {
     "data": {
      "text/plain": [
       "[]"
      ]
     },
     "execution_count": 32,
     "metadata": {},
     "output_type": "execute_result"
    },
    {
     "data": {
      "image/png": "[encoded data removed]",
      "text/plain": [
       "<Figure size 1152x360 with 1 Axes>"
      ]
     },
     "metadata": {
      "needs_background": "light"
     },
     "output_type": "display_data"
    }
   ],
   "source": [
    "# Adjusting the figure size\n",
    "fig = plt.subplots(figsize=(16, 5))\n",
    "\n",
    "# Creating a plot\n",
    "plt.plot(df_count.date, df_count['count of parks'])\n",
    "\n",
    "# Adding a plot title and customizing its font size\n",
    "plt.title('Running Count of Parks that have Created TDx Alerts (277 Parks with Roads)', fontsize=20)\n",
    "\n",
    "# Adding axis labels and customizing their font size\n",
    "plt.xlabel('Date', fontsize=15)\n",
    "plt.ylabel('Count of Parks', fontsize=15)\n",
    "\n",
    "# Rotaing axis ticks and customizing their font size\n",
    "plt.xticks(rotation=30, fontsize=15)\n",
    "plt.ylim([0,max(df_count['count of parks'])*1.25])\n",
    "\n",
    "# Changing the plot resolution - zooming in the period from 15.12.2022 till 15.01.2023\n",
    "#plt.xlim(pd.Timestamp('2023-09-1'), pd.Timestamp('2024-02-15'))\n",
    "plt.plot()\n"
   ]
  },
  {
   "cell_type": "code",
   "execution_count": null,
   "id": "eb474e1d",
   "metadata": {},
   "outputs": [],
   "source": []
  }
 ],
 "metadata": {
  "kernelspec": {
   "display_name": "geo_env",
   "language": "python",
   "name": "geo_env"
  },
  "language_info": {
   "codemirror_mode": {
    "name": "ipython",
    "version": 3
   },
   "file_extension": ".py",
   "mimetype": "text/x-python",
   "name": "python",
   "nbconvert_exporter": "python",
   "pygments_lexer": "ipython3",
   "version": "3.10.4"
  }
 },
 "nbformat": 4,
 "nbformat_minor": 5
}
