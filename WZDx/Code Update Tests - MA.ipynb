{
 "cells": [
  {
   "cell_type": "code",
   "execution_count": 1,
   "id": "9818bdb4-929c-499b-a328-cfc69aa2ec3b",
   "metadata": {},
   "outputs": [
    {
     "name": "stdout",
     "output_type": "stream",
     "text": [
      "                               Park Unit Code  Year  Recreation Visits\n",
      "0    Abraham Lincoln Birthplace NHP      ABLI  2023             239950\n",
      "1                         Acadia NP      ACAD  2023            3879890\n",
      "2                         Adams NHP      ADAM  2023              25229\n",
      "3          African Burial Ground NM      AFBG  2023              40817\n",
      "4              Agate Fossil Beds NM      AGFO  2023              15562\n",
      "..                              ...       ...   ...                ...\n",
      "389                      Wupatki NM      WUPA  2023             215703\n",
      "390                  Yellowstone NP      YELL  2023            4501382\n",
      "391                     Yosemite NP      YOSE  2023            3897070\n",
      "392      Yukon-Charley Rivers NPRES      YUCH  2023               1011\n",
      "393                         Zion NP      ZION  2023            4623238\n",
      "\n",
      "[394 rows x 4 columns]\n"
     ]
    }
   ],
   "source": [
    "import pandas as pd\n",
    "df_2023_visits = pd.read_excel(\"./2023_Visitation_All_Parks.xlsx\")\n",
    "print(df_2023_visits)"
   ]
  },
  {
   "cell_type": "code",
   "execution_count": 2,
   "id": "52cd4783-0e74-424d-b243-c54d4a56a263",
   "metadata": {},
   "outputs": [
    {
     "name": "stdout",
     "output_type": "stream",
     "text": [
      "325498646\n"
     ]
    }
   ],
   "source": [
    "Total = df_2023_visits['Recreation Visits'].sum()\n",
    "print(Total)"
   ]
  },
  {
   "cell_type": "code",
   "execution_count": 3,
   "id": "dd29da48-19f3-4276-a643-10df90d68bc9",
   "metadata": {},
   "outputs": [],
   "source": [
    "set1 = {'MOJA', 'BLRI', 'CRLA', 'OLYM', 'BUFF', 'OZAR', 'DESO', 'GRSM', 'ORPI', 'CURE', 'GUMO', 'CARE', 'BLCA', 'SHEN'}\n",
    "set2 = {'NATR', 'YOSE'}"
   ]
  },
  {
   "cell_type": "code",
   "execution_count": 4,
   "id": "55e1f191-576e-40af-a043-f4f889aa8a5e",
   "metadata": {
    "scrolled": true
   },
   "outputs": [],
   "source": [
    "#df_2023_visits.query('Unit Code in @set1')\n",
    "\n",
    "df1 = df_2023_visits[df_2023_visits['Unit Code'].isin(set1|set2)]\n"
   ]
  },
  {
   "cell_type": "code",
   "execution_count": 5,
   "id": "9bc0bae4-d01f-49e6-ba69-6d5e1f3b1ea4",
   "metadata": {},
   "outputs": [
    {
     "name": "stdout",
     "output_type": "stream",
     "text": [
      "                                Park Unit Code  Year  Recreation Visits\n",
      "32   Black Canyon of the Gunnison NP      BLCA  2023             357069\n",
      "33                   Blue Ridge PKWY      BLRI  2023           16757635\n",
      "42                        Buffalo NR      BUFF  2023            1549467\n",
      "53                   Capitol Reef NP      CARE  2023            1268861\n",
      "82                    Crater Lake NP      CRLA  2023             559976\n",
      "86                     Curecanti NRA      CURE  2023             957635\n",
      "89                      De Soto NMEM      DESO  2023             231892\n",
      "163         Great Smoky Mountains NP      GRSM  2023           13297647\n",
      "165           Guadalupe Mountains NP      GUMO  2023             227340\n",
      "248                     Mojave NPRES      MOJA  2023            1178998\n",
      "257               Natchez Trace PKWY      NATR  2023            6784853\n",
      "274                       Olympic NP      OLYM  2023            2947503\n",
      "276             Organ Pipe Cactus NM      ORPI  2023             186601\n",
      "277                        Ozark NSR      OZAR  2023            1334137\n",
      "333                    Shenandoah NP      SHEN  2023            1576008\n",
      "391                      Yosemite NP      YOSE  2023            3897070\n"
     ]
    }
   ],
   "source": [
    "print(df1)"
   ]
  },
  {
   "cell_type": "code",
   "execution_count": 6,
   "id": "97bcfa59-580b-44e6-87e1-77dc701852d8",
   "metadata": {},
   "outputs": [
    {
     "name": "stdout",
     "output_type": "stream",
     "text": [
      "53112692\n"
     ]
    }
   ],
   "source": [
    "Total = df1['Recreation Visits'].sum()\n",
    "print(Total)"
   ]
  },
  {
   "cell_type": "code",
   "execution_count": null,
   "id": "e990f309-d331-407b-a4a7-a06c5737ead4",
   "metadata": {},
   "outputs": [],
   "source": [
    "#### Working 2023 Visitation Code\n",
    "#Recreation visitor data for 2023 downloaded from NPS stats website, saved in the parent folder\n",
    "df_2023_visits = pd.read_excel(\"./2023_Visitation_All_Parks.xlsx\")\n",
    "\n",
    "#Subset of all parks: visits at parks using TDx or TDx and alerts or Alerts only (i.e. all road closures)\n",
    "df_2023_visits_at_allroadclosure_parks = df_2023_visits[df_2023_visits['Unit Code'].isin(has_both|only_tdx|only_alerts)]\n",
    "\n",
    "#Number of visits at parks with road closures\n",
    "AllRoadClosureTotal = df_2023_visits_at_allroadclosure_parks['Recreation Visits'].sum()\n",
    "print(\"2023 visits to parks with a current road closure:\", format(AllRoadClosureTotal,','))\n",
    "\n",
    "#Subset of all parks: visits at parks using TDx or TDx and alerts\n",
    "df_2023_visits_at_TDx_parks = df_2023_visits[df_2023_visits['Unit Code'].isin(has_both|only_tdx)]\n",
    "\n",
    "#Number of visits at parks with TDx\n",
    "ParksUsingTDxTotal = df_2023_visits_at_TDx_parks['Recreation Visits'].sum()\n",
    "print(\"2023 visits to parks using TDx for an active road closure:\", format(ParksUsingTDxTotal,','))\n",
    "print(\"This is\",(round((ParksUsingTDxTotal/AllRoadClosureTotal)*100)),\"% of 2023 visits.\")"
   ]
  }
 ],
 "metadata": {
  "kernelspec": {
   "display_name": "Python 3 (ipykernel)",
   "language": "python",
   "name": "python3"
  },
  "language_info": {
   "codemirror_mode": {
    "name": "ipython",
    "version": 3
   },
   "file_extension": ".py",
   "mimetype": "text/x-python",
   "name": "python",
   "nbconvert_exporter": "python",
   "pygments_lexer": "ipython3",
   "version": "3.12.4"
  }
 },
 "nbformat": 4,
 "nbformat_minor": 5
}
