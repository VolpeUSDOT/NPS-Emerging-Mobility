{
 "cells": [
  {
   "cell_type": "code",
   "execution_count": 1,
   "id": "ba27eab4",
   "metadata": {},
   "outputs": [],
   "source": [
    "import zipfile\n",
    "import os\n",
    "import pandas as pd\n",
    "from datetime import datetime\n",
    "import shutil\n",
    "import sys"
   ]
  },
  {
   "cell_type": "code",
   "execution_count": 2,
   "id": "4235344d",
   "metadata": {},
   "outputs": [
    {
     "name": "stdout",
     "output_type": "stream",
     "text": [
      "Enter the Park Code: STLI\n",
      "Extracted STLI.zip to the folder STLI_unzipped\n"
     ]
    }
   ],
   "source": [
    "## Choose what park to work with. Assumes the GTFS is saved in the same notebook as [FourLetterParkCode].zip, i.e. ZION.zip\n",
    "park_name = input(\"Enter the Park Code: \").strip()\n",
    "\n",
    "zip_file = f\"{park_name}.zip\"\n",
    "\n",
    "if os.path.exists(zip_file):\n",
    "    with zipfile.ZipFile(zip_file, 'r') as zip_ref:\n",
    "        zip_ref.extractall(f\"{park_name}_unzipped\")\n",
    "        print(f\"Extracted {zip_file} to the folder {park_name}_unzipped\")\n",
    "else:\n",
    "    print(f\"The file {zip_file} does not exist.\")\n",
    "    sys.exit()"
   ]
  },
  {
   "cell_type": "code",
   "execution_count": 3,
   "id": "f490840d",
   "metadata": {},
   "outputs": [
    {
     "name": "stdout",
     "output_type": "stream",
     "text": [
      "Loaded calendar.txt into a DataFrame.\n",
      "       service_id  monday  tuesday  wednesday  thursday  friday  saturday  \\\n",
      "0         NJEarly       1        1          1         1       1         1   \n",
      "1          NJFall       1        1          1         1       1         1   \n",
      "2        NJWinter       1        1          1         1       1         1   \n",
      "3       NJHoliday       1        1          1         1       1         1   \n",
      "4  NYEarlyWeekday       1        1          1         1       1         0   \n",
      "\n",
      "   sunday  start_date  end_date  \n",
      "0       1    20240913  20241014  \n",
      "1       1    20241015  20241201  \n",
      "2       1    20241202  20241213  \n",
      "3       1    20241214  20250105  \n",
      "4       0    20240913  20241014  \n"
     ]
    }
   ],
   "source": [
    "##Load in the calendar\n",
    "unzipped_folder = f\"{park_name}_unzipped\"\n",
    "calendar_file = os.path.join(unzipped_folder, \"calendar.txt\")\n",
    "if os.path.exists(calendar_file):\n",
    "    calendar = pd.read_csv(calendar_file)\n",
    "    print(\"Loaded calendar.txt into a DataFrame.\")\n",
    "    print(calendar.head())\n",
    "else:\n",
    "    print(f\"The file {calendar_file} does not exist.\")"
   ]
  },
  {
   "cell_type": "code",
   "execution_count": 11,
   "id": "58f1c404",
   "metadata": {},
   "outputs": [
    {
     "name": "stdout",
     "output_type": "stream",
     "text": [
      "Current date: 2024-10-28\n",
      "Current weekday: monday\n",
      "Active schedules on 2024-10-28:\n",
      "        service_id start_date   end_date\n",
      "1           NJFall 2024-10-15 2024-12-01\n",
      "5  NYWinterWeekday 2024-10-15 2025-01-05\n"
     ]
    }
   ],
   "source": [
    "#Switch to active calendar based on today's date\n",
    "calendar['start_date'] = pd.to_datetime(calendar['start_date'], errors='coerce')\n",
    "calendar['end_date'] = pd.to_datetime(calendar['end_date'], errors='coerce')\n",
    "if calendar['start_date'].isnull().any():\n",
    "    print(\"Some start dates could not be converted:\")\n",
    "    print(calendar[calendar['start_date'].isnull()])\n",
    "\n",
    "if calendar['end_date'].isnull().any():\n",
    "    print(\"Some end dates could not be converted:\")\n",
    "    print(calendar[calendar['end_date'].isnull()])\n",
    "current_date = pd.Timestamp.now().normalize()\n",
    "current_weekday = current_date.weekday()\n",
    "weekdays = ['monday', 'tuesday', 'wednesday', 'thursday', 'friday', 'saturday', 'sunday']\n",
    "current_weekday_name = weekdays[current_weekday]\n",
    "print(f\"Current date: {current_date.date()}\")\n",
    "print(f\"Current weekday: {current_weekday_name}\")\n",
    "active_schedules = calendar[\n",
    "    (calendar['start_date'] <= current_date) &\n",
    "    (calendar['end_date'] >= current_date) &\n",
    "    (calendar[current_weekday_name] == 1)  # Use the weekday name to filter\n",
    "]\n",
    "\n",
    "if not active_schedules.empty:\n",
    "    print(f\"Active schedules on {current_date.date()}:\")\n",
    "    print(active_schedules[['service_id', 'start_date', 'end_date']])\n",
    "else:\n",
    "    print(f\"No active schedules found on {current_date.date()}.\")\n"
   ]
  },
  {
   "cell_type": "code",
   "execution_count": 12,
   "id": "970beda3",
   "metadata": {},
   "outputs": [
    {
     "name": "stdout",
     "output_type": "stream",
     "text": [
      "Loaded trips.txt into a DataFrame.\n",
      "  route_id service_id                            trip_id   trip_headsign  \\\n",
      "0       NJ    NJEarly  Liberty State Park Loop Early_T01  Liberty Island   \n",
      "1       NJ    NJEarly  Liberty State Park Loop Early_T02  Liberty Island   \n",
      "2       NJ    NJEarly  Liberty State Park Loop Early_T03  Liberty Island   \n",
      "3       NJ    NJEarly  Liberty State Park Loop Early_T04  Liberty Island   \n",
      "4       NJ    NJEarly  Liberty State Park Loop Early_T05  Liberty Island   \n",
      "\n",
      "   direction_id  block_id shape_id  wheelchair_accessible  bikes_allowed  \n",
      "0             1       NaN       NJ                      1              2  \n",
      "1             1       NaN       NJ                      1              2  \n",
      "2             1       NaN       NJ                      1              2  \n",
      "3             1       NaN       NJ                      1              2  \n",
      "4             1       NaN       NJ                      1              2  \n"
     ]
    }
   ],
   "source": [
    "#Load in Trips\n",
    "unzipped_folder = f\"{park_name}_unzipped\"\n",
    "\n",
    "# Define the path to the trips.txt file\n",
    "trips_file = os.path.join(unzipped_folder, \"trips.txt\")\n",
    "    \n",
    "if os.path.exists(trips_file): \n",
    "    # Load the trips.txt into a pandas DataFrame\n",
    "    trips = pd.read_csv(trips_file)\n",
    "    \n",
    "    print(\"Loaded trips.txt into a DataFrame.\")\n",
    "    print(trips.head())  # Print the first few rows of the DataFrame\n",
    "else:\n",
    "    print(f\"The file {trips_file} does not exist.\")"
   ]
  },
  {
   "cell_type": "code",
   "execution_count": 13,
   "id": "c5a2ab1e",
   "metadata": {},
   "outputs": [
    {
     "name": "stdout",
     "output_type": "stream",
     "text": [
      "Active trips based on active schedules:\n",
      "   route_id       service_id  \\\n",
      "11       NJ           NJFall   \n",
      "12       NJ           NJFall   \n",
      "13       NJ           NJFall   \n",
      "14       NJ           NJFall   \n",
      "15       NJ           NJFall   \n",
      "16       NJ           NJFall   \n",
      "17       NJ           NJFall   \n",
      "18       NJ           NJFall   \n",
      "19       NJ           NJFall   \n",
      "20       NJ           NJFall   \n",
      "21       NJ           NJFall   \n",
      "41  EILILSP           NJFall   \n",
      "44    EILSP           NJFall   \n",
      "65       NY  NYWinterWeekday   \n",
      "66       NY  NYWinterWeekday   \n",
      "67       NY  NYWinterWeekday   \n",
      "68       NY  NYWinterWeekday   \n",
      "69       NY  NYWinterWeekday   \n",
      "70       NY  NYWinterWeekday   \n",
      "71       NY  NYWinterWeekday   \n",
      "72       NY  NYWinterWeekday   \n",
      "73       NY  NYWinterWeekday   \n",
      "74       NY  NYWinterWeekday   \n",
      "75       NY  NYWinterWeekday   \n",
      "76       NY  NYWinterWeekday   \n",
      "77       NY  NYWinterWeekday   \n",
      "78       NY  NYWinterWeekday   \n",
      "79       NY  NYWinterWeekday   \n",
      "80       NY  NYWinterWeekday   \n",
      "81     BPLI  NYWinterWeekday   \n",
      "82     BPLI  NYWinterWeekday   \n",
      "83     BPLI  NYWinterWeekday   \n",
      "84     BPEI  NYWinterWeekday   \n",
      "85     BPEI  NYWinterWeekday   \n",
      "\n",
      "                                              trip_id       trip_headsign  \\\n",
      "11                   Liberty State Park Loop Fall_T01      Liberty Island   \n",
      "12                   Liberty State Park Loop Fall_T02      Liberty Island   \n",
      "13                   Liberty State Park Loop Fall_T03      Liberty Island   \n",
      "14                   Liberty State Park Loop Fall_T04      Liberty Island   \n",
      "15                   Liberty State Park Loop Fall_T05      Liberty Island   \n",
      "16                   Liberty State Park Loop Fall_T06      Liberty Island   \n",
      "17                   Liberty State Park Loop Fall_T07      Liberty Island   \n",
      "18                   Liberty State Park Loop Fall_T08      Liberty Island   \n",
      "19                   Liberty State Park Loop Fall_T09      Liberty Island   \n",
      "20                   Liberty State Park Loop Fall_T10      Liberty Island   \n",
      "21                   Liberty State Park Loop Fall_T11      Liberty Island   \n",
      "41  Ellis Island - Liberty Island - Liberty State ...  Liberty State Park   \n",
      "44         Ellis Island - Liberty State Park Fall_T01  Liberty State Park   \n",
      "65                 Battery Park Loop Weekday Late_T01        Ellis Island   \n",
      "66                 Battery Park Loop Weekday Late_T02        Ellis Island   \n",
      "67                 Battery Park Loop Weekday Late_T03        Ellis Island   \n",
      "68                 Battery Park Loop Weekday Late_T04        Ellis Island   \n",
      "69                 Battery Park Loop Weekday Late_T05        Ellis Island   \n",
      "70                 Battery Park Loop Weekday Late_T06        Ellis Island   \n",
      "71                 Battery Park Loop Weekday Late_T07        Ellis Island   \n",
      "72                 Battery Park Loop Weekday Late_T08        Ellis Island   \n",
      "73                 Battery Park Loop Weekday Late_T09        Ellis Island   \n",
      "74                 Battery Park Loop Weekday Late_T10        Ellis Island   \n",
      "75                 Battery Park Loop Weekday Late_T11        Ellis Island   \n",
      "76                 Battery Park Loop Weekday Late_T12        Ellis Island   \n",
      "77                 Battery Park Loop Weekday Late_T13        Ellis Island   \n",
      "78                 Battery Park Loop Weekday Late_T14        Ellis Island   \n",
      "79                 Battery Park Loop Weekday Late_T15        Ellis Island   \n",
      "80                 Battery Park Loop Weekday Late_T16        Ellis Island   \n",
      "81  Battery Park - Liberty Island Loop Weekday Lat...      Liberty Island   \n",
      "82  Battery Park - Liberty Island Loop Weekday Lat...      Liberty Island   \n",
      "83  Battery Park - Liberty Island Loop Weekday Lat...      Liberty Island   \n",
      "84  Battery Park - Ellis Island Loop Weekday Late_T01      Liberty Island   \n",
      "85  Battery Park - Ellis Island Loop Weekday Late_T02      Liberty Island   \n",
      "\n",
      "    direction_id  block_id shape_id  wheelchair_accessible  bikes_allowed  \n",
      "11             1       NaN       NJ                      1              2  \n",
      "12             1       NaN       NJ                      1              2  \n",
      "13             1       NaN       NJ                      1              2  \n",
      "14             1       NaN       NJ                      1              2  \n",
      "15             1       NaN       NJ                      1              2  \n",
      "16             1       NaN       NJ                      1              2  \n",
      "17             1       NaN       NJ                      1              2  \n",
      "18             1       NaN       NJ                      1              2  \n",
      "19             1       NaN       NJ                      1              2  \n",
      "20             1       NaN       NJ                      1              2  \n",
      "21             1       NaN       NJ                      1              2  \n",
      "41             1       NaN  EILILSP                      1              2  \n",
      "44             1       NaN    EILSP                      1              2  \n",
      "65             1       NaN       NY                      1              2  \n",
      "66             1       NaN       NY                      1              2  \n",
      "67             1       NaN       NY                      1              2  \n",
      "68             1       NaN       NY                      1              2  \n",
      "69             1       NaN       NY                      1              2  \n",
      "70             1       NaN       NY                      1              2  \n",
      "71             1       NaN       NY                      1              2  \n",
      "72             1       NaN       NY                      1              2  \n",
      "73             1       NaN       NY                      1              2  \n",
      "74             1       NaN       NY                      1              2  \n",
      "75             1       NaN       NY                      1              2  \n",
      "76             1       NaN       NY                      1              2  \n",
      "77             1       NaN       NY                      1              2  \n",
      "78             1       NaN       NY                      1              2  \n",
      "79             1       NaN       NY                      1              2  \n",
      "80             1       NaN       NY                      1              2  \n",
      "81             1       NaN     BPLI                      1              2  \n",
      "82             1       NaN     BPLI                      1              2  \n",
      "83             1       NaN     BPLI                      1              2  \n",
      "84             1       NaN     BPEI                      1              2  \n",
      "85             1       NaN     BPEI                      1              2  \n"
     ]
    }
   ],
   "source": [
    "#List of trips running today\n",
    "active_trips = trips[trips['service_id'].isin(active_schedules['service_id'])]\n",
    "print(\"Active trips based on active schedules:\")\n",
    "print(active_trips)"
   ]
  },
  {
   "cell_type": "code",
   "execution_count": 14,
   "id": "015cddd2",
   "metadata": {},
   "outputs": [
    {
     "name": "stdout",
     "output_type": "stream",
     "text": [
      "Loaded stop_times.txt into a DataFrame.\n",
      "                             trip_id arrival_time departure_time stop_id  \\\n",
      "0  Liberty State Park Loop Early_T01     09:00:00       09:00:00    1_NJ   \n",
      "1  Liberty State Park Loop Early_T01     09:20:00       09:20:00    2_NJ   \n",
      "2  Liberty State Park Loop Early_T01     09:40:00       09:40:00    3_NJ   \n",
      "3  Liberty State Park Loop Early_T01     09:55:00       09:55:00    1_NJ   \n",
      "4  Liberty State Park Loop Early_T02     09:45:00       09:45:00    1_NJ   \n",
      "\n",
      "   stop_sequence  stop_headsign  pickup_type  drop_off_type  \\\n",
      "0              1            NaN          NaN            NaN   \n",
      "1              2            NaN          NaN            NaN   \n",
      "2              3            NaN          NaN            NaN   \n",
      "3              4            NaN          NaN            NaN   \n",
      "4              1            NaN          NaN            NaN   \n",
      "\n",
      "   continuous_pickup  continuous_drop_off  shape_dist_traveled  timepoint  \n",
      "0                NaN                  NaN                0.000          1  \n",
      "1                NaN                  NaN                1.859          1  \n",
      "2                NaN                  NaN                4.312          1  \n",
      "3                NaN                  NaN                7.860          1  \n",
      "4                NaN                  NaN                0.000          1  \n"
     ]
    }
   ],
   "source": [
    "#Load all stop times\n",
    "unzipped_folder = f\"{park_name}_unzipped\"\n",
    "stop_times_file = os.path.join(unzipped_folder, \"stop_times.txt\")\n",
    "if os.path.exists(stop_times_file):\n",
    "    stop_times = pd.read_csv(stop_times_file)\n",
    "    print(\"Loaded stop_times.txt into a DataFrame.\")\n",
    "    print(stop_times.head()) \n",
    "else:\n",
    "    print(f\"The file {stop_times_file} does not exist.\")"
   ]
  },
  {
   "cell_type": "code",
   "execution_count": 17,
   "id": "b50d1704",
   "metadata": {},
   "outputs": [
    {
     "name": "stdout",
     "output_type": "stream",
     "text": [
      "There are 128 trips running on 2024-10-28, which is a monday\n",
      "                             trip_id arrival_time departure_time stop_id  \\\n",
      "44  Liberty State Park Loop Fall_T01     09:00:00       09:00:00    1_NJ   \n",
      "45  Liberty State Park Loop Fall_T01     09:20:00       09:20:00    2_NJ   \n",
      "46  Liberty State Park Loop Fall_T01     09:40:00       09:40:00    3_NJ   \n",
      "47  Liberty State Park Loop Fall_T01     09:55:00       09:55:00    1_NJ   \n",
      "48  Liberty State Park Loop Fall_T02     09:30:00       09:30:00    1_NJ   \n",
      "\n",
      "    stop_sequence  stop_headsign  pickup_type  drop_off_type  \\\n",
      "44              1            NaN          NaN            NaN   \n",
      "45              2            NaN          NaN            NaN   \n",
      "46              3            NaN          NaN            NaN   \n",
      "47              4            NaN          NaN            NaN   \n",
      "48              1            NaN          NaN            NaN   \n",
      "\n",
      "    continuous_pickup  continuous_drop_off  shape_dist_traveled  timepoint  \n",
      "44                NaN                  NaN                0.000          1  \n",
      "45                NaN                  NaN                1.859          1  \n",
      "46                NaN                  NaN                4.312          1  \n",
      "47                NaN                  NaN                7.860          1  \n",
      "48                NaN                  NaN                0.000          1  \n"
     ]
    }
   ],
   "source": [
    "#Return Active stop_times\n",
    "active_stop_times = stop_times[stop_times['trip_id'].isin(active_trips['trip_id'])]\n",
    "\n",
    "print(f\"There are {len(active_stop_times)} trips running on {current_date.date()}, which is a {current_weekday_name}\")\n",
    "print(active_stop_times.head())"
   ]
  },
  {
   "cell_type": "code",
   "execution_count": null,
   "id": "a54b7cf0",
   "metadata": {},
   "outputs": [],
   "source": []
  }
 ],
 "metadata": {
  "kernelspec": {
   "display_name": "Python 3 (ipykernel)",
   "language": "python",
   "name": "python3"
  },
  "language_info": {
   "codemirror_mode": {
    "name": "ipython",
    "version": 3
   },
   "file_extension": ".py",
   "mimetype": "text/x-python",
   "name": "python",
   "nbconvert_exporter": "python",
   "pygments_lexer": "ipython3",
   "version": "3.11.3"
  }
 },
 "nbformat": 4,
 "nbformat_minor": 5
}
