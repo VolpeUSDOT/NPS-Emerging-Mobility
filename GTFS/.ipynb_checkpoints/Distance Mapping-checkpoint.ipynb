{
 "cells": [
  {
   "cell_type": "markdown",
   "id": "4379448c",
   "metadata": {},
   "source": [
    "#### GTFS Helper File\n",
    "##### Author: Eric Englin\n",
    "\n",
    "\n",
    "This code inputs a kml file with routes and outputs the shapes tab of the RTAP GTFS builder Excel document. Kml files are generally created as a simple Google map document and can be directly input into this python script. "
   ]
  },
  {
   "cell_type": "code",
   "execution_count": 89,
   "id": "3d9b292e",
   "metadata": {},
   "outputs": [],
   "source": [
    "from pykml import parser\n",
    "import re\n",
    "import networkx as nx\n",
    "import osmnx as ox\n",
    "from geopy import distance\n",
    "import pandas as pd\n"
   ]
  },
  {
   "cell_type": "code",
   "execution_count": 126,
   "id": "2a29751c",
   "metadata": {
    "scrolled": false
   },
   "outputs": [],
   "source": [
    "def make_shape_table(kml_name):\n",
    "    # function to make the table on shapes tab of RTAP GTFS Builder\n",
    "    # input: kml file location\n",
    "    # output: dataframe that can be directly pasted into shapes tab\n",
    "    \n",
    "    # first section reads in the kml file and parses to grab the coordinates of each point on a line\n",
    "    root = parser.parse(kml_name).getroot()\n",
    "    coord_ex = '(-?\\d+\\.\\d+),'\n",
    "    heig_ex = '(\\d+)'\n",
    "    regex = coord_ex + coord_ex + heig_ex\n",
    "    mycoor = (root.Document.Placemark.LineString.coordinates).text.strip()\n",
    "    coord = re.findall(regex, mycoor)\n",
    "\n",
    "\n",
    "    # next section calculates the distance between each point\n",
    "    # assumes that the distances will be short enough to use the geometric distance\n",
    "    # another approach could use the actual driving/road distance\n",
    "    from geopy import distance\n",
    "    shape_id_list = []\n",
    "    lat_list= []\n",
    "    lon_list = []\n",
    "    shape_pt_sequence_list = []\n",
    "    sequence_num = 1\n",
    "    shape_dist_traveled_list = []\n",
    "\n",
    "    last_lon = float(coord[0][0])\n",
    "    last_lat = float(coord[0][1])\n",
    "\n",
    "    for x in coord:\n",
    "        shape_id_list.append(root.Document.name.text)\n",
    "        lon = float(x[0])\n",
    "        lat = float(x[1])\n",
    "        lon_list.append(lon)\n",
    "        lat_list.append(lat)\n",
    "        shape_pt_sequence_list.append(sequence_num)\n",
    "        if sequence_num == 1:\n",
    "            shape_dist_traveled_list.append(0)\n",
    "\n",
    "        else:\n",
    "            from geopy import distance\n",
    "          #  print((float(x[1]), float(x[0])), (float(last_lat), float(last_lon)))\n",
    "            distance = distance.distance((x[1],x[0]), \n",
    "                                          (last_lat,last_lon))\n",
    "            shape_dist_traveled_list.append(distance.km)\n",
    "\n",
    "        last_lat = lat\n",
    "        last_lon = lon\n",
    "\n",
    "        sequence_num +=1\n",
    "        \n",
    "    df = pd.DataFrame({\n",
    "        \"shape_id\":shape_id_list,\n",
    "        \"shape_pt_lat\":lat_list,\n",
    "        \"shape_pt_lon\":lon_list,\n",
    "        \"shape_pt_sequence\":shape_pt_sequence_list,\n",
    "        \"shape_dist_traveled\":shape_dist_traveled_list\n",
    "    })\n",
    "    \n",
    "    return df\n",
    "    "
   ]
  },
  {
   "cell_type": "code",
   "execution_count": 111,
   "id": "069c3823",
   "metadata": {},
   "outputs": [],
   "source": [
    "kml_list = []\n"
   ]
  },
  {
   "cell_type": "code",
   "execution_count": 124,
   "id": "2458fb34",
   "metadata": {},
   "outputs": [
    {
     "name": "stderr",
     "output_type": "stream",
     "text": [
      "C:\\Users\\Eric.Englin\\AppData\\Local\\Temp\\ipykernel_22300\\810479632.py:4: FutureWarning: The frame.append method is deprecated and will be removed from pandas in a future version. Use pandas.concat instead.\n",
      "  df = town_route_df.append(canyon_route_df)\n"
     ]
    }
   ],
   "source": [
    "canyon_route_df = make_shape_table(r\"C:\\Users\\Eric.Englin\\Downloads\\Canyon.kml\")\n",
    "town_route_df = make_shape_table(r\"C:\\Users\\Eric.Englin\\Downloads\\Town.kml\")\n",
    "\n",
    "df = town_route_df.append(canyon_route_df)\n",
    "\n",
    "df.to_excel(\"Zion.xlsx\")"
   ]
  },
  {
   "cell_type": "code",
   "execution_count": 122,
   "id": "dd894e0d",
   "metadata": {
    "scrolled": true
   },
   "outputs": [
    {
     "data": {
      "text/plain": [
       "((846, 5), (754, 5), (1600, 5))"
      ]
     },
     "execution_count": 122,
     "metadata": {},
     "output_type": "execute_result"
    }
   ],
   "source": [
    "canyon_route_df.shape, town_route_df.shape, df.shape"
   ]
  },
  {
   "cell_type": "code",
   "execution_count": 123,
   "id": "ba8c74e4",
   "metadata": {},
   "outputs": [
    {
     "data": {
      "text/plain": [
       "846"
      ]
     },
     "execution_count": 123,
     "metadata": {},
     "output_type": "execute_result"
    }
   ],
   "source": [
    "1600-754"
   ]
  },
  {
   "cell_type": "code",
   "execution_count": 125,
   "id": "c9d7d52a",
   "metadata": {},
   "outputs": [
    {
     "data": {
      "text/html": [
       "<div>\n",
       "<style scoped>\n",
       "    .dataframe tbody tr th:only-of-type {\n",
       "        vertical-align: middle;\n",
       "    }\n",
       "\n",
       "    .dataframe tbody tr th {\n",
       "        vertical-align: top;\n",
       "    }\n",
       "\n",
       "    .dataframe thead th {\n",
       "        text-align: right;\n",
       "    }\n",
       "</style>\n",
       "<table border=\"1\" class=\"dataframe\">\n",
       "  <thead>\n",
       "    <tr style=\"text-align: right;\">\n",
       "      <th></th>\n",
       "      <th>shape_id</th>\n",
       "      <th>shape_pt_lat</th>\n",
       "      <th>shape_pt_lon</th>\n",
       "      <th>shape_pt_sequence</th>\n",
       "      <th>shape_dist_traveled</th>\n",
       "    </tr>\n",
       "  </thead>\n",
       "  <tbody>\n",
       "    <tr>\n",
       "      <th>0</th>\n",
       "      <td>Town</td>\n",
       "      <td>37.20093</td>\n",
       "      <td>-112.98651</td>\n",
       "      <td>1</td>\n",
       "      <td>0.000000</td>\n",
       "    </tr>\n",
       "    <tr>\n",
       "      <th>1</th>\n",
       "      <td>Town</td>\n",
       "      <td>37.20075</td>\n",
       "      <td>-112.98649</td>\n",
       "      <td>2</td>\n",
       "      <td>0.020055</td>\n",
       "    </tr>\n",
       "    <tr>\n",
       "      <th>2</th>\n",
       "      <td>Town</td>\n",
       "      <td>37.20070</td>\n",
       "      <td>-112.98649</td>\n",
       "      <td>3</td>\n",
       "      <td>0.005549</td>\n",
       "    </tr>\n",
       "    <tr>\n",
       "      <th>3</th>\n",
       "      <td>Town</td>\n",
       "      <td>37.20067</td>\n",
       "      <td>-112.98648</td>\n",
       "      <td>4</td>\n",
       "      <td>0.003446</td>\n",
       "    </tr>\n",
       "    <tr>\n",
       "      <th>4</th>\n",
       "      <td>Town</td>\n",
       "      <td>37.20066</td>\n",
       "      <td>-112.98648</td>\n",
       "      <td>5</td>\n",
       "      <td>0.001110</td>\n",
       "    </tr>\n",
       "  </tbody>\n",
       "</table>\n",
       "</div>"
      ],
      "text/plain": [
       "  shape_id  shape_pt_lat  shape_pt_lon  shape_pt_sequence  shape_dist_traveled\n",
       "0     Town      37.20093    -112.98651                  1             0.000000\n",
       "1     Town      37.20075    -112.98649                  2             0.020055\n",
       "2     Town      37.20070    -112.98649                  3             0.005549\n",
       "3     Town      37.20067    -112.98648                  4             0.003446\n",
       "4     Town      37.20066    -112.98648                  5             0.001110"
      ]
     },
     "execution_count": 125,
     "metadata": {},
     "output_type": "execute_result"
    }
   ],
   "source": [
    "df.head()"
   ]
  }
 ],
 "metadata": {
  "kernelspec": {
   "display_name": "geo_env",
   "language": "python",
   "name": "geo_env"
  },
  "language_info": {
   "codemirror_mode": {
    "name": "ipython",
    "version": 3
   },
   "file_extension": ".py",
   "mimetype": "text/x-python",
   "name": "python",
   "nbconvert_exporter": "python",
   "pygments_lexer": "ipython3",
   "version": "3.10.4"
  }
 },
 "nbformat": 4,
 "nbformat_minor": 5
}
