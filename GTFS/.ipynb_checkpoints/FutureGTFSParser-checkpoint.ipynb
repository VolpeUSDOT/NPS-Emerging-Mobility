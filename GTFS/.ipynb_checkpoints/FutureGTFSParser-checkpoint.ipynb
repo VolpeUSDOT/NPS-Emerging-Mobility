{
 "cells": [
  {
   "cell_type": "code",
   "execution_count": 1,
   "id": "12f79ead",
   "metadata": {},
   "outputs": [],
   "source": [
    "#Chunk 1: Import libraries\n",
    "\n",
    "import zipfile\n",
    "import os\n",
    "import pandas as pd\n",
    "from datetime import datetime\n",
    "import shutil"
   ]
  },
  {
   "cell_type": "code",
   "execution_count": 2,
   "id": "165dd571",
   "metadata": {},
   "outputs": [
    {
     "name": "stdout",
     "output_type": "stream",
     "text": [
      "Enter the Park Code: BRCA\n",
      "Extracted BRCA.zip to the folder BRCA_unzipped\n"
     ]
    }
   ],
   "source": [
    "#Chunk 2: Import GTFS feed with all schedules \n",
    "\n",
    "#Enter Park Code\n",
    "park_name = input(\"Enter the Park Code: \")\n",
    "\n",
    "# Append .zip to the file name\n",
    "zip_file = f\"{park_name}.zip\"\n",
    "\n",
    "# Check if the zip file exists\n",
    "if os.path.exists(zip_file):\n",
    "    # Create a ZipFile object\n",
    "    with zipfile.ZipFile(zip_file, 'r') as zip_ref:\n",
    "        # Extract all contents to a folder named after the park code\n",
    "        zip_ref.extractall(f\"{park_name}_unzipped\")\n",
    "        print(f\"Extracted {zip_file} to the folder {park_name}_unzipped\")\n",
    "else:\n",
    "    print(f\"The file {zip_file} does not exist.\")\n"
   ]
  },
  {
   "cell_type": "code",
   "execution_count": 3,
   "id": "9730fc0f",
   "metadata": {},
   "outputs": [
    {
     "name": "stdout",
     "output_type": "stream",
     "text": [
      "Loaded calendar.txt into a DataFrame.\n",
      "  service_id  monday  tuesday  wednesday  thursday  friday  saturday  sunday  \\\n",
      "0    BA_Fall       1        1          1         1       1         1       1   \n",
      "\n",
      "   start_date  end_date  \n",
      "0    20240923  20241020  \n"
     ]
    }
   ],
   "source": [
    "#Chunk 3: Import Calendar\n",
    "\n",
    "# Define the path to the unzipped folder\n",
    "unzipped_folder = f\"{park_name}_unzipped\"\n",
    "\n",
    "# Define the path to the calendar.txt file\n",
    "calendar_file = os.path.join(unzipped_folder, \"calendar.txt\")\n",
    "\n",
    "# Check if the file exists\n",
    "if os.path.exists(calendar_file):\n",
    "    # Load the calendar.txt into a pandas DataFrame\n",
    "    calendar = pd.read_csv(calendar_file)\n",
    "    print(\"Loaded calendar.txt into a DataFrame.\")\n",
    "    print(calendar.head())  # Print the first few rows of the DataFrame\n",
    "else:\n",
    "    print(f\"The file {calendar_file} does not exist.\")"
   ]
  },
  {
   "cell_type": "code",
   "execution_count": 4,
   "id": "f3c5dd3e",
   "metadata": {},
   "outputs": [
    {
     "name": "stdout",
     "output_type": "stream",
     "text": [
      "Active schedules on 2024-09-23:\n",
      "  service_id  monday  tuesday  wednesday  thursday  friday  saturday  sunday  \\\n",
      "0    BA_Fall       1        1          1         1       1         1       1   \n",
      "\n",
      "  start_date   end_date  \n",
      "0 2024-09-23 2024-10-20  \n"
     ]
    }
   ],
   "source": [
    "#Chunk 4: Filter out active service schedules\n",
    "\n",
    "# Convert start_date and end_date columns to datetime\n",
    "calendar['start_date'] = pd.to_datetime(calendar['start_date'], format='%Y%m%d')\n",
    "calendar['end_date'] = pd.to_datetime(calendar['end_date'], format='%Y%m%d')\n",
    "\n",
    "# Get the current date as a datetime object\n",
    "current_date = pd.to_datetime(datetime.now().strftime('%Y-%m-%d'))\n",
    "        \n",
    "# Filter rows where the current date is between start_date and end_date\n",
    "active_schedules = calendar[(calendar['start_date'] <= current_date) & (calendar['end_date'] >= current_date)]\n",
    "print(f\"Active schedules on {current_date.date()}:\")\n",
    "print(active_schedules)\n"
   ]
  },
  {
   "cell_type": "code",
   "execution_count": 5,
   "id": "0b5de03d",
   "metadata": {},
   "outputs": [
    {
     "name": "stdout",
     "output_type": "stream",
     "text": [
      "Loaded trips.txt into a DataFrame.\n",
      "  route_id service_id     trip_id         trip_headsign  direction_id  \\\n",
      "0       BA  BA_Spring  Spring_T01  Bryce Canyon Shuttle             1   \n",
      "1       BA  BA_Spring  Spring_T02  Bryce Canyon Shuttle             1   \n",
      "2       BA  BA_Spring  Spring_T03  Bryce Canyon Shuttle             1   \n",
      "3       BA  BA_Spring  Spring_T04  Bryce Canyon Shuttle             1   \n",
      "4       BA  BA_Spring  Spring_T05  Bryce Canyon Shuttle             1   \n",
      "\n",
      "   block_id shape_id  wheelchair_accessible  bikes_allowed  \n",
      "0       NaN       BA                    NaN            NaN  \n",
      "1       NaN       BA                    NaN            NaN  \n",
      "2       NaN       BA                    NaN            NaN  \n",
      "3       NaN       BA                    NaN            NaN  \n",
      "4       NaN       BA                    NaN            NaN  \n"
     ]
    }
   ],
   "source": [
    "#Chunk 5: Add trips file\n",
    "\n",
    "# Define the path to the unzipped folder\n",
    "unzipped_folder = f\"{park_name}_unzipped\"\n",
    "\n",
    "# Define the path to the trips.txt file\n",
    "trips_file = os.path.join(unzipped_folder, \"trips.txt\")\n",
    "\n",
    "# Check if the file exists\n",
    "if os.path.exists(trips_file):\n",
    "    # Load the trips.txt into a pandas DataFrame\n",
    "    trips = pd.read_csv(trips_file)\n",
    "    print(\"Loaded trips.txt into a DataFrame.\")\n",
    "    print(trips.head())  # Print the first few rows of the DataFrame\n",
    "else:\n",
    "    print(f\"The file {trips_file} does not exist.\")"
   ]
  },
  {
   "cell_type": "code",
   "execution_count": 6,
   "id": "49d207ad",
   "metadata": {},
   "outputs": [
    {
     "name": "stdout",
     "output_type": "stream",
     "text": [
      "Active trips based on active schedules:\n",
      "    route_id service_id   trip_id         trip_headsign  direction_id  \\\n",
      "111       BA    BA_Fall  Fall_T01  Bryce Canyon Shuttle             1   \n",
      "112       BA    BA_Fall  Fall_T02  Bryce Canyon Shuttle             1   \n",
      "113       BA    BA_Fall  Fall_T03  Bryce Canyon Shuttle             1   \n",
      "114       BA    BA_Fall  Fall_T04  Bryce Canyon Shuttle             1   \n",
      "115       BA    BA_Fall  Fall_T05  Bryce Canyon Shuttle             1   \n",
      "..       ...        ...       ...                   ...           ...   \n",
      "173       BA    BA_Fall  Fall_T63  Bryce Canyon Shuttle             1   \n",
      "174       BA    BA_Fall  Fall_T64  Bryce Canyon Shuttle             1   \n",
      "175       BA    BA_Fall  Fall_T65  Bryce Canyon Shuttle             1   \n",
      "176       BA    BA_Fall  Fall_T66  Bryce Canyon Shuttle             1   \n",
      "177       BA    BA_Fall  Fall_T67  Bryce Canyon Shuttle             1   \n",
      "\n",
      "     block_id shape_id  wheelchair_accessible  bikes_allowed  \n",
      "111       NaN       BA                    NaN            NaN  \n",
      "112       NaN       BA                    NaN            NaN  \n",
      "113       NaN       BA                    NaN            NaN  \n",
      "114       NaN       BA                    NaN            NaN  \n",
      "115       NaN       BA                    NaN            NaN  \n",
      "..        ...      ...                    ...            ...  \n",
      "173       NaN       BA                    NaN            NaN  \n",
      "174       NaN       BA                    NaN            NaN  \n",
      "175       NaN       BA                    NaN            NaN  \n",
      "176       NaN       BA                    NaN            NaN  \n",
      "177       NaN       BA                    NaN            NaN  \n",
      "\n",
      "[67 rows x 9 columns]\n"
     ]
    }
   ],
   "source": [
    "#Chunk 6: Filter to active trips\n",
    "\n",
    "# Filter trips where service_id in trips matches any service_id in active_schedules\n",
    "active_trips = trips[trips['service_id'].isin(active_schedules['service_id'])]\n",
    "\n",
    "print(\"Active trips based on active schedules:\")\n",
    "print(active_trips)"
   ]
  },
  {
   "cell_type": "code",
   "execution_count": 7,
   "id": "2d027479",
   "metadata": {},
   "outputs": [
    {
     "name": "stdout",
     "output_type": "stream",
     "text": [
      "Loaded stop_times.txt into a DataFrame.\n",
      "      trip_id arrival_time departure_time  stop_id  stop_sequence  \\\n",
      "0  Spring_T01     08:00:00       08:00:00        1              1   \n",
      "1  Spring_T01     08:01:00       08:01:00        2              2   \n",
      "2  Spring_T01     08:03:00       08:03:00        3              3   \n",
      "3  Spring_T01     08:04:00       08:04:00        4              4   \n",
      "4  Spring_T01     08:06:00       08:06:00        5              5   \n",
      "\n",
      "               stop_headsign  pickup_type  drop_off_type  continuous_pickup  \\\n",
      "0             Old Bryce Town          NaN            NaN                NaN   \n",
      "1       Best Western / Grand          NaN            NaN                NaN   \n",
      "2  Best Western / Ruby's Inn          NaN            NaN                NaN   \n",
      "3             Ruby's - South          NaN            NaN                NaN   \n",
      "4   Visitor's Center - South          NaN            NaN                NaN   \n",
      "\n",
      "   continuous_drop_off  shape_dist_traveled  timepoint  \n",
      "0                  NaN                0.000          1  \n",
      "1                  NaN                0.300          1  \n",
      "2                  NaN                0.821          1  \n",
      "3                  NaN                1.230          1  \n",
      "4                  NaN                1.852          1  \n"
     ]
    }
   ],
   "source": [
    "#Chunk 7: Add stop_times \n",
    "\n",
    "# Define the path to the unzipped folder\n",
    "unzipped_folder = f\"{park_name}_unzipped\"\n",
    "\n",
    "# Define the path to the stop_times.txt file\n",
    "stop_times_file = os.path.join(unzipped_folder, \"stop_times.txt\")\n",
    "\n",
    "# Check if the file exists\n",
    "if os.path.exists(stop_times_file):\n",
    "    # Load the stop_times.txt into a pandas DataFrame\n",
    "    stop_times = pd.read_csv(stop_times_file)\n",
    "    print(\"Loaded stop_times.txt into a DataFrame.\")\n",
    "    print(stop_times.head())  # Print the first few rows of the DataFrame\n",
    "else:\n",
    "    print(f\"The file {stop_times_file} does not exist.\")"
   ]
  },
  {
   "cell_type": "code",
   "execution_count": 8,
   "id": "ec1a7460",
   "metadata": {
    "scrolled": true
   },
   "outputs": [
    {
     "name": "stdout",
     "output_type": "stream",
     "text": [
      "Active stop times DataFrame created with 1072 rows.\n",
      "       trip_id arrival_time departure_time  stop_id  stop_sequence  \\\n",
      "1776  Fall_T01     08:00:00       08:00:00        1              1   \n",
      "1777  Fall_T01     08:01:00       08:01:00        2              2   \n",
      "1778  Fall_T01     08:03:00       08:03:00        3              3   \n",
      "1779  Fall_T01     08:04:00       08:04:00        4              4   \n",
      "1780  Fall_T01     08:06:00       08:06:00        5              5   \n",
      "\n",
      "                  stop_headsign  pickup_type  drop_off_type  \\\n",
      "1776             Old Bryce Town          NaN            NaN   \n",
      "1777       Best Western / Grand          NaN            NaN   \n",
      "1778  Best Western / Ruby's Inn          NaN            NaN   \n",
      "1779             Ruby's - South          NaN            NaN   \n",
      "1780   Visitor's Center - South          NaN            NaN   \n",
      "\n",
      "      continuous_pickup  continuous_drop_off  shape_dist_traveled  timepoint  \n",
      "1776                NaN                  NaN                  NaN          1  \n",
      "1777                NaN                  NaN                  NaN          1  \n",
      "1778                NaN                  NaN                  NaN          1  \n",
      "1779                NaN                  NaN                  NaN          1  \n",
      "1780                NaN                  NaN                  NaN          1  \n"
     ]
    }
   ],
   "source": [
    "#Chunk 7: Fitler out active stop times\n",
    "active_stop_times = stop_times[stop_times['trip_id'].isin(active_trips['trip_id'])]\n",
    "\n",
    "print(f\"Active stop times DataFrame created with {len(active_stop_times)} rows.\")\n",
    "print(active_stop_times.head())  # Print the first few rows of the active_stop_times DataFrame"
   ]
  },
  {
   "cell_type": "code",
   "execution_count": 9,
   "id": "d934d760",
   "metadata": {},
   "outputs": [
    {
     "name": "stdout",
     "output_type": "stream",
     "text": [
      "Loaded shapes.txt into a DataFrame.\n",
      "  shape_id  shape_pt_lat  shape_pt_lon  shape_pt_sequence  shape_dist_traveled\n",
      "0       BA     37.671028   -112.156942                  1                0.000\n",
      "1       BA     37.671138   -112.156923                  2                0.012\n",
      "2       BA     37.671195   -112.156929                  3                0.019\n",
      "3       BA     37.671222   -112.156962                  4                0.023\n",
      "4       BA     37.671241   -112.157015                  5                0.028\n"
     ]
    }
   ],
   "source": [
    "# Chunk 9: Add shape files\n",
    "\n",
    "# Define the path to the unzipped folder\n",
    "unzipped_folder = f\"{park_name}_unzipped\"\n",
    "\n",
    "# Define the path to the shapes.txt file\n",
    "shape_file = os.path.join(unzipped_folder, \"shapes.txt\")\n",
    "\n",
    "# Check if the file exists\n",
    "if os.path.exists(shape_file):\n",
    "    # Load the shapes.txt into a pandas DataFrame\n",
    "    shapes = pd.read_csv(shape_file)\n",
    "    print(\"Loaded shapes.txt into a DataFrame.\")\n",
    "    print(shapes.head())  # Print the first few rows of the DataFrame\n",
    "else:\n",
    "    print(f\"The file {shape_file} does not exist.\")"
   ]
  },
  {
   "cell_type": "code",
   "execution_count": 10,
   "id": "d0f81620",
   "metadata": {},
   "outputs": [
    {
     "name": "stdout",
     "output_type": "stream",
     "text": [
      "Active shapes DataFrame created with 626 rows.\n",
      "  shape_id  shape_pt_lat  shape_pt_lon  shape_pt_sequence  shape_dist_traveled\n",
      "0       BA     37.671028   -112.156942                  1                0.000\n",
      "1       BA     37.671138   -112.156923                  2                0.012\n",
      "2       BA     37.671195   -112.156929                  3                0.019\n",
      "3       BA     37.671222   -112.156962                  4                0.023\n",
      "4       BA     37.671241   -112.157015                  5                0.028\n"
     ]
    }
   ],
   "source": [
    "#Chunk 10: Filter to active shapes\n",
    "active_shapes = shapes[shapes['shape_id'].isin(active_trips['shape_id'])]\n",
    "\n",
    "print(f\"Active shapes DataFrame created with {len(active_shapes)} rows.\")\n",
    "print(active_shapes.head())  # Print the first few rows of the active_shapes DataFrame"
   ]
  },
  {
   "cell_type": "code",
   "execution_count": 11,
   "id": "5f84a25a",
   "metadata": {},
   "outputs": [
    {
     "name": "stdout",
     "output_type": "stream",
     "text": [
      "Converted dates in active_schedules DataFrame:\n",
      "  service_id  monday  tuesday  wednesday  thursday  friday  saturday  sunday  \\\n",
      "0    BA_Fall       1        1          1         1       1         1       1   \n",
      "\n",
      "  start_date  end_date  \n",
      "0   20240923  20241020  \n"
     ]
    }
   ],
   "source": [
    "#Chunk 11: Convert calendar dates back to GTFS format (YYYYMMDD)\n",
    "active_schedules['start_date'] = active_schedules['start_date'].dt.strftime('%Y%m%d')\n",
    "active_schedules['end_date'] = active_schedules['end_date'].dt.strftime('%Y%m%d')\n",
    "\n",
    "print(\"Converted dates in active_schedules DataFrame:\")\n",
    "print(active_schedules.head())  # Print the first few rows to verify the changes"
   ]
  },
  {
   "cell_type": "code",
   "execution_count": 12,
   "id": "74be4a01",
   "metadata": {},
   "outputs": [
    {
     "name": "stdout",
     "output_type": "stream",
     "text": [
      "Created destination folder: BRCA_active_unzipped.\n",
      "All files transferred from BRCA_unzipped to BRCA_active_unzipped.\n"
     ]
    }
   ],
   "source": [
    "#Chunk 12: Create new archive for the active, filtered GTFS feed\n",
    "\n",
    "# Define the source and destination folders \n",
    "source_folder = f\"{park_name}_unzipped\"\n",
    "destination_folder = f\"{park_name}_active_unzipped\"\n",
    "\n",
    "# Check if the destination folder exists\n",
    "if os.path.exists(destination_folder):\n",
    "    # Delete all files in the destination folder\n",
    "    for file_name in os.listdir(destination_folder):\n",
    "        file_path = os.path.join(destination_folder, file_name)\n",
    "        if os.path.isfile(file_path):\n",
    "            os.remove(file_path)\n",
    "    print(f\"Deleted all files in {destination_folder}.\")\n",
    "else:\n",
    "    # Create the destination folder if it doesn't exist\n",
    "    os.makedirs(destination_folder, exist_ok=True)\n",
    "    print(f\"Created destination folder: {destination_folder}.\")\n",
    "\n",
    "# Check if the source folder exists\n",
    "if os.path.exists(source_folder):\n",
    "    # Transfer all files from source to destination\n",
    "    for file_name in os.listdir(source_folder):\n",
    "        # Construct full file path\n",
    "        full_file_name = os.path.join(source_folder, file_name)\n",
    "        if os.path.isfile(full_file_name):\n",
    "            shutil.copy(full_file_name, destination_folder)\n",
    "    \n",
    "    print(f\"All files transferred from {source_folder} to {destination_folder}.\")\n",
    "else:\n",
    "    print(f\"The source folder {source_folder} does not exist.\")"
   ]
  },
  {
   "cell_type": "code",
   "execution_count": 13,
   "id": "788bba61",
   "metadata": {},
   "outputs": [
    {
     "name": "stdout",
     "output_type": "stream",
     "text": [
      "Deleted BRCA_active_unzipped\\calendar.txt.\n",
      "Deleted BRCA_active_unzipped\\trips.txt.\n",
      "Deleted BRCA_active_unzipped\\stop_times.txt.\n",
      "Deleted BRCA_active_unzipped\\shapes.txt.\n",
      "Saved active schedules to BRCA_active_unzipped\\calendar.txt.\n",
      "Saved active trips to BRCA_active_unzipped\\trips.txt.\n",
      "Saved active stop times to BRCA_active_unzipped\\stop_times.txt.\n",
      "Saved active shapes to BRCA_active_unzipped\\shapes.txt.\n"
     ]
    }
   ],
   "source": [
    "#Chunk 13: Delete any old files, update the calendar, text, shapes, and stoptimes to active versions\n",
    "\n",
    "# Define the paths to the files to delete\n",
    "calendar_file_path = os.path.join(destination_folder, \"calendar.txt\")\n",
    "trips_file_path = os.path.join(destination_folder, \"trips.txt\")\n",
    "stop_times_file_path = os.path.join(destination_folder, \"stop_times.txt\")\n",
    "shape_file_path = os.path.join(destination_folder, \"shapes.txt\")\n",
    "\n",
    "# Delete the calendar.txt and trips.txt files\n",
    "if os.path.exists(calendar_file_path):\n",
    "    os.remove(calendar_file_path)\n",
    "    print(f\"Deleted {calendar_file_path}.\")\n",
    "else:\n",
    "    print(f\"{calendar_file_path} does not exist.\")\n",
    "\n",
    "if os.path.exists(trips_file_path):\n",
    "    os.remove(trips_file_path)\n",
    "    print(f\"Deleted {trips_file_path}.\")\n",
    "else:\n",
    "    print(f\"{trips_file_path} does not exist.\")\n",
    "\n",
    "if os.path.exists(stop_times_file_path):\n",
    "    os.remove(stop_times_file_path)\n",
    "    print(f\"Deleted {stop_times_file_path}.\")\n",
    "else:\n",
    "    print(f\"{stop_times_file_path} does not exist.\")\n",
    "    \n",
    "if os.path.exists(shape_file_path):\n",
    "    os.remove(shape_file_path)\n",
    "    print(f\"Deleted {shape_file_path}.\")\n",
    "else:\n",
    "    print(f\"{shape_file_path} does not exist.\")\n",
    "    \n",
    "# Save active info to folder\n",
    "calendar_file = os.path.join(destination_folder, \"calendar.txt\")\n",
    "trips_file = os.path.join(destination_folder, \"trips.txt\")\n",
    "stop_times_file = os.path.join(destination_folder, \"stop_times.txt\")\n",
    "shape_file = os.path.join(destination_folder, \"shapes.txt\")\n",
    "\n",
    "active_schedules.to_csv(calendar_file, sep=',', index=False)\n",
    "active_trips.to_csv(trips_file, sep=',', index=False)\n",
    "active_stop_times.to_csv(stop_times_file, sep=',', index=False)\n",
    "active_shapes.to_csv(shape_file, sep=',', index=False)\n",
    "\n",
    "print(f\"Saved active schedules to {calendar_file}.\")\n",
    "print(f\"Saved active trips to {trips_file}.\")\n",
    "print(f\"Saved active stop times to {stop_times_file}.\")\n",
    "print(f\"Saved active shapes to {shape_file}.\")"
   ]
  },
  {
   "cell_type": "code",
   "execution_count": 14,
   "id": "8322b931",
   "metadata": {},
   "outputs": [
    {
     "name": "stdout",
     "output_type": "stream",
     "text": [
      "Created zip file: BRCA_active.zip\n"
     ]
    }
   ],
   "source": [
    "#Chunk 14: Zip it all back up\n",
    "\n",
    "# Define the path to the active unzipped folder and the zip file name\n",
    "active_folder = destination_folder\n",
    "zip_file_name = f\"{park_name}_active\"\n",
    "\n",
    "# Create a zip file from the active folder\n",
    "shutil.make_archive(zip_file_name, 'zip', active_folder)\n",
    "\n",
    "print(f\"Created zip file: {zip_file_name}.zip\")"
   ]
  },
  {
   "cell_type": "code",
   "execution_count": null,
   "id": "89b47f05",
   "metadata": {},
   "outputs": [],
   "source": []
  }
 ],
 "metadata": {
  "kernelspec": {
   "display_name": "Python 3 (ipykernel)",
   "language": "python",
   "name": "python3"
  },
  "language_info": {
   "codemirror_mode": {
    "name": "ipython",
    "version": 3
   },
   "file_extension": ".py",
   "mimetype": "text/x-python",
   "name": "python",
   "nbconvert_exporter": "python",
   "pygments_lexer": "ipython3",
   "version": "3.11.3"
  }
 },
 "nbformat": 4,
 "nbformat_minor": 5
}
