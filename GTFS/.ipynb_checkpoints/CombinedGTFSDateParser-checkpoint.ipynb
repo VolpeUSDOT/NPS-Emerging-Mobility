{
 "cells": [
  {
   "cell_type": "code",
   "execution_count": 1,
   "id": "12f79ead",
   "metadata": {},
   "outputs": [],
   "source": [
    "#Chunk 1: Import libraries\n",
    "\n",
    "import zipfile\n",
    "import os\n",
    "import pandas as pd\n",
    "from datetime import datetime\n",
    "import shutil"
   ]
  },
  {
   "cell_type": "code",
   "execution_count": 2,
   "id": "165dd571",
   "metadata": {},
   "outputs": [
    {
     "name": "stdout",
     "output_type": "stream",
     "text": [
      "Enter the Park Code: GRCA\n",
      "Extracted GRCA.zip to the folder GRCA_unzipped\n"
     ]
    }
   ],
   "source": [
    "#Chunk 2: Import GTFS feed with all schedules \n",
    "\n",
    "#Enter Park Code\n",
    "park_name = input(\"Enter the Park Code: \")\n",
    "\n",
    "# Append .zip to the file name\n",
    "zip_file = f\"{park_name}.zip\"\n",
    "\n",
    "# Check if the zip file exists\n",
    "if os.path.exists(zip_file):\n",
    "    # Create a ZipFile object\n",
    "    with zipfile.ZipFile(zip_file, 'r') as zip_ref:\n",
    "        # Extract all contents to a folder named after the park code\n",
    "        zip_ref.extractall(f\"{park_name}_unzipped\")\n",
    "        print(f\"Extracted {zip_file} to the folder {park_name}_unzipped\")\n",
    "else:\n",
    "    print(f\"The file {zip_file} does not exist.\")\n"
   ]
  },
  {
   "cell_type": "code",
   "execution_count": 3,
   "id": "9730fc0f",
   "metadata": {},
   "outputs": [
    {
     "name": "stdout",
     "output_type": "stream",
     "text": [
      "Loaded calendar.txt into a DataFrame.\n",
      "     service_id  monday  tuesday  wednesday  thursday  friday  saturday  \\\n",
      "0        spring       1        1          1         1       1         1   \n",
      "1        summer       1        1          1         1       1         1   \n",
      "2  summerhikers       1        1          1         1       1         1   \n",
      "3          fall       1        1          1         1       1         1   \n",
      "4        winter       1        1          1         1       1         1   \n",
      "\n",
      "   sunday  start_date  end_date  \n",
      "0       1    20240301  20240524  \n",
      "1       1    20240525  20240906  \n",
      "2       1    20240525  20240831  \n",
      "3       1    20240907  20241130  \n",
      "4       1    20231201  20240229  \n"
     ]
    }
   ],
   "source": [
    "#Chunk 3: Import Calendar\n",
    "\n",
    "# Define the path to the unzipped folder\n",
    "unzipped_folder = f\"{park_name}_unzipped\"\n",
    "\n",
    "# Define the path to the calendar.txt file\n",
    "calendar_file = os.path.join(unzipped_folder, \"calendar.txt\")\n",
    "\n",
    "# Check if the file exists\n",
    "if os.path.exists(calendar_file):\n",
    "    # Load the calendar.txt into a pandas DataFrame\n",
    "    calendar = pd.read_csv(calendar_file)\n",
    "    print(\"Loaded calendar.txt into a DataFrame.\")\n",
    "    print(calendar.head())  # Print the first few rows of the DataFrame\n",
    "else:\n",
    "    print(f\"The file {calendar_file} does not exist.\")"
   ]
  },
  {
   "cell_type": "code",
   "execution_count": 4,
   "id": "f3c5dd3e",
   "metadata": {},
   "outputs": [
    {
     "name": "stdout",
     "output_type": "stream",
     "text": [
      "Active schedules on 2024-09-24:\n",
      "        service_id  monday  tuesday  wednesday  thursday  friday  saturday  \\\n",
      "3             fall       1        1          1         1       1         1   \n",
      "10       september       1        1          1         1       1         1   \n",
      "11         october       1        1          1         1       1         1   \n",
      "12        november       1        1          1         1       1         1   \n",
      "13        december       1        1          1         1       1         1   \n",
      "16  late september       1        1          1         1       1         1   \n",
      "17   early october       1        1          1         1       1         1   \n",
      "18     mid october       1        1          1         1       1         1   \n",
      "19    late october       1        1          1         1       1         1   \n",
      "20  early november       1        1          1         1       1         1   \n",
      "21    mid november       1        1          1         1       1         1   \n",
      "22   late november       1        1          1         1       1         1   \n",
      "\n",
      "    sunday start_date   end_date  \n",
      "3        1 2024-09-07 2024-11-30  \n",
      "10       1 2024-09-07 2024-09-30  \n",
      "11       1 2024-10-01 2024-10-31  \n",
      "12       1 2024-11-01 2024-11-30  \n",
      "13       1 2024-12-01 2024-12-31  \n",
      "16       1 2024-09-20 2024-09-30  \n",
      "17       1 2024-10-01 2024-10-09  \n",
      "18       1 2024-10-10 2024-10-19  \n",
      "19       1 2024-10-20 2024-10-31  \n",
      "20       1 2024-11-01 2024-11-09  \n",
      "21       1 2024-11-10 2024-11-19  \n",
      "22       1 2024-11-20 2024-11-30  \n"
     ]
    }
   ],
   "source": [
    "# Convert start_date and end_date columns to datetime \n",
    "calendar['start_date'] = pd.to_datetime(calendar['start_date'], format='%Y%m%d')\n",
    "calendar['end_date'] = pd.to_datetime(calendar['end_date'], format='%Y%m%d')\n",
    "\n",
    "# Get the current date as a datetime object\n",
    "current_date = pd.to_datetime(datetime.now().strftime('%Y-%m-%d'))\n",
    "\n",
    "# Filter rows where the current date is between start_date and end_date or end_date is in the future\n",
    "active_schedules = calendar[(calendar['start_date'] <= current_date) & (calendar['end_date'] >= current_date) | (calendar['end_date'] > current_date)]\n",
    "\n",
    "print(f\"Active/Future schedules on {current_date.date()}:\")\n",
    "print(active_schedules)"
   ]
  },
  {
   "cell_type": "code",
   "execution_count": 5,
   "id": "0b5de03d",
   "metadata": {},
   "outputs": [
    {
     "name": "stdout",
     "output_type": "stream",
     "text": [
      "Loaded trips.txt into a DataFrame.\n",
      "  route_id service_id             trip_id                trip_headsign  \\\n",
      "0  village     spring  village_spring_T01  Grand Canyon Visitor Center   \n",
      "1  village     spring  village_spring_T02  Grand Canyon Visitor Center   \n",
      "2  village     spring  village_spring_T03  Grand Canyon Visitor Center   \n",
      "3  village     spring  village_spring_T04  Grand Canyon Visitor Center   \n",
      "4  village     spring  village_spring_T05  Grand Canyon Visitor Center   \n",
      "\n",
      "   direction_id  block_id shape_id  wheelchair_accessible  bikes_allowed  \n",
      "0             1       NaN  village                    1.0            1.0  \n",
      "1             1       NaN  village                    1.0            1.0  \n",
      "2             1       NaN  village                    1.0            1.0  \n",
      "3             1       NaN  village                    1.0            1.0  \n",
      "4             1       NaN  village                    1.0            1.0  \n"
     ]
    }
   ],
   "source": [
    "#Chunk 5: Add trips file\n",
    "\n",
    "# Define the path to the unzipped folder\n",
    "unzipped_folder = f\"{park_name}_unzipped\"\n",
    "\n",
    "# Define the path to the trips.txt file\n",
    "trips_file = os.path.join(unzipped_folder, \"trips.txt\")\n",
    "\n",
    "# Check if the file exists\n",
    "if os.path.exists(trips_file):\n",
    "    # Load the trips.txt into a pandas DataFrame\n",
    "    trips = pd.read_csv(trips_file)\n",
    "    print(\"Loaded trips.txt into a DataFrame.\")\n",
    "    print(trips.head())  # Print the first few rows of the DataFrame\n",
    "else:\n",
    "    print(f\"The file {trips_file} does not exist.\")"
   ]
  },
  {
   "cell_type": "code",
   "execution_count": 6,
   "id": "49d207ad",
   "metadata": {},
   "outputs": [
    {
     "name": "stdout",
     "output_type": "stream",
     "text": [
      "Active trips based on active schedules:\n",
      "     route_id     service_id                   trip_id  \\\n",
      "151   village           fall          village_fall_T01   \n",
      "152   village           fall          village_fall_T02   \n",
      "153   village           fall          village_fall_T03   \n",
      "154   village           fall          village_fall_T04   \n",
      "155   village           fall          village_fall_T05   \n",
      "...       ...            ...                       ...   \n",
      "1292   hermit  late november  hermit_late november_T46   \n",
      "1293   hermit  late november  hermit_late november_T47   \n",
      "1294   hermit  late november  hermit_late november_T48   \n",
      "1295   hermit  late november  hermit_late november_T49   \n",
      "1296   hermit  late november  hermit_late november_T50   \n",
      "\n",
      "                    trip_headsign  direction_id  block_id shape_id  \\\n",
      "151   Grand Canyon Visitor Center             1       NaN  village   \n",
      "152   Grand Canyon Visitor Center             1       NaN  village   \n",
      "153   Grand Canyon Visitor Center             1       NaN  village   \n",
      "154   Grand Canyon Visitor Center             1       NaN  village   \n",
      "155   Grand Canyon Visitor Center             1       NaN  village   \n",
      "...                           ...           ...       ...      ...   \n",
      "1292       Village Route Transfer             1       NaN   hermit   \n",
      "1293       Village Route Transfer             1       NaN   hermit   \n",
      "1294       Village Route Transfer             1       NaN   hermit   \n",
      "1295       Village Route Transfer             1       NaN   hermit   \n",
      "1296       Village Route Transfer             1       NaN   hermit   \n",
      "\n",
      "      wheelchair_accessible  bikes_allowed  \n",
      "151                     1.0            1.0  \n",
      "152                     1.0            1.0  \n",
      "153                     1.0            1.0  \n",
      "154                     1.0            1.0  \n",
      "155                     1.0            1.0  \n",
      "...                     ...            ...  \n",
      "1292                    NaN            NaN  \n",
      "1293                    NaN            NaN  \n",
      "1294                    NaN            NaN  \n",
      "1295                    NaN            NaN  \n",
      "1296                    NaN            NaN  \n",
      "\n",
      "[694 rows x 9 columns]\n"
     ]
    }
   ],
   "source": [
    "#Chunk 6: Filter to active trips\n",
    "\n",
    "# Filter trips where service_id in trips matches any service_id in active_schedules\n",
    "active_trips = trips[trips['service_id'].isin(active_schedules['service_id'])]\n",
    "\n",
    "print(\"Active trips based on active schedules:\")\n",
    "print(active_trips)"
   ]
  },
  {
   "cell_type": "code",
   "execution_count": 7,
   "id": "2d027479",
   "metadata": {},
   "outputs": [
    {
     "name": "stdout",
     "output_type": "stream",
     "text": [
      "Loaded stop_times.txt into a DataFrame.\n",
      "              trip_id arrival_time departure_time  stop_id  stop_sequence  \\\n",
      "0  village_spring_T01     07:00:00       07:00:00        1              1   \n",
      "1  village_spring_T01     07:05:00       07:05:00        2              2   \n",
      "2  village_spring_T01     07:08:00       07:08:00        3              3   \n",
      "3  village_spring_T01     07:12:00       07:12:00        4              4   \n",
      "4  village_spring_T01     07:15:00       07:15:00        5              5   \n",
      "\n",
      "                  stop_headsign  pickup_type  drop_off_type  \\\n",
      "0        Market Plaza Westbound          NaN            NaN   \n",
      "1  Shrine of the Ages Westbound          NaN            NaN   \n",
      "2                   Train Depot          NaN            NaN   \n",
      "3            Bright Angel Lodge          NaN            NaN   \n",
      "4         Hermits Rest Transfer          NaN            NaN   \n",
      "\n",
      "   continuous_pickup  continuous_drop_off  shape_dist_traveled  timepoint  \n",
      "0                NaN                  NaN                0.000          1  \n",
      "1                NaN                  NaN                1.367          1  \n",
      "2                NaN                  NaN                1.880          1  \n",
      "3                NaN                  NaN                3.203          1  \n",
      "4                NaN                  NaN                3.569          1  \n"
     ]
    }
   ],
   "source": [
    "#Chunk 7: Add stop_times \n",
    "\n",
    "# Define the path to the unzipped folder\n",
    "unzipped_folder = f\"{park_name}_unzipped\"\n",
    "\n",
    "# Define the path to the stop_times.txt file\n",
    "stop_times_file = os.path.join(unzipped_folder, \"stop_times.txt\")\n",
    "\n",
    "# Check if the file exists\n",
    "if os.path.exists(stop_times_file):\n",
    "    # Load the stop_times.txt into a pandas DataFrame\n",
    "    stop_times = pd.read_csv(stop_times_file)\n",
    "    print(\"Loaded stop_times.txt into a DataFrame.\")\n",
    "    print(stop_times.head())  # Print the first few rows of the DataFrame\n",
    "else:\n",
    "    print(f\"The file {stop_times_file} does not exist.\")"
   ]
  },
  {
   "cell_type": "code",
   "execution_count": 8,
   "id": "ec1a7460",
   "metadata": {
    "scrolled": true
   },
   "outputs": [
    {
     "name": "stdout",
     "output_type": "stream",
     "text": [
      "Active stop times DataFrame created with 8262 rows.\n",
      "               trip_id arrival_time departure_time  stop_id  stop_sequence  \\\n",
      "2265  village_fall_T01     07:00:00       07:00:00        1              1   \n",
      "2266  village_fall_T01          NaN            NaN        2              2   \n",
      "2267  village_fall_T01          NaN            NaN        3              3   \n",
      "2268  village_fall_T01          NaN            NaN        4              4   \n",
      "2269  village_fall_T01          NaN            NaN        5              5   \n",
      "\n",
      "                     stop_headsign  pickup_type  drop_off_type  \\\n",
      "2265        Market Plaza Westbound          NaN            NaN   \n",
      "2266  Shrine of the Ages Westbound          NaN            NaN   \n",
      "2267                   Train Depot          NaN            NaN   \n",
      "2268            Bright Angel Lodge          NaN            NaN   \n",
      "2269         Hermits Rest Transfer          NaN            NaN   \n",
      "\n",
      "      continuous_pickup  continuous_drop_off  shape_dist_traveled  timepoint  \n",
      "2265                NaN                  NaN                0.000          1  \n",
      "2266                NaN                  NaN                1.367          0  \n",
      "2267                NaN                  NaN                1.880          0  \n",
      "2268                NaN                  NaN                3.203          0  \n",
      "2269                NaN                  NaN                3.569          0  \n"
     ]
    }
   ],
   "source": [
    "#Chunk 7: Fitler out active stop times\n",
    "active_stop_times = stop_times[stop_times['trip_id'].isin(active_trips['trip_id'])]\n",
    "\n",
    "print(f\"Active stop times DataFrame created with {len(active_stop_times)} rows.\")\n",
    "print(active_stop_times.head())  # Print the first few rows of the active_stop_times DataFrame"
   ]
  },
  {
   "cell_type": "code",
   "execution_count": 9,
   "id": "d934d760",
   "metadata": {},
   "outputs": [
    {
     "name": "stdout",
     "output_type": "stream",
     "text": [
      "Loaded shapes.txt into a DataFrame.\n",
      "  shape_id  shape_pt_lat  shape_pt_lon  shape_pt_sequence  shape_dist_traveled\n",
      "0  village      36.05814    -112.10857                  1                0.000\n",
      "1  village      36.05809    -112.10851                  2                0.008\n",
      "2  village      36.05798    -112.10838                  3                0.025\n",
      "3  village      36.05794    -112.10832                  4                0.032\n",
      "4  village      36.05785    -112.10820                  5                0.046\n"
     ]
    }
   ],
   "source": [
    "# Chunk 9: Add shape files\n",
    "\n",
    "# Define the path to the unzipped folder\n",
    "unzipped_folder = f\"{park_name}_unzipped\"\n",
    "\n",
    "# Define the path to the shapes.txt file\n",
    "shape_file = os.path.join(unzipped_folder, \"shapes.txt\")\n",
    "\n",
    "# Check if the file exists\n",
    "if os.path.exists(shape_file):\n",
    "    # Load the shapes.txt into a pandas DataFrame\n",
    "    shapes = pd.read_csv(shape_file)\n",
    "    print(\"Loaded shapes.txt into a DataFrame.\")\n",
    "    print(shapes.head())  # Print the first few rows of the DataFrame\n",
    "else:\n",
    "    print(f\"The file {shape_file} does not exist.\")"
   ]
  },
  {
   "cell_type": "code",
   "execution_count": 10,
   "id": "d0f81620",
   "metadata": {},
   "outputs": [
    {
     "name": "stdout",
     "output_type": "stream",
     "text": [
      "Active shapes DataFrame created with 3958 rows.\n",
      "  shape_id  shape_pt_lat  shape_pt_lon  shape_pt_sequence  shape_dist_traveled\n",
      "0  village      36.05814    -112.10857                  1                0.000\n",
      "1  village      36.05809    -112.10851                  2                0.008\n",
      "2  village      36.05798    -112.10838                  3                0.025\n",
      "3  village      36.05794    -112.10832                  4                0.032\n",
      "4  village      36.05785    -112.10820                  5                0.046\n"
     ]
    }
   ],
   "source": [
    "#Chunk 10: Filter to active shapes\n",
    "active_shapes = shapes[shapes['shape_id'].isin(active_trips['shape_id'])]\n",
    "\n",
    "print(f\"Active shapes DataFrame created with {len(active_shapes)} rows.\")\n",
    "print(active_shapes.head())  # Print the first few rows of the active_shapes DataFrame"
   ]
  },
  {
   "cell_type": "code",
   "execution_count": 11,
   "id": "5f84a25a",
   "metadata": {},
   "outputs": [
    {
     "name": "stdout",
     "output_type": "stream",
     "text": [
      "Converted dates in active_schedules DataFrame:\n",
      "   service_id  monday  tuesday  wednesday  thursday  friday  saturday  sunday  \\\n",
      "3        fall       1        1          1         1       1         1       1   \n",
      "10  september       1        1          1         1       1         1       1   \n",
      "11    october       1        1          1         1       1         1       1   \n",
      "12   november       1        1          1         1       1         1       1   \n",
      "13   december       1        1          1         1       1         1       1   \n",
      "\n",
      "   start_date  end_date  \n",
      "3    20240907  20241130  \n",
      "10   20240907  20240930  \n",
      "11   20241001  20241031  \n",
      "12   20241101  20241130  \n",
      "13   20241201  20241231  \n"
     ]
    },
    {
     "name": "stderr",
     "output_type": "stream",
     "text": [
      "C:\\Users\\Daniel.Lang\\AppData\\Local\\Temp\\ipykernel_10392\\144129204.py:2: SettingWithCopyWarning: \n",
      "A value is trying to be set on a copy of a slice from a DataFrame.\n",
      "Try using .loc[row_indexer,col_indexer] = value instead\n",
      "\n",
      "See the caveats in the documentation: https://pandas.pydata.org/pandas-docs/stable/user_guide/indexing.html#returning-a-view-versus-a-copy\n",
      "  active_schedules['start_date'] = active_schedules['start_date'].dt.strftime('%Y%m%d')\n",
      "C:\\Users\\Daniel.Lang\\AppData\\Local\\Temp\\ipykernel_10392\\144129204.py:3: SettingWithCopyWarning: \n",
      "A value is trying to be set on a copy of a slice from a DataFrame.\n",
      "Try using .loc[row_indexer,col_indexer] = value instead\n",
      "\n",
      "See the caveats in the documentation: https://pandas.pydata.org/pandas-docs/stable/user_guide/indexing.html#returning-a-view-versus-a-copy\n",
      "  active_schedules['end_date'] = active_schedules['end_date'].dt.strftime('%Y%m%d')\n"
     ]
    }
   ],
   "source": [
    "#Chunk 11: Convert calendar dates back to GTFS format (YYYYMMDD)\n",
    "active_schedules['start_date'] = active_schedules['start_date'].dt.strftime('%Y%m%d')\n",
    "active_schedules['end_date'] = active_schedules['end_date'].dt.strftime('%Y%m%d')\n",
    "\n",
    "print(\"Converted dates in active_schedules DataFrame:\")\n",
    "print(active_schedules.head())  # Print the first few rows to verify the changes"
   ]
  },
  {
   "cell_type": "code",
   "execution_count": 12,
   "id": "74be4a01",
   "metadata": {},
   "outputs": [
    {
     "name": "stdout",
     "output_type": "stream",
     "text": [
      "Created destination folder: GRCA_active_unzipped.\n",
      "All files transferred from GRCA_unzipped to GRCA_active_unzipped.\n"
     ]
    }
   ],
   "source": [
    "#Chunk 12: Create new archive for the active, filtered GTFS feed\n",
    "\n",
    "# Define the source and destination folders \n",
    "source_folder = f\"{park_name}_unzipped\"\n",
    "destination_folder = f\"{park_name}_active_unzipped\"\n",
    "\n",
    "# Check if the destination folder exists\n",
    "if os.path.exists(destination_folder):\n",
    "    # Delete all files in the destination folder\n",
    "    for file_name in os.listdir(destination_folder):\n",
    "        file_path = os.path.join(destination_folder, file_name)\n",
    "        if os.path.isfile(file_path):\n",
    "            os.remove(file_path)\n",
    "    print(f\"Deleted all files in {destination_folder}.\")\n",
    "else:\n",
    "    # Create the destination folder if it doesn't exist\n",
    "    os.makedirs(destination_folder, exist_ok=True)\n",
    "    print(f\"Created destination folder: {destination_folder}.\")\n",
    "\n",
    "# Check if the source folder exists\n",
    "if os.path.exists(source_folder):\n",
    "    # Transfer all files from source to destination\n",
    "    for file_name in os.listdir(source_folder):\n",
    "        # Construct full file path\n",
    "        full_file_name = os.path.join(source_folder, file_name)\n",
    "        if os.path.isfile(full_file_name):\n",
    "            shutil.copy(full_file_name, destination_folder)\n",
    "    \n",
    "    print(f\"All files transferred from {source_folder} to {destination_folder}.\")\n",
    "else:\n",
    "    print(f\"The source folder {source_folder} does not exist.\")"
   ]
  },
  {
   "cell_type": "code",
   "execution_count": 13,
   "id": "788bba61",
   "metadata": {},
   "outputs": [
    {
     "name": "stdout",
     "output_type": "stream",
     "text": [
      "Deleted GRCA_active_unzipped\\calendar.txt.\n",
      "Deleted GRCA_active_unzipped\\trips.txt.\n",
      "Deleted GRCA_active_unzipped\\stop_times.txt.\n",
      "Deleted GRCA_active_unzipped\\shapes.txt.\n",
      "Saved active schedules to GRCA_active_unzipped\\calendar.txt.\n",
      "Saved active trips to GRCA_active_unzipped\\trips.txt.\n",
      "Saved active stop times to GRCA_active_unzipped\\stop_times.txt.\n",
      "Saved active shapes to GRCA_active_unzipped\\shapes.txt.\n"
     ]
    }
   ],
   "source": [
    "#Chunk 13: Delete any old files, update the calendar, text, shapes, and stoptimes to active versions\n",
    "\n",
    "# Define the paths to the files to delete\n",
    "calendar_file_path = os.path.join(destination_folder, \"calendar.txt\")\n",
    "trips_file_path = os.path.join(destination_folder, \"trips.txt\")\n",
    "stop_times_file_path = os.path.join(destination_folder, \"stop_times.txt\")\n",
    "shape_file_path = os.path.join(destination_folder, \"shapes.txt\")\n",
    "\n",
    "# Delete the calendar.txt and trips.txt files\n",
    "if os.path.exists(calendar_file_path):\n",
    "    os.remove(calendar_file_path)\n",
    "    print(f\"Deleted {calendar_file_path}.\")\n",
    "else:\n",
    "    print(f\"{calendar_file_path} does not exist.\")\n",
    "\n",
    "if os.path.exists(trips_file_path):\n",
    "    os.remove(trips_file_path)\n",
    "    print(f\"Deleted {trips_file_path}.\")\n",
    "else:\n",
    "    print(f\"{trips_file_path} does not exist.\")\n",
    "\n",
    "if os.path.exists(stop_times_file_path):\n",
    "    os.remove(stop_times_file_path)\n",
    "    print(f\"Deleted {stop_times_file_path}.\")\n",
    "else:\n",
    "    print(f\"{stop_times_file_path} does not exist.\")\n",
    "    \n",
    "if os.path.exists(shape_file_path):\n",
    "    os.remove(shape_file_path)\n",
    "    print(f\"Deleted {shape_file_path}.\")\n",
    "else:\n",
    "    print(f\"{shape_file_path} does not exist.\")\n",
    "    \n",
    "# Save active info to folder\n",
    "calendar_file = os.path.join(destination_folder, \"calendar.txt\")\n",
    "trips_file = os.path.join(destination_folder, \"trips.txt\")\n",
    "stop_times_file = os.path.join(destination_folder, \"stop_times.txt\")\n",
    "shape_file = os.path.join(destination_folder, \"shapes.txt\")\n",
    "\n",
    "active_schedules.to_csv(calendar_file, sep=',', index=False)\n",
    "active_trips.to_csv(trips_file, sep=',', index=False)\n",
    "active_stop_times.to_csv(stop_times_file, sep=',', index=False)\n",
    "active_shapes.to_csv(shape_file, sep=',', index=False)\n",
    "\n",
    "print(f\"Saved active schedules to {calendar_file}.\")\n",
    "print(f\"Saved active trips to {trips_file}.\")\n",
    "print(f\"Saved active stop times to {stop_times_file}.\")\n",
    "print(f\"Saved active shapes to {shape_file}.\")"
   ]
  },
  {
   "cell_type": "code",
   "execution_count": 14,
   "id": "8322b931",
   "metadata": {},
   "outputs": [
    {
     "name": "stdout",
     "output_type": "stream",
     "text": [
      "Created zip file: GRCA_active.zip\n"
     ]
    }
   ],
   "source": [
    "#Chunk 14: Zip it all back up\n",
    "\n",
    "# Define the path to the active unzipped folder and the zip file name\n",
    "active_folder = destination_folder\n",
    "zip_file_name = f\"{park_name}_active\"\n",
    "\n",
    "# Create a zip file from the active folder\n",
    "shutil.make_archive(zip_file_name, 'zip', active_folder)\n",
    "\n",
    "print(f\"Created zip file: {zip_file_name}.zip\")"
   ]
  },
  {
   "cell_type": "code",
   "execution_count": null,
   "id": "89b47f05",
   "metadata": {},
   "outputs": [],
   "source": []
  }
 ],
 "metadata": {
  "kernelspec": {
   "display_name": "Python 3 (ipykernel)",
   "language": "python",
   "name": "python3"
  },
  "language_info": {
   "codemirror_mode": {
    "name": "ipython",
    "version": 3
   },
   "file_extension": ".py",
   "mimetype": "text/x-python",
   "name": "python",
   "nbconvert_exporter": "python",
   "pygments_lexer": "ipython3",
   "version": "3.11.3"
  }
 },
 "nbformat": 4,
 "nbformat_minor": 5
}
