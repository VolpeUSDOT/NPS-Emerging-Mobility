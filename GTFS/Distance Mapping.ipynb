{
 "cells": [
  {
   "cell_type": "markdown",
   "id": "6e2af6e3",
   "metadata": {},
   "source": [
    "#### GTFS Helper File\n",
    "##### Author: Eric Englin\n",
    "\n",
    "\n",
    "This code inputs a kml file with routes and outputs the shapes tab of the RTAP GTFS builder Excel document. Kml files are generally created as a simple Google map document and can be directly input into this python script. "
   ]
  },
  {
   "cell_type": "code",
   "execution_count": 1,
   "id": "27f39ba6",
   "metadata": {},
   "outputs": [],
   "source": [
    "from pykml import parser\n",
    "import re\n",
    "import networkx as nx\n",
    "import osmnx as ox\n",
    "from geopy import distance\n",
    "import pandas as pd\n"
   ]
  },
  {
   "cell_type": "code",
   "execution_count": 2,
   "id": "2d7efada",
   "metadata": {
    "scrolled": false
   },
   "outputs": [],
   "source": [
    "def make_shape_table(kml_name):\n",
    "    # function to make the table on shapes tab of RTAP GTFS Builder\n",
    "    # input: kml file location\n",
    "    # output: dataframe that can be directly pasted into shapes tab\n",
    "    \n",
    "    # first section reads in the kml file and parses to grab the coordinates of each point on a line\n",
    "    root = parser.parse(kml_name).getroot()\n",
    "    coord_ex = '(-?\\d+\\.\\d+),'\n",
    "    heig_ex = '(\\d+)'\n",
    "    regex = coord_ex + coord_ex + heig_ex\n",
    "    mycoor = (root.Document.Placemark.LineString.coordinates).text.strip()\n",
    "    coord = re.findall(regex, mycoor)\n",
    "\n",
    "\n",
    "    # next section calculates the distance between each point\n",
    "    # assumes that the distances will be short enough to use the geometric distance\n",
    "    # another approach could use the actual driving/road distance\n",
    "    from geopy import distance\n",
    "    shape_id_list = []\n",
    "    lat_list= []\n",
    "    lon_list = []\n",
    "    shape_pt_sequence_list = []\n",
    "    sequence_num = 1\n",
    "    shape_dist_traveled_list = []\n",
    "\n",
    "    last_lon = float(coord[0][0])\n",
    "    last_lat = float(coord[0][1])\n",
    "\n",
    "    for x in coord:\n",
    "        shape_id_list.append(root.Document.name.text)\n",
    "        lon = float(x[0])\n",
    "        lat = float(x[1])\n",
    "        lon_list.append(lon)\n",
    "        lat_list.append(lat)\n",
    "        shape_pt_sequence_list.append(sequence_num)\n",
    "        if sequence_num == 1:\n",
    "            shape_dist_traveled_list.append(0)\n",
    "\n",
    "        else:\n",
    "            from geopy import distance\n",
    "          #  print((float(x[1]), float(x[0])), (float(last_lat), float(last_lon)))\n",
    "            distance = distance.distance((x[1],x[0]), \n",
    "                                          (last_lat,last_lon))\n",
    "            shape_dist_traveled_list.append(distance.km)\n",
    "\n",
    "        last_lat = lat\n",
    "        last_lon = lon\n",
    "\n",
    "        sequence_num +=1\n",
    "        \n",
    "    df = pd.DataFrame({\n",
    "        \"shape_id\":shape_id_list,\n",
    "        \"shape_pt_lat\":lat_list,\n",
    "        \"shape_pt_lon\":lon_list,\n",
    "        \"shape_pt_sequence\":shape_pt_sequence_list,\n",
    "        \"shape_dist_traveled\":shape_dist_traveled_list\n",
    "    })\n",
    "    \n",
    "    return df\n",
    "    "
   ]
  },
  {
   "cell_type": "code",
   "execution_count": 3,
   "id": "41d2d5f3",
   "metadata": {},
   "outputs": [],
   "source": [
    "kml_list = []\n"
   ]
  },
  {
   "cell_type": "markdown",
   "id": "a52a191a",
   "metadata": {},
   "source": [
    "### Zion National Park"
   ]
  },
  {
   "cell_type": "code",
   "execution_count": 22,
   "id": "d790a146",
   "metadata": {},
   "outputs": [
    {
     "name": "stderr",
     "output_type": "stream",
     "text": [
      "C:\\Users\\Eric.Englin\\AppData\\Local\\Temp\\ipykernel_16404\\3800933384.py:4: FutureWarning: The frame.append method is deprecated and will be removed from pandas in a future version. Use pandas.concat instead.\n",
      "  df = town_route_df.append(canyon_route_df)\n"
     ]
    }
   ],
   "source": [
    "canyon_route_df = make_shape_table(r\"C:\\Users\\Eric.Englin\\Downloads\\canyon.kml\")\n",
    "town_route_df = make_shape_table(r\"C:\\Users\\Eric.Englin\\Downloads\\town.kml\")\n",
    "\n",
    "df = town_route_df.append(canyon_route_df)\n",
    "\n",
    "df.to_excel(r\"C:\\Users\\Eric.Englin\\Downloads\\Zion.xlsx\")"
   ]
  },
  {
   "cell_type": "code",
   "execution_count": 20,
   "id": "d6bc91a3",
   "metadata": {},
   "outputs": [
    {
     "data": {
      "text/html": [
       "<div>\n",
       "<style scoped>\n",
       "    .dataframe tbody tr th:only-of-type {\n",
       "        vertical-align: middle;\n",
       "    }\n",
       "\n",
       "    .dataframe tbody tr th {\n",
       "        vertical-align: top;\n",
       "    }\n",
       "\n",
       "    .dataframe thead th {\n",
       "        text-align: right;\n",
       "    }\n",
       "</style>\n",
       "<table border=\"1\" class=\"dataframe\">\n",
       "  <thead>\n",
       "    <tr style=\"text-align: right;\">\n",
       "      <th></th>\n",
       "      <th>shape_id</th>\n",
       "      <th>shape_pt_lat</th>\n",
       "      <th>shape_pt_lon</th>\n",
       "      <th>shape_pt_sequence</th>\n",
       "      <th>shape_dist_traveled</th>\n",
       "    </tr>\n",
       "  </thead>\n",
       "  <tbody>\n",
       "    <tr>\n",
       "      <th>0</th>\n",
       "      <td>TownRoute</td>\n",
       "      <td>37.16741</td>\n",
       "      <td>-113.01362</td>\n",
       "      <td>1</td>\n",
       "      <td>0.000000</td>\n",
       "    </tr>\n",
       "    <tr>\n",
       "      <th>1</th>\n",
       "      <td>TownRoute</td>\n",
       "      <td>37.16731</td>\n",
       "      <td>-113.01363</td>\n",
       "      <td>2</td>\n",
       "      <td>0.011134</td>\n",
       "    </tr>\n",
       "    <tr>\n",
       "      <th>2</th>\n",
       "      <td>TownRoute</td>\n",
       "      <td>37.16713</td>\n",
       "      <td>-113.01368</td>\n",
       "      <td>3</td>\n",
       "      <td>0.020464</td>\n",
       "    </tr>\n",
       "    <tr>\n",
       "      <th>3</th>\n",
       "      <td>TownRoute</td>\n",
       "      <td>37.16710</td>\n",
       "      <td>-113.01347</td>\n",
       "      <td>4</td>\n",
       "      <td>0.018946</td>\n",
       "    </tr>\n",
       "    <tr>\n",
       "      <th>4</th>\n",
       "      <td>TownRoute</td>\n",
       "      <td>37.16726</td>\n",
       "      <td>-113.01344</td>\n",
       "      <td>5</td>\n",
       "      <td>0.017956</td>\n",
       "    </tr>\n",
       "  </tbody>\n",
       "</table>\n",
       "</div>"
      ],
      "text/plain": [
       "    shape_id  shape_pt_lat  shape_pt_lon  shape_pt_sequence  \\\n",
       "0  TownRoute      37.16741    -113.01362                  1   \n",
       "1  TownRoute      37.16731    -113.01363                  2   \n",
       "2  TownRoute      37.16713    -113.01368                  3   \n",
       "3  TownRoute      37.16710    -113.01347                  4   \n",
       "4  TownRoute      37.16726    -113.01344                  5   \n",
       "\n",
       "   shape_dist_traveled  \n",
       "0             0.000000  \n",
       "1             0.011134  \n",
       "2             0.020464  \n",
       "3             0.018946  \n",
       "4             0.017956  "
      ]
     },
     "execution_count": 20,
     "metadata": {},
     "output_type": "execute_result"
    }
   ],
   "source": [
    "df.head()"
   ]
  },
  {
   "cell_type": "markdown",
   "id": "77e63ad1",
   "metadata": {},
   "source": [
    "### Harpers Ferry"
   ]
  },
  {
   "cell_type": "code",
   "execution_count": 18,
   "id": "b08e18e6",
   "metadata": {},
   "outputs": [],
   "source": [
    "hafe_df = make_shape_table(r\"C:\\Users\\Eric.Englin\\Downloads\\lower town.kml\")\n",
    "\n",
    "hafe_df.to_excel(r\"C:\\Users\\Eric.Englin\\Downloads\\HAFE.xlsx\")"
   ]
  },
  {
   "cell_type": "code",
   "execution_count": 21,
   "id": "35d03ff2",
   "metadata": {},
   "outputs": [
    {
     "data": {
      "text/html": [
       "<div>\n",
       "<style scoped>\n",
       "    .dataframe tbody tr th:only-of-type {\n",
       "        vertical-align: middle;\n",
       "    }\n",
       "\n",
       "    .dataframe tbody tr th {\n",
       "        vertical-align: top;\n",
       "    }\n",
       "\n",
       "    .dataframe thead th {\n",
       "        text-align: right;\n",
       "    }\n",
       "</style>\n",
       "<table border=\"1\" class=\"dataframe\">\n",
       "  <thead>\n",
       "    <tr style=\"text-align: right;\">\n",
       "      <th></th>\n",
       "      <th>shape_id</th>\n",
       "      <th>shape_pt_lat</th>\n",
       "      <th>shape_pt_lon</th>\n",
       "      <th>shape_pt_sequence</th>\n",
       "      <th>shape_dist_traveled</th>\n",
       "    </tr>\n",
       "  </thead>\n",
       "  <tbody>\n",
       "    <tr>\n",
       "      <th>0</th>\n",
       "      <td>Harpers Ferry National Historical Park Visitor...</td>\n",
       "      <td>39.31644</td>\n",
       "      <td>-77.75726</td>\n",
       "      <td>1</td>\n",
       "      <td>0.000000</td>\n",
       "    </tr>\n",
       "    <tr>\n",
       "      <th>1</th>\n",
       "      <td>Harpers Ferry National Historical Park Visitor...</td>\n",
       "      <td>39.31646</td>\n",
       "      <td>-77.75729</td>\n",
       "      <td>2</td>\n",
       "      <td>0.003409</td>\n",
       "    </tr>\n",
       "    <tr>\n",
       "      <th>2</th>\n",
       "      <td>Harpers Ferry National Historical Park Visitor...</td>\n",
       "      <td>39.31647</td>\n",
       "      <td>-77.75732</td>\n",
       "      <td>3</td>\n",
       "      <td>0.002815</td>\n",
       "    </tr>\n",
       "    <tr>\n",
       "      <th>3</th>\n",
       "      <td>Harpers Ferry National Historical Park Visitor...</td>\n",
       "      <td>39.31647</td>\n",
       "      <td>-77.75736</td>\n",
       "      <td>4</td>\n",
       "      <td>0.003450</td>\n",
       "    </tr>\n",
       "    <tr>\n",
       "      <th>4</th>\n",
       "      <td>Harpers Ferry National Historical Park Visitor...</td>\n",
       "      <td>39.31647</td>\n",
       "      <td>-77.75740</td>\n",
       "      <td>5</td>\n",
       "      <td>0.003450</td>\n",
       "    </tr>\n",
       "  </tbody>\n",
       "</table>\n",
       "</div>"
      ],
      "text/plain": [
       "                                            shape_id  shape_pt_lat  \\\n",
       "0  Harpers Ferry National Historical Park Visitor...      39.31644   \n",
       "1  Harpers Ferry National Historical Park Visitor...      39.31646   \n",
       "2  Harpers Ferry National Historical Park Visitor...      39.31647   \n",
       "3  Harpers Ferry National Historical Park Visitor...      39.31647   \n",
       "4  Harpers Ferry National Historical Park Visitor...      39.31647   \n",
       "\n",
       "   shape_pt_lon  shape_pt_sequence  shape_dist_traveled  \n",
       "0     -77.75726                  1             0.000000  \n",
       "1     -77.75729                  2             0.003409  \n",
       "2     -77.75732                  3             0.002815  \n",
       "3     -77.75736                  4             0.003450  \n",
       "4     -77.75740                  5             0.003450  "
      ]
     },
     "execution_count": 21,
     "metadata": {},
     "output_type": "execute_result"
    }
   ],
   "source": [
    "hafe_df.head()"
   ]
  }
 ],
 "metadata": {
  "kernelspec": {
   "display_name": "geo_env",
   "language": "python",
   "name": "geo_env"
  },
  "language_info": {
   "codemirror_mode": {
    "name": "ipython",
    "version": 3
   },
   "file_extension": ".py",
   "mimetype": "text/x-python",
   "name": "python",
   "nbconvert_exporter": "python",
   "pygments_lexer": "ipython3",
   "version": "3.10.4"
  }
 },
 "nbformat": 4,
 "nbformat_minor": 5
}
