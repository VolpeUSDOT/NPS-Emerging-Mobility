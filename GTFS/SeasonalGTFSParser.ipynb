{
 "cells": [
  {
   "cell_type": "code",
   "execution_count": 1,
   "id": "12f79ead",
   "metadata": {},
   "outputs": [],
   "source": [
    "#Chunk 1: Impo\n",
    "\n",
    "import zipfile\n",
    "import os\n",
    "import pandas as pd\n",
    "from datetime import datetime\n",
    "import shutil"
   ]
  },
  {
   "cell_type": "code",
   "execution_count": 2,
   "id": "165dd571",
   "metadata": {},
   "outputs": [
    {
     "name": "stdout",
     "output_type": "stream",
     "text": [
      "Enter the Park Code: HAFE\n",
      "Extracted HAFE.zip to the folder HAFE_unzipped\n"
     ]
    }
   ],
   "source": [
    "\n",
    "\n",
    "#Enter Park Code\n",
    "park_name = input(\"Enter the Park Code: \")\n",
    "\n",
    "# Append .zip to the file name\n",
    "zip_file = f\"{park_name}.zip\"\n",
    "\n",
    "# Check if the zip file exists\n",
    "if os.path.exists(zip_file):\n",
    "    # Create a ZipFile object\n",
    "    with zipfile.ZipFile(zip_file, 'r') as zip_ref:\n",
    "        # Extract all contents to a folder named after the park code\n",
    "        zip_ref.extractall(f\"{park_name}_unzipped\")\n",
    "        print(f\"Extracted {zip_file} to the folder {park_name}_unzipped\")\n",
    "else:\n",
    "    print(f\"The file {zip_file} does not exist.\")\n"
   ]
  },
  {
   "cell_type": "code",
   "execution_count": 3,
   "id": "9730fc0f",
   "metadata": {},
   "outputs": [
    {
     "name": "stdout",
     "output_type": "stream",
     "text": [
      "Loaded calendar.txt into a DataFrame.\n",
      "  service_id  monday  tuesday  wednesday  thursday  friday  saturday  sunday  \\\n",
      "0        est       1        1          1         1       1         1       1   \n",
      "1        edt       1        1          1         1       1         1       1   \n",
      "\n",
      "   start_date  end_date  \n",
      "0    20231106  20240311  \n",
      "1    20240312  20241102  \n"
     ]
    }
   ],
   "source": [
    "# Define the path to the unzipped folder\n",
    "unzipped_folder = f\"{park_name}_unzipped\"\n",
    "\n",
    "# Define the path to the calendar.txt file\n",
    "calendar_file = os.path.join(unzipped_folder, \"calendar.txt\")\n",
    "\n",
    "# Check if the file exists\n",
    "if os.path.exists(calendar_file):\n",
    "    # Load the calendar.txt into a pandas DataFrame\n",
    "    calendar = pd.read_csv(calendar_file)\n",
    "    print(\"Loaded calendar.txt into a DataFrame.\")\n",
    "    print(calendar.head())  # Print the first few rows of the DataFrame\n",
    "else:\n",
    "    print(f\"The file {calendar_file} does not exist.\")"
   ]
  },
  {
   "cell_type": "code",
   "execution_count": 4,
   "id": "f3c5dd3e",
   "metadata": {},
   "outputs": [
    {
     "name": "stdout",
     "output_type": "stream",
     "text": [
      "Active schedules on 2024-09-23:\n",
      "  service_id  monday  tuesday  wednesday  thursday  friday  saturday  sunday  \\\n",
      "1        edt       1        1          1         1       1         1       1   \n",
      "\n",
      "  start_date   end_date  \n",
      "1 2024-03-12 2024-11-02  \n"
     ]
    }
   ],
   "source": [
    "# Convert start_date and end_date columns to datetime\n",
    "calendar['start_date'] = pd.to_datetime(calendar['start_date'], format='%Y%m%d')\n",
    "calendar['end_date'] = pd.to_datetime(calendar['end_date'], format='%Y%m%d')\n",
    "\n",
    "# Get the current date as a datetime object\n",
    "current_date = pd.to_datetime(datetime.now().strftime('%Y-%m-%d'))\n",
    "        \n",
    "# Filter rows where the current date is between start_date and end_date\n",
    "active_schedules = calendar[(calendar['start_date'] <= current_date) & (calendar['end_date'] >= current_date)]\n",
    "print(f\"Active schedules on {current_date.date()}:\")\n",
    "print(active_schedules)\n"
   ]
  },
  {
   "cell_type": "code",
   "execution_count": 5,
   "id": "0b5de03d",
   "metadata": {},
   "outputs": [
    {
     "name": "stdout",
     "output_type": "stream",
     "text": [
      "Loaded trips.txt into a DataFrame.\n",
      "    route_id service_id             trip_id  \\\n",
      "0  lowertown        est  lower_town_est_T01   \n",
      "1  lowertown        est  lower_town_est_T02   \n",
      "2  lowertown        est  lower_town_est_T03   \n",
      "3  lowertown        est  lower_town_est_T04   \n",
      "4  lowertown        est  lower_town_est_T05   \n",
      "\n",
      "                                       trip_headsign  direction_id  block_id  \\\n",
      "0  Harpers Ferry National Historical Park Visitor...             1       NaN   \n",
      "1  Harpers Ferry National Historical Park Visitor...             1       NaN   \n",
      "2  Harpers Ferry National Historical Park Visitor...             1       NaN   \n",
      "3  Harpers Ferry National Historical Park Visitor...             1       NaN   \n",
      "4  Harpers Ferry National Historical Park Visitor...             1       NaN   \n",
      "\n",
      "    shape_id  wheelchair_accessible  bikes_allowed  \n",
      "0  lowertown                      1            NaN  \n",
      "1  lowertown                      1            NaN  \n",
      "2  lowertown                      1            NaN  \n",
      "3  lowertown                      1            NaN  \n",
      "4  lowertown                      1            NaN  \n"
     ]
    }
   ],
   "source": [
    "# Define the path to the unzipped folder\n",
    "unzipped_folder = f\"{park_name}_unzipped\"\n",
    "\n",
    "# Define the path to the calendar.txt file\n",
    "trips_file = os.path.join(unzipped_folder, \"trips.txt\")\n",
    "\n",
    "# Check if the file exists\n",
    "if os.path.exists(trips_file):\n",
    "    # Load the trips.txt into a pandas DataFrame\n",
    "    trips = pd.read_csv(trips_file)\n",
    "    print(\"Loaded trips.txt into a DataFrame.\")\n",
    "    print(trips.head())  # Print the first few rows of the DataFrame\n",
    "else:\n",
    "    print(f\"The file {trips_file} does not exist.\")"
   ]
  },
  {
   "cell_type": "code",
   "execution_count": 6,
   "id": "49d207ad",
   "metadata": {},
   "outputs": [
    {
     "name": "stdout",
     "output_type": "stream",
     "text": [
      "Active trips based on active schedules:\n",
      "     route_id service_id             trip_id  \\\n",
      "35  lowertown        edt  lower_town_edt_T01   \n",
      "36  lowertown        edt  lower_town_edt_T02   \n",
      "37  lowertown        edt  lower_town_edt_T03   \n",
      "38  lowertown        edt  lower_town_edt_T04   \n",
      "39  lowertown        edt  lower_town_edt_T05   \n",
      "40  lowertown        edt  lower_town_edt_T06   \n",
      "41  lowertown        edt  lower_town_edt_T07   \n",
      "42  lowertown        edt  lower_town_edt_T08   \n",
      "43  lowertown        edt  lower_town_edt_T09   \n",
      "44  lowertown        edt  lower_town_edt_T10   \n",
      "45  lowertown        edt  lower_town_edt_T11   \n",
      "46  lowertown        edt  lower_town_edt_T12   \n",
      "47  lowertown        edt  lower_town_edt_T13   \n",
      "48  lowertown        edt  lower_town_edt_T14   \n",
      "49  lowertown        edt  lower_town_edt_T15   \n",
      "50  lowertown        edt  lower_town_edt_T16   \n",
      "51  lowertown        edt  lower_town_edt_T17   \n",
      "52  lowertown        edt  lower_town_edt_T18   \n",
      "53  lowertown        edt  lower_town_edt_T19   \n",
      "54  lowertown        edt  lower_town_edt_T20   \n",
      "55  lowertown        edt  lower_town_edt_T21   \n",
      "56  lowertown        edt  lower_town_edt_T22   \n",
      "57  lowertown        edt  lower_town_edt_T23   \n",
      "58  lowertown        edt  lower_town_edt_T24   \n",
      "59  lowertown        edt  lower_town_edt_T25   \n",
      "60  lowertown        edt  lower_town_edt_T26   \n",
      "61  lowertown        edt  lower_town_edt_T27   \n",
      "62  lowertown        edt  lower_town_edt_T28   \n",
      "63  lowertown        edt  lower_town_edt_T29   \n",
      "64  lowertown        edt  lower_town_edt_T30   \n",
      "65  lowertown        edt  lower_town_edt_T31   \n",
      "66  lowertown        edt  lower_town_edt_T32   \n",
      "67  lowertown        edt  lower_town_edt_T33   \n",
      "68  lowertown        edt  lower_town_edt_T34   \n",
      "69  lowertown        edt  lower_town_edt_T35   \n",
      "70  lowertown        edt  lower_town_edt_T36   \n",
      "71  lowertown        edt  lower_town_edt_T37   \n",
      "72  lowertown        edt  lower_town_edt_T38   \n",
      "73  lowertown        edt  lower_town_edt_T39   \n",
      "74  lowertown        edt  lower_town_edt_T40   \n",
      "75  lowertown        edt  lower_town_edt_T41   \n",
      "\n",
      "                                        trip_headsign  direction_id  block_id  \\\n",
      "35  Harpers Ferry National Historical Park Visitor...             1       NaN   \n",
      "36  Harpers Ferry National Historical Park Visitor...             1       NaN   \n",
      "37  Harpers Ferry National Historical Park Visitor...             1       NaN   \n",
      "38  Harpers Ferry National Historical Park Visitor...             1       NaN   \n",
      "39  Harpers Ferry National Historical Park Visitor...             1       NaN   \n",
      "40  Harpers Ferry National Historical Park Visitor...             1       NaN   \n",
      "41  Harpers Ferry National Historical Park Visitor...             1       NaN   \n",
      "42  Harpers Ferry National Historical Park Visitor...             1       NaN   \n",
      "43  Harpers Ferry National Historical Park Visitor...             1       NaN   \n",
      "44  Harpers Ferry National Historical Park Visitor...             1       NaN   \n",
      "45  Harpers Ferry National Historical Park Visitor...             1       NaN   \n",
      "46  Harpers Ferry National Historical Park Visitor...             1       NaN   \n",
      "47  Harpers Ferry National Historical Park Visitor...             1       NaN   \n",
      "48  Harpers Ferry National Historical Park Visitor...             1       NaN   \n",
      "49  Harpers Ferry National Historical Park Visitor...             1       NaN   \n",
      "50  Harpers Ferry National Historical Park Visitor...             1       NaN   \n",
      "51  Harpers Ferry National Historical Park Visitor...             1       NaN   \n",
      "52  Harpers Ferry National Historical Park Visitor...             1       NaN   \n",
      "53  Harpers Ferry National Historical Park Visitor...             1       NaN   \n",
      "54  Harpers Ferry National Historical Park Visitor...             1       NaN   \n",
      "55  Harpers Ferry National Historical Park Visitor...             1       NaN   \n",
      "56  Harpers Ferry National Historical Park Visitor...             1       NaN   \n",
      "57  Harpers Ferry National Historical Park Visitor...             1       NaN   \n",
      "58  Harpers Ferry National Historical Park Visitor...             1       NaN   \n",
      "59  Harpers Ferry National Historical Park Visitor...             1       NaN   \n",
      "60  Harpers Ferry National Historical Park Visitor...             1       NaN   \n",
      "61  Harpers Ferry National Historical Park Visitor...             1       NaN   \n",
      "62  Harpers Ferry National Historical Park Visitor...             1       NaN   \n",
      "63  Harpers Ferry National Historical Park Visitor...             1       NaN   \n",
      "64  Harpers Ferry National Historical Park Visitor...             1       NaN   \n",
      "65  Harpers Ferry National Historical Park Visitor...             1       NaN   \n",
      "66  Harpers Ferry National Historical Park Visitor...             1       NaN   \n",
      "67  Harpers Ferry National Historical Park Visitor...             1       NaN   \n",
      "68  Harpers Ferry National Historical Park Visitor...             1       NaN   \n",
      "69  Harpers Ferry National Historical Park Visitor...             1       NaN   \n",
      "70  Harpers Ferry National Historical Park Visitor...             1       NaN   \n",
      "71  Harpers Ferry National Historical Park Visitor...             1       NaN   \n",
      "72  Harpers Ferry National Historical Park Visitor...             1       NaN   \n",
      "73  Harpers Ferry National Historical Park Visitor...             1       NaN   \n",
      "74  Harpers Ferry National Historical Park Visitor...             1       NaN   \n",
      "75  Harpers Ferry National Historical Park Visitor...             1       NaN   \n",
      "\n",
      "     shape_id  wheelchair_accessible  bikes_allowed  \n",
      "35  lowertown                      1            NaN  \n",
      "36  lowertown                      1            NaN  \n",
      "37  lowertown                      1            NaN  \n",
      "38  lowertown                      1            NaN  \n",
      "39  lowertown                      1            NaN  \n",
      "40  lowertown                      1            NaN  \n",
      "41  lowertown                      1            NaN  \n",
      "42  lowertown                      1            NaN  \n",
      "43  lowertown                      1            NaN  \n",
      "44  lowertown                      1            NaN  \n",
      "45  lowertown                      1            NaN  \n",
      "46  lowertown                      1            NaN  \n",
      "47  lowertown                      1            NaN  \n",
      "48  lowertown                      1            NaN  \n",
      "49  lowertown                      1            NaN  \n",
      "50  lowertown                      1            NaN  \n",
      "51  lowertown                      1            NaN  \n",
      "52  lowertown                      1            NaN  \n",
      "53  lowertown                      1            NaN  \n",
      "54  lowertown                      1            NaN  \n",
      "55  lowertown                      1            NaN  \n",
      "56  lowertown                      1            NaN  \n",
      "57  lowertown                      1            NaN  \n",
      "58  lowertown                      1            NaN  \n",
      "59  lowertown                      1            NaN  \n",
      "60  lowertown                      1            NaN  \n",
      "61  lowertown                      1            NaN  \n",
      "62  lowertown                      1            NaN  \n",
      "63  lowertown                      1            NaN  \n",
      "64  lowertown                      1            NaN  \n",
      "65  lowertown                      1            NaN  \n",
      "66  lowertown                      1            NaN  \n",
      "67  lowertown                      1            NaN  \n",
      "68  lowertown                      1            NaN  \n",
      "69  lowertown                      1            NaN  \n",
      "70  lowertown                      1            NaN  \n",
      "71  lowertown                      1            NaN  \n",
      "72  lowertown                      1            NaN  \n",
      "73  lowertown                      1            NaN  \n",
      "74  lowertown                      1            NaN  \n",
      "75  lowertown                      1            NaN  \n"
     ]
    }
   ],
   "source": [
    "# Filter trips where service_id in trips matches any service_id in active_schedules\n",
    "active_trips = trips[trips['service_id'].isin(active_schedules['service_id'])]\n",
    "\n",
    "print(\"Active trips based on active schedules:\")\n",
    "print(active_trips)"
   ]
  },
  {
   "cell_type": "code",
   "execution_count": 7,
   "id": "2d027479",
   "metadata": {},
   "outputs": [
    {
     "name": "stdout",
     "output_type": "stream",
     "text": [
      "Loaded stop_times.txt into a DataFrame.\n",
      "              trip_id arrival_time departure_time  stop_id  stop_sequence  \\\n",
      "0  lower_town_est_T01     09:00:00       09:00:00        1              1   \n",
      "1  lower_town_est_T01     09:07:00       09:07:00        2              2   \n",
      "2  lower_town_est_T01     09:14:00       09:14:00        1              3   \n",
      "3  lower_town_est_T02     09:15:00       09:15:00        1              1   \n",
      "4  lower_town_est_T02     09:22:00       09:22:00        2              2   \n",
      "\n",
      "                                       stop_headsign  pickup_type  \\\n",
      "0                                         Lower Town          NaN   \n",
      "1  Harpers Ferry National Historical Park Visitor...          NaN   \n",
      "2                                                NaN          NaN   \n",
      "3                                         Lower Town          NaN   \n",
      "4  Harpers Ferry National Historical Park Visitor...          NaN   \n",
      "\n",
      "   drop_off_type  continuous_pickup  continuous_drop_off  shape_dist_traveled  \\\n",
      "0            NaN                NaN                  NaN             0.000000   \n",
      "1            NaN                NaN                  NaN             2.961296   \n",
      "2            NaN                NaN                  NaN             5.938382   \n",
      "3            NaN                NaN                  NaN             0.000000   \n",
      "4            NaN                NaN                  NaN             2.961296   \n",
      "\n",
      "   timepoint  \n",
      "0          1  \n",
      "1          1  \n",
      "2          1  \n",
      "3          1  \n",
      "4          1  \n"
     ]
    }
   ],
   "source": [
    "# Define the path to the unzipped folder\n",
    "unzipped_folder = f\"{park_name}_unzipped\"\n",
    "\n",
    "# Define the path to the calendar.txt file\n",
    "stop_times_file = os.path.join(unzipped_folder, \"stop_times.txt\")\n",
    "\n",
    "# Check if the file exists\n",
    "if os.path.exists(stop_times_file):\n",
    "    # Load the trips.txt into a pandas DataFrame\n",
    "    stop_times = pd.read_csv(stop_times_file)\n",
    "    print(\"Loaded stop_times.txt into a DataFrame.\")\n",
    "    print(stop_times.head())  # Print the first few rows of the DataFrame\n",
    "else:\n",
    "    print(f\"The file {stop_times_file} does not exist.\")"
   ]
  },
  {
   "cell_type": "code",
   "execution_count": 8,
   "id": "ec1a7460",
   "metadata": {
    "scrolled": true
   },
   "outputs": [
    {
     "name": "stdout",
     "output_type": "stream",
     "text": [
      "Active stop times DataFrame created with 123 rows.\n",
      "                trip_id arrival_time departure_time  stop_id  stop_sequence  \\\n",
      "105  lower_town_edt_T01     09:00:00       09:00:00        1              1   \n",
      "106  lower_town_edt_T01     09:07:00       09:07:00        2              2   \n",
      "107  lower_town_edt_T01     09:14:00       09:14:00        1              3   \n",
      "108  lower_town_edt_T02     09:15:00       09:15:00        1              1   \n",
      "109  lower_town_edt_T02     09:22:00       09:22:00        2              2   \n",
      "\n",
      "                                         stop_headsign  pickup_type  \\\n",
      "105                                         Lower Town          NaN   \n",
      "106  Harpers Ferry National Historical Park Visitor...          NaN   \n",
      "107                                                NaN          NaN   \n",
      "108                                         Lower Town          NaN   \n",
      "109  Harpers Ferry National Historical Park Visitor...          NaN   \n",
      "\n",
      "     drop_off_type  continuous_pickup  continuous_drop_off  \\\n",
      "105            NaN                NaN                  NaN   \n",
      "106            NaN                NaN                  NaN   \n",
      "107            NaN                NaN                  NaN   \n",
      "108            NaN                NaN                  NaN   \n",
      "109            NaN                NaN                  NaN   \n",
      "\n",
      "     shape_dist_traveled  timepoint  \n",
      "105             0.000000          1  \n",
      "106             2.961296          1  \n",
      "107             5.938382          1  \n",
      "108             0.000000          1  \n",
      "109             2.961296          1  \n"
     ]
    }
   ],
   "source": [
    "# Create a new DataFrame called active_stop_times\n",
    "active_stop_times = stop_times[stop_times['trip_id'].isin(active_trips['trip_id'])]\n",
    "\n",
    "print(f\"Active stop times DataFrame created with {len(active_stop_times)} rows.\")\n",
    "print(active_stop_times.head())  # Print the first few rows of the active_stop_times DataFrame"
   ]
  },
  {
   "cell_type": "code",
   "execution_count": 9,
   "id": "d934d760",
   "metadata": {},
   "outputs": [
    {
     "name": "stdout",
     "output_type": "stream",
     "text": [
      "Loaded shapes.txt into a DataFrame.\n",
      "    shape_id  shape_pt_lat  shape_pt_lon  shape_pt_sequence  \\\n",
      "0  lowertown      39.31644     -77.75726                  1   \n",
      "1  lowertown      39.31646     -77.75729                  2   \n",
      "2  lowertown      39.31647     -77.75732                  3   \n",
      "3  lowertown      39.31647     -77.75736                  4   \n",
      "4  lowertown      39.31647     -77.75740                  5   \n",
      "\n",
      "   shape_dist_traveled  \n",
      "0             0.000000  \n",
      "1             0.003409  \n",
      "2             0.006225  \n",
      "3             0.009674  \n",
      "4             0.013124  \n"
     ]
    }
   ],
   "source": [
    "# Define the path to the unzipped folder\n",
    "unzipped_folder = f\"{park_name}_unzipped\"\n",
    "\n",
    "# Define the path to the calendar.txt file\n",
    "shape_file = os.path.join(unzipped_folder, \"shapes.txt\")\n",
    "\n",
    "# Check if the file exists\n",
    "if os.path.exists(shape_file):\n",
    "    # Load the trips.txt into a pandas DataFrame\n",
    "    shapes = pd.read_csv(shape_file)\n",
    "    print(\"Loaded shapes.txt into a DataFrame.\")\n",
    "    print(shapes.head())  # Print the first few rows of the DataFrame\n",
    "else:\n",
    "    print(f\"The file {shape_file} does not exist.\")"
   ]
  },
  {
   "cell_type": "code",
   "execution_count": 10,
   "id": "d0f81620",
   "metadata": {},
   "outputs": [
    {
     "name": "stdout",
     "output_type": "stream",
     "text": [
      "Active shapes DataFrame created with 449 rows.\n",
      "    shape_id  shape_pt_lat  shape_pt_lon  shape_pt_sequence  \\\n",
      "0  lowertown      39.31644     -77.75726                  1   \n",
      "1  lowertown      39.31646     -77.75729                  2   \n",
      "2  lowertown      39.31647     -77.75732                  3   \n",
      "3  lowertown      39.31647     -77.75736                  4   \n",
      "4  lowertown      39.31647     -77.75740                  5   \n",
      "\n",
      "   shape_dist_traveled  \n",
      "0             0.000000  \n",
      "1             0.003409  \n",
      "2             0.006225  \n",
      "3             0.009674  \n",
      "4             0.013124  \n"
     ]
    }
   ],
   "source": [
    "# Create a new DataFrame called active_shapes\n",
    "active_shapes = shapes[shapes['shape_id'].isin(active_trips['shape_id'])]\n",
    "\n",
    "print(f\"Active shapes DataFrame created with {len(active_shapes)} rows.\")\n",
    "print(active_shapes.head())  # Print the first few rows of the active_shapes DataFrame"
   ]
  },
  {
   "cell_type": "code",
   "execution_count": 11,
   "id": "5f84a25a",
   "metadata": {},
   "outputs": [
    {
     "name": "stdout",
     "output_type": "stream",
     "text": [
      "Converted dates in active_schedules DataFrame:\n",
      "  service_id  monday  tuesday  wednesday  thursday  friday  saturday  sunday  \\\n",
      "1        edt       1        1          1         1       1         1       1   \n",
      "\n",
      "  start_date  end_date  \n",
      "1   20240312  20241102  \n"
     ]
    },
    {
     "name": "stderr",
     "output_type": "stream",
     "text": [
      "C:\\Users\\Daniel.Lang\\AppData\\Local\\Temp\\ipykernel_78432\\1970255866.py:2: SettingWithCopyWarning: \n",
      "A value is trying to be set on a copy of a slice from a DataFrame.\n",
      "Try using .loc[row_indexer,col_indexer] = value instead\n",
      "\n",
      "See the caveats in the documentation: https://pandas.pydata.org/pandas-docs/stable/user_guide/indexing.html#returning-a-view-versus-a-copy\n",
      "  active_schedules['start_date'] = active_schedules['start_date'].dt.strftime('%Y%m%d')\n",
      "C:\\Users\\Daniel.Lang\\AppData\\Local\\Temp\\ipykernel_78432\\1970255866.py:3: SettingWithCopyWarning: \n",
      "A value is trying to be set on a copy of a slice from a DataFrame.\n",
      "Try using .loc[row_indexer,col_indexer] = value instead\n",
      "\n",
      "See the caveats in the documentation: https://pandas.pydata.org/pandas-docs/stable/user_guide/indexing.html#returning-a-view-versus-a-copy\n",
      "  active_schedules['end_date'] = active_schedules['end_date'].dt.strftime('%Y%m%d')\n"
     ]
    }
   ],
   "source": [
    "#Convert calendar back to GTFS format\n",
    "active_schedules['start_date'] = active_schedules['start_date'].dt.strftime('%Y%m%d')\n",
    "active_schedules['end_date'] = active_schedules['end_date'].dt.strftime('%Y%m%d')\n",
    "\n",
    "print(\"Converted dates in active_schedules DataFrame:\")\n",
    "print(active_schedules.head())  # Print the first few rows to verify the changes"
   ]
  },
  {
   "cell_type": "code",
   "execution_count": 12,
   "id": "74be4a01",
   "metadata": {},
   "outputs": [
    {
     "name": "stdout",
     "output_type": "stream",
     "text": [
      "Created destination folder: HAFE_active_unzipped.\n",
      "All files transferred from HAFE_unzipped to HAFE_active_unzipped.\n"
     ]
    }
   ],
   "source": [
    "# Define the source and destination folders \n",
    "source_folder = f\"{park_name}_unzipped\"\n",
    "destination_folder = f\"{park_name}_active_unzipped\"\n",
    "\n",
    "# Check if the destination folder exists\n",
    "if os.path.exists(destination_folder):\n",
    "    # Delete all files in the destination folder\n",
    "    for file_name in os.listdir(destination_folder):\n",
    "        file_path = os.path.join(destination_folder, file_name)\n",
    "        if os.path.isfile(file_path):\n",
    "            os.remove(file_path)\n",
    "    print(f\"Deleted all files in {destination_folder}.\")\n",
    "else:\n",
    "    # Create the destination folder if it doesn't exist\n",
    "    os.makedirs(destination_folder, exist_ok=True)\n",
    "    print(f\"Created destination folder: {destination_folder}.\")\n",
    "\n",
    "# Check if the source folder exists\n",
    "if os.path.exists(source_folder):\n",
    "    # Transfer all files from source to destination\n",
    "    for file_name in os.listdir(source_folder):\n",
    "        # Construct full file path\n",
    "        full_file_name = os.path.join(source_folder, file_name)\n",
    "        if os.path.isfile(full_file_name):\n",
    "            shutil.copy(full_file_name, destination_folder)\n",
    "    \n",
    "    print(f\"All files transferred from {source_folder} to {destination_folder}.\")\n",
    "else:\n",
    "    print(f\"The source folder {source_folder} does not exist.\")"
   ]
  },
  {
   "cell_type": "code",
   "execution_count": 13,
   "id": "788bba61",
   "metadata": {},
   "outputs": [
    {
     "name": "stdout",
     "output_type": "stream",
     "text": [
      "Deleted HAFE_active_unzipped\\calendar.txt.\n",
      "Deleted HAFE_active_unzipped\\trips.txt.\n",
      "Deleted HAFE_active_unzipped\\stop_times.txt.\n",
      "Deleted HAFE_active_unzipped\\shapes.txt.\n",
      "Saved active schedules to HAFE_active_unzipped\\calendar.txt.\n",
      "Saved active trips to HAFE_active_unzipped\\trips.txt.\n",
      "Saved active stop times to HAFE_active_unzipped\\stop_times.txt.\n",
      "Saved active shapes to HAFE_active_unzipped\\shapes.txt.\n"
     ]
    }
   ],
   "source": [
    "# Define the paths to the files to delete\n",
    "calendar_file_path = os.path.join(destination_folder, \"calendar.txt\")\n",
    "trips_file_path = os.path.join(destination_folder, \"trips.txt\")\n",
    "stop_times_file_path = os.path.join(destination_folder, \"stop_times.txt\")\n",
    "shape_file_path = os.path.join(destination_folder, \"shapes.txt\")\n",
    "\n",
    "# Delete the calendar.txt and trips.txt files\n",
    "if os.path.exists(calendar_file_path):\n",
    "    os.remove(calendar_file_path)\n",
    "    print(f\"Deleted {calendar_file_path}.\")\n",
    "else:\n",
    "    print(f\"{calendar_file_path} does not exist.\")\n",
    "\n",
    "if os.path.exists(trips_file_path):\n",
    "    os.remove(trips_file_path)\n",
    "    print(f\"Deleted {trips_file_path}.\")\n",
    "else:\n",
    "    print(f\"{trips_file_path} does not exist.\")\n",
    "\n",
    "if os.path.exists(stop_times_file_path):\n",
    "    os.remove(stop_times_file_path)\n",
    "    print(f\"Deleted {stop_times_file_path}.\")\n",
    "else:\n",
    "    print(f\"{stop_times_file_path} does not exist.\")\n",
    "    \n",
    "if os.path.exists(shape_file_path):\n",
    "    os.remove(shape_file_path)\n",
    "    print(f\"Deleted {shape_file_path}.\")\n",
    "else:\n",
    "    print(f\"{shape_file_path} does not exist.\")\n",
    "    \n",
    "# Save active info to folder\n",
    "calendar_file = os.path.join(destination_folder, \"calendar.txt\")\n",
    "trips_file = os.path.join(destination_folder, \"trips.txt\")\n",
    "stop_times_file = os.path.join(destination_folder, \"stop_times.txt\")\n",
    "shape_file = os.path.join(destination_folder, \"shapes.txt\")\n",
    "\n",
    "active_schedules.to_csv(calendar_file, sep=',', index=False)\n",
    "active_trips.to_csv(trips_file, sep=',', index=False)\n",
    "active_stop_times.to_csv(stop_times_file, sep=',', index=False)\n",
    "active_shapes.to_csv(shape_file, sep=',', index=False)\n",
    "\n",
    "print(f\"Saved active schedules to {calendar_file}.\")\n",
    "print(f\"Saved active trips to {trips_file}.\")\n",
    "print(f\"Saved active stop times to {stop_times_file}.\")\n",
    "print(f\"Saved active shapes to {shape_file}.\")"
   ]
  },
  {
   "cell_type": "code",
   "execution_count": 14,
   "id": "8322b931",
   "metadata": {},
   "outputs": [
    {
     "name": "stdout",
     "output_type": "stream",
     "text": [
      "Created zip file: HAFE_active.zip\n"
     ]
    }
   ],
   "source": [
    "# Define the path to the active unzipped folder and the zip file name\n",
    "active_folder = destination_folder\n",
    "zip_file_name = f\"{park_name}_active\"\n",
    "\n",
    "# Create a zip file from the active folder\n",
    "shutil.make_archive(zip_file_name, 'zip', active_folder)\n",
    "\n",
    "print(f\"Created zip file: {zip_file_name}.zip\")"
   ]
  },
  {
   "cell_type": "code",
   "execution_count": null,
   "id": "89b47f05",
   "metadata": {},
   "outputs": [],
   "source": []
  }
 ],
 "metadata": {
  "kernelspec": {
   "display_name": "Python 3 (ipykernel)",
   "language": "python",
   "name": "python3"
  },
  "language_info": {
   "codemirror_mode": {
    "name": "ipython",
    "version": 3
   },
   "file_extension": ".py",
   "mimetype": "text/x-python",
   "name": "python",
   "nbconvert_exporter": "python",
   "pygments_lexer": "ipython3",
   "version": "3.11.3"
  }
 },
 "nbformat": 4,
 "nbformat_minor": 5
}
